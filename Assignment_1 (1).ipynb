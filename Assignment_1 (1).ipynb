{
  "nbformat": 4,
  "nbformat_minor": 0,
  "metadata": {
    "colab": {
      "provenance": []
    },
    "kernelspec": {
      "name": "python3",
      "display_name": "Python 3"
    },
    "language_info": {
      "name": "python"
    }
  },
  "cells": [
    {
      "cell_type": "code",
      "execution_count": null,
      "metadata": {
        "colab": {
          "base_uri": "https://localhost:8080/"
        },
        "id": "4ZR2voXqYco7",
        "outputId": "96e82c19-da8a-435a-abc9-0b292fe731e6"
      },
      "outputs": [
        {
          "output_type": "stream",
          "name": "stdout",
          "text": [
            "Enter value M : 5\n",
            "Enter value N : 3\n",
            "Enter value A : 2\n",
            "Enter values for the first array : \n",
            "1 2 3\n",
            "4 5 6\n",
            "7 8 9 \n",
            "9 8 7\n",
            "6 5 4\n",
            "Enter values for the second array : \n",
            "1 2 \n",
            "3 4\n",
            "5 6\n",
            "\n",
            "First array:\n",
            "[[1. 2. 3.]\n",
            " [4. 5. 6.]\n",
            " [7. 8. 9.]\n",
            " [9. 8. 7.]\n",
            " [6. 5. 4.]]\n",
            "\n",
            "Second array:\n",
            "[[1. 2.]\n",
            " [3. 4.]\n",
            " [5. 6.]]\n",
            "\n",
            "Dot product of two arrays:\n",
            "[[ 22.  28.]\n",
            " [ 49.  64.]\n",
            " [ 76. 100.]\n",
            " [ 68.  92.]\n",
            " [ 41.  56.]]\n"
          ]
        }
      ],
      "source": [
        "\"\"\"\n",
        "Problem statement 1 : Write a Python program to multiply a M * N matrix by N * A matrix and create a real matrix product .\n",
        "\"\"\"\n",
        "\n",
        "\n",
        "import numpy as np\n",
        "\n",
        "# I am creating a Function to input matrix of size M*N\n",
        "def input_matrix(rows , cols):\n",
        "  matrix = []\n",
        "  for i in range(rows):\n",
        "    rows = [float(x) for x in input().split()]\n",
        "    matrix.append(rows)\n",
        "  return np.array(matrix)\n",
        "\n",
        "# Taking the values for M , N and A\n",
        "M = int(input(\"Enter value M : \"))\n",
        "N = int(input(\"Enter value N : \"))\n",
        "A = int(input(\"Enter value A : \"))\n",
        "\n",
        "# giving input to the first matrix which is (M * N)\n",
        "print(\"Enter values for the first array : \")\n",
        "first_arr = input_matrix(M , N)\n",
        "\n",
        "# giving input to the second matrix which is (N * A)\n",
        "print(\"Enter values for the second array : \")\n",
        "second_arr = input_matrix(N ,A)\n",
        "\n",
        "#Calculating the dimensions of the two matrices.\n",
        "a_rows, a_cols = first_arr.shape\n",
        "b_rows, b_cols = second_arr.shape\n",
        "\n",
        "# Checking if the dimensions are compatible for multiplication.\n",
        "if a_cols != b_rows:\n",
        "  raise ValueError(\"Matrices are not compatible for multiplication.\")\n",
        "\n",
        "# Calculating the dot product of the two matrices.\n",
        "final_arr = np.dot(first_arr, second_arr)\n",
        "\n",
        "# Printing the result.\n",
        "print(\"\\nFirst array:\")\n",
        "print(first_arr)\n",
        "print(\"\\nSecond array:\")\n",
        "print(second_arr)\n",
        "print(\"\\nDot product of two arrays:\")\n",
        "print(final_arr)\n",
        "\n",
        "\n"
      ]
    },
    {
      "cell_type": "code",
      "source": [
        "\"\"\" Problem statement 2 : Wrie a NumPy program to check if each value of an array of your choice is composed of digits , lower case letters , and upper case letters only .\n",
        "Hint : You can use isdigit() , islower() , and issuper() function .\n",
        "\"\"\"\n",
        "import numpy as np\n",
        "import string\n",
        "\n",
        "def check_composition(value):\n",
        "  digit = any(char.isdigit() for char in value)\n",
        "  lower = any(char.islower() for char in value)\n",
        "  upper = any(char.upper() in string.ascii_uppercase for char in value)\n",
        "  return digit and lower and upper\n",
        "\n",
        "# creating the array :\n",
        "arr = np.array([\"Python\",\"PHP\",\"JS\",\"Example\",\"html5\",\"5\"])\n",
        "\n",
        "# checking composition for each value in the array\n",
        "final = np.vectorize(check_composition)(arr)\n",
        "\n",
        "# Printing the original array and the result\n",
        "print(\"Original Array : \")\n",
        "print(arr)\n",
        "print(\"\\n Result (True if contains at least one digit , one lowercase letter , and one uppercase letter : )\")\n",
        "print(final)\n",
        "\n",
        "\n",
        "\n",
        "\n",
        "\n"
      ],
      "metadata": {
        "colab": {
          "base_uri": "https://localhost:8080/"
        },
        "id": "2yweRrjylsDl",
        "outputId": "1f3b9fa1-b576-44e4-879f-bf31d0ec51c9"
      },
      "execution_count": null,
      "outputs": [
        {
          "output_type": "stream",
          "name": "stdout",
          "text": [
            "Original Array : \n",
            "['Python' 'PHP' 'JS' 'Example' 'html5' '5']\n",
            "\n",
            " Result (True if contains at least one digit , one lowercase letter , and one uppercase letter : )\n",
            "[False False False False  True False]\n"
          ]
        }
      ]
    },
    {
      "cell_type": "code",
      "source": [
        "\"\""
      ],
      "metadata": {
        "id": "UwPDDXeK40Dz"
      },
      "execution_count": null,
      "outputs": []
    }
  ]
}