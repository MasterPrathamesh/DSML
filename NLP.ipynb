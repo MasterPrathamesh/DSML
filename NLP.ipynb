{
  "nbformat": 4,
  "nbformat_minor": 0,
  "metadata": {
    "colab": {
      "provenance": []
    },
    "kernelspec": {
      "name": "python3",
      "display_name": "Python 3"
    },
    "language_info": {
      "name": "python"
    }
  },
  "cells": [
    {
      "cell_type": "code",
      "execution_count": null,
      "metadata": {
        "colab": {
          "base_uri": "https://localhost:8080/"
        },
        "id": "1NFm5E11ao4x",
        "outputId": "09cb8433-60a6-46eb-f63a-1da6bd864b33"
      },
      "outputs": [
        {
          "output_type": "execute_result",
          "data": {
            "text/plain": [
              "['9922448825', '(999)-333-7777']"
            ]
          },
          "metadata": {},
          "execution_count": 2
        }
      ],
      "source": [
        "\"\"\"\"\n",
        "-A regular expression (regex) is a sequence of characters that define a search pattern.\n",
        "-It is used to match or find other strings or sets of strings, using a specialized syntax held in a pattern.\n",
        "-Regular expressions are widely used in text processing, searching, and pattern matching applications.\n",
        "\"\"\"\n",
        "\"\"\"\n",
        "-The findall() method in Python's re module is used to find all occurrences of a given regular expression pattern within a string.\n",
        "-It returns a list of strings containing all the matches.\n",
        "\"\"\"\n",
        "import re\n",
        "\n",
        "text = \"\"\"Elon musk phone number is 9922448825 call him if you have any questions , he offers 40 billion every year to his customers for free !! The tesla's revenue is 500 billion\n",
        "Tesla's CFO number (999)-333-7777 \"\"\"\n",
        "\n",
        "pattern = '\\(\\d{3}\\)-\\d{3}-\\d{4}|\\d{10}'\n",
        "\n",
        "matches = re.findall(pattern, text)\n",
        "\n",
        "matches\n",
        "\n",
        "\n"
      ]
    },
    {
      "cell_type": "code",
      "source": [
        "# extractig the note title : 1) Overview , 2) Summary of Significant Accounting Policies .\n",
        "\n",
        "text1 = \"\"\"\n",
        "Note 1 - Overview\n",
        "Tesla, Inc. (\"Tesla\", the \"Company\", \"we\", \"us\" or \"our\") was incorporated in the State of Delaware on July 1, 2003. We design, develop,\n",
        "manufacture and sell high-performance fully electric vehicles and design, manufacture, install and sell solar energy generation and energy storage\n",
        "products. Our Chief Executive Officer, as the chief operating decision maker (\"CODM\"), organizes our company, manages resource allocations and\n",
        "measures performance among two operating and reportable segments: (i) automotive and (ii) energy generation and storage.\n",
        "Beginning in the first quarter of 2021, there has been a trend in many parts of the world of increasing availability and administration of vaccines\n",
        "against COVID-19, as well as an easing of restrictions on social, business, travel and government activities and functions. On the other hand, infection\n",
        "rates and regulations continue to fluctuate in various regions and there are ongoing global impacts resulting from the pandemic, including challenges\n",
        "and increases in costs for logistics and supply chains, such as increased port congestion, intermittent supplier delays and a shortfall of semiconductor\n",
        "supply. We have also previously been affected by temporary manufacturing closures, employment and compensation adjustments and impediments to\n",
        "administrative activities supporting our product deliveries and deployments.\n",
        "Note 2 - Summary of Significant Accounting Policies\n",
        "Unaudited Interim Financial Statements\n",
        "The consolidated balance sheet as of September 30, 2021, the consolidated statements of operations, the consolidated statements of\n",
        "comprehensive income,the consolidated statements of redeemable noncontrolling interests and equity for the three and nine months ended September\n",
        "30, 2021 and 2020 and the consolidated statements of cash flows for the nine months ended September 30, 2021 and 2020, as well as other information\n",
        "disclosed in the accompanying notes, are unaudited. The consolidated balance sheet as of December 31, 2020 was derived from the audited\n",
        "consolidated financial statements as of that date. The interim consolidated financial statements and the accompanying notes should be read in\n",
        "conjunction with the annual consolidated financial statements and the accompanying notes contained in our Annual Report on Form 10-K for the year\n",
        "ended December 31, 2020.\n",
        "\"\"\"\n",
        "\n",
        "pattern1 = 'Note \\d - ([^\\n]+)'\n",
        "\n",
        "matches1 = re.findall(pattern1, text1)\n",
        "\n",
        "matches1\n",
        "\n",
        "\n"
      ],
      "metadata": {
        "colab": {
          "base_uri": "https://localhost:8080/"
        },
        "id": "8-OH16S5dlzH",
        "outputId": "404d8e74-2cb8-4841-fd24-a54ff5d08466"
      },
      "execution_count": null,
      "outputs": [
        {
          "output_type": "execute_result",
          "data": {
            "text/plain": [
              "['Overview', 'Summary of Significant Accounting Policies']"
            ]
          },
          "metadata": {},
          "execution_count": 3
        }
      ]
    },
    {
      "cell_type": "code",
      "source": [
        "# Extract financial periods from a company's financial reporting :\n",
        "\n",
        "text2 = '''\n",
        "The gross cost of operating lease vehicles in FY2021 Q1 was $4.85 billion .\n",
        "In previous quarter i.e FY2020 Q4 it was $3 billion .\n",
        "In previous of previous year i.e fy2019 Q3 it was $1 billion .  # if it has lowercase then we can use flags which helps us to ignore the case .\n",
        "'''\n",
        "\n",
        "pattern2 = 'FY\\d{4} Q[1-4]'\n",
        "\n",
        "matches2 = re.findall(pattern2, text2,flags=re.IGNORECASE)\n",
        "\n",
        "# we can also find or extract only the financial year by using brackets .\n",
        "pattern3 = 'FY(\\d{4} Q[1-4])'\n",
        "matches3 = re.findall(pattern3,text2)\n",
        "print(matches2)\n",
        "matches3"
      ],
      "metadata": {
        "colab": {
          "base_uri": "https://localhost:8080/"
        },
        "id": "P2X5eNpBjjEP",
        "outputId": "771873cb-f37e-4bc7-d3c3-99853e4b1140"
      },
      "execution_count": null,
      "outputs": [
        {
          "output_type": "stream",
          "name": "stdout",
          "text": [
            "['FY2021 Q1', 'FY2020 Q4', 'fy2019 Q3']\n"
          ]
        },
        {
          "output_type": "execute_result",
          "data": {
            "text/plain": [
              "['2021 Q1', '2020 Q4']"
            ]
          },
          "metadata": {},
          "execution_count": 4
        }
      ]
    },
    {
      "cell_type": "code",
      "source": [
        "# now instead of extracting the final year , let's extract the actual values like $3 billion : and if we want only numbers then we can also use brackets after dollar sign .\n",
        "\n",
        "pattern4 = '\\$[\\d\\.]+'\n",
        "\n",
        "matches4 = re.findall(pattern4,text2)\n",
        "matches4"
      ],
      "metadata": {
        "colab": {
          "base_uri": "https://localhost:8080/"
        },
        "id": "ndXEiX1JmIKd",
        "outputId": "7009619c-d10e-4d70-cba4-57170e66cafe"
      },
      "execution_count": null,
      "outputs": [
        {
          "output_type": "execute_result",
          "data": {
            "text/plain": [
              "['$4.85', '$3', '$1']"
            ]
          },
          "metadata": {},
          "execution_count": 6
        }
      ]
    },
    {
      "cell_type": "code",
      "source": [
        "# now let's extract the financial year with its financial value\n",
        "# for ex : FY2021 Q1 ===> 4.85 , FY2020 Q4 ==> 3 billion .\n",
        "\n",
        "pattern5 = 'FY(\\d{4} Q[1-4])[^\\$]+\\$([\\d\\.]+)'\n",
        "\n",
        "matches6 = re.findall(pattern5,text2)\n",
        "matches6\n",
        "\n"
      ],
      "metadata": {
        "colab": {
          "base_uri": "https://localhost:8080/"
        },
        "id": "2MZSundePnTF",
        "outputId": "7216da97-76c2-46e5-9cb7-ef77abd0f4c7"
      },
      "execution_count": null,
      "outputs": [
        {
          "output_type": "execute_result",
          "data": {
            "text/plain": [
              "[('2021 Q1', '4.85'), ('2020 Q4', '3')]"
            ]
          },
          "metadata": {},
          "execution_count": 7
        }
      ]
    },
    {
      "cell_type": "code",
      "source": [
        "# expression for finding email id of any type :\n",
        "\n",
        "import re\n",
        "\n",
        "chat1 = 'Pratham: you ask lot of questions😠 123567912, abc@xyz.com , 9998881234'\n",
        "chat2 = 'Pratham: here it is : (123)-567-8912 , abX_82@xyz.com'\n",
        "chat3 = 'Pratham: yes , phone: 1235678912 email: abc@xyz.in'\n",
        "\n",
        "pattern = '[a-z0-9A-Z_]*@[a-z0-9A-Z]*\\.[a-zA-Z]*'\n",
        "\n",
        "matches1 = re.findall(pattern,chat1)\n",
        "print(matches1)\n",
        "matches2 = re.findall(pattern,chat2)\n",
        "print(matches2)\n",
        "matches3 = re.findall(pattern,chat3)\n",
        "print(matches3)\n"
      ],
      "metadata": {
        "id": "Q8mgOo20S53C",
        "colab": {
          "base_uri": "https://localhost:8080/"
        },
        "outputId": "4a18f651-57a5-4f7c-afa0-d534249255f4"
      },
      "execution_count": null,
      "outputs": [
        {
          "output_type": "stream",
          "name": "stdout",
          "text": [
            "['abc@xyz.com']\n",
            "['abX_82@xyz.com']\n",
            "['abc@xyz.in']\n"
          ]
        }
      ]
    },
    {
      "cell_type": "code",
      "source": [
        "# now let's see it in order phase , when we talk with any chatbot regarding the issue with order number :\n",
        "# follwing are the possibilities where a person can talk in three different ways with the chatbot .\n",
        "\n",
        "chat4 = 'Pratham: Hello , I am having an issue with my order #412889912'\n",
        "chat5 = 'Pratham: I have a problem with my order number 412889912'\n",
        "chat6 = 'Pratham: My order 412889912 is habing an issue , I was charged 300$ when online it says 280$'\n",
        "\n",
        "pattern2 = 'order [a-zA-z\\# ]*([0-9]*)'\n",
        "\n",
        "matches4 = re.findall(pattern2,chat4)\n",
        "print(matches4)\n",
        "matches5 = re.findall(pattern2,chat5)\n",
        "print(matches5)\n",
        "matches6 = re.findall(pattern2,chat6)\n",
        "print(matches6)"
      ],
      "metadata": {
        "colab": {
          "base_uri": "https://localhost:8080/"
        },
        "id": "IUOGSEm13z16",
        "outputId": "0bbce3dd-a01e-4684-8f98-e901103372cc"
      },
      "execution_count": null,
      "outputs": [
        {
          "output_type": "stream",
          "name": "stdout",
          "text": [
            "['412889912']\n",
            "['412889912']\n",
            "['412889912']\n"
          ]
        }
      ]
    },
    {
      "cell_type": "code",
      "source": [
        "# now let's try to do web scraping of elon musk : let's try to extract the age .\n",
        "# on wikipedia to extract the age their is special format , that is (age 52) --> bracket age space 52\n",
        "# on wikipedia to extract the name of the person their is also a particular format that is, after born we have first name space middle name space surname .\n",
        "# after this we want to extract the birth date of the person , so it also comes after born ..\n",
        "# after this we will find the birth place which is having the special pattern , that after age the new line is whole the birthplace .\n",
        "\n",
        "chat7 = '''''Born\tElon Reeve Musk\n",
        "June 28, 1971 (age 52)\n",
        "Pretoria, Transvaal, South Africa\n",
        "Citizenship\n",
        "South Africa\n",
        "Canada\n",
        "United States\n",
        "Education\tUniversity of Pennsylvania (BA, BS)\n",
        "Title\n",
        "Founder, CEO, and chief engineer of SpaceX\n",
        "CEO and product architect of Tesla, Inc.\n",
        "Owner and CTO of X, formerly Twitter\n",
        "President of the Musk Foundation\n",
        "Founder of The Boring Company, X Corp., and xAI\n",
        "Co-founder of Neuralink, OpenAI, Zip2, and X.com (part of PayPal)\n",
        "Spouses\n",
        "Justine Wilson\n",
        "​\n",
        "​(m. 2000; div. 2008)​\n",
        "Talulah Riley\n",
        "​\n",
        "​(m. 2010; div. 2012)​\n",
        "​\n",
        "​(m. 2013; div. 2016)​\n",
        "Partners\n",
        "Amber Heard (2015–2017)[1]\n",
        "Grimes (2018–2021)[2]\n",
        "Children\t11[a][4]\n",
        "Parents\n",
        "Errol Musk\n",
        "Maye Musk\n",
        "Relatives\n",
        "Kimbal Musk (brother)\n",
        "Tosca Musk (sister)\n",
        "Lyndon Rive (cousin)\n",
        "Family\tMusk family'''\n",
        "\n",
        "\n",
        "pattern = '\\(age (\\d+)\\)'\n",
        "matches7 = re.findall(pattern,chat7)\n",
        "print(matches7)\n",
        "pattern = 'Born(.*)'\n",
        "matches8 = re.findall(pattern,chat7)\n",
        "match8 = matches8[0].strip()\n",
        "print(match8)\n",
        "pattern = 'Born.*\\n(.*)\\(age \\d+\\)'\n",
        "matches9 = re.findall(pattern,chat7)\n",
        "match9 = matches9[0].strip()\n",
        "print(match9)\n",
        "pattern = '\\(age \\d+\\)\\n(.*)'\n",
        "matches10 = re.findall(pattern,chat7)\n",
        "print(matches10)"
      ],
      "metadata": {
        "colab": {
          "base_uri": "https://localhost:8080/"
        },
        "id": "Qe2vqaR98MdP",
        "outputId": "28734e69-ce94-4546-f3a0-550f2e212385"
      },
      "execution_count": null,
      "outputs": [
        {
          "output_type": "stream",
          "name": "stdout",
          "text": [
            "['52']\n",
            "Elon Reeve Musk\n",
            "June 28, 1971\n",
            "['Pretoria, Transvaal, South Africa']\n"
          ]
        }
      ]
    },
    {
      "cell_type": "code",
      "source": [
        "def get_pattern_match(pattern,chat7):\n",
        "  matches = re.findall(pattern,chat7)\n",
        "  if matches:\n",
        "    return matches[0]"
      ],
      "metadata": {
        "id": "gbc-BihM-emP"
      },
      "execution_count": null,
      "outputs": []
    },
    {
      "cell_type": "code",
      "source": [
        "get_pattern_match('\\(age (\\d+)\\)',chat7)\n",
        "get_pattern_match('\\(age \\d+\\)\\n(.*)',chat7)\n",
        "get_pattern_match('Born.*\\n(.*)\\(age \\d+\\)',chat7)\n",
        "get_pattern_match('Born(.*)',chat7)"
      ],
      "metadata": {
        "colab": {
          "base_uri": "https://localhost:8080/",
          "height": 35
        },
        "id": "zrBiJibfHZr1",
        "outputId": "cd2146ff-fa34-4408-c122-2fd6708da7be"
      },
      "execution_count": null,
      "outputs": [
        {
          "output_type": "execute_result",
          "data": {
            "text/plain": [
              "'\\tElon Reeve Musk'"
            ],
            "application/vnd.google.colaboratory.intrinsic+json": {
              "type": "string"
            }
          },
          "metadata": {},
          "execution_count": 24
        }
      ]
    },
    {
      "cell_type": "code",
      "source": [
        "def get_personal_information(chat7):\n",
        "  age = get_pattern_match('\\(age (\\d+)\\)',chat7)\n",
        "  full_name = get_pattern_match('Born(.*)',chat7)\n",
        "  birth_date = get_pattern_match('Born.*\\n(.*)\\(age \\d+\\)',chat7)\n",
        "  birth_place = get_pattern_match('\\(age \\d+\\)\\n(.*)',chat7)\n",
        "\n",
        "  return {\n",
        "      'age': int(age),\n",
        "      'name': full_name.strip(),\n",
        "      'birth_date': birth_date.strip(),\n",
        "      'birth_place': birth_place.strip()\n",
        "  }"
      ],
      "metadata": {
        "id": "y591E1ljHoZE"
      },
      "execution_count": null,
      "outputs": []
    },
    {
      "cell_type": "code",
      "source": [
        "get_personal_information(chat7)"
      ],
      "metadata": {
        "colab": {
          "base_uri": "https://localhost:8080/"
        },
        "id": "-Hz81rkEYv6L",
        "outputId": "fbfe20b1-1b1e-4381-da37-345e624ee824"
      },
      "execution_count": null,
      "outputs": [
        {
          "output_type": "execute_result",
          "data": {
            "text/plain": [
              "{'age': 52,\n",
              " 'name': 'Elon Reeve Musk',\n",
              " 'birth_date': 'June 28, 1971',\n",
              " 'birth_place': 'Pretoria, Transvaal, South Africa'}"
            ]
          },
          "metadata": {},
          "execution_count": 22
        }
      ]
    },
    {
      "cell_type": "code",
      "source": [
        "# now we can use the above function for every person on wikipedia , which obviously follows the same format : like Mukesh Ambani ...\n",
        "\n",
        "texxt = '''\n",
        "Born\tMukesh Dhirubhai Ambani\n",
        "19 April 1957 (age 66)\n",
        "Aden, Colony of Aden\n",
        "(present-day Yemen)[1][2]\n",
        "Nationality\tIndian\n",
        "Alma mater\n",
        "St. Xavier's College, Mumbai\n",
        "Institute of Chemical Technology (B.E.)\n",
        "Occupation(s)\tChairman and MD, Reliance Industries\n",
        "Spouse\tNita Ambani ​(m. 1985)​[3]\n",
        "Children\t3\n",
        "Parents\n",
        "Dhirubhai Ambani (father)\n",
        "Kokilaben Ambani (mother)\n",
        "Relatives\tAnil Ambani (brother)\n",
        "Tina Ambani (sister-in-law)\n",
        "'''\n",
        "\n",
        "get_personal_information(texxt)"
      ],
      "metadata": {
        "colab": {
          "base_uri": "https://localhost:8080/"
        },
        "id": "PbMOdoDbY7H4",
        "outputId": "e95131bb-c71b-4a83-b29c-519f036a213a"
      },
      "execution_count": null,
      "outputs": [
        {
          "output_type": "execute_result",
          "data": {
            "text/plain": [
              "{'age': 66,\n",
              " 'name': 'Mukesh Dhirubhai Ambani',\n",
              " 'birth_date': '19 April 1957',\n",
              " 'birth_place': 'Aden, Colony of Aden'}"
            ]
          },
          "metadata": {},
          "execution_count": 25
        }
      ]
    },
    {
      "cell_type": "code",
      "source": [],
      "metadata": {
        "id": "KtdP9xn1aX_C"
      },
      "execution_count": null,
      "outputs": []
    }
  ]
}