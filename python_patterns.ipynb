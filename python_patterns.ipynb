{
  "nbformat": 4,
  "nbformat_minor": 0,
  "metadata": {
    "colab": {
      "provenance": [],
      "gpuType": "T4"
    },
    "kernelspec": {
      "name": "python3",
      "display_name": "Python 3"
    },
    "language_info": {
      "name": "python"
    },
    "accelerator": "GPU"
  },
  "cells": [
    {
      "cell_type": "code",
      "execution_count": null,
      "metadata": {
        "colab": {
          "base_uri": "https://localhost:8080/"
        },
        "id": "Kfy7-IXedlFq",
        "outputId": "3ec72345-3f5c-4398-eb99-2e1bd4c06c5d"
      },
      "outputs": [
        {
          "output_type": "stream",
          "name": "stdout",
          "text": [
            "printing the message hello world\n"
          ]
        }
      ],
      "source": [
        "print(\"printing the message hello world\")"
      ]
    },
    {
      "cell_type": "code",
      "source": [
        "!pip install keras"
      ],
      "metadata": {
        "colab": {
          "base_uri": "https://localhost:8080/"
        },
        "id": "HTXj2vild0dW",
        "outputId": "0e231c2d-32c8-45ad-9818-f8ffe7806bd3"
      },
      "execution_count": null,
      "outputs": [
        {
          "output_type": "stream",
          "name": "stdout",
          "text": [
            "Requirement already satisfied: keras in /usr/local/lib/python3.10/dist-packages (2.14.0)\n"
          ]
        }
      ]
    },
    {
      "cell_type": "code",
      "source": [
        "import tensorflow as tf\n",
        "tf.test.gpu_device_name()"
      ],
      "metadata": {
        "id": "g1znc27ael4L",
        "colab": {
          "base_uri": "https://localhost:8080/",
          "height": 35
        },
        "outputId": "6d03d530-3bc6-4191-b4bb-31ea37dd6d59"
      },
      "execution_count": null,
      "outputs": [
        {
          "output_type": "execute_result",
          "data": {
            "text/plain": [
              "'/device:GPU:0'"
            ],
            "application/vnd.google.colaboratory.intrinsic+json": {
              "type": "string"
            }
          },
          "metadata": {},
          "execution_count": 1
        }
      ]
    },
    {
      "cell_type": "code",
      "source": [
        "!pip install keras\n"
      ],
      "metadata": {
        "colab": {
          "base_uri": "https://localhost:8080/"
        },
        "id": "WAjJFw7Dh25A",
        "outputId": "4ad000c7-b685-4e68-b148-cb118c0dd0ae"
      },
      "execution_count": null,
      "outputs": [
        {
          "output_type": "stream",
          "name": "stdout",
          "text": [
            "Requirement already satisfied: keras in /usr/local/lib/python3.10/dist-packages (2.14.0)\n"
          ]
        }
      ]
    },
    {
      "cell_type": "markdown",
      "source": [
        " Python basics Day 2"
      ],
      "metadata": {
        "id": "CaTozO7JyJn_"
      }
    },
    {
      "cell_type": "code",
      "source": [
        "a = 10 # addition\n",
        "b = 20\n",
        "c = a + b\n",
        "print(\"Addition is \" ,c)\n",
        "d = a - b # subtraction\n",
        "print(\"Subtraction is \" ,d)\n",
        "e = a / b #division\n",
        "print(\"Division is \" , e)\n",
        "f = a * b\n",
        "print(\"Multiplication is\" , f)\n",
        "g = a // b\n",
        "print(\"floor division is \" , g)\n",
        "h = a % b\n",
        "print(\"modulas is\" , h)\n"
      ],
      "metadata": {
        "id": "q93FkW5vlBB8",
        "colab": {
          "base_uri": "https://localhost:8080/"
        },
        "outputId": "2734e3ab-07f2-46a7-c25d-796a110291c6"
      },
      "execution_count": null,
      "outputs": [
        {
          "output_type": "stream",
          "name": "stdout",
          "text": [
            "30\n"
          ]
        }
      ]
    },
    {
      "cell_type": "markdown",
      "source": [
        "Python basics Day 2"
      ],
      "metadata": {
        "id": "QnaP88AYx15L"
      }
    },
    {
      "cell_type": "code",
      "source": [
        "a = int(input(\"Enter the value for first variable\"))\n",
        "b = int(input(\"Enter the value for second variable\"))\n",
        "c = a + b\n",
        "d = a - b\n",
        "e = a / b\n",
        "f = a * b\n",
        "g = a // b\n",
        "h = a % b\n",
        "print(\"The addition is\" , c)\n",
        "print(\"The subtraction is\" , d)\n",
        "print(\"The division is\" , e)\n",
        "print(\"The Multiplication is\" , f)\n",
        "print(\"The floor division is\", g)\n",
        "print(\"The modulas is \", h)\n",
        "\n"
      ],
      "metadata": {
        "colab": {
          "base_uri": "https://localhost:8080/"
        },
        "id": "yNYyCU3JmnB_",
        "outputId": "9218aea4-5db7-4f69-fec0-9968ba9e4143"
      },
      "execution_count": null,
      "outputs": [
        {
          "output_type": "stream",
          "name": "stdout",
          "text": [
            "Enter the value for first variable2\n",
            "Enter the value for second variable4\n",
            "The addition is 6\n",
            "The subtraction is -2\n",
            "The division is 0.5\n",
            "The Multiplication is 8\n",
            "The floor division is 0\n",
            "The modulas is  2\n"
          ]
        }
      ]
    },
    {
      "cell_type": "markdown",
      "source": [
        "Python basics Day 2"
      ],
      "metadata": {
        "id": "vgN4Y4G0xwVs"
      }
    },
    {
      "cell_type": "code",
      "source": [
        "a = 3\n",
        "b = 5\n",
        "c = 2\n",
        "value = a + b\n",
        "value_2 = c -1\n",
        "value_3 = b - c\n",
        "value_4 = a * 2\n",
        "value_5 = value * value_2\n",
        "value_6 = value_3 / value_4\n",
        "value_7 = value_5 / value_6\n",
        "print(value_7)"
      ],
      "metadata": {
        "colab": {
          "base_uri": "https://localhost:8080/"
        },
        "id": "dMFOcAS_qdKH",
        "outputId": "e15973b4-8069-40f5-d3d8-02fb13afc173"
      },
      "execution_count": null,
      "outputs": [
        {
          "output_type": "stream",
          "name": "stdout",
          "text": [
            "16.0\n"
          ]
        }
      ]
    },
    {
      "cell_type": "markdown",
      "source": [],
      "metadata": {
        "id": "y6XyDiuKyXob"
      }
    },
    {
      "cell_type": "code",
      "source": [
        "ob = open(\"testfile.txt\",\"w\")\n",
        "print(type(ob))"
      ],
      "metadata": {
        "id": "PerlDFjxsqfn",
        "colab": {
          "base_uri": "https://localhost:8080/"
        },
        "outputId": "97679718-e265-4987-a1e8-9e602f849d6b"
      },
      "execution_count": null,
      "outputs": [
        {
          "output_type": "stream",
          "name": "stdout",
          "text": [
            "<class '_io.TextIOWrapper'>\n"
          ]
        }
      ]
    },
    {
      "cell_type": "code",
      "source": [
        "for i in range(1,5):\n",
        "  for j in range(1,5):\n",
        "    if j<=i:\n",
        "      print(\"*\",end=\"\")\n",
        "    else:\n",
        "      print(\" \",end=\"\")\n",
        "  print()"
      ],
      "metadata": {
        "colab": {
          "base_uri": "https://localhost:8080/"
        },
        "id": "Ji3ZT0ooiqAP",
        "outputId": "d16f56e8-38a5-4d2d-9719-caad6fad772f"
      },
      "execution_count": null,
      "outputs": [
        {
          "output_type": "stream",
          "name": "stdout",
          "text": [
            "*   \n",
            "**  \n",
            "*** \n",
            "****\n"
          ]
        }
      ]
    },
    {
      "cell_type": "code",
      "source": [
        "for i in range(4):\n",
        "  print(\"*\"*(i+1))\n"
      ],
      "metadata": {
        "colab": {
          "base_uri": "https://localhost:8080/"
        },
        "id": "x_U2LbfqkSiL",
        "outputId": "90b0a6fe-e93a-449e-8313-f9f7e8be6994"
      },
      "execution_count": null,
      "outputs": [
        {
          "output_type": "stream",
          "name": "stdout",
          "text": [
            "*\n",
            "**\n",
            "***\n",
            "****\n"
          ]
        }
      ]
    },
    {
      "cell_type": "code",
      "source": [
        "for i in range(1,5):\n",
        "  for j in range(1,5):\n",
        "    if i<=j:\n",
        "      print(\"*\",end=\"\")\n",
        "    else:\n",
        "      print(\" \",end=\"\")\n",
        "  print()"
      ],
      "metadata": {
        "colab": {
          "base_uri": "https://localhost:8080/"
        },
        "id": "iOWmxxLV_wuN",
        "outputId": "6e893b0f-1d37-4a69-bd9a-2435abc9d84b"
      },
      "execution_count": null,
      "outputs": [
        {
          "output_type": "stream",
          "name": "stdout",
          "text": [
            "****\n",
            " ***\n",
            "  **\n",
            "   *\n"
          ]
        }
      ]
    },
    {
      "cell_type": "code",
      "source": [
        "for i in range(1,5):\n",
        "  for j in range(1,5):\n",
        "    if j>=5-i:\n",
        "      print(\"*\",end=\"\")\n",
        "    else:\n",
        "      print(\" \",end=\"\")\n",
        "  print()"
      ],
      "metadata": {
        "colab": {
          "base_uri": "https://localhost:8080/"
        },
        "id": "2UZqjkdcBtBY",
        "outputId": "04717a5b-cfe1-4809-dad4-10d45d349ca4"
      },
      "execution_count": null,
      "outputs": [
        {
          "output_type": "stream",
          "name": "stdout",
          "text": [
            "   *\n",
            "  **\n",
            " ***\n",
            "****\n"
          ]
        }
      ]
    },
    {
      "cell_type": "code",
      "source": [
        "for i in range(1,5):\n",
        "  for j in range(1,5):\n",
        "    if j<=5-i:\n",
        "      print(\"*\",end=\"\")\n",
        "    else:\n",
        "      print(\" \",end=\"\")\n",
        "  print()"
      ],
      "metadata": {
        "colab": {
          "base_uri": "https://localhost:8080/"
        },
        "id": "O3OoyiXbHisK",
        "outputId": "a1717c23-6682-4956-ced8-44ea86275f29"
      },
      "execution_count": null,
      "outputs": [
        {
          "output_type": "stream",
          "name": "stdout",
          "text": [
            "****\n",
            "*** \n",
            "**  \n",
            "*   \n"
          ]
        }
      ]
    },
    {
      "cell_type": "code",
      "source": [
        "for i in range(1,5):\n",
        "  for j in range(1,5):\n",
        "    if j<=i:\n",
        "      print(\"*\",end=\"\")\n",
        "    else:\n",
        "      print(\" \",end=\"\")\n",
        "  print()"
      ],
      "metadata": {
        "colab": {
          "base_uri": "https://localhost:8080/"
        },
        "id": "vYJ-rrBlHvhq",
        "outputId": "a98ead7b-f33d-4d64-9962-eb292d4dd236"
      },
      "execution_count": null,
      "outputs": [
        {
          "output_type": "stream",
          "name": "stdout",
          "text": [
            "*   \n",
            "**  \n",
            "*** \n",
            "****\n"
          ]
        }
      ]
    },
    {
      "cell_type": "code",
      "source": [
        "for i in range(1,5):\n",
        "  for j in range(1,5):\n",
        "    if j<=5-i:\n",
        "      print(\"*\",end=\"\")\n",
        "    else:\n",
        "      print(\" \",end=\"\")\n",
        "  print()"
      ],
      "metadata": {
        "colab": {
          "base_uri": "https://localhost:8080/"
        },
        "id": "zf8qQ1hdJF72",
        "outputId": "77370f53-0e3d-4a79-a64f-5a2989b605d4"
      },
      "execution_count": null,
      "outputs": [
        {
          "output_type": "stream",
          "name": "stdout",
          "text": [
            "****\n",
            "*** \n",
            "**  \n",
            "*   \n"
          ]
        }
      ]
    },
    {
      "cell_type": "code",
      "source": [
        "for i in range(1,5):\n",
        "  for j in range(1,5):\n",
        "    if j>=i:\n",
        "      print(\"*\",end='')\n",
        "    else:\n",
        "      print(\" \",end='')\n",
        "  print()\n"
      ],
      "metadata": {
        "colab": {
          "base_uri": "https://localhost:8080/"
        },
        "id": "LaYkxmTOJawu",
        "outputId": "878b97d6-6731-4e4b-8c0d-0597af8b3c59"
      },
      "execution_count": null,
      "outputs": [
        {
          "output_type": "stream",
          "name": "stdout",
          "text": [
            "****\n",
            " ***\n",
            "  **\n",
            "   *\n"
          ]
        }
      ]
    },
    {
      "cell_type": "code",
      "source": [
        "for i in range(1,5):\n",
        "  for j in range(1,8):\n",
        "    if j>=5-i and j<=3+i:\n",
        "      print(\"*\",end=\"\")\n",
        "    else:\n",
        "      print(\" \",end=\"\")\n",
        "  print()"
      ],
      "metadata": {
        "colab": {
          "base_uri": "https://localhost:8080/"
        },
        "id": "rx1UqniSMys5",
        "outputId": "117a6c01-eab3-4728-da1e-92832d5ef8d4"
      },
      "execution_count": null,
      "outputs": [
        {
          "output_type": "stream",
          "name": "stdout",
          "text": [
            "   *   \n",
            "  ***  \n",
            " ***** \n",
            "*******\n"
          ]
        }
      ]
    },
    {
      "cell_type": "code",
      "source": [
        "for i in range(1,5):\n",
        "  for j in range(1,8):\n",
        "    if j>=i and j<=8-i:\n",
        "      print(\"*\",end=\"\")\n",
        "    else:\n",
        "      print(\" \",end=\"\")\n",
        "  print()"
      ],
      "metadata": {
        "colab": {
          "base_uri": "https://localhost:8080/"
        },
        "id": "OFo_Ryf1PN0U",
        "outputId": "82b6d95a-dac2-4858-ff5d-df9dd3fbaf7c"
      },
      "execution_count": null,
      "outputs": [
        {
          "output_type": "stream",
          "name": "stdout",
          "text": [
            "*******\n",
            " ***** \n",
            "  ***  \n",
            "   *   \n"
          ]
        }
      ]
    },
    {
      "cell_type": "code",
      "source": [
        "for i in range(1,5):\n",
        "  for j in range(1,8):\n",
        "    if j<=5-i or j>=3+i:\n",
        "      print(\"*\",end=\"\")\n",
        "    else:\n",
        "      print(\" \",end=\"\")\n",
        "  print()"
      ],
      "metadata": {
        "colab": {
          "base_uri": "https://localhost:8080/"
        },
        "id": "Jy-Djp8TSLWo",
        "outputId": "a6218d85-3aac-4ea2-e48d-b183f2f677fe"
      },
      "execution_count": null,
      "outputs": [
        {
          "output_type": "stream",
          "name": "stdout",
          "text": [
            "*******\n",
            "*** ***\n",
            "**   **\n",
            "*     *\n"
          ]
        }
      ]
    },
    {
      "cell_type": "code",
      "source": [
        "for i in range(1,5):\n",
        "  for j in range(1,5):\n",
        "    if j<=i:\n",
        "      print(j,end='')\n",
        "    else:\n",
        "      print(\" \",end=\"\")\n",
        "  print()"
      ],
      "metadata": {
        "colab": {
          "base_uri": "https://localhost:8080/"
        },
        "id": "cUpFrWkwTIGB",
        "outputId": "1dbff9b7-ce8e-4cd1-eae5-20835263bbce"
      },
      "execution_count": null,
      "outputs": [
        {
          "output_type": "stream",
          "name": "stdout",
          "text": [
            "1   \n",
            "12  \n",
            "123 \n",
            "1234\n"
          ]
        }
      ]
    },
    {
      "cell_type": "code",
      "source": [
        "for i in range(1,6):\n",
        "  k=6-i\n",
        "  for j in range(1,6):\n",
        "    if j<=6-i:\n",
        "      print(k,end=\"\")\n",
        "      k-=1\n",
        "    else:\n",
        "      print(\" \",end=\"\")\n",
        "  print()"
      ],
      "metadata": {
        "colab": {
          "base_uri": "https://localhost:8080/"
        },
        "id": "wtS-6tCoUhrj",
        "outputId": "e56d20bd-15fa-48be-817b-e6aee1d16a21"
      },
      "execution_count": null,
      "outputs": [
        {
          "output_type": "stream",
          "name": "stdout",
          "text": [
            "54321\n",
            "4321 \n",
            "321  \n",
            "21   \n",
            "1    \n"
          ]
        }
      ]
    },
    {
      "cell_type": "code",
      "source": [
        "ls = []\n",
        "\n",
        "while True:\n",
        "  bikes = input(\"Enter the names of bikes ..\")\n",
        "  a = input(\"Enter y/Y for not putting the values\")\n",
        "  if a == \"y\" or a == \"Y\":\n",
        "    break\n",
        "  if bikes == \"stop\":\n",
        "    break\n",
        "  ls.append(bikes)\n",
        "print(ls)"
      ],
      "metadata": {
        "colab": {
          "base_uri": "https://localhost:8080/"
        },
        "id": "ridsJ9sEyIGl",
        "outputId": "bbb37c0c-3bdc-410e-d7b8-43d44dcff064"
      },
      "execution_count": null,
      "outputs": [
        {
          "output_type": "stream",
          "name": "stdout",
          "text": [
            "Enter the names of bikes ..honda\n",
            "Enter y/Y for not putting the valueshonda\n",
            "Enter the names of bikes ..honda\n",
            "Enter y/Y for not putting the valueshonda\n",
            "Enter the names of bikes ..honda\n",
            "Enter y/Y for not putting the valueshonda\n",
            "Enter the names of bikes ..honda\n",
            "Enter y/Y for not putting the valuesy\n",
            "['honda', 'honda', 'honda']\n"
          ]
        }
      ]
    }
  ]
}