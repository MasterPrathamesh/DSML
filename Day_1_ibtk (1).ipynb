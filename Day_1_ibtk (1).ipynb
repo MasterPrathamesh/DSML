{
  "cells": [
    {
      "cell_type": "code",
      "execution_count": null,
      "id": "2b211c10",
      "metadata": {
        "id": "2b211c10"
      },
      "outputs": [],
      "source": [
        "# Create an empty list (motorcycles)\n",
        "# Take input from the user names of brands of bikes.... suzuki, honda, bmw\n",
        "# this activity should be done using while loop....\n",
        "# use a valid condition to break the loop and print the list"
      ]
    },
    {
      "cell_type": "code",
      "execution_count": null,
      "id": "a6c00576",
      "metadata": {
        "id": "a6c00576",
        "outputId": "0d72b370-6de5-48b8-fbff-bed02be05e6c"
      },
      "outputs": [
        {
          "name": "stdout",
          "output_type": "stream",
          "text": [
            "Enter the name of the motocycle: bmw\n",
            "Enter C to continue, P to print the list, any other alphabet to stop: c\n",
            "Enter the name of the motocycle: honda\n",
            "Enter C to continue, P to print the list, any other alphabet to stop: p\n",
            "Motorcycles entered are:  ['bmw', 'honda']\n"
          ]
        }
      ],
      "source": [
        "motorcycles = []\n",
        "loop_controller = 'C'\n",
        "while (loop_controller == 'C' or loop_controller == 'c'):\n",
        "    name = input(\"Enter the name of the motocycle: \")\n",
        "    motorcycles.append(name)\n",
        "    loop_controller = input('Enter C to continue, P to print the list, any other alphabet to stop: ')\n",
        "    if (loop_controller == 'P' or loop_controller == 'p'):\n",
        "        print('Motorcycles entered are: ', motorcycles)"
      ]
    },
    {
      "cell_type": "code",
      "execution_count": null,
      "id": "166da0c2",
      "metadata": {
        "id": "166da0c2",
        "outputId": "ecc32a00-9caf-4a73-feef-8f3d299b0718"
      },
      "outputs": [
        {
          "name": "stdout",
          "output_type": "stream",
          "text": [
            "Enter the name of the motocycle: honda\n",
            "Enter S to stop, P to print the list: a\n",
            "Enter the name of the motocycle: bmw\n",
            "Enter S to stop, P to print the list: a\n",
            "Enter the name of the motocycle: suzuki\n",
            "Enter S to stop, P to print the list: p\n",
            "Motorcycles entered are:  ['honda', 'bmw', 'suzuki']\n",
            "Enter the name of the motocycle: s\n",
            "Enter S to stop, P to print the list: s\n"
          ]
        }
      ],
      "source": [
        "motorcycles = []\n",
        "while (True):\n",
        "    name = input(\"Enter the name of the motocycle: \")\n",
        "    motorcycles.append(name)\n",
        "    flag = input('Enter S to stop, P to print the list: ')\n",
        "    if (flag == 'S' or flag == 's'):\n",
        "        break\n",
        "    if (flag == 'P' or flag == 'p'):\n",
        "        print('Motorcycles entered are: ', motorcycles)\n",
        "        break"
      ]
    },
    {
      "cell_type": "code",
      "execution_count": null,
      "id": "f10fab29",
      "metadata": {
        "id": "f10fab29"
      },
      "outputs": [],
      "source": [
        "# Exception Handling..."
      ]
    },
    {
      "cell_type": "code",
      "execution_count": null,
      "id": "ea410a0b",
      "metadata": {
        "id": "ea410a0b"
      },
      "outputs": [],
      "source": [
        "# 2 Types of errors : Syntax Error and Runtime Error"
      ]
    },
    {
      "cell_type": "code",
      "execution_count": null,
      "id": "56c7c965",
      "metadata": {
        "id": "56c7c965",
        "outputId": "944b8da4-04c3-488e-af47-ca0f46d47e4d"
      },
      "outputs": [
        {
          "ename": "SyntaxError",
          "evalue": "incomplete input (2076333857.py, line 4)",
          "output_type": "error",
          "traceback": [
            "\u001b[1;36m  Cell \u001b[1;32mIn[8], line 4\u001b[1;36m\u001b[0m\n\u001b[1;33m    motorcycles.append(name\u001b[0m\n\u001b[1;37m                           ^\u001b[0m\n\u001b[1;31mSyntaxError\u001b[0m\u001b[1;31m:\u001b[0m incomplete input\n"
          ]
        }
      ],
      "source": [
        "motorcycles = []\n",
        "while (True):\n",
        "    name = input(\"Enter the name of the motocycle: \")\n",
        "    motorcycles.append(name"
      ]
    },
    {
      "cell_type": "code",
      "execution_count": null,
      "id": "957d1e22",
      "metadata": {
        "id": "957d1e22",
        "outputId": "abae271b-05b8-4621-fe79-15f909fe0809"
      },
      "outputs": [
        {
          "name": "stdout",
          "output_type": "stream",
          "text": [
            "Enter 1 number: 10\n",
            "Enter 2 number: 0\n",
            "var2 cannot be zero kindly enter some other value\n",
            "call the support team @ 001-9812341223\n"
          ]
        }
      ],
      "source": [
        "try:\n",
        "    var1 = int(input(\"Enter 1 number: \"))\n",
        "    var2 = int(input(\"Enter 2 number: \"))\n",
        "    result = var1 / var2\n",
        "    print(\"Result is : \", result)\n",
        "except ZeroDivisionError:\n",
        "    print(\"var2 cannot be zero kindly enter some other value\")\n",
        "    print(\"call the support team @ 001-9812341223\")"
      ]
    },
    {
      "cell_type": "code",
      "execution_count": null,
      "id": "c964b0cc",
      "metadata": {
        "id": "c964b0cc",
        "outputId": "86e4aa15-cf7d-4e89-a7c1-9c00051b0873"
      },
      "outputs": [
        {
          "name": "stdout",
          "output_type": "stream",
          "text": [
            "Enter 1 number: 10\n",
            "Enter 2 number: 2\n",
            "Result is :  5.0\n",
            "Error in Program  (<class 'IndexError'>, IndexError('list index out of range'), <traceback object at 0x0000029992CFB580>)\n"
          ]
        }
      ],
      "source": [
        "import sys\n",
        "try:\n",
        "    var1 = int(input(\"Enter 1 number: \"))\n",
        "    var2 = int(input(\"Enter 2 number: \"))\n",
        "    result = var1 / var2\n",
        "    lst = [1, 2, 3]\n",
        "    print(\"Result is : \", result)\n",
        "    print('value at index 3 is:', lst[3])\n",
        "except ZeroDivisionError:\n",
        "    print(\"var2 cannot be zero kindly enter some other value\")\n",
        "    print(\"call the support team @ 001-9812341223\")\n",
        "except:\n",
        "    print(\"Error in Program \", sys.exc_info())"
      ]
    },
    {
      "cell_type": "code",
      "execution_count": null,
      "id": "ac7e6d67",
      "metadata": {
        "id": "ac7e6d67",
        "outputId": "8582d73c-af04-4230-bc22-26d18ddd2174"
      },
      "outputs": [
        {
          "data": {
            "text/plain": [
              "'3.11'"
            ]
          },
          "execution_count": 16,
          "metadata": {},
          "output_type": "execute_result"
        }
      ],
      "source": [
        "import sys\n",
        "sys.winver"
      ]
    },
    {
      "cell_type": "code",
      "execution_count": null,
      "id": "6d98ad0c",
      "metadata": {
        "id": "6d98ad0c"
      },
      "outputs": [],
      "source": [
        "# try block : has the code in which you are anticipating an error\n",
        "# except block : works as the exception handler in which we handle the exception properly\n",
        "# else block : this block will execute when there is no error in the try block\n",
        "# finally block: the code in this block will always execute irrespective of an error in try block or not"
      ]
    },
    {
      "cell_type": "code",
      "execution_count": null,
      "id": "7d63e0bf",
      "metadata": {
        "id": "7d63e0bf",
        "outputId": "3cb98250-ae47-4a25-c18a-280fb4d658d3"
      },
      "outputs": [
        {
          "name": "stdout",
          "output_type": "stream",
          "text": [
            "Enter 1 number: 10\n",
            "Enter 2 number: 2\n",
            "Result is :  5.0\n",
            "Else block is executed\n",
            "finally block is executed\n"
          ]
        }
      ],
      "source": [
        "try:\n",
        "    var1 = int(input(\"Enter 1 number: \"))\n",
        "    var2 = int(input(\"Enter 2 number: \"))\n",
        "    result = var1 / var2\n",
        "    print(\"Result is : \", result)\n",
        "except:\n",
        "    print(\"error occured in try block\")\n",
        "else:\n",
        "    print(\"Else block is executed as the code in try block is OK\")\n",
        "finally:\n",
        "    print(\"finally block is always executed irrespective of error or no-error in try block\")"
      ]
    },
    {
      "cell_type": "code",
      "execution_count": null,
      "id": "634a228a",
      "metadata": {
        "id": "634a228a"
      },
      "outputs": [],
      "source": [
        "# Match case"
      ]
    },
    {
      "cell_type": "code",
      "execution_count": null,
      "id": "2648c28b",
      "metadata": {
        "id": "2648c28b",
        "outputId": "f9dd131c-bf92-4256-b1f5-eb9005b5b8e7"
      },
      "outputs": [
        {
          "name": "stdout",
          "output_type": "stream",
          "text": [
            "Its a Wednesday\n"
          ]
        }
      ],
      "source": [
        "def weekday(day):\n",
        "    match day:\n",
        "        case 'Mon':\n",
        "            print(\"Its a Monday\")\n",
        "        case 'Tue':\n",
        "            print(\"Its a Tuesday\")\n",
        "        case 'Wed':\n",
        "            print(\"Its a Wednesday\")\n",
        "        case _:\n",
        "            print(\"Invalid short weekday name\")\n",
        "################################################\n",
        "# Main program body\n",
        "weekday('Wed')"
      ]
    },
    {
      "cell_type": "code",
      "execution_count": null,
      "id": "23878324",
      "metadata": {
        "id": "23878324"
      },
      "outputs": [],
      "source": [
        "# Factorial program using Function Recusion\n",
        "# 3!: 3 × 2 × 1, which is equal to 6\n",
        "# 8!: 8 x 7 x 6 x 5 x 4 x 3 x 2 x 1, which is equal to 40320"
      ]
    },
    {
      "cell_type": "code",
      "execution_count": null,
      "id": "24fbe630",
      "metadata": {
        "id": "24fbe630",
        "outputId": "67f54cbc-1414-4465-8ea6-efa441188744"
      },
      "outputs": [
        {
          "data": {
            "text/plain": [
              "24"
            ]
          },
          "execution_count": 26,
          "metadata": {},
          "output_type": "execute_result"
        }
      ],
      "source": [
        "def recur_factorial(n):\n",
        "    if n == 1:\n",
        "        return n\n",
        "    else:\n",
        "        return n * recur_factorial(n-1)\n",
        "\n",
        "recur_factorial(4)"
      ]
    },
    {
      "cell_type": "code",
      "execution_count": null,
      "id": "b3e1b3ab",
      "metadata": {
        "id": "b3e1b3ab"
      },
      "outputs": [],
      "source": [
        "# Lamda functions"
      ]
    },
    {
      "cell_type": "code",
      "execution_count": null,
      "id": "c541e0ed",
      "metadata": {
        "id": "c541e0ed",
        "outputId": "8370123a-65e4-466b-90f5-f745b88be5df"
      },
      "outputs": [
        {
          "data": {
            "text/plain": [
              "15"
            ]
          },
          "execution_count": 27,
          "metadata": {},
          "output_type": "execute_result"
        }
      ],
      "source": [
        "x = lambda a : a + 10\n",
        "x(5)"
      ]
    },
    {
      "cell_type": "code",
      "execution_count": null,
      "id": "610f5817",
      "metadata": {
        "id": "610f5817",
        "outputId": "4931b463-f36a-4354-e8b6-f575312af4d5"
      },
      "outputs": [
        {
          "data": {
            "text/plain": [
              "12"
            ]
          },
          "execution_count": 28,
          "metadata": {},
          "output_type": "execute_result"
        }
      ],
      "source": [
        "z = lambda i, j : i * j\n",
        "z(3,4)"
      ]
    },
    {
      "cell_type": "code",
      "execution_count": null,
      "id": "87ad4c2f",
      "metadata": {
        "id": "87ad4c2f",
        "outputId": "e5762db1-addb-4268-e802-1cfe539a02a3"
      },
      "outputs": [
        {
          "data": {
            "text/plain": [
              "13"
            ]
          },
          "execution_count": 29,
          "metadata": {},
          "output_type": "execute_result"
        }
      ],
      "source": [
        "x = lambda a, b, c : a + b + c\n",
        "x(5, 6, 2)"
      ]
    },
    {
      "cell_type": "code",
      "execution_count": null,
      "id": "00791d38",
      "metadata": {
        "id": "00791d38",
        "outputId": "f3d2ddcb-6538-4b79-f6a6-a022eb2faf8d"
      },
      "outputs": [
        {
          "data": {
            "text/plain": [
              "[4, 6, 8, 12]"
            ]
          },
          "execution_count": 32,
          "metadata": {},
          "output_type": "execute_result"
        }
      ],
      "source": [
        "mylist = [1, 5, 4, 6, 8, 11, 3, 12]\n",
        "newlist = list(filter(lambda num: (num % 2 == 0), mylist))\n",
        "newlist"
      ]
    },
    {
      "cell_type": "code",
      "execution_count": null,
      "id": "0bdab8df",
      "metadata": {
        "id": "0bdab8df"
      },
      "outputs": [],
      "source": [
        "# Nested loops\n",
        "'''\n",
        "Outer_loop Expression:\n",
        "    Inner_loop Expression:\n",
        "        Statement inside inner_loop\n",
        "'''"
      ]
    },
    {
      "cell_type": "code",
      "execution_count": null,
      "id": "0e407292",
      "metadata": {
        "id": "0e407292",
        "outputId": "f04f2d2c-fce7-4353-e0fb-fe5fc6627af2"
      },
      "outputs": [
        {
          "name": "stdout",
          "output_type": "stream",
          "text": [
            "red\n",
            "red apple\n",
            "red banana\n",
            "red cherry\n",
            "big\n",
            "big apple\n",
            "big banana\n",
            "big cherry\n",
            "tasty\n",
            "tasty apple\n",
            "tasty banana\n",
            "tasty cherry\n"
          ]
        }
      ],
      "source": [
        "adj = ['red', 'big', 'tasty']\n",
        "fruits = ['apple', 'banana', 'cherry']\n",
        "\n",
        "for x in adj: # outer loop\n",
        "    print(x)\n",
        "    for y in fruits: # inner loop\n",
        "        print(x, y)"
      ]
    },
    {
      "cell_type": "code",
      "execution_count": null,
      "id": "b5b57c2f",
      "metadata": {
        "id": "b5b57c2f",
        "outputId": "279f63e6-4a00-49d3-96e0-e7c321bd856f"
      },
      "outputs": [
        {
          "name": "stdout",
          "output_type": "stream",
          "text": [
            "1 4\n",
            "1 5\n",
            "2 4\n",
            "2 5\n"
          ]
        }
      ],
      "source": [
        "x = [1, 2]\n",
        "y = [4, 5]\n",
        "for i in x:\n",
        "    for j in y:\n",
        "        print(i, j)"
      ]
    },
    {
      "cell_type": "code",
      "execution_count": null,
      "id": "0f6ccce0",
      "metadata": {
        "id": "0f6ccce0"
      },
      "outputs": [],
      "source": []
    }
  ],
  "metadata": {
    "kernelspec": {
      "display_name": "Python 3 (ipykernel)",
      "language": "python",
      "name": "python3"
    },
    "language_info": {
      "codemirror_mode": {
        "name": "ipython",
        "version": 3
      },
      "file_extension": ".py",
      "mimetype": "text/x-python",
      "name": "python",
      "nbconvert_exporter": "python",
      "pygments_lexer": "ipython3",
      "version": "3.11.5"
    },
    "colab": {
      "provenance": []
    }
  },
  "nbformat": 4,
  "nbformat_minor": 5
}