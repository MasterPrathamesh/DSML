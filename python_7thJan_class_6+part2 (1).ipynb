{
  "cells": [
    {
      "cell_type": "code",
      "execution_count": null,
      "id": "d922b9b2",
      "metadata": {
        "id": "d922b9b2"
      },
      "outputs": [],
      "source": [
        "#packages and modules\n",
        "import math as mt"
      ]
    },
    {
      "cell_type": "code",
      "execution_count": null,
      "id": "1823b9b3",
      "metadata": {
        "scrolled": false,
        "id": "1823b9b3",
        "outputId": "656a2100-a1ac-4de7-a7cb-8ad3143d68c6"
      },
      "outputs": [
        {
          "data": {
            "text/plain": [
              "9.0"
            ]
          },
          "execution_count": 5,
          "metadata": {},
          "output_type": "execute_result"
        }
      ],
      "source": [
        "mt.sqrt(81)"
      ]
    },
    {
      "cell_type": "code",
      "execution_count": null,
      "id": "9a18911d",
      "metadata": {
        "scrolled": false,
        "id": "9a18911d",
        "outputId": "2a99577f-023e-4f33-9f6b-d7b29bb24ec0"
      },
      "outputs": [
        {
          "data": {
            "text/plain": [
              "100.0"
            ]
          },
          "execution_count": 7,
          "metadata": {},
          "output_type": "execute_result"
        }
      ],
      "source": [
        "mt.pow(10,2)"
      ]
    },
    {
      "cell_type": "code",
      "execution_count": null,
      "id": "7b4d3afc",
      "metadata": {
        "scrolled": true,
        "id": "7b4d3afc",
        "outputId": "406dbd67-8686-47ed-b7ac-4ca40ab11a71"
      },
      "outputs": [
        {
          "data": {
            "text/plain": [
              "['__doc__',\n",
              " '__loader__',\n",
              " '__name__',\n",
              " '__package__',\n",
              " '__spec__',\n",
              " 'acos',\n",
              " 'acosh',\n",
              " 'asin',\n",
              " 'asinh',\n",
              " 'atan',\n",
              " 'atan2',\n",
              " 'atanh',\n",
              " 'ceil',\n",
              " 'copysign',\n",
              " 'cos',\n",
              " 'cosh',\n",
              " 'degrees',\n",
              " 'e',\n",
              " 'erf',\n",
              " 'erfc',\n",
              " 'exp',\n",
              " 'expm1',\n",
              " 'fabs',\n",
              " 'factorial',\n",
              " 'floor',\n",
              " 'fmod',\n",
              " 'frexp',\n",
              " 'fsum',\n",
              " 'gamma',\n",
              " 'gcd',\n",
              " 'hypot',\n",
              " 'inf',\n",
              " 'isclose',\n",
              " 'isfinite',\n",
              " 'isinf',\n",
              " 'isnan',\n",
              " 'ldexp',\n",
              " 'lgamma',\n",
              " 'log',\n",
              " 'log10',\n",
              " 'log1p',\n",
              " 'log2',\n",
              " 'modf',\n",
              " 'nan',\n",
              " 'pi',\n",
              " 'pow',\n",
              " 'radians',\n",
              " 'remainder',\n",
              " 'sin',\n",
              " 'sinh',\n",
              " 'sqrt',\n",
              " 'tan',\n",
              " 'tanh',\n",
              " 'tau',\n",
              " 'trunc']"
            ]
          },
          "execution_count": 8,
          "metadata": {},
          "output_type": "execute_result"
        }
      ],
      "source": [
        "dir(mt)"
      ]
    },
    {
      "cell_type": "code",
      "execution_count": null,
      "id": "147ef9b0",
      "metadata": {
        "id": "147ef9b0"
      },
      "outputs": [],
      "source": [
        "from math import pi,sqrt,log2"
      ]
    },
    {
      "cell_type": "code",
      "execution_count": null,
      "id": "6cd4e64e",
      "metadata": {
        "id": "6cd4e64e",
        "outputId": "9ef24267-633a-4be5-fb5c-9c74876f5777"
      },
      "outputs": [
        {
          "data": {
            "text/plain": [
              "3.141592653589793"
            ]
          },
          "execution_count": 5,
          "metadata": {},
          "output_type": "execute_result"
        }
      ],
      "source": [
        "pi"
      ]
    },
    {
      "cell_type": "code",
      "execution_count": null,
      "id": "478a0fa0",
      "metadata": {
        "scrolled": true,
        "id": "478a0fa0",
        "outputId": "83e7823d-4b23-4694-cd49-f0c4611e1bc7"
      },
      "outputs": [
        {
          "data": {
            "text/plain": [
              "10.0"
            ]
          },
          "execution_count": 9,
          "metadata": {},
          "output_type": "execute_result"
        }
      ],
      "source": [
        "sqrt(100)"
      ]
    },
    {
      "cell_type": "code",
      "execution_count": null,
      "id": "8146a411",
      "metadata": {
        "id": "8146a411",
        "outputId": "7822519b-e31f-42ae-f7ab-d466016e19c6"
      },
      "outputs": [
        {
          "data": {
            "text/plain": [
              "3.584962500721156"
            ]
          },
          "execution_count": 13,
          "metadata": {},
          "output_type": "execute_result"
        }
      ],
      "source": [
        "log2(12)"
      ]
    },
    {
      "cell_type": "code",
      "execution_count": null,
      "id": "f1d368a3",
      "metadata": {
        "id": "f1d368a3"
      },
      "outputs": [],
      "source": [
        "import math"
      ]
    },
    {
      "cell_type": "code",
      "execution_count": null,
      "id": "38b9e572",
      "metadata": {
        "id": "38b9e572",
        "outputId": "08328360-51fc-4935-e6bc-178bb7c9857e"
      },
      "outputs": [
        {
          "data": {
            "text/plain": [
              "11"
            ]
          },
          "execution_count": 15,
          "metadata": {},
          "output_type": "execute_result"
        }
      ],
      "source": [
        "math.ceil(10.3)"
      ]
    },
    {
      "cell_type": "code",
      "execution_count": null,
      "id": "f0bcfa1d",
      "metadata": {
        "id": "f0bcfa1d",
        "outputId": "5430f330-a9a8-4215-d9c4-2dea7c153855"
      },
      "outputs": [
        {
          "data": {
            "text/plain": [
              "-10.0"
            ]
          },
          "execution_count": 16,
          "metadata": {},
          "output_type": "execute_result"
        }
      ],
      "source": [
        "math.copysign(10,-1)"
      ]
    },
    {
      "cell_type": "code",
      "execution_count": null,
      "id": "85c8d79f",
      "metadata": {
        "id": "85c8d79f",
        "outputId": "efac2f48-8c26-477c-e3ab-22278d374d6a"
      },
      "outputs": [
        {
          "data": {
            "text/plain": [
              "20.0"
            ]
          },
          "execution_count": 17,
          "metadata": {},
          "output_type": "execute_result"
        }
      ],
      "source": [
        "math.fabs(-20)"
      ]
    },
    {
      "cell_type": "code",
      "execution_count": null,
      "id": "ca448a39",
      "metadata": {
        "id": "ca448a39",
        "outputId": "5d36ec86-7dab-4a31-d2b1-190afa4b88db"
      },
      "outputs": [
        {
          "data": {
            "text/plain": [
              "10"
            ]
          },
          "execution_count": 18,
          "metadata": {},
          "output_type": "execute_result"
        }
      ],
      "source": [
        "math.floor(10.3)"
      ]
    },
    {
      "cell_type": "code",
      "execution_count": null,
      "id": "52e8609d",
      "metadata": {
        "scrolled": true,
        "id": "52e8609d",
        "outputId": "66aa05c9-d585-43a5-f106-e6f2dad90e2b"
      },
      "outputs": [
        {
          "data": {
            "text/plain": [
              "'C:\\\\Users\\\\RaviAgrawal\\\\Desktop\\\\jupyter\\\\AIML Internship\\\\Instructor files'"
            ]
          },
          "execution_count": 19,
          "metadata": {},
          "output_type": "execute_result"
        }
      ],
      "source": [
        "import os\n",
        "os.getcwd()"
      ]
    },
    {
      "cell_type": "code",
      "execution_count": null,
      "id": "cf645a95",
      "metadata": {
        "id": "cf645a95"
      },
      "outputs": [],
      "source": [
        "os.chdir('C:\\\\Users\\\\RaviAgrawal\\\\Desktop\\\\jupyter\\\\AIML Internship')"
      ]
    },
    {
      "cell_type": "code",
      "execution_count": null,
      "id": "9b62d089",
      "metadata": {
        "id": "9b62d089",
        "outputId": "b4f57d13-7f57-457c-f628-05f4855682af"
      },
      "outputs": [
        {
          "data": {
            "text/plain": [
              "'C:\\\\Users\\\\RaviAgrawal\\\\Desktop\\\\jupyter\\\\AIML Internship'"
            ]
          },
          "execution_count": 21,
          "metadata": {},
          "output_type": "execute_result"
        }
      ],
      "source": [
        "os.getcwd()"
      ]
    },
    {
      "cell_type": "code",
      "execution_count": null,
      "id": "5f4772ae",
      "metadata": {
        "id": "5f4772ae",
        "outputId": "f69c4c9f-f1e7-4c90-90d7-3c23332e496e"
      },
      "outputs": [
        {
          "data": {
            "text/plain": [
              "'C:\\\\Users\\\\RaviAgrawal\\\\Desktop\\\\jupyter\\\\AIML Internship\\\\Instructor files'"
            ]
          },
          "execution_count": 22,
          "metadata": {},
          "output_type": "execute_result"
        }
      ],
      "source": [
        "os.chdir('C:\\\\Users\\\\RaviAgrawal\\\\Desktop\\\\jupyter\\\\AIML Internship\\\\Instructor files')\n",
        "os.getcwd()"
      ]
    },
    {
      "cell_type": "code",
      "execution_count": null,
      "id": "cd7aa565",
      "metadata": {
        "id": "cd7aa565",
        "outputId": "fa811388-be78-4f0b-b4b9-b8613d88cc06"
      },
      "outputs": [
        {
          "data": {
            "text/plain": [
              "['.ipynb_checkpoints',\n",
              " '20th_july_mentorship.ipynb',\n",
              " '27th_july_edureka_session.ipynb',\n",
              " '3rd August',\n",
              " 'Assignment_1.ipynb',\n",
              " 'cheetsheet and books.txt',\n",
              " 'cheetsheet_and_books_fsot2.txt',\n",
              " 'Class 1 - 22Apr23.ipynb',\n",
              " 'Class 2 - 23Apr23.ipynb',\n",
              " 'Class_3_-_29Apr23_po2tr.ipynb',\n",
              " 'Class_4_-_30Apr23_qtnyei.ipynb',\n",
              " 'Day_1_and_2_Code_rxnbj.zip',\n",
              " 'index _mentor.png',\n",
              " 'M5',\n",
              " 'M6',\n",
              " 'nested list.png',\n",
              " 'python-cheatsheet-master',\n",
              " 'python-cheatsheet-master.zip',\n",
              " 'Python_16th_Dec_class_1.ipynb',\n",
              " 'Python_23rde_Dec_class_3.ipynb',\n",
              " 'python_24thDec_class_4.ipynb',\n",
              " 'python_6thJan_class_5.ipynb',\n",
              " 'python_7thJan_class_6+part2.ipynb',\n",
              " 'Screenshot 2023-07-27 213458.png',\n",
              " 'Screenshot 2024-01-03 190634.png']"
            ]
          },
          "execution_count": 23,
          "metadata": {},
          "output_type": "execute_result"
        }
      ],
      "source": [
        "os.listdir()"
      ]
    },
    {
      "cell_type": "code",
      "execution_count": null,
      "id": "7706dee9",
      "metadata": {
        "id": "7706dee9"
      },
      "outputs": [],
      "source": [
        "os.mkdir(\"Test_folder\")"
      ]
    },
    {
      "cell_type": "code",
      "execution_count": null,
      "id": "8999afde",
      "metadata": {
        "scrolled": true,
        "id": "8999afde",
        "outputId": "66241c65-bd61-4139-92c0-5f0ef4edee76"
      },
      "outputs": [
        {
          "data": {
            "text/plain": [
              "['.ipynb_checkpoints',\n",
              " '20th_july_mentorship.ipynb',\n",
              " '27th_july_edureka_session.ipynb',\n",
              " '3rd August',\n",
              " 'Assignment_1.ipynb',\n",
              " 'cheetsheet and books.txt',\n",
              " 'cheetsheet_and_books_fsot2.txt',\n",
              " 'Class 1 - 22Apr23.ipynb',\n",
              " 'Class 2 - 23Apr23.ipynb',\n",
              " 'Class_3_-_29Apr23_po2tr.ipynb',\n",
              " 'Class_4_-_30Apr23_qtnyei.ipynb',\n",
              " 'Day_1_and_2_Code_rxnbj.zip',\n",
              " 'index _mentor.png',\n",
              " 'M5',\n",
              " 'M6',\n",
              " 'nested list.png',\n",
              " 'python-cheatsheet-master',\n",
              " 'python-cheatsheet-master.zip',\n",
              " 'Python_16th_Dec_class_1.ipynb',\n",
              " 'Python_23rde_Dec_class_3.ipynb',\n",
              " 'python_24thDec_class_4.ipynb',\n",
              " 'python_6thJan_class_5.ipynb',\n",
              " 'python_7thJan_class_6+part2.ipynb',\n",
              " 'Screenshot 2023-07-27 213458.png',\n",
              " 'Screenshot 2024-01-03 190634.png',\n",
              " 'Test_folder']"
            ]
          },
          "execution_count": 25,
          "metadata": {},
          "output_type": "execute_result"
        }
      ],
      "source": [
        "os.listdir()"
      ]
    },
    {
      "cell_type": "code",
      "execution_count": null,
      "id": "4b1d309c",
      "metadata": {
        "id": "4b1d309c"
      },
      "outputs": [],
      "source": [
        "os.rmdir('Test_folder')"
      ]
    },
    {
      "cell_type": "code",
      "execution_count": null,
      "id": "b2a8632a",
      "metadata": {
        "scrolled": true,
        "id": "b2a8632a",
        "outputId": "9784ae85-3026-417e-f4ae-8df01006a0c5"
      },
      "outputs": [
        {
          "data": {
            "text/plain": [
              "['.ipynb_checkpoints',\n",
              " '20th_july_mentorship.ipynb',\n",
              " '27th_july_edureka_session.ipynb',\n",
              " '3rd August',\n",
              " 'Assignment_1.ipynb',\n",
              " 'cheetsheet and books.txt',\n",
              " 'cheetsheet_and_books_fsot2.txt',\n",
              " 'Class 1 - 22Apr23.ipynb',\n",
              " 'Class 2 - 23Apr23.ipynb',\n",
              " 'Class_3_-_29Apr23_po2tr.ipynb',\n",
              " 'Class_4_-_30Apr23_qtnyei.ipynb',\n",
              " 'Day_1_and_2_Code_rxnbj.zip',\n",
              " 'index _mentor.png',\n",
              " 'M5',\n",
              " 'M6',\n",
              " 'nested list.png',\n",
              " 'python-cheatsheet-master',\n",
              " 'python-cheatsheet-master.zip',\n",
              " 'Python_16th_Dec_class_1.ipynb',\n",
              " 'Python_23rde_Dec_class_3.ipynb',\n",
              " 'python_24thDec_class_4.ipynb',\n",
              " 'python_6thJan_class_5.ipynb',\n",
              " 'python_7thJan_class_6+part2.ipynb',\n",
              " 'Screenshot 2023-07-27 213458.png',\n",
              " 'Screenshot 2024-01-03 190634.png']"
            ]
          },
          "execution_count": 27,
          "metadata": {},
          "output_type": "execute_result"
        }
      ],
      "source": [
        "os.listdir()"
      ]
    },
    {
      "cell_type": "code",
      "execution_count": null,
      "id": "8673d187",
      "metadata": {
        "scrolled": true,
        "id": "8673d187",
        "outputId": "11491e17-da93-4b7d-9d36-2710db293cba"
      },
      "outputs": [
        {
          "data": {
            "text/plain": [
              "['DirEntry',\n",
              " 'F_OK',\n",
              " 'MutableMapping',\n",
              " 'O_APPEND',\n",
              " 'O_BINARY',\n",
              " 'O_CREAT',\n",
              " 'O_EXCL',\n",
              " 'O_NOINHERIT',\n",
              " 'O_RANDOM',\n",
              " 'O_RDONLY',\n",
              " 'O_RDWR',\n",
              " 'O_SEQUENTIAL',\n",
              " 'O_SHORT_LIVED',\n",
              " 'O_TEMPORARY',\n",
              " 'O_TEXT',\n",
              " 'O_TRUNC',\n",
              " 'O_WRONLY',\n",
              " 'P_DETACH',\n",
              " 'P_NOWAIT',\n",
              " 'P_NOWAITO',\n",
              " 'P_OVERLAY',\n",
              " 'P_WAIT',\n",
              " 'PathLike',\n",
              " 'R_OK',\n",
              " 'SEEK_CUR',\n",
              " 'SEEK_END',\n",
              " 'SEEK_SET',\n",
              " 'TMP_MAX',\n",
              " 'W_OK',\n",
              " 'X_OK',\n",
              " '_Environ',\n",
              " '__all__',\n",
              " '__builtins__',\n",
              " '__cached__',\n",
              " '__doc__',\n",
              " '__file__',\n",
              " '__loader__',\n",
              " '__name__',\n",
              " '__package__',\n",
              " '__spec__',\n",
              " '_execvpe',\n",
              " '_exists',\n",
              " '_exit',\n",
              " '_fspath',\n",
              " '_get_exports_list',\n",
              " '_putenv',\n",
              " '_unsetenv',\n",
              " '_wrap_close',\n",
              " 'abc',\n",
              " 'abort',\n",
              " 'access',\n",
              " 'altsep',\n",
              " 'chdir',\n",
              " 'chmod',\n",
              " 'close',\n",
              " 'closerange',\n",
              " 'cpu_count',\n",
              " 'curdir',\n",
              " 'defpath',\n",
              " 'device_encoding',\n",
              " 'devnull',\n",
              " 'dup',\n",
              " 'dup2',\n",
              " 'environ',\n",
              " 'error',\n",
              " 'execl',\n",
              " 'execle',\n",
              " 'execlp',\n",
              " 'execlpe',\n",
              " 'execv',\n",
              " 'execve',\n",
              " 'execvp',\n",
              " 'execvpe',\n",
              " 'extsep',\n",
              " 'fdopen',\n",
              " 'fsdecode',\n",
              " 'fsencode',\n",
              " 'fspath',\n",
              " 'fstat',\n",
              " 'fsync',\n",
              " 'ftruncate',\n",
              " 'get_exec_path',\n",
              " 'get_handle_inheritable',\n",
              " 'get_inheritable',\n",
              " 'get_terminal_size',\n",
              " 'getcwd',\n",
              " 'getcwdb',\n",
              " 'getenv',\n",
              " 'getlogin',\n",
              " 'getpid',\n",
              " 'getppid',\n",
              " 'isatty',\n",
              " 'kill',\n",
              " 'linesep',\n",
              " 'link',\n",
              " 'listdir',\n",
              " 'lseek',\n",
              " 'lstat',\n",
              " 'makedirs',\n",
              " 'mkdir',\n",
              " 'name',\n",
              " 'open',\n",
              " 'pardir',\n",
              " 'path',\n",
              " 'pathsep',\n",
              " 'pipe',\n",
              " 'popen',\n",
              " 'putenv',\n",
              " 'read',\n",
              " 'readlink',\n",
              " 'remove',\n",
              " 'removedirs',\n",
              " 'rename',\n",
              " 'renames',\n",
              " 'replace',\n",
              " 'rmdir',\n",
              " 'scandir',\n",
              " 'sep',\n",
              " 'set_handle_inheritable',\n",
              " 'set_inheritable',\n",
              " 'spawnl',\n",
              " 'spawnle',\n",
              " 'spawnv',\n",
              " 'spawnve',\n",
              " 'st',\n",
              " 'startfile',\n",
              " 'stat',\n",
              " 'stat_result',\n",
              " 'statvfs_result',\n",
              " 'strerror',\n",
              " 'supports_bytes_environ',\n",
              " 'supports_dir_fd',\n",
              " 'supports_effective_ids',\n",
              " 'supports_fd',\n",
              " 'supports_follow_symlinks',\n",
              " 'symlink',\n",
              " 'sys',\n",
              " 'system',\n",
              " 'terminal_size',\n",
              " 'times',\n",
              " 'times_result',\n",
              " 'truncate',\n",
              " 'umask',\n",
              " 'uname_result',\n",
              " 'unlink',\n",
              " 'urandom',\n",
              " 'utime',\n",
              " 'waitpid',\n",
              " 'walk',\n",
              " 'write']"
            ]
          },
          "execution_count": 28,
          "metadata": {},
          "output_type": "execute_result"
        }
      ],
      "source": [
        "dir(os)"
      ]
    },
    {
      "cell_type": "code",
      "execution_count": null,
      "id": "edf797db",
      "metadata": {
        "id": "edf797db",
        "outputId": "645a0735-2a3b-4d25-f4f5-92a211b8b85c"
      },
      "outputs": [
        {
          "data": {
            "text/plain": [
              "'nt'"
            ]
          },
          "execution_count": 30,
          "metadata": {},
          "output_type": "execute_result"
        }
      ],
      "source": [
        "os.name"
      ]
    },
    {
      "cell_type": "code",
      "execution_count": null,
      "id": "c0f7db8d",
      "metadata": {
        "scrolled": true,
        "id": "c0f7db8d",
        "outputId": "8840b726-577b-4cc1-bea6-599bc70a9a3a"
      },
      "outputs": [
        {
          "data": {
            "text/plain": [
              "environ{'ALLUSERSPROFILE': 'C:\\\\ProgramData',\n",
              "        'APPDATA': 'C:\\\\Users\\\\RaviAgrawal\\\\AppData\\\\Roaming',\n",
              "        'CHOCOLATEYINSTALL': 'C:\\\\ProgramData\\\\chocolatey',\n",
              "        'COMMONPROGRAMFILES': 'C:\\\\Program Files\\\\Common Files',\n",
              "        'COMMONPROGRAMFILES(X86)': 'C:\\\\Program Files (x86)\\\\Common Files',\n",
              "        'COMMONPROGRAMW6432': 'C:\\\\Program Files\\\\Common Files',\n",
              "        'COMPUTERNAME': 'ED110980',\n",
              "        'COMSPEC': 'C:\\\\WINDOWS\\\\system32\\\\cmd.exe',\n",
              "        'CONDA_DEFAULT_ENV': 'base',\n",
              "        'CONDA_EXE': 'C:\\\\Anaconda3\\\\Scripts\\\\conda.exe',\n",
              "        'CONDA_PREFIX': 'C:\\\\Anaconda3',\n",
              "        'CONDA_PROMPT_MODIFIER': '(base) ',\n",
              "        'CONDA_PYTHON_EXE': 'C:\\\\Anaconda3\\\\python.exe',\n",
              "        'CONDA_SHLVL': '1',\n",
              "        'DRIVERDATA': 'C:\\\\Windows\\\\System32\\\\Drivers\\\\DriverData',\n",
              "        'FPS_BROWSER_APP_PROFILE_STRING': 'Internet Explorer',\n",
              "        'FPS_BROWSER_USER_PROFILE_STRING': 'Default',\n",
              "        'GIT_LFS_PATH': 'C:\\\\Users\\\\RaviAgrawal\\\\AppData\\\\Local\\\\Programs\\\\Git LFS',\n",
              "        'HOMEDRIVE': 'C:',\n",
              "        'HOMEPATH': '\\\\Users\\\\RaviAgrawal',\n",
              "        'INFA_TRUSTSTORE': 'C:\\\\Informatica\\\\9.6.1\\\\clients\\\\shared\\\\security',\n",
              "        'JAVA_HOME': 'C:\\\\Anaconda3\\\\Library',\n",
              "        'JAVA_HOME_CONDA_BACKUP': 'C:\\\\Program Files\\\\Java\\\\jdk-11.0.16\\\\bin',\n",
              "        'LOCALAPPDATA': 'C:\\\\Users\\\\RaviAgrawal\\\\AppData\\\\Local',\n",
              "        'LOGONSERVER': '\\\\\\\\ED110980',\n",
              "        'NUMBER_OF_PROCESSORS': '4',\n",
              "        'ONEDRIVE': 'C:\\\\Users\\\\RaviAgrawal\\\\OneDrive',\n",
              "        'OS': 'Windows_NT',\n",
              "        'PATH': 'C:\\\\Anaconda3;C:\\\\Anaconda3\\\\Library\\\\mingw-w64\\\\bin;C:\\\\Anaconda3\\\\Library\\\\usr\\\\bin;C:\\\\Anaconda3\\\\Library\\\\bin;C:\\\\Anaconda3\\\\Scripts;C:\\\\Anaconda3\\\\bin;C:\\\\Anaconda3\\\\condabin;C:\\\\Python311\\\\Scripts;C:\\\\Python311;C:\\\\Program Files\\\\Common Files\\\\Oracle\\\\Java\\\\javapath;C:\\\\Informatica\\\\10.2.0\\\\clients\\\\tools\\\\datadirect;C:\\\\Informatica\\\\10.2.0\\\\clients\\\\tools\\\\datadirect;C:\\\\Informatica\\\\10.2.0\\\\java\\\\jre\\\\bin\\\\server;C:\\\\Informatica\\\\10.2.0\\\\tools\\\\odbcdrv;C:\\\\Informatica\\\\10.2.0\\\\tools\\\\jdbcdrv;C:\\\\Informatica\\\\10.2.0\\\\tools\\\\sharedlibs;C:\\\\Informatica\\\\10.2.0\\\\tools\\\\datadirect;C:\\\\Informatica\\\\9.6.1\\\\clients\\\\tools\\\\datadirect;C:\\\\Informatica\\\\9.6.1\\\\java\\\\jre\\\\bin\\\\server;C:\\\\Informatica\\\\9.6.1\\\\tools\\\\odbcdrv;C:\\\\Informatica\\\\9.6.1\\\\tools\\\\jdbcdrv;C:\\\\Informatica\\\\9.6.1\\\\tools\\\\datadirect;C:\\\\oraclexe\\\\app\\\\oracle\\\\product\\\\11.2.0\\\\server\\\\bin;C:\\\\Anaconda3;C:\\\\Anaconda3\\\\Library\\\\mingw-w64\\\\bin;C:\\\\Anaconda3\\\\Library\\\\usr\\\\bin;C:\\\\Anaconda3\\\\Library\\\\bin;C:\\\\Anaconda3\\\\Scripts;C:\\\\WINDOWS\\\\system32;C:\\\\WINDOWS;C:\\\\WINDOWS\\\\System32\\\\Wbem;C:\\\\WINDOWS\\\\System32\\\\WindowsPowerShell\\\\v1.0;C:\\\\WINDOWS\\\\System32\\\\OpenSSH;C:\\\\flutter\\\\bin;C:\\\\Program Files\\\\Graphviz\\\\bin;C:\\\\Program Files\\\\Graphviz\\\\bin\\\\dot.exe;C:\\\\Program Files\\\\Amazon\\\\AWSCLI\\\\bin;C:\\\\Program Files\\\\Docker\\\\Docker\\\\resources\\\\bin;C:\\\\ProgramData\\\\DockerDesktop\\\\version-bin;C:\\\\Program Files\\\\gs\\\\gs9.55.0\\\\bin\\\\gswin64.exe;C:\\\\Program Files\\\\PuTTY;C:\\\\Program Files\\\\Java\\\\jdk-11.0.16\\\\bin;C:\\\\Program Files\\\\nodejs;C:\\\\ProgramData\\\\chocolatey\\\\bin;C:\\\\Program Files (x86)\\\\Microsoft SQL Server\\\\160\\\\DTS\\\\Binn;C:\\\\Program Files\\\\Azure Data Studio\\\\bin;C:\\\\Program Files (x86)\\\\Microsoft SQL Server\\\\160\\\\Tools\\\\Binn;C:\\\\Program Files\\\\Microsoft SQL Server\\\\160\\\\Tools\\\\Binn;C:\\\\Program Files\\\\Microsoft SQL Server\\\\Client SDK\\\\ODBC\\\\170\\\\Tools\\\\Binn;C:\\\\Program Files\\\\Microsoft SQL Server\\\\160\\\\DTS\\\\Binn;C:\\\\Users\\\\RaviAgrawal\\\\AppData\\\\Local\\\\Microsoft\\\\WindowsApps;C:\\\\Users\\\\RaviAgrawal\\\\AppData\\\\Local\\\\Programs\\\\Microsoft VS Code\\\\bin;C:\\\\Users\\\\RaviAgrawal\\\\AppData\\\\Local\\\\Programs\\\\Git\\\\cmd;C:\\\\Users\\\\RaviAgrawal\\\\AppData\\\\Local\\\\GitHubDesktop\\\\bin;C:\\\\Users\\\\RaviAgrawal\\\\AppData\\\\Local\\\\Programs\\\\Git LFS;C:\\\\Users\\\\RaviAgrawal\\\\AppData\\\\Roaming\\\\npm',\n",
              "        'PATHEXT': '.COM;.EXE;.BAT;.CMD;.VBS;.VBE;.JS;.JSE;.WSF;.WSH;.MSC;.PY;.PYW',\n",
              "        'PROCESSOR_ARCHITECTURE': 'AMD64',\n",
              "        'PROCESSOR_IDENTIFIER': 'Intel64 Family 6 Model 142 Stepping 10, GenuineIntel',\n",
              "        'PROCESSOR_LEVEL': '6',\n",
              "        'PROCESSOR_REVISION': '8e0a',\n",
              "        'PROGRAMDATA': 'C:\\\\ProgramData',\n",
              "        'PROGRAMFILES': 'C:\\\\Program Files',\n",
              "        'PROGRAMFILES(X86)': 'C:\\\\Program Files (x86)',\n",
              "        'PROGRAMW6432': 'C:\\\\Program Files',\n",
              "        'PROMPT': '(base) $P$G',\n",
              "        'PSMODULEPATH': 'C:\\\\Program Files\\\\WindowsPowerShell\\\\Modules;C:\\\\WINDOWS\\\\system32\\\\WindowsPowerShell\\\\v1.0\\\\Modules;C:\\\\Program Files (x86)\\\\Microsoft SQL Server\\\\160\\\\Tools\\\\PowerShell\\\\Modules\\\\',\n",
              "        'PUBLIC': 'C:\\\\Users\\\\Public',\n",
              "        'SESSIONNAME': 'Console',\n",
              "        'SYSTEMDRIVE': 'C:',\n",
              "        'SYSTEMROOT': 'C:\\\\WINDOWS',\n",
              "        'TEMP': 'C:\\\\Users\\\\RAVIAG~1\\\\AppData\\\\Local\\\\Temp',\n",
              "        'TMP': 'C:\\\\Users\\\\RAVIAG~1\\\\AppData\\\\Local\\\\Temp',\n",
              "        'USERDOMAIN': 'ED110980',\n",
              "        'USERDOMAIN_ROAMINGPROFILE': 'ED110980',\n",
              "        'USERNAME': 'RaviAgrawal',\n",
              "        'USERPROFILE': 'C:\\\\Users\\\\RaviAgrawal',\n",
              "        'VBOX_MSI_INSTALL_PATH': 'C:\\\\Program Files\\\\Oracle\\\\VirtualBox\\\\',\n",
              "        'WINDIR': 'C:\\\\WINDOWS',\n",
              "        'JPY_INTERRUPT_EVENT': '2932',\n",
              "        'IPY_INTERRUPT_EVENT': '2932',\n",
              "        'JPY_PARENT_PID': '3832',\n",
              "        'TERM': 'xterm-color',\n",
              "        'CLICOLOR': '1',\n",
              "        'PAGER': 'cat',\n",
              "        'GIT_PAGER': 'cat',\n",
              "        'MPLBACKEND': 'module://ipykernel.pylab.backend_inline'}"
            ]
          },
          "execution_count": 32,
          "metadata": {},
          "output_type": "execute_result"
        }
      ],
      "source": [
        "os.environ"
      ]
    },
    {
      "cell_type": "code",
      "execution_count": null,
      "id": "1d4ee9dc",
      "metadata": {
        "id": "1d4ee9dc",
        "outputId": "a6656201-fdda-45d5-f215-75cd38959a95"
      },
      "outputs": [
        {
          "data": {
            "text/plain": [
              "'RaviAgrawal'"
            ]
          },
          "execution_count": 33,
          "metadata": {},
          "output_type": "execute_result"
        }
      ],
      "source": [
        "os.getlogin()"
      ]
    },
    {
      "cell_type": "code",
      "execution_count": null,
      "id": "b1929607",
      "metadata": {
        "scrolled": true,
        "id": "b1929607",
        "outputId": "b783a4f7-4a2a-4efa-cc84-1409db1449fb"
      },
      "outputs": [
        {
          "data": {
            "text/plain": [
              "20316"
            ]
          },
          "execution_count": 34,
          "metadata": {},
          "output_type": "execute_result"
        }
      ],
      "source": [
        "os.getppid()"
      ]
    },
    {
      "cell_type": "code",
      "execution_count": null,
      "id": "5fa5b861",
      "metadata": {
        "id": "5fa5b861"
      },
      "outputs": [],
      "source": [
        "import sys"
      ]
    },
    {
      "cell_type": "code",
      "execution_count": null,
      "id": "1dd5cbd7",
      "metadata": {
        "scrolled": true,
        "id": "1dd5cbd7",
        "outputId": "ddfde0ad-4c9b-4f14-b288-dfa352894271"
      },
      "outputs": [
        {
          "data": {
            "text/plain": [
              "['C:\\\\Anaconda3\\\\lib\\\\site-packages\\\\ipykernel_launcher.py',\n",
              " '-f',\n",
              " 'C:\\\\Users\\\\RaviAgrawal\\\\AppData\\\\Roaming\\\\jupyter\\\\runtime\\\\kernel-999b6860-2750-4596-8114-00da9a4c96ac.json']"
            ]
          },
          "execution_count": 36,
          "metadata": {},
          "output_type": "execute_result"
        }
      ],
      "source": [
        "sys.argv"
      ]
    },
    {
      "cell_type": "code",
      "execution_count": null,
      "id": "9f4bf40e",
      "metadata": {
        "scrolled": true,
        "id": "9f4bf40e",
        "outputId": "ddc90df9-81ff-4d6a-e01e-922d1748428b"
      },
      "outputs": [
        {
          "ename": "SystemExit",
          "evalue": "",
          "output_type": "error",
          "traceback": [
            "An exception has occurred, use %tb to see the full traceback.\n",
            "\u001b[1;31mSystemExit\u001b[0m\n"
          ]
        },
        {
          "name": "stderr",
          "output_type": "stream",
          "text": [
            "C:\\Anaconda3\\lib\\site-packages\\IPython\\core\\interactiveshell.py:3445: UserWarning: To exit: use 'exit', 'quit', or Ctrl-D.\n",
            "  warn(\"To exit: use 'exit', 'quit', or Ctrl-D.\", stacklevel=1)\n"
          ]
        }
      ],
      "source": [
        "sys.exit()"
      ]
    },
    {
      "cell_type": "code",
      "execution_count": null,
      "id": "cc8ddf61",
      "metadata": {
        "scrolled": true,
        "id": "cc8ddf61",
        "outputId": "38a38e4f-6a10-45b4-d1b1-26d51ee4d0ee"
      },
      "outputs": [
        {
          "data": {
            "text/plain": [
              "'3.7'"
            ]
          },
          "execution_count": 38,
          "metadata": {},
          "output_type": "execute_result"
        }
      ],
      "source": [
        "sys.winver"
      ]
    },
    {
      "cell_type": "code",
      "execution_count": null,
      "id": "633c6fc3",
      "metadata": {
        "scrolled": true,
        "id": "633c6fc3",
        "outputId": "afb58ed1-2456-43b2-ef1c-6d412e053985"
      },
      "outputs": [
        {
          "data": {
            "text/plain": [
              "sys.flags(debug=0, inspect=0, interactive=0, optimize=0, dont_write_bytecode=0, no_user_site=0, no_site=0, ignore_environment=0, verbose=0, bytes_warning=0, quiet=0, hash_randomization=1, isolated=0, dev_mode=False, utf8_mode=0)"
            ]
          },
          "execution_count": 39,
          "metadata": {},
          "output_type": "execute_result"
        }
      ],
      "source": [
        "sys.flags"
      ]
    },
    {
      "cell_type": "code",
      "execution_count": null,
      "id": "56674d43",
      "metadata": {
        "scrolled": true,
        "id": "56674d43",
        "outputId": "810025fc-a729-4f6c-91ba-961c0be7cd8c"
      },
      "outputs": [
        {
          "data": {
            "text/plain": [
              "'C:\\\\Anaconda3'"
            ]
          },
          "execution_count": 40,
          "metadata": {},
          "output_type": "execute_result"
        }
      ],
      "source": [
        "sys.prefix"
      ]
    },
    {
      "cell_type": "code",
      "execution_count": null,
      "id": "3d9ed388",
      "metadata": {
        "scrolled": true,
        "id": "3d9ed388",
        "outputId": "c56df914-3b05-4980-b885-4162defec3c0"
      },
      "outputs": [
        {
          "data": {
            "text/plain": [
              "['__breakpointhook__',\n",
              " '__displayhook__',\n",
              " '__doc__',\n",
              " '__excepthook__',\n",
              " '__interactivehook__',\n",
              " '__loader__',\n",
              " '__name__',\n",
              " '__package__',\n",
              " '__spec__',\n",
              " '__stderr__',\n",
              " '__stdin__',\n",
              " '__stdout__',\n",
              " '_clear_type_cache',\n",
              " '_current_frames',\n",
              " '_debugmallocstats',\n",
              " '_enablelegacywindowsfsencoding',\n",
              " '_framework',\n",
              " '_getframe',\n",
              " '_git',\n",
              " '_home',\n",
              " '_xoptions',\n",
              " 'api_version',\n",
              " 'argv',\n",
              " 'base_exec_prefix',\n",
              " 'base_prefix',\n",
              " 'breakpointhook',\n",
              " 'builtin_module_names',\n",
              " 'byteorder',\n",
              " 'call_tracing',\n",
              " 'callstats',\n",
              " 'copyright',\n",
              " 'displayhook',\n",
              " 'dllhandle',\n",
              " 'dont_write_bytecode',\n",
              " 'exc_info',\n",
              " 'excepthook',\n",
              " 'exec_prefix',\n",
              " 'executable',\n",
              " 'exit',\n",
              " 'flags',\n",
              " 'float_info',\n",
              " 'float_repr_style',\n",
              " 'get_asyncgen_hooks',\n",
              " 'get_coroutine_origin_tracking_depth',\n",
              " 'get_coroutine_wrapper',\n",
              " 'getallocatedblocks',\n",
              " 'getcheckinterval',\n",
              " 'getdefaultencoding',\n",
              " 'getfilesystemencodeerrors',\n",
              " 'getfilesystemencoding',\n",
              " 'getprofile',\n",
              " 'getrecursionlimit',\n",
              " 'getrefcount',\n",
              " 'getsizeof',\n",
              " 'getswitchinterval',\n",
              " 'gettrace',\n",
              " 'getwindowsversion',\n",
              " 'hash_info',\n",
              " 'hexversion',\n",
              " 'implementation',\n",
              " 'int_info',\n",
              " 'intern',\n",
              " 'is_finalizing',\n",
              " 'last_traceback',\n",
              " 'last_type',\n",
              " 'last_value',\n",
              " 'maxsize',\n",
              " 'maxunicode',\n",
              " 'meta_path',\n",
              " 'modules',\n",
              " 'path',\n",
              " 'path_hooks',\n",
              " 'path_importer_cache',\n",
              " 'platform',\n",
              " 'prefix',\n",
              " 'ps1',\n",
              " 'ps2',\n",
              " 'ps3',\n",
              " 'set_asyncgen_hooks',\n",
              " 'set_coroutine_origin_tracking_depth',\n",
              " 'set_coroutine_wrapper',\n",
              " 'setcheckinterval',\n",
              " 'setprofile',\n",
              " 'setrecursionlimit',\n",
              " 'setswitchinterval',\n",
              " 'settrace',\n",
              " 'stderr',\n",
              " 'stdin',\n",
              " 'stdout',\n",
              " 'thread_info',\n",
              " 'version',\n",
              " 'version_info',\n",
              " 'warnoptions',\n",
              " 'winver']"
            ]
          },
          "execution_count": 41,
          "metadata": {},
          "output_type": "execute_result"
        }
      ],
      "source": [
        "dir(sys)"
      ]
    },
    {
      "cell_type": "code",
      "execution_count": null,
      "id": "384f2c93",
      "metadata": {
        "id": "384f2c93"
      },
      "outputs": [],
      "source": [
        "from datetime import datetime,date,time"
      ]
    },
    {
      "cell_type": "code",
      "execution_count": null,
      "id": "87841429",
      "metadata": {
        "scrolled": true,
        "id": "87841429"
      },
      "outputs": [],
      "source": [
        "curr = datetime.today()"
      ]
    },
    {
      "cell_type": "code",
      "execution_count": null,
      "id": "d27ae4bb",
      "metadata": {
        "scrolled": true,
        "id": "d27ae4bb",
        "outputId": "7b2df716-2536-486f-9472-01a1c9ebbbe4"
      },
      "outputs": [
        {
          "data": {
            "text/plain": [
              "datetime.datetime(2024, 1, 7, 18, 32, 59, 945450)"
            ]
          },
          "execution_count": 44,
          "metadata": {},
          "output_type": "execute_result"
        }
      ],
      "source": [
        "datetime.now()"
      ]
    },
    {
      "cell_type": "code",
      "execution_count": null,
      "id": "adc9251d",
      "metadata": {
        "scrolled": true,
        "id": "adc9251d",
        "outputId": "4cc70707-2396-4ed5-fc20-849ccd4c9f7b"
      },
      "outputs": [
        {
          "data": {
            "text/plain": [
              "2024"
            ]
          },
          "execution_count": 46,
          "metadata": {},
          "output_type": "execute_result"
        }
      ],
      "source": [
        "curr.year"
      ]
    },
    {
      "cell_type": "code",
      "execution_count": null,
      "id": "2f3c1109",
      "metadata": {
        "scrolled": true,
        "id": "2f3c1109",
        "outputId": "33acd806-9d57-45e0-ef9f-aa3ff43e41a0"
      },
      "outputs": [
        {
          "data": {
            "text/plain": [
              "1"
            ]
          },
          "execution_count": 47,
          "metadata": {},
          "output_type": "execute_result"
        }
      ],
      "source": [
        "curr.month"
      ]
    },
    {
      "cell_type": "code",
      "execution_count": null,
      "id": "51261293",
      "metadata": {
        "scrolled": false,
        "id": "51261293",
        "outputId": "32088285-63d6-4c1d-a09a-d830c05a16bc"
      },
      "outputs": [
        {
          "data": {
            "text/plain": [
              "7"
            ]
          },
          "execution_count": 48,
          "metadata": {},
          "output_type": "execute_result"
        }
      ],
      "source": [
        "curr.day"
      ]
    },
    {
      "cell_type": "code",
      "execution_count": null,
      "id": "28842c78",
      "metadata": {
        "scrolled": true,
        "id": "28842c78",
        "outputId": "2dbf400e-de80-4a7d-8522-9ea36ca76aeb"
      },
      "outputs": [
        {
          "data": {
            "text/plain": [
              "datetime.datetime(2000, 1, 1, 0, 0)"
            ]
          },
          "execution_count": 50,
          "metadata": {},
          "output_type": "execute_result"
        }
      ],
      "source": [
        "datetime(2000,1,1)"
      ]
    },
    {
      "cell_type": "code",
      "execution_count": null,
      "id": "c46a6c04",
      "metadata": {
        "scrolled": true,
        "id": "c46a6c04",
        "outputId": "9de405de-20b4-4600-c936-3a65c3eef595"
      },
      "outputs": [
        {
          "data": {
            "text/plain": [
              "datetime.timedelta(days=8772, seconds=66830, microseconds=443736)"
            ]
          },
          "execution_count": 51,
          "metadata": {},
          "output_type": "execute_result"
        }
      ],
      "source": [
        "curr - datetime(2000,1,1)"
      ]
    },
    {
      "cell_type": "code",
      "execution_count": null,
      "id": "60b74389",
      "metadata": {
        "scrolled": true,
        "id": "60b74389",
        "outputId": "a8486da9-05e3-4ecf-a2ac-db4482104e1b"
      },
      "outputs": [
        {
          "data": {
            "text/plain": [
              "9999"
            ]
          },
          "execution_count": 54,
          "metadata": {},
          "output_type": "execute_result"
        }
      ],
      "source": [
        "import datetime\n",
        "datetime.MAXYEAR"
      ]
    },
    {
      "cell_type": "code",
      "execution_count": null,
      "id": "4db17dea",
      "metadata": {
        "id": "4db17dea",
        "outputId": "e7b4ca22-d798-40c4-dffc-0cd412eb4a51"
      },
      "outputs": [
        {
          "data": {
            "text/plain": [
              "1"
            ]
          },
          "execution_count": 55,
          "metadata": {},
          "output_type": "execute_result"
        }
      ],
      "source": [
        "datetime.MINYEAR"
      ]
    },
    {
      "cell_type": "code",
      "execution_count": null,
      "id": "6dc1ea76",
      "metadata": {
        "scrolled": true,
        "id": "6dc1ea76",
        "outputId": "806e03b8-19df-4592-89e2-aad1d716b989"
      },
      "outputs": [
        {
          "data": {
            "text/plain": [
              "['MAXYEAR',\n",
              " 'MINYEAR',\n",
              " '__builtins__',\n",
              " '__cached__',\n",
              " '__doc__',\n",
              " '__file__',\n",
              " '__loader__',\n",
              " '__name__',\n",
              " '__package__',\n",
              " '__spec__',\n",
              " 'date',\n",
              " 'datetime',\n",
              " 'datetime_CAPI',\n",
              " 'sys',\n",
              " 'time',\n",
              " 'timedelta',\n",
              " 'timezone',\n",
              " 'tzinfo']"
            ]
          },
          "execution_count": 56,
          "metadata": {},
          "output_type": "execute_result"
        }
      ],
      "source": [
        "dir(datetime)"
      ]
    },
    {
      "cell_type": "code",
      "execution_count": null,
      "id": "b67ea9b7",
      "metadata": {
        "id": "b67ea9b7",
        "outputId": "09d3a8d2-aeb1-4932-9c0a-34b3d2f85975"
      },
      "outputs": [
        {
          "data": {
            "text/plain": [
              "5"
            ]
          },
          "execution_count": 65,
          "metadata": {},
          "output_type": "execute_result"
        }
      ],
      "source": [
        "import random\n",
        "random.randint(1,10)"
      ]
    },
    {
      "cell_type": "code",
      "execution_count": null,
      "id": "914bce9b",
      "metadata": {
        "scrolled": true,
        "id": "914bce9b",
        "outputId": "0895a041-8718-4607-f889-7a473a78b940"
      },
      "outputs": [
        {
          "data": {
            "text/plain": [
              "56"
            ]
          },
          "execution_count": 71,
          "metadata": {},
          "output_type": "execute_result"
        }
      ],
      "source": [
        "random.randrange(100)"
      ]
    },
    {
      "cell_type": "code",
      "execution_count": null,
      "id": "00855e8e",
      "metadata": {
        "id": "00855e8e",
        "outputId": "f3d4ce0a-d8a3-4dae-93c1-8dad4ef36b21"
      },
      "outputs": [
        {
          "data": {
            "text/plain": [
              "[30, 50, 70, 90]"
            ]
          },
          "execution_count": 88,
          "metadata": {},
          "output_type": "execute_result"
        }
      ],
      "source": [
        "list(range(30,100,20))"
      ]
    },
    {
      "cell_type": "code",
      "execution_count": null,
      "id": "14eadcfb",
      "metadata": {
        "id": "14eadcfb",
        "outputId": "1cb1be73-cacb-47f8-82b1-07c5195ec3b1"
      },
      "outputs": [
        {
          "data": {
            "text/plain": [
              "30"
            ]
          },
          "execution_count": 97,
          "metadata": {},
          "output_type": "execute_result"
        }
      ],
      "source": [
        "random.randrange(30,100,20)"
      ]
    },
    {
      "cell_type": "code",
      "execution_count": null,
      "id": "a29dc392",
      "metadata": {
        "id": "a29dc392",
        "outputId": "b4e1b9ac-6428-47d6-b836-6b13c92cdf87"
      },
      "outputs": [
        {
          "data": {
            "text/plain": [
              "['BPF',\n",
              " 'LOG4',\n",
              " 'NV_MAGICCONST',\n",
              " 'RECIP_BPF',\n",
              " 'Random',\n",
              " 'SG_MAGICCONST',\n",
              " 'SystemRandom',\n",
              " 'TWOPI',\n",
              " '_BuiltinMethodType',\n",
              " '_MethodType',\n",
              " '_Sequence',\n",
              " '_Set',\n",
              " '__all__',\n",
              " '__builtins__',\n",
              " '__cached__',\n",
              " '__doc__',\n",
              " '__file__',\n",
              " '__loader__',\n",
              " '__name__',\n",
              " '__package__',\n",
              " '__spec__',\n",
              " '_acos',\n",
              " '_bisect',\n",
              " '_ceil',\n",
              " '_cos',\n",
              " '_e',\n",
              " '_exp',\n",
              " '_inst',\n",
              " '_itertools',\n",
              " '_log',\n",
              " '_os',\n",
              " '_pi',\n",
              " '_random',\n",
              " '_sha512',\n",
              " '_sin',\n",
              " '_sqrt',\n",
              " '_test',\n",
              " '_test_generator',\n",
              " '_urandom',\n",
              " '_warn',\n",
              " 'betavariate',\n",
              " 'choice',\n",
              " 'choices',\n",
              " 'expovariate',\n",
              " 'gammavariate',\n",
              " 'gauss',\n",
              " 'getrandbits',\n",
              " 'getstate',\n",
              " 'lognormvariate',\n",
              " 'normalvariate',\n",
              " 'paretovariate',\n",
              " 'randint',\n",
              " 'random',\n",
              " 'randrange',\n",
              " 'sample',\n",
              " 'seed',\n",
              " 'setstate',\n",
              " 'shuffle',\n",
              " 'triangular',\n",
              " 'uniform',\n",
              " 'vonmisesvariate',\n",
              " 'weibullvariate']"
            ]
          },
          "execution_count": 98,
          "metadata": {},
          "output_type": "execute_result"
        }
      ],
      "source": [
        "dir(random)"
      ]
    },
    {
      "cell_type": "code",
      "execution_count": null,
      "id": "2dcc7c85",
      "metadata": {
        "id": "2dcc7c85"
      },
      "outputs": [],
      "source": [
        "open()\n",
        "with open()"
      ]
    },
    {
      "cell_type": "code",
      "execution_count": null,
      "id": "b482275e",
      "metadata": {
        "colab": {
          "base_uri": "https://localhost:8080/"
        },
        "id": "b482275e",
        "outputId": "12414fbc-18eb-4ce0-d3dd-bfb35ffd85e8"
      },
      "outputs": [
        {
          "output_type": "execute_result",
          "data": {
            "text/plain": [
              "['.config', 'sample_data']"
            ]
          },
          "metadata": {},
          "execution_count": 2
        }
      ],
      "source": [
        "import os\n",
        "os.listdir()"
      ]
    },
    {
      "cell_type": "code",
      "execution_count": null,
      "id": "b4d0bd84",
      "metadata": {
        "id": "b4d0bd84"
      },
      "outputs": [],
      "source": [
        "file = open(\"Test.txt\",\"w\")\n",
        "file.write(\"Hello Python!!!\")\n",
        "file.close()"
      ]
    },
    {
      "cell_type": "code",
      "execution_count": null,
      "id": "4ac56f5b",
      "metadata": {
        "id": "4ac56f5b",
        "outputId": "ddc91278-5bcf-423f-817d-ab042a32c943"
      },
      "outputs": [
        {
          "data": {
            "text/plain": [
              "['.ipynb_checkpoints',\n",
              " '20th_july_mentorship.ipynb',\n",
              " '27th_july_edureka_session.ipynb',\n",
              " '3rd August',\n",
              " 'Assignment_1.ipynb',\n",
              " 'cheetsheet and books.txt',\n",
              " 'cheetsheet_and_books_fsot2.txt',\n",
              " 'Class 1 - 22Apr23.ipynb',\n",
              " 'Class 2 - 23Apr23.ipynb',\n",
              " 'Class_3_-_29Apr23_po2tr.ipynb',\n",
              " 'Class_4_-_30Apr23_qtnyei.ipynb',\n",
              " 'Day_1_and_2_Code_rxnbj.zip',\n",
              " 'index _mentor.png',\n",
              " 'M5',\n",
              " 'M6',\n",
              " 'nested list.png',\n",
              " 'python-cheatsheet-master',\n",
              " 'python-cheatsheet-master.zip',\n",
              " 'Python_16th_Dec_class_1.ipynb',\n",
              " 'Python_23rde_Dec_class_3.ipynb',\n",
              " 'python_24thDec_class_4.ipynb',\n",
              " 'python_6thJan_class_5.ipynb',\n",
              " 'python_7thJan_class_6+part2.ipynb',\n",
              " 'Screenshot 2023-07-27 213458.png',\n",
              " 'Screenshot 2024-01-03 190634.png',\n",
              " 'Test.txt']"
            ]
          },
          "execution_count": 101,
          "metadata": {},
          "output_type": "execute_result"
        }
      ],
      "source": [
        "os.listdir()"
      ]
    },
    {
      "cell_type": "code",
      "execution_count": null,
      "id": "88ed79db",
      "metadata": {
        "scrolled": true,
        "id": "88ed79db",
        "outputId": "f89b019f-e70b-46c9-cfd4-fa9accfdecc6"
      },
      "outputs": [
        {
          "name": "stdout",
          "output_type": "stream",
          "text": [
            "Hello Python!!!\n",
            "I have started learning Python.\n"
          ]
        }
      ],
      "source": [
        "file = open(\"Test.txt\",'r')\n",
        "print(file.read())\n",
        "file.close()"
      ]
    },
    {
      "cell_type": "code",
      "execution_count": null,
      "id": "ead5e882",
      "metadata": {
        "id": "ead5e882",
        "outputId": "5c804513-3758-49c3-8aba-85e5ce899735"
      },
      "outputs": [
        {
          "data": {
            "text/plain": [
              "12"
            ]
          },
          "execution_count": 104,
          "metadata": {},
          "output_type": "execute_result"
        }
      ],
      "source": [
        "file = open(\"Test.txt\",'a')\n",
        "file.write(\"how are you?\")\n",
        "#file.close()"
      ]
    },
    {
      "cell_type": "code",
      "execution_count": null,
      "id": "e648b03c",
      "metadata": {
        "scrolled": false,
        "id": "e648b03c",
        "outputId": "ebe3a49c-65eb-4f6d-e8b6-2a2dc64a237e"
      },
      "outputs": [
        {
          "name": "stdout",
          "output_type": "stream",
          "text": [
            "Hello Python!!!\n",
            "I have started learning Python.how are you?\n"
          ]
        }
      ],
      "source": [
        "\n",
        "file.close()"
      ]
    },
    {
      "cell_type": "code",
      "execution_count": null,
      "id": "636d7246",
      "metadata": {
        "scrolled": false,
        "id": "636d7246",
        "outputId": "2559b177-4abf-4091-f78d-f096955df15d"
      },
      "outputs": [
        {
          "name": "stdout",
          "output_type": "stream",
          "text": [
            "Hello Python!!!\n",
            "I have started learning Python.how are you?\n",
            "hell0!!!\n"
          ]
        }
      ],
      "source": [
        "file = open(\"Test.txt\",'r')\n",
        "print(file.read())"
      ]
    },
    {
      "cell_type": "code",
      "execution_count": null,
      "id": "74a0abdd",
      "metadata": {
        "id": "74a0abdd"
      },
      "outputs": [],
      "source": [
        "file.close()"
      ]
    },
    {
      "cell_type": "code",
      "execution_count": null,
      "id": "1e5c3635",
      "metadata": {
        "id": "1e5c3635"
      },
      "outputs": [],
      "source": [
        "os.rename(\"Test.txt\",\"Test1.txt\")"
      ]
    },
    {
      "cell_type": "code",
      "execution_count": null,
      "id": "e48af7fe",
      "metadata": {
        "scrolled": true,
        "id": "e48af7fe",
        "outputId": "9ff6f1af-2505-49ab-9a7e-d30ffe0e65d8"
      },
      "outputs": [
        {
          "data": {
            "text/plain": [
              "['.ipynb_checkpoints',\n",
              " '20th_july_mentorship.ipynb',\n",
              " '27th_july_edureka_session.ipynb',\n",
              " '3rd August',\n",
              " 'Assignment_1.ipynb',\n",
              " 'cheetsheet and books.txt',\n",
              " 'cheetsheet_and_books_fsot2.txt',\n",
              " 'Class 1 - 22Apr23.ipynb',\n",
              " 'Class 2 - 23Apr23.ipynb',\n",
              " 'Class_3_-_29Apr23_po2tr.ipynb',\n",
              " 'Class_4_-_30Apr23_qtnyei.ipynb',\n",
              " 'Day_1_and_2_Code_rxnbj.zip',\n",
              " 'index _mentor.png',\n",
              " 'M5',\n",
              " 'M6',\n",
              " 'nested list.png',\n",
              " 'python-cheatsheet-master',\n",
              " 'python-cheatsheet-master.zip',\n",
              " 'Python_16th_Dec_class_1.ipynb',\n",
              " 'Python_23rde_Dec_class_3.ipynb',\n",
              " 'python_24thDec_class_4.ipynb',\n",
              " 'python_6thJan_class_5.ipynb',\n",
              " 'python_7thJan_class_6+part2.ipynb',\n",
              " 'Screenshot 2023-07-27 213458.png',\n",
              " 'Screenshot 2024-01-03 190634.png',\n",
              " 'Test1.txt']"
            ]
          },
          "execution_count": 110,
          "metadata": {},
          "output_type": "execute_result"
        }
      ],
      "source": [
        "os.listdir()"
      ]
    },
    {
      "cell_type": "code",
      "execution_count": null,
      "id": "5857077e",
      "metadata": {
        "id": "5857077e"
      },
      "outputs": [],
      "source": [
        "with open(\"Test1.txt\",\"a\") as file:\n",
        "    file.write(\"I am fine!!\")"
      ]
    },
    {
      "cell_type": "code",
      "execution_count": null,
      "id": "045e77fc",
      "metadata": {
        "id": "045e77fc"
      },
      "outputs": [],
      "source": [
        "os.rename(\"Test1.txt\",\"Test2.txt\")"
      ]
    },
    {
      "cell_type": "code",
      "execution_count": null,
      "id": "44b5b1f9",
      "metadata": {
        "scrolled": true,
        "id": "44b5b1f9",
        "outputId": "a79fd377-f7b6-463b-c818-9f54a89c37db"
      },
      "outputs": [
        {
          "data": {
            "text/plain": [
              "['.ipynb_checkpoints',\n",
              " '20th_july_mentorship.ipynb',\n",
              " '27th_july_edureka_session.ipynb',\n",
              " '3rd August',\n",
              " 'Assignment_1.ipynb',\n",
              " 'cheetsheet and books.txt',\n",
              " 'cheetsheet_and_books_fsot2.txt',\n",
              " 'Class 1 - 22Apr23.ipynb',\n",
              " 'Class 2 - 23Apr23.ipynb',\n",
              " 'Class_3_-_29Apr23_po2tr.ipynb',\n",
              " 'Class_4_-_30Apr23_qtnyei.ipynb',\n",
              " 'Day_1_and_2_Code_rxnbj.zip',\n",
              " 'index _mentor.png',\n",
              " 'M5',\n",
              " 'M6',\n",
              " 'nested list.png',\n",
              " 'python-cheatsheet-master',\n",
              " 'python-cheatsheet-master.zip',\n",
              " 'Python_16th_Dec_class_1.ipynb',\n",
              " 'Python_23rde_Dec_class_3.ipynb',\n",
              " 'python_24thDec_class_4.ipynb',\n",
              " 'python_6thJan_class_5.ipynb',\n",
              " 'python_7thJan_class_6+part2.ipynb',\n",
              " 'Screenshot 2023-07-27 213458.png',\n",
              " 'Screenshot 2024-01-03 190634.png',\n",
              " 'Test2.txt']"
            ]
          },
          "execution_count": 113,
          "metadata": {},
          "output_type": "execute_result"
        }
      ],
      "source": [
        "os.listdir()"
      ]
    },
    {
      "cell_type": "code",
      "execution_count": null,
      "id": "6ce3c34b",
      "metadata": {
        "id": "6ce3c34b"
      },
      "outputs": [],
      "source": [
        "with open('r\"Test2.txt\",') as file:\n",
        "    text = file.readlines()"
      ]
    },
    {
      "cell_type": "code",
      "execution_count": null,
      "id": "0fcd79b1",
      "metadata": {
        "scrolled": true,
        "id": "0fcd79b1",
        "outputId": "1aec89df-609e-43f0-88e5-de8b962bf26f"
      },
      "outputs": [
        {
          "data": {
            "text/plain": [
              "['Hello Python!!!\\n',\n",
              " 'I have started learning Python.how are you?\\n',\n",
              " 'hell0!!!I am fine!!']"
            ]
          },
          "execution_count": 115,
          "metadata": {},
          "output_type": "execute_result"
        }
      ],
      "source": [
        "text"
      ]
    },
    {
      "cell_type": "code",
      "execution_count": null,
      "id": "bbccd1a6",
      "metadata": {
        "id": "bbccd1a6"
      },
      "outputs": [],
      "source": []
    },
    {
      "cell_type": "code",
      "execution_count": null,
      "id": "3b3ae0ec",
      "metadata": {
        "id": "3b3ae0ec"
      },
      "outputs": [],
      "source": []
    },
    {
      "cell_type": "code",
      "execution_count": null,
      "id": "1316b907",
      "metadata": {
        "id": "1316b907"
      },
      "outputs": [],
      "source": []
    }
  ],
  "metadata": {
    "kernelspec": {
      "display_name": "Python 3",
      "language": "python",
      "name": "python3"
    },
    "language_info": {
      "codemirror_mode": {
        "name": "ipython",
        "version": 3
      },
      "file_extension": ".py",
      "mimetype": "text/x-python",
      "name": "python",
      "nbconvert_exporter": "python",
      "pygments_lexer": "ipython3",
      "version": "3.7.1"
    },
    "colab": {
      "provenance": []
    }
  },
  "nbformat": 4,
  "nbformat_minor": 5
}