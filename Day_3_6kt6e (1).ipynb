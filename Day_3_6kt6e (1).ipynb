{
  "cells": [
    {
      "cell_type": "code",
      "execution_count": null,
      "id": "accfcae6",
      "metadata": {
        "id": "accfcae6"
      },
      "outputs": [],
      "source": [
        "# dimensions = r * c"
      ]
    },
    {
      "cell_type": "code",
      "execution_count": null,
      "id": "c3a6f41c",
      "metadata": {
        "id": "c3a6f41c"
      },
      "outputs": [],
      "source": [
        "# Reshape Fn"
      ]
    },
    {
      "cell_type": "code",
      "execution_count": null,
      "id": "e6a3f24d",
      "metadata": {
        "id": "e6a3f24d"
      },
      "outputs": [],
      "source": [
        "import numpy as np"
      ]
    },
    {
      "cell_type": "code",
      "execution_count": null,
      "id": "282c2f35",
      "metadata": {
        "id": "282c2f35",
        "outputId": "f1b66b8c-2da0-4718-b49e-f254ea9286ae"
      },
      "outputs": [
        {
          "data": {
            "text/plain": [
              "array([ 0,  1,  2,  3,  4,  5,  6,  7,  8,  9, 10, 11, 12, 13, 14, 15])"
            ]
          },
          "execution_count": 4,
          "metadata": {},
          "output_type": "execute_result"
        }
      ],
      "source": [
        "arr = np.arange(16)\n",
        "arr"
      ]
    },
    {
      "cell_type": "code",
      "execution_count": null,
      "id": "a76aa8b0",
      "metadata": {
        "id": "a76aa8b0",
        "outputId": "9cbac1e4-7ded-4d28-883b-4be8446a09fc"
      },
      "outputs": [
        {
          "data": {
            "text/plain": [
              "array([[ 0,  1,  2,  3,  4,  5,  6,  7],\n",
              "       [ 8,  9, 10, 11, 12, 13, 14, 15]])"
            ]
          },
          "execution_count": 5,
          "metadata": {},
          "output_type": "execute_result"
        }
      ],
      "source": [
        "arr = np.arange(16).reshape(2,8)\n",
        "arr"
      ]
    },
    {
      "cell_type": "code",
      "execution_count": null,
      "id": "69cb05f0",
      "metadata": {
        "id": "69cb05f0"
      },
      "outputs": [],
      "source": [
        "# Mult Fn\n",
        "arr1 = np.arange(4).reshape(2,2)\n",
        "arr2 = np.arange(5,9).reshape(2,2)"
      ]
    },
    {
      "cell_type": "code",
      "execution_count": null,
      "id": "f5be72f1",
      "metadata": {
        "id": "f5be72f1",
        "outputId": "e3d5440f-f91e-4217-a596-73bcb8b9e619"
      },
      "outputs": [
        {
          "data": {
            "text/plain": [
              "array([[0, 1],\n",
              "       [2, 3]])"
            ]
          },
          "execution_count": 7,
          "metadata": {},
          "output_type": "execute_result"
        }
      ],
      "source": [
        "arr1"
      ]
    },
    {
      "cell_type": "code",
      "execution_count": null,
      "id": "be729d07",
      "metadata": {
        "id": "be729d07",
        "outputId": "2fe24092-d754-48da-a916-dbe8b63abd8a"
      },
      "outputs": [
        {
          "data": {
            "text/plain": [
              "array([[5, 6],\n",
              "       [7, 8]])"
            ]
          },
          "execution_count": 8,
          "metadata": {},
          "output_type": "execute_result"
        }
      ],
      "source": [
        "arr2"
      ]
    },
    {
      "cell_type": "code",
      "execution_count": null,
      "id": "c900d29a",
      "metadata": {
        "id": "c900d29a",
        "outputId": "68b0e824-4dbf-4938-dc14-1430f956c340"
      },
      "outputs": [
        {
          "data": {
            "text/plain": [
              "array([[ 0,  6],\n",
              "       [14, 24]])"
            ]
          },
          "execution_count": 9,
          "metadata": {},
          "output_type": "execute_result"
        }
      ],
      "source": [
        "arr1 * arr2"
      ]
    },
    {
      "cell_type": "code",
      "execution_count": null,
      "id": "d7640bff",
      "metadata": {
        "id": "d7640bff"
      },
      "outputs": [],
      "source": [
        "# Matrix product / Dot product"
      ]
    },
    {
      "cell_type": "code",
      "execution_count": null,
      "id": "2f2a7913",
      "metadata": {
        "id": "2f2a7913"
      },
      "outputs": [],
      "source": [
        "a = np.arange(4).reshape(2,2)\n",
        "b = np.array([[11,12],[13,14]])"
      ]
    },
    {
      "cell_type": "code",
      "execution_count": null,
      "id": "c1cf5792",
      "metadata": {
        "id": "c1cf5792",
        "outputId": "d20ebed5-c375-4a5c-adad-6b4a50e723eb"
      },
      "outputs": [
        {
          "data": {
            "text/plain": [
              "array([[0, 1],\n",
              "       [2, 3]])"
            ]
          },
          "execution_count": 12,
          "metadata": {},
          "output_type": "execute_result"
        }
      ],
      "source": [
        "a"
      ]
    },
    {
      "cell_type": "code",
      "execution_count": null,
      "id": "7e2499e7",
      "metadata": {
        "id": "7e2499e7",
        "outputId": "8cf1b632-32f3-478a-af17-47f086faefdb"
      },
      "outputs": [
        {
          "data": {
            "text/plain": [
              "array([[11, 12],\n",
              "       [13, 14]])"
            ]
          },
          "execution_count": 13,
          "metadata": {},
          "output_type": "execute_result"
        }
      ],
      "source": [
        "b"
      ]
    },
    {
      "cell_type": "code",
      "execution_count": null,
      "id": "69ff29be",
      "metadata": {
        "id": "69ff29be",
        "outputId": "26fa36b7-567b-4cde-8aea-523f5395a775"
      },
      "outputs": [
        {
          "data": {
            "text/plain": [
              "array([[13, 14],\n",
              "       [61, 66]])"
            ]
          },
          "execution_count": 14,
          "metadata": {},
          "output_type": "execute_result"
        }
      ],
      "source": [
        "np.dot(a , b)"
      ]
    },
    {
      "cell_type": "code",
      "execution_count": null,
      "id": "2e3e1d3e",
      "metadata": {
        "id": "2e3e1d3e"
      },
      "outputs": [],
      "source": [
        "# Numpy Universal functions"
      ]
    },
    {
      "cell_type": "code",
      "execution_count": null,
      "id": "78e89640",
      "metadata": {
        "id": "78e89640"
      },
      "outputs": [],
      "source": [
        "a = np.arange(4).reshape(2,2)\n",
        "b = np.array([[11,12],[13,14]])"
      ]
    },
    {
      "cell_type": "code",
      "execution_count": null,
      "id": "51660aa1",
      "metadata": {
        "id": "51660aa1",
        "outputId": "843fe22a-8b39-4689-8be0-dc329fc6ccb6"
      },
      "outputs": [
        {
          "data": {
            "text/plain": [
              "array([[11, 13],\n",
              "       [15, 17]])"
            ]
          },
          "execution_count": 17,
          "metadata": {},
          "output_type": "execute_result"
        }
      ],
      "source": [
        "np.add(a,b)"
      ]
    },
    {
      "cell_type": "code",
      "execution_count": null,
      "id": "d9a8acd8",
      "metadata": {
        "id": "d9a8acd8",
        "outputId": "6298a856-d99a-4637-fa9f-0247386173a4"
      },
      "outputs": [
        {
          "data": {
            "text/plain": [
              "array([[-11, -11],\n",
              "       [-11, -11]])"
            ]
          },
          "execution_count": 18,
          "metadata": {},
          "output_type": "execute_result"
        }
      ],
      "source": [
        "np.subtract(a,b)"
      ]
    },
    {
      "cell_type": "code",
      "execution_count": null,
      "id": "d99de8f5",
      "metadata": {
        "id": "d99de8f5",
        "outputId": "ded83a3b-4ba6-43a1-d1bb-0cf8f55e7588"
      },
      "outputs": [
        {
          "data": {
            "text/plain": [
              "array([[0.        , 0.08333333],\n",
              "       [0.15384615, 0.21428571]])"
            ]
          },
          "execution_count": 19,
          "metadata": {},
          "output_type": "execute_result"
        }
      ],
      "source": [
        "np.divide(a,b)"
      ]
    },
    {
      "cell_type": "code",
      "execution_count": null,
      "id": "2e7cd419",
      "metadata": {
        "id": "2e7cd419",
        "outputId": "d877390e-18fd-4d7a-e625-04329b0054bf"
      },
      "outputs": [
        {
          "data": {
            "text/plain": [
              "array([[ 0, 12],\n",
              "       [26, 42]])"
            ]
          },
          "execution_count": 20,
          "metadata": {},
          "output_type": "execute_result"
        }
      ],
      "source": [
        "np.multiply(a,b)"
      ]
    },
    {
      "cell_type": "code",
      "execution_count": null,
      "id": "e39410d4",
      "metadata": {
        "id": "e39410d4",
        "outputId": "78a84256-6e59-4dc0-ea75-163552501631"
      },
      "outputs": [
        {
          "data": {
            "text/plain": [
              "array([[      0,       1],\n",
              "       [   8192, 4782969]])"
            ]
          },
          "execution_count": 21,
          "metadata": {},
          "output_type": "execute_result"
        }
      ],
      "source": [
        "np.power(a,b)"
      ]
    },
    {
      "cell_type": "code",
      "execution_count": null,
      "id": "2567b5a8",
      "metadata": {
        "id": "2567b5a8",
        "outputId": "7f680d63-d90a-4aa4-bb56-0b0eb3362760"
      },
      "outputs": [
        {
          "data": {
            "text/plain": [
              "array([[0.        , 1.        ],\n",
              "       [1.41421356, 1.73205081]])"
            ]
          },
          "execution_count": 22,
          "metadata": {},
          "output_type": "execute_result"
        }
      ],
      "source": [
        "# Sq-root\n",
        "np.sqrt(a)"
      ]
    },
    {
      "cell_type": "code",
      "execution_count": null,
      "id": "9182a6d8",
      "metadata": {
        "id": "9182a6d8"
      },
      "outputs": [],
      "source": [
        "# Trignometric Functions"
      ]
    },
    {
      "cell_type": "code",
      "execution_count": null,
      "id": "4d1d53d5",
      "metadata": {
        "id": "4d1d53d5",
        "outputId": "6e2d8e0d-0130-44c8-adce-eb29e0a43aa4"
      },
      "outputs": [
        {
          "data": {
            "text/plain": [
              "array([[0, 1],\n",
              "       [2, 3]])"
            ]
          },
          "execution_count": 24,
          "metadata": {},
          "output_type": "execute_result"
        }
      ],
      "source": [
        "a"
      ]
    },
    {
      "cell_type": "code",
      "execution_count": null,
      "id": "644268f2",
      "metadata": {
        "id": "644268f2",
        "outputId": "c6feedf2-d11f-4ce1-dbc9-7ab377334fcf"
      },
      "outputs": [
        {
          "data": {
            "text/plain": [
              "array([[0.        , 0.84147098],\n",
              "       [0.90929743, 0.14112001]])"
            ]
          },
          "execution_count": 25,
          "metadata": {},
          "output_type": "execute_result"
        }
      ],
      "source": [
        "np.sin(a)"
      ]
    },
    {
      "cell_type": "code",
      "execution_count": null,
      "id": "b9cfc06f",
      "metadata": {
        "id": "b9cfc06f",
        "outputId": "f6b06030-c5ed-43f8-ee75-a756379c8038"
      },
      "outputs": [
        {
          "data": {
            "text/plain": [
              "array([[ 1.        ,  0.54030231],\n",
              "       [-0.41614684, -0.9899925 ]])"
            ]
          },
          "execution_count": 26,
          "metadata": {},
          "output_type": "execute_result"
        }
      ],
      "source": [
        "np.cos(a)"
      ]
    },
    {
      "cell_type": "code",
      "execution_count": null,
      "id": "4657f436",
      "metadata": {
        "id": "4657f436",
        "outputId": "c8e91253-2cf3-4dee-b5c3-ab48de46ceef"
      },
      "outputs": [
        {
          "data": {
            "text/plain": [
              "array([[ 0.        ,  1.55740772],\n",
              "       [-2.18503986, -0.14254654]])"
            ]
          },
          "execution_count": 27,
          "metadata": {},
          "output_type": "execute_result"
        }
      ],
      "source": [
        "np.tan(a)"
      ]
    },
    {
      "cell_type": "code",
      "execution_count": null,
      "id": "d8e23963",
      "metadata": {
        "id": "d8e23963"
      },
      "outputs": [],
      "source": [
        "# Converting from radians to degrees"
      ]
    },
    {
      "cell_type": "code",
      "execution_count": null,
      "id": "bb7da669",
      "metadata": {
        "id": "bb7da669",
        "outputId": "1819a7f3-e720-417e-ee24-8dd81fc7394a"
      },
      "outputs": [
        {
          "data": {
            "text/plain": [
              "0.8660254037844386"
            ]
          },
          "execution_count": 29,
          "metadata": {},
          "output_type": "execute_result"
        }
      ],
      "source": [
        "sin_60 = np.sin(60 * np.pi/180)\n",
        "sin_60"
      ]
    },
    {
      "cell_type": "code",
      "execution_count": null,
      "id": "f7847425",
      "metadata": {
        "id": "f7847425",
        "outputId": "3358e890-cbb3-4863-b9c7-eec65f835820"
      },
      "outputs": [
        {
          "data": {
            "text/plain": [
              "1.0"
            ]
          },
          "execution_count": 30,
          "metadata": {},
          "output_type": "execute_result"
        }
      ],
      "source": [
        "sin_90 = np.sin(90 * np.pi/180)\n",
        "sin_90"
      ]
    },
    {
      "cell_type": "code",
      "execution_count": null,
      "id": "b9e97690",
      "metadata": {
        "id": "b9e97690"
      },
      "outputs": [],
      "source": [
        "# Comparison functions"
      ]
    },
    {
      "cell_type": "code",
      "execution_count": null,
      "id": "652383c5",
      "metadata": {
        "id": "652383c5",
        "outputId": "3e3bfd54-22f9-47bb-97bc-4c355ca78073"
      },
      "outputs": [
        {
          "data": {
            "text/plain": [
              "array([[0, 1],\n",
              "       [2, 3]])"
            ]
          },
          "execution_count": 32,
          "metadata": {},
          "output_type": "execute_result"
        }
      ],
      "source": [
        "a"
      ]
    },
    {
      "cell_type": "code",
      "execution_count": null,
      "id": "63cb096a",
      "metadata": {
        "id": "63cb096a",
        "outputId": "29267c4a-8b88-4265-dd7d-ef40a49de81d"
      },
      "outputs": [
        {
          "data": {
            "text/plain": [
              "array([[11, 12],\n",
              "       [13, 14]])"
            ]
          },
          "execution_count": 33,
          "metadata": {},
          "output_type": "execute_result"
        }
      ],
      "source": [
        "b"
      ]
    },
    {
      "cell_type": "code",
      "execution_count": null,
      "id": "79f2ae22",
      "metadata": {
        "id": "79f2ae22",
        "outputId": "c525b054-bf15-4ce9-b069-3b46cc72a440"
      },
      "outputs": [
        {
          "data": {
            "text/plain": [
              "array([[False, False],\n",
              "       [False, False]])"
            ]
          },
          "execution_count": 34,
          "metadata": {},
          "output_type": "execute_result"
        }
      ],
      "source": [
        "np.greater(a , b)"
      ]
    },
    {
      "cell_type": "code",
      "execution_count": null,
      "id": "0f399e62",
      "metadata": {
        "id": "0f399e62",
        "outputId": "fed45c22-8d37-4d83-8e8c-1eadab6ca7a5"
      },
      "outputs": [
        {
          "data": {
            "text/plain": [
              "array([[False, False],\n",
              "       [False, False]])"
            ]
          },
          "execution_count": 35,
          "metadata": {},
          "output_type": "execute_result"
        }
      ],
      "source": [
        "np.greater_equal(a , b)"
      ]
    },
    {
      "cell_type": "code",
      "execution_count": null,
      "id": "a319ab4b",
      "metadata": {
        "id": "a319ab4b",
        "outputId": "c6902995-b0de-4f2c-e1d3-7207fec9de6c"
      },
      "outputs": [
        {
          "data": {
            "text/plain": [
              "array([[ True,  True],\n",
              "       [ True,  True]])"
            ]
          },
          "execution_count": 36,
          "metadata": {},
          "output_type": "execute_result"
        }
      ],
      "source": [
        "np.less(a , b)"
      ]
    },
    {
      "cell_type": "code",
      "execution_count": null,
      "id": "a61579df",
      "metadata": {
        "id": "a61579df",
        "outputId": "829e81be-675f-47a5-db6b-f1f1bf55bdb9"
      },
      "outputs": [
        {
          "data": {
            "text/plain": [
              "array([[False, False],\n",
              "       [False, False]])"
            ]
          },
          "execution_count": 37,
          "metadata": {},
          "output_type": "execute_result"
        }
      ],
      "source": [
        "np.equal(a , b)"
      ]
    },
    {
      "cell_type": "code",
      "execution_count": null,
      "id": "a3be098e",
      "metadata": {
        "id": "a3be098e"
      },
      "outputs": [],
      "source": [
        "# Mod Function"
      ]
    },
    {
      "cell_type": "code",
      "execution_count": null,
      "id": "1a3a52ba",
      "metadata": {
        "id": "1a3a52ba",
        "outputId": "be1f7011-9289-4644-bae7-bf03be06cff0"
      },
      "outputs": [
        {
          "data": {
            "text/plain": [
              "2"
            ]
          },
          "execution_count": 39,
          "metadata": {},
          "output_type": "execute_result"
        }
      ],
      "source": [
        "6 % 4"
      ]
    },
    {
      "cell_type": "code",
      "execution_count": null,
      "id": "37c25a3a",
      "metadata": {
        "id": "37c25a3a",
        "outputId": "d0a3a878-1431-4e04-8dd6-a8e1fbf6c4f9"
      },
      "outputs": [
        {
          "data": {
            "text/plain": [
              "2"
            ]
          },
          "execution_count": 40,
          "metadata": {},
          "output_type": "execute_result"
        }
      ],
      "source": [
        "x = np.mod(6 ,  4)\n",
        "x"
      ]
    },
    {
      "cell_type": "code",
      "execution_count": null,
      "id": "899a9fa6",
      "metadata": {
        "id": "899a9fa6",
        "outputId": "7b8c31e2-e24b-4192-9101-dbcaa4b199ba"
      },
      "outputs": [
        {
          "data": {
            "text/plain": [
              "0.0"
            ]
          },
          "execution_count": 41,
          "metadata": {},
          "output_type": "execute_result"
        }
      ],
      "source": [
        "# Log functions\n",
        "np.log(1)"
      ]
    },
    {
      "cell_type": "code",
      "execution_count": null,
      "id": "bc984af3",
      "metadata": {
        "id": "bc984af3"
      },
      "outputs": [],
      "source": [
        "# Hypotenuse"
      ]
    },
    {
      "cell_type": "code",
      "execution_count": null,
      "id": "2012c5c1",
      "metadata": {
        "id": "2012c5c1",
        "outputId": "2f8a1d51-10dd-4d6a-e8e6-1be4fefd4f30"
      },
      "outputs": [
        {
          "data": {
            "text/plain": [
              "5.0"
            ]
          },
          "execution_count": 43,
          "metadata": {},
          "output_type": "execute_result"
        }
      ],
      "source": [
        "b = 3\n",
        "h = 4\n",
        "np.hypot(b , h)"
      ]
    },
    {
      "cell_type": "code",
      "execution_count": null,
      "id": "49cab470",
      "metadata": {
        "id": "49cab470"
      },
      "outputs": [],
      "source": [
        "# Aggregate functions"
      ]
    },
    {
      "cell_type": "code",
      "execution_count": null,
      "id": "eb4f5683",
      "metadata": {
        "id": "eb4f5683",
        "outputId": "96599943-7875-40d2-ce00-bdfb1a081eb9"
      },
      "outputs": [
        {
          "data": {
            "text/plain": [
              "array([1, 2, 3, 4, 5, 6, 7, 8, 9])"
            ]
          },
          "execution_count": 45,
          "metadata": {},
          "output_type": "execute_result"
        }
      ],
      "source": [
        "arr = np.arange(1, 10)\n",
        "arr"
      ]
    },
    {
      "cell_type": "code",
      "execution_count": null,
      "id": "6cc80af8",
      "metadata": {
        "id": "6cc80af8",
        "outputId": "3fb5d8a0-b247-451e-a24b-57593ae12dc9"
      },
      "outputs": [
        {
          "data": {
            "text/plain": [
              "45"
            ]
          },
          "execution_count": 46,
          "metadata": {},
          "output_type": "execute_result"
        }
      ],
      "source": [
        "arr.sum()"
      ]
    },
    {
      "cell_type": "code",
      "execution_count": null,
      "id": "39aca686",
      "metadata": {
        "id": "39aca686",
        "outputId": "7297dfc1-3594-4107-eb12-38b4732f8a15"
      },
      "outputs": [
        {
          "data": {
            "text/plain": [
              "1"
            ]
          },
          "execution_count": 47,
          "metadata": {},
          "output_type": "execute_result"
        }
      ],
      "source": [
        "arr.min()"
      ]
    },
    {
      "cell_type": "code",
      "execution_count": null,
      "id": "bd2a1779",
      "metadata": {
        "id": "bd2a1779",
        "outputId": "0633532d-cd40-4921-88e8-57540f8c49eb"
      },
      "outputs": [
        {
          "data": {
            "text/plain": [
              "9"
            ]
          },
          "execution_count": 48,
          "metadata": {},
          "output_type": "execute_result"
        }
      ],
      "source": [
        "arr.max()"
      ]
    },
    {
      "cell_type": "code",
      "execution_count": null,
      "id": "8430de4e",
      "metadata": {
        "id": "8430de4e",
        "outputId": "c991645b-6c26-4937-bf37-e77f2704f569"
      },
      "outputs": [
        {
          "data": {
            "text/plain": [
              "5.0"
            ]
          },
          "execution_count": 49,
          "metadata": {},
          "output_type": "execute_result"
        }
      ],
      "source": [
        "arr.mean() # Average"
      ]
    },
    {
      "cell_type": "code",
      "execution_count": null,
      "id": "d97419e2",
      "metadata": {
        "id": "d97419e2"
      },
      "outputs": [],
      "source": [
        "# Indexing in numpy array"
      ]
    },
    {
      "cell_type": "code",
      "execution_count": null,
      "id": "035f1c09",
      "metadata": {
        "id": "035f1c09",
        "outputId": "02017dfc-9fbb-40cc-b17a-96ada9ec388d"
      },
      "outputs": [
        {
          "data": {
            "text/plain": [
              "array([11, 12, 13, 14, 15])"
            ]
          },
          "execution_count": 51,
          "metadata": {},
          "output_type": "execute_result"
        }
      ],
      "source": [
        "arr = np.array([11, 12, 13, 14, 15])\n",
        "arr"
      ]
    },
    {
      "cell_type": "code",
      "execution_count": null,
      "id": "17405106",
      "metadata": {
        "id": "17405106",
        "outputId": "cc4e3f3a-7d9a-4ef1-bdcb-9c01a9fae45a"
      },
      "outputs": [
        {
          "data": {
            "text/plain": [
              "12"
            ]
          },
          "execution_count": 52,
          "metadata": {},
          "output_type": "execute_result"
        }
      ],
      "source": [
        "arr[1]"
      ]
    },
    {
      "cell_type": "code",
      "execution_count": null,
      "id": "b6f3d998",
      "metadata": {
        "id": "b6f3d998",
        "outputId": "d281ed60-3cc5-433c-e470-4e2bc7b759d9"
      },
      "outputs": [
        {
          "data": {
            "text/plain": [
              "array([12, 13, 14, 15])"
            ]
          },
          "execution_count": 53,
          "metadata": {},
          "output_type": "execute_result"
        }
      ],
      "source": [
        "arr[1 : ]"
      ]
    },
    {
      "cell_type": "code",
      "execution_count": null,
      "id": "20f86ebd",
      "metadata": {
        "id": "20f86ebd",
        "outputId": "84493e70-a3eb-4ae8-8735-446ab2546e01"
      },
      "outputs": [
        {
          "data": {
            "text/plain": [
              "array([12, 13, 14])"
            ]
          },
          "execution_count": 54,
          "metadata": {},
          "output_type": "execute_result"
        }
      ],
      "source": [
        "arr[1 : 4]"
      ]
    },
    {
      "cell_type": "code",
      "execution_count": null,
      "id": "d638c308",
      "metadata": {
        "id": "d638c308",
        "outputId": "244989e3-b333-40d7-df56-89ac0a6eb161"
      },
      "outputs": [
        {
          "data": {
            "text/plain": [
              "array([15, 14, 13, 12, 11])"
            ]
          },
          "execution_count": 55,
          "metadata": {},
          "output_type": "execute_result"
        }
      ],
      "source": [
        "arr[ :: -1]"
      ]
    },
    {
      "cell_type": "code",
      "execution_count": null,
      "id": "688ce650",
      "metadata": {
        "id": "688ce650",
        "outputId": "5ac95f22-ae4d-4246-cb3b-c90fbe4296d8"
      },
      "outputs": [
        {
          "data": {
            "text/plain": [
              "15"
            ]
          },
          "execution_count": 56,
          "metadata": {},
          "output_type": "execute_result"
        }
      ],
      "source": [
        "arr[-1]"
      ]
    },
    {
      "cell_type": "code",
      "execution_count": null,
      "id": "e176960d",
      "metadata": {
        "id": "e176960d",
        "outputId": "8631e656-839e-4b8c-92f8-6c5f96860934"
      },
      "outputs": [
        {
          "data": {
            "text/plain": [
              "array([[11, 12, 13, 14],\n",
              "       [15, 16, 17, 18],\n",
              "       [19, 20, 21, 22],\n",
              "       [23, 24, 25, 26]])"
            ]
          },
          "execution_count": 57,
          "metadata": {},
          "output_type": "execute_result"
        }
      ],
      "source": [
        "arr = np.arange(11, 27).reshape(4,4)\n",
        "arr"
      ]
    },
    {
      "cell_type": "code",
      "execution_count": null,
      "id": "2129e8b9",
      "metadata": {
        "id": "2129e8b9",
        "outputId": "baf64c38-cd52-4601-da26-6f017ff968e1"
      },
      "outputs": [
        {
          "data": {
            "text/plain": [
              "array([15, 16, 17, 18])"
            ]
          },
          "execution_count": 58,
          "metadata": {},
          "output_type": "execute_result"
        }
      ],
      "source": [
        "# Returns complete row\n",
        "arr[1]"
      ]
    },
    {
      "cell_type": "code",
      "execution_count": null,
      "id": "4ee32357",
      "metadata": {
        "id": "4ee32357",
        "outputId": "8c42aaf7-d5f2-4d6b-c856-833d62539bc1"
      },
      "outputs": [
        {
          "data": {
            "text/plain": [
              "array([[16, 17, 18],\n",
              "       [20, 21, 22],\n",
              "       [24, 25, 26]])"
            ]
          },
          "execution_count": 59,
          "metadata": {},
          "output_type": "execute_result"
        }
      ],
      "source": [
        "arr [ 1: , 1: ]"
      ]
    },
    {
      "cell_type": "code",
      "execution_count": null,
      "id": "fa95c812",
      "metadata": {
        "id": "fa95c812",
        "outputId": "2871ef2b-f9e6-480e-84d0-49a5e6c40c3a"
      },
      "outputs": [
        {
          "data": {
            "text/plain": [
              "array([ 3, 78, 23, 12, 90, 10, 45, 56])"
            ]
          },
          "execution_count": 60,
          "metadata": {},
          "output_type": "execute_result"
        }
      ],
      "source": [
        "# Fancy Indexing\n",
        "a = np.array([3,78,23,12,90,10,45,56])\n",
        "a"
      ]
    },
    {
      "cell_type": "code",
      "execution_count": null,
      "id": "dc7921f6",
      "metadata": {
        "id": "dc7921f6",
        "outputId": "bf5b8968-3853-42a9-c120-f3582ef7e031"
      },
      "outputs": [
        {
          "data": {
            "text/plain": [
              "array([[12, 10],\n",
              "       [23, 90]])"
            ]
          },
          "execution_count": 62,
          "metadata": {},
          "output_type": "execute_result"
        }
      ],
      "source": [
        "ind = np.array([[3,5], [2,4]])\n",
        "a[ind]"
      ]
    },
    {
      "cell_type": "code",
      "execution_count": null,
      "id": "a2237cd3",
      "metadata": {
        "id": "a2237cd3",
        "outputId": "7c8f75c5-1d03-4a83-867e-375a006aebc6"
      },
      "outputs": [
        {
          "data": {
            "text/plain": [
              "array([ 3, 78, 23, 12, 90, 10, 45, 56])"
            ]
          },
          "execution_count": 63,
          "metadata": {},
          "output_type": "execute_result"
        }
      ],
      "source": [
        "# Iterating thru the array\n",
        "a"
      ]
    },
    {
      "cell_type": "code",
      "execution_count": null,
      "id": "c9985f1e",
      "metadata": {
        "id": "c9985f1e",
        "outputId": "f57f2dd8-8928-4d30-efde-321d2da4afff"
      },
      "outputs": [
        {
          "name": "stdout",
          "output_type": "stream",
          "text": [
            "3\n",
            "78\n",
            "23\n",
            "12\n",
            "90\n",
            "10\n",
            "45\n",
            "56\n"
          ]
        }
      ],
      "source": [
        "# for those who work in projects that involve fourier transform / linear algebra\n",
        "# they can use the nditer option along with order parameter\n",
        "for i in np.nditer(a, order='K'):\n",
        "    print(i)"
      ]
    },
    {
      "cell_type": "code",
      "execution_count": null,
      "id": "5cd63f22",
      "metadata": {
        "id": "5cd63f22",
        "outputId": "32808f41-b03e-4a1b-c02a-777afe4210b9"
      },
      "outputs": [
        {
          "name": "stdout",
          "output_type": "stream",
          "text": [
            "3\n",
            "78\n",
            "23\n",
            "12\n",
            "90\n",
            "10\n",
            "45\n",
            "56\n"
          ]
        }
      ],
      "source": [
        "# for simple reading of the ndarray a standard for loop can be used\n",
        "for i in a:\n",
        "    print(i)"
      ]
    },
    {
      "cell_type": "code",
      "execution_count": null,
      "id": "396f745c",
      "metadata": {
        "id": "396f745c"
      },
      "outputs": [],
      "source": [
        "# Transpose"
      ]
    },
    {
      "cell_type": "code",
      "execution_count": null,
      "id": "75c20f02",
      "metadata": {
        "id": "75c20f02",
        "outputId": "fc13f70d-a3d2-43d8-9e92-c0c51d88999f"
      },
      "outputs": [
        {
          "data": {
            "text/plain": [
              "array([[11, 12, 13, 14],\n",
              "       [15, 16, 17, 18],\n",
              "       [19, 20, 21, 22],\n",
              "       [23, 24, 25, 26]])"
            ]
          },
          "execution_count": 68,
          "metadata": {},
          "output_type": "execute_result"
        }
      ],
      "source": [
        "arr = np.arange(11, 27).reshape(4,4)\n",
        "arr"
      ]
    },
    {
      "cell_type": "code",
      "execution_count": null,
      "id": "692ce290",
      "metadata": {
        "id": "692ce290",
        "outputId": "65f1777c-0ce3-4272-f5bc-126bcc37efc9"
      },
      "outputs": [
        {
          "data": {
            "text/plain": [
              "array([[11, 15, 19, 23],\n",
              "       [12, 16, 20, 24],\n",
              "       [13, 17, 21, 25],\n",
              "       [14, 18, 22, 26]])"
            ]
          },
          "execution_count": 70,
          "metadata": {},
          "output_type": "execute_result"
        }
      ],
      "source": [
        "arr1 = np.transpose(arr)\n",
        "arr1"
      ]
    },
    {
      "cell_type": "code",
      "execution_count": null,
      "id": "2f235bcb",
      "metadata": {
        "id": "2f235bcb"
      },
      "outputs": [],
      "source": [
        "# Concatenate"
      ]
    },
    {
      "cell_type": "code",
      "execution_count": null,
      "id": "2238dd29",
      "metadata": {
        "id": "2238dd29"
      },
      "outputs": [],
      "source": [
        "arr1 = np.array([[1,2],[3,4]])\n",
        "arr2 = np.array([[8, 10]])"
      ]
    },
    {
      "cell_type": "code",
      "execution_count": null,
      "id": "dc409e86",
      "metadata": {
        "id": "dc409e86",
        "outputId": "5db7c76a-4cf8-4979-a37f-a9a9b59901dd"
      },
      "outputs": [
        {
          "data": {
            "text/plain": [
              "array([[1, 2],\n",
              "       [3, 4]])"
            ]
          },
          "execution_count": 72,
          "metadata": {},
          "output_type": "execute_result"
        }
      ],
      "source": [
        "arr1"
      ]
    },
    {
      "cell_type": "code",
      "execution_count": null,
      "id": "fc312cb9",
      "metadata": {
        "id": "fc312cb9",
        "outputId": "e509c047-d764-4c2f-c388-15ddb51e885d"
      },
      "outputs": [
        {
          "data": {
            "text/plain": [
              "array([[ 8, 10]])"
            ]
          },
          "execution_count": 73,
          "metadata": {},
          "output_type": "execute_result"
        }
      ],
      "source": [
        "arr2"
      ]
    },
    {
      "cell_type": "code",
      "execution_count": null,
      "id": "9a53e347",
      "metadata": {
        "id": "9a53e347",
        "outputId": "4b495d04-9eef-4e88-c50c-23287e6dd06b"
      },
      "outputs": [
        {
          "data": {
            "text/plain": [
              "array([[ 1,  2],\n",
              "       [ 3,  4],\n",
              "       [ 8, 10]])"
            ]
          },
          "execution_count": 75,
          "metadata": {},
          "output_type": "execute_result"
        }
      ],
      "source": [
        "np.concatenate((arr1, arr2))"
      ]
    },
    {
      "cell_type": "code",
      "execution_count": null,
      "id": "fa9cd212",
      "metadata": {
        "id": "fa9cd212",
        "outputId": "e36c836b-84d4-44f1-8794-2547035ed5c9"
      },
      "outputs": [
        {
          "data": {
            "text/plain": [
              "array([[ 1,  2,  8],\n",
              "       [ 3,  4, 10]])"
            ]
          },
          "execution_count": 80,
          "metadata": {},
          "output_type": "execute_result"
        }
      ],
      "source": [
        "# axis = 1 means concatenate as a column\n",
        "# axis = 0 means concatenate as a row\n",
        "np.concatenate((arr1, arr2.T), axis=1)"
      ]
    },
    {
      "cell_type": "code",
      "execution_count": null,
      "id": "11c43910",
      "metadata": {
        "id": "11c43910"
      },
      "outputs": [],
      "source": [
        "# Splitting Array - split(), hsplit() and vsplit()"
      ]
    },
    {
      "cell_type": "code",
      "execution_count": null,
      "id": "d1b1ab1e",
      "metadata": {
        "id": "d1b1ab1e",
        "outputId": "2a6c1b36-8da0-4a44-d2f3-592136c15039"
      },
      "outputs": [
        {
          "data": {
            "text/plain": [
              "array([ 3, 78, 23, 12, 90, 10, 45, 56])"
            ]
          },
          "execution_count": 81,
          "metadata": {},
          "output_type": "execute_result"
        }
      ],
      "source": [
        "a = np.array([3,78,23,12,90,10,45,56])\n",
        "a"
      ]
    },
    {
      "cell_type": "code",
      "execution_count": null,
      "id": "bf6c0d00",
      "metadata": {
        "id": "bf6c0d00"
      },
      "outputs": [],
      "source": [
        "a1, a2 = np.split(a, 2)"
      ]
    },
    {
      "cell_type": "code",
      "execution_count": null,
      "id": "15cb771a",
      "metadata": {
        "id": "15cb771a",
        "outputId": "2c7c7d0a-8aae-499f-9cf7-aa9fe0538ad4"
      },
      "outputs": [
        {
          "data": {
            "text/plain": [
              "array([ 3, 78, 23, 12])"
            ]
          },
          "execution_count": 83,
          "metadata": {},
          "output_type": "execute_result"
        }
      ],
      "source": [
        "a1"
      ]
    },
    {
      "cell_type": "code",
      "execution_count": null,
      "id": "57f2156c",
      "metadata": {
        "id": "57f2156c",
        "outputId": "fa13f4ca-a212-43f8-9292-66a8cad82db4"
      },
      "outputs": [
        {
          "data": {
            "text/plain": [
              "array([90, 10, 45, 56])"
            ]
          },
          "execution_count": 84,
          "metadata": {},
          "output_type": "execute_result"
        }
      ],
      "source": [
        "a2"
      ]
    },
    {
      "cell_type": "code",
      "execution_count": null,
      "id": "7dcf1911",
      "metadata": {
        "id": "7dcf1911",
        "outputId": "b18f72af-25eb-4828-8e77-a80f40794d10"
      },
      "outputs": [
        {
          "data": {
            "text/plain": [
              "array([[11, 12, 13, 14],\n",
              "       [15, 16, 17, 18],\n",
              "       [19, 20, 21, 22],\n",
              "       [23, 24, 25, 26]])"
            ]
          },
          "execution_count": 88,
          "metadata": {},
          "output_type": "execute_result"
        }
      ],
      "source": [
        "arr = np.arange(11, 27).reshape(4,4)\n",
        "arr"
      ]
    },
    {
      "cell_type": "code",
      "execution_count": null,
      "id": "7df3318e",
      "metadata": {
        "id": "7df3318e"
      },
      "outputs": [],
      "source": [
        "arr1 , arr2, arr3, arr4 = np.hsplit(arr, 4)"
      ]
    },
    {
      "cell_type": "code",
      "execution_count": null,
      "id": "efa0e7e6",
      "metadata": {
        "id": "efa0e7e6",
        "outputId": "22aa04b8-7365-4777-84b9-08bd037b6dc4"
      },
      "outputs": [
        {
          "data": {
            "text/plain": [
              "array([[11],\n",
              "       [15],\n",
              "       [19],\n",
              "       [23]])"
            ]
          },
          "execution_count": 94,
          "metadata": {},
          "output_type": "execute_result"
        }
      ],
      "source": [
        "arr1"
      ]
    },
    {
      "cell_type": "code",
      "execution_count": null,
      "id": "f8c59336",
      "metadata": {
        "id": "f8c59336",
        "outputId": "6d53ecae-a62d-4450-d57a-7ed50b2f4379"
      },
      "outputs": [
        {
          "data": {
            "text/plain": [
              "array([[12],\n",
              "       [16],\n",
              "       [20],\n",
              "       [24]])"
            ]
          },
          "execution_count": 95,
          "metadata": {},
          "output_type": "execute_result"
        }
      ],
      "source": [
        "arr2"
      ]
    },
    {
      "cell_type": "code",
      "execution_count": null,
      "id": "09984d83",
      "metadata": {
        "id": "09984d83",
        "outputId": "b1ed42ce-473e-4da7-d640-c95081a1523d"
      },
      "outputs": [
        {
          "data": {
            "text/plain": [
              "array([[11, 12, 13, 14],\n",
              "       [15, 16, 17, 18],\n",
              "       [19, 20, 21, 22],\n",
              "       [23, 24, 25, 26]])"
            ]
          },
          "execution_count": 98,
          "metadata": {},
          "output_type": "execute_result"
        }
      ],
      "source": [
        "arr1 , arr2, arr3, arr4 = np.vsplit(arr, 4)\n",
        "arr"
      ]
    },
    {
      "cell_type": "code",
      "execution_count": null,
      "id": "09773bd3",
      "metadata": {
        "id": "09773bd3",
        "outputId": "6292e306-d53e-4f15-a0f4-6243d1cb37f2"
      },
      "outputs": [
        {
          "data": {
            "text/plain": [
              "array([[11, 12, 13, 14]])"
            ]
          },
          "execution_count": 99,
          "metadata": {},
          "output_type": "execute_result"
        }
      ],
      "source": [
        "arr1"
      ]
    },
    {
      "cell_type": "code",
      "execution_count": null,
      "id": "ebe8dca1",
      "metadata": {
        "id": "ebe8dca1",
        "outputId": "a818dea9-8f50-4f77-9fb1-97361a791dae"
      },
      "outputs": [
        {
          "data": {
            "text/plain": [
              "array([[15, 16, 17, 18]])"
            ]
          },
          "execution_count": 100,
          "metadata": {},
          "output_type": "execute_result"
        }
      ],
      "source": [
        "arr2"
      ]
    },
    {
      "cell_type": "code",
      "execution_count": null,
      "id": "cbc09157",
      "metadata": {
        "id": "cbc09157",
        "outputId": "7dd19d15-00b7-47db-c62f-0b6edded1166"
      },
      "outputs": [
        {
          "data": {
            "text/plain": [
              "array([[ 0,  1,  2,  3,  4],\n",
              "       [ 5,  6,  7,  8,  9],\n",
              "       [10, 11, 12, 13, 14],\n",
              "       [15, 16, 17, 18, 19],\n",
              "       [20, 21, 22, 23, 24]])"
            ]
          },
          "execution_count": 101,
          "metadata": {},
          "output_type": "execute_result"
        }
      ],
      "source": [
        "arr = np.arange(0, 25).reshape(5,5)\n",
        "arr"
      ]
    },
    {
      "cell_type": "code",
      "execution_count": null,
      "id": "e4ce85ad",
      "metadata": {
        "id": "e4ce85ad"
      },
      "outputs": [],
      "source": [
        "a1, a2, a3, a4, a5 = np.hsplit(arr, 5)"
      ]
    },
    {
      "cell_type": "code",
      "execution_count": null,
      "id": "fcd84717",
      "metadata": {
        "id": "fcd84717",
        "outputId": "9c9dea74-fa16-41c0-84d7-27161faeb929"
      },
      "outputs": [
        {
          "data": {
            "text/plain": [
              "array([[ 0],\n",
              "       [ 5],\n",
              "       [10],\n",
              "       [15],\n",
              "       [20]])"
            ]
          },
          "execution_count": 104,
          "metadata": {},
          "output_type": "execute_result"
        }
      ],
      "source": [
        "a1"
      ]
    },
    {
      "cell_type": "code",
      "execution_count": null,
      "id": "2c967625",
      "metadata": {
        "id": "2c967625"
      },
      "outputs": [],
      "source": [
        "# Saving the data to a file...."
      ]
    },
    {
      "cell_type": "code",
      "execution_count": null,
      "id": "b935cef8",
      "metadata": {
        "id": "b935cef8",
        "outputId": "554df982-8479-40e2-bc77-18dc6578d67a"
      },
      "outputs": [
        {
          "data": {
            "text/plain": [
              "array([[ 0,  1,  2,  3,  4],\n",
              "       [ 5,  6,  7,  8,  9],\n",
              "       [10, 11, 12, 13, 14],\n",
              "       [15, 16, 17, 18, 19],\n",
              "       [20, 21, 22, 23, 24]])"
            ]
          },
          "execution_count": 105,
          "metadata": {},
          "output_type": "execute_result"
        }
      ],
      "source": [
        "arr"
      ]
    },
    {
      "cell_type": "code",
      "execution_count": null,
      "id": "0ba19104",
      "metadata": {
        "id": "0ba19104"
      },
      "outputs": [],
      "source": [
        "np.savetxt('file1.txt', arr, fmt='%0.1f')"
      ]
    },
    {
      "cell_type": "code",
      "execution_count": null,
      "id": "0fb3a342",
      "metadata": {
        "id": "0fb3a342"
      },
      "outputs": [],
      "source": [
        "np.savetxt('file1.txt', arr, fmt='%d')"
      ]
    },
    {
      "cell_type": "code",
      "execution_count": null,
      "id": "a433c980",
      "metadata": {
        "id": "a433c980",
        "outputId": "6e68fa72-5bd3-495a-d2db-eab95f6b8a59"
      },
      "outputs": [
        {
          "name": "stdout",
          "output_type": "stream",
          "text": [
            "0 1 2 3 4\n",
            "5 6 7 8 9\n",
            "10 11 12 13 14\n",
            "15 16 17 18 19\n",
            "20 21 22 23 24\n",
            "\n"
          ]
        }
      ],
      "source": [
        "import os\n",
        "fp = open('file1.txt', 'r')\n",
        "contents = fp.read()\n",
        "print(contents)\n",
        "fp.close()"
      ]
    },
    {
      "cell_type": "code",
      "execution_count": null,
      "id": "0ab08a8a",
      "metadata": {
        "id": "0ab08a8a"
      },
      "outputs": [],
      "source": []
    },
    {
      "cell_type": "code",
      "execution_count": null,
      "id": "bffc0500",
      "metadata": {
        "id": "bffc0500"
      },
      "outputs": [],
      "source": []
    },
    {
      "cell_type": "code",
      "execution_count": null,
      "id": "a6b4999f",
      "metadata": {
        "id": "a6b4999f"
      },
      "outputs": [],
      "source": []
    },
    {
      "cell_type": "code",
      "execution_count": null,
      "id": "20567f3b",
      "metadata": {
        "id": "20567f3b"
      },
      "outputs": [],
      "source": []
    },
    {
      "cell_type": "code",
      "execution_count": null,
      "id": "b08d68a7",
      "metadata": {
        "id": "b08d68a7"
      },
      "outputs": [],
      "source": []
    },
    {
      "cell_type": "code",
      "execution_count": null,
      "id": "81300e37",
      "metadata": {
        "id": "81300e37"
      },
      "outputs": [],
      "source": []
    }
  ],
  "metadata": {
    "kernelspec": {
      "display_name": "Python 3 (ipykernel)",
      "language": "python",
      "name": "python3"
    },
    "language_info": {
      "codemirror_mode": {
        "name": "ipython",
        "version": 3
      },
      "file_extension": ".py",
      "mimetype": "text/x-python",
      "name": "python",
      "nbconvert_exporter": "python",
      "pygments_lexer": "ipython3",
      "version": "3.11.5"
    },
    "colab": {
      "provenance": []
    }
  },
  "nbformat": 4,
  "nbformat_minor": 5
}