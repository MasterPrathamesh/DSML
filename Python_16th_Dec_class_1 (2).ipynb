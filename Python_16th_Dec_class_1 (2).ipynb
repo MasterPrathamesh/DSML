{
  "cells": [
    {
      "cell_type": "code",
      "execution_count": null,
      "id": "f46b99e4",
      "metadata": {
        "id": "f46b99e4"
      },
      "outputs": [],
      "source": [
        "python - general purpose programming lanaguage,high level langauge, open-source\n",
        "\n",
        "Language? - English,French...."
      ]
    },
    {
      "cell_type": "code",
      "execution_count": null,
      "id": "cc6ca13b",
      "metadata": {
        "id": "cc6ca13b"
      },
      "outputs": [],
      "source": [
        "programming language? -\n",
        "\n",
        "computer - 0,1\n",
        "\n",
        "01110001"
      ]
    },
    {
      "cell_type": "code",
      "execution_count": null,
      "id": "8500cae1",
      "metadata": {
        "id": "8500cae1"
      },
      "outputs": [],
      "source": [
        "English -  interpreter(E,C)- Chinese"
      ]
    },
    {
      "cell_type": "code",
      "execution_count": null,
      "id": "b4172dc0",
      "metadata": {
        "id": "b4172dc0"
      },
      "outputs": [],
      "source": [
        "Python - translator - machine level language"
      ]
    },
    {
      "cell_type": "code",
      "execution_count": null,
      "id": "f7815a90",
      "metadata": {
        "id": "f7815a90"
      },
      "outputs": [],
      "source": [
        "General purpose?\n",
        "-> Web Developing - django,flask,bottle.....\n",
        "-> App Development - tkinter,\n",
        "-> Scipting -\n",
        "-> Networking -\n",
        "-> Data science/ ML - Numpy, pandas, scikit-learn....."
      ]
    },
    {
      "cell_type": "code",
      "execution_count": null,
      "id": "16f5fb80",
      "metadata": {
        "id": "16f5fb80"
      },
      "outputs": [],
      "source": [
        "Python - Guido Von Rossum - 1991 -hobby project\n"
      ]
    },
    {
      "cell_type": "code",
      "execution_count": null,
      "id": "2b4d2ced",
      "metadata": {
        "id": "2b4d2ced"
      },
      "outputs": [],
      "source": [
        "English Language- Letters A_Z - vowels(aeiou)/consonants/semi-vowels,words, sentence, grammar\n",
        "\n",
        "Python Language - tokens -> Literals,Operator,identifier,keywords\n",
        "\n",
        "Literals -\n",
        "1.String - 'abc',\"124\"\n",
        "2.Numeric - 100,120,45.50,\n",
        "3. Boolean - True, False\n",
        "4.Special - None,\n",
        "5.Collection - List,tuple,set,dictionary\n"
      ]
    },
    {
      "cell_type": "code",
      "execution_count": null,
      "id": "280df13c",
      "metadata": {
        "id": "280df13c"
      },
      "outputs": [],
      "source": [
        "Keywords - Reserved words"
      ]
    },
    {
      "cell_type": "code",
      "execution_count": null,
      "id": "386c87e5",
      "metadata": {
        "id": "386c87e5"
      },
      "outputs": [],
      "source": [
        "identifier - that helps to identify, name for particular variuable,function or classes to differentiate\n",
        "them from one another\n",
        "\n"
      ]
    },
    {
      "cell_type": "code",
      "execution_count": null,
      "id": "95fcbaad",
      "metadata": {
        "id": "95fcbaad"
      },
      "outputs": [],
      "source": [
        "Variable- means that varies\n",
        "\n",
        "1. Variable name written in upper case/lower case should be considered different values\n",
        "abc,ABC - Python is a case sensitive language\n",
        "\n",
        "2. Variable name can't start with digit - 1abc(not acceptable), abc1,ab1c(acceptable)\n",
        "3. Variable name can't incluse whitespace in between them , we can use underscore (_) in between\n",
        "varible name\n",
        "4. Variable name can't contains any special character in beetween them  - !@#$%^&*?......\n",
        "5. Reserved keywords can't be used as variable name"
      ]
    },
    {
      "cell_type": "code",
      "execution_count": null,
      "id": "8fdefee1",
      "metadata": {
        "id": "8fdefee1"
      },
      "outputs": [],
      "source": [
        "abc = 10"
      ]
    },
    {
      "cell_type": "code",
      "execution_count": null,
      "id": "502ff919",
      "metadata": {
        "id": "502ff919",
        "outputId": "ba536e99-7d3f-4f30-c7f2-35fb3dc1e58f"
      },
      "outputs": [
        {
          "ename": "NameError",
          "evalue": "name 'ABC' is not defined",
          "output_type": "error",
          "traceback": [
            "\u001b[1;31m---------------------------------------------------------------------------\u001b[0m",
            "\u001b[1;31mNameError\u001b[0m                                 Traceback (most recent call last)",
            "\u001b[1;32m<ipython-input-3-2fd8cc483600>\u001b[0m in \u001b[0;36m<module>\u001b[1;34m\u001b[0m\n\u001b[1;32m----> 1\u001b[1;33m \u001b[0mprint\u001b[0m\u001b[1;33m(\u001b[0m\u001b[0mABC\u001b[0m\u001b[1;33m)\u001b[0m\u001b[1;33m\u001b[0m\u001b[1;33m\u001b[0m\u001b[0m\n\u001b[0m",
            "\u001b[1;31mNameError\u001b[0m: name 'ABC' is not defined"
          ]
        }
      ],
      "source": [
        "print(ABC)"
      ]
    },
    {
      "cell_type": "code",
      "execution_count": null,
      "id": "3cb310ad",
      "metadata": {
        "id": "3cb310ad",
        "outputId": "67540bef-960c-4a10-86dd-fad0aed3859e"
      },
      "outputs": [
        {
          "ename": "SyntaxError",
          "evalue": "invalid syntax (<ipython-input-4-7acd9157b695>, line 1)",
          "output_type": "error",
          "traceback": [
            "\u001b[1;36m  File \u001b[1;32m\"<ipython-input-4-7acd9157b695>\"\u001b[1;36m, line \u001b[1;32m1\u001b[0m\n\u001b[1;33m    1abc = 20\u001b[0m\n\u001b[1;37m       ^\u001b[0m\n\u001b[1;31mSyntaxError\u001b[0m\u001b[1;31m:\u001b[0m invalid syntax\n"
          ]
        }
      ],
      "source": [
        "1abc = 20"
      ]
    },
    {
      "cell_type": "code",
      "execution_count": null,
      "id": "94f31b48",
      "metadata": {
        "id": "94f31b48"
      },
      "outputs": [],
      "source": [
        "abc1= 30"
      ]
    },
    {
      "cell_type": "code",
      "execution_count": null,
      "id": "5adc85ef",
      "metadata": {
        "id": "5adc85ef",
        "outputId": "8615717a-a312-4caf-9554-fb2f05ee0ef3"
      },
      "outputs": [
        {
          "name": "stdout",
          "output_type": "stream",
          "text": [
            "30\n"
          ]
        }
      ],
      "source": [
        "print(abc1)"
      ]
    },
    {
      "cell_type": "code",
      "execution_count": null,
      "id": "1c0bb14e",
      "metadata": {
        "id": "1c0bb14e"
      },
      "outputs": [],
      "source": [
        "ab1c = 40"
      ]
    },
    {
      "cell_type": "code",
      "execution_count": null,
      "id": "9aca77fc",
      "metadata": {
        "id": "9aca77fc",
        "outputId": "3898727f-dc3e-47ee-881a-f3540af7f05a"
      },
      "outputs": [
        {
          "name": "stdout",
          "output_type": "stream",
          "text": [
            "40\n"
          ]
        }
      ],
      "source": [
        "print(ab1c)"
      ]
    },
    {
      "cell_type": "code",
      "execution_count": null,
      "id": "d494bab5",
      "metadata": {
        "id": "d494bab5",
        "outputId": "b84b06b6-4b74-4ad8-c186-732da19e7cf5"
      },
      "outputs": [
        {
          "ename": "SyntaxError",
          "evalue": "invalid syntax (<ipython-input-11-0885fd54ac7a>, line 1)",
          "output_type": "error",
          "traceback": [
            "\u001b[1;36m  File \u001b[1;32m\"<ipython-input-11-0885fd54ac7a>\"\u001b[1;36m, line \u001b[1;32m1\u001b[0m\n\u001b[1;33m    ab c = 10\u001b[0m\n\u001b[1;37m       ^\u001b[0m\n\u001b[1;31mSyntaxError\u001b[0m\u001b[1;31m:\u001b[0m invalid syntax\n"
          ]
        }
      ],
      "source": [
        "ab c = 10"
      ]
    },
    {
      "cell_type": "code",
      "execution_count": null,
      "id": "74496b38",
      "metadata": {
        "id": "74496b38"
      },
      "outputs": [],
      "source": [
        "ab_c = 10"
      ]
    },
    {
      "cell_type": "code",
      "execution_count": null,
      "id": "330a640b",
      "metadata": {
        "id": "330a640b",
        "outputId": "da939292-cc96-4fd4-b667-3616adc6f931"
      },
      "outputs": [
        {
          "name": "stdout",
          "output_type": "stream",
          "text": [
            "10\n"
          ]
        }
      ],
      "source": [
        "print(ab_c)"
      ]
    },
    {
      "cell_type": "code",
      "execution_count": null,
      "id": "ff9f6f48",
      "metadata": {
        "scrolled": true,
        "id": "ff9f6f48",
        "outputId": "a7a41142-d460-4435-f8c6-24cc423e0cc6"
      },
      "outputs": [
        {
          "ename": "SyntaxError",
          "evalue": "invalid syntax (<ipython-input-16-1041942133ae>, line 1)",
          "output_type": "error",
          "traceback": [
            "\u001b[1;36m  File \u001b[1;32m\"<ipython-input-16-1041942133ae>\"\u001b[1;36m, line \u001b[1;32m1\u001b[0m\n\u001b[1;33m    for = 32\u001b[0m\n\u001b[1;37m        ^\u001b[0m\n\u001b[1;31mSyntaxError\u001b[0m\u001b[1;31m:\u001b[0m invalid syntax\n"
          ]
        }
      ],
      "source": [
        "for = 32"
      ]
    },
    {
      "cell_type": "code",
      "execution_count": null,
      "id": "8ac7b1a5",
      "metadata": {
        "id": "8ac7b1a5"
      },
      "outputs": [],
      "source": [
        "operator - that operates two variables\n",
        "\n",
        "Arithmatic - +,-,*,/,//,%\n",
        "Comparison\n",
        "Assignment =,+=,-=,*=....\n",
        "logical - and or\n",
        "Bitwise -\n",
        "identity - is, is not\n",
        "membership - in, not in..\n"
      ]
    },
    {
      "cell_type": "code",
      "execution_count": null,
      "id": "7dc1a9c2",
      "metadata": {
        "id": "7dc1a9c2",
        "outputId": "4ea49fb0-47fe-4961-860d-90eea3f76768"
      },
      "outputs": [
        {
          "data": {
            "text/plain": [
              "30"
            ]
          },
          "execution_count": 17,
          "metadata": {},
          "output_type": "execute_result"
        }
      ],
      "source": [
        "#Arithmatic\n",
        "10 + 20"
      ]
    },
    {
      "cell_type": "code",
      "execution_count": null,
      "id": "0b1e384a",
      "metadata": {
        "id": "0b1e384a",
        "outputId": "b590c8f0-6168-452e-a8a5-25c89f0ba428"
      },
      "outputs": [
        {
          "data": {
            "text/plain": [
              "10"
            ]
          },
          "execution_count": 18,
          "metadata": {},
          "output_type": "execute_result"
        }
      ],
      "source": [
        "20 -10"
      ]
    },
    {
      "cell_type": "code",
      "execution_count": null,
      "id": "359ed808",
      "metadata": {
        "id": "359ed808",
        "outputId": "88945a71-80c3-4d81-c2f7-ecabb9616ee5"
      },
      "outputs": [
        {
          "data": {
            "text/plain": [
              "3.4"
            ]
          },
          "execution_count": 19,
          "metadata": {},
          "output_type": "execute_result"
        }
      ],
      "source": [
        "# / - division\n",
        "# // - floor division\n",
        "\n",
        "17/5"
      ]
    },
    {
      "cell_type": "code",
      "execution_count": null,
      "id": "38a90d81",
      "metadata": {
        "id": "38a90d81"
      },
      "outputs": [],
      "source": [
        "17 = 5*3+2"
      ]
    },
    {
      "cell_type": "code",
      "execution_count": null,
      "id": "2a3dd88c",
      "metadata": {
        "id": "2a3dd88c",
        "outputId": "d71c02ac-98d7-4e04-b60a-372ed212a425"
      },
      "outputs": [
        {
          "data": {
            "text/plain": [
              "3"
            ]
          },
          "execution_count": 20,
          "metadata": {},
          "output_type": "execute_result"
        }
      ],
      "source": [
        "17//5"
      ]
    },
    {
      "cell_type": "code",
      "execution_count": null,
      "id": "f2fc232a",
      "metadata": {
        "id": "f2fc232a",
        "outputId": "fc5064f1-b26c-4474-ed1f-bda6835bdc30"
      },
      "outputs": [
        {
          "data": {
            "text/plain": [
              "2"
            ]
          },
          "execution_count": 21,
          "metadata": {},
          "output_type": "execute_result"
        }
      ],
      "source": [
        "#% - (moudulo)- remainder\n",
        "17%5"
      ]
    },
    {
      "cell_type": "code",
      "execution_count": null,
      "id": "fa8bc17d",
      "metadata": {
        "id": "fa8bc17d",
        "outputId": "c78b2c64-c342-4ad8-a2a5-033b13eeab77"
      },
      "outputs": [
        {
          "data": {
            "text/plain": [
              "12"
            ]
          },
          "execution_count": 22,
          "metadata": {},
          "output_type": "execute_result"
        }
      ],
      "source": [
        "3*4"
      ]
    },
    {
      "cell_type": "code",
      "execution_count": null,
      "id": "32d59f9f",
      "metadata": {
        "id": "32d59f9f",
        "outputId": "cdc9961c-3f47-46ec-a9c6-b86e44aefaf7"
      },
      "outputs": [
        {
          "data": {
            "text/plain": [
              "81"
            ]
          },
          "execution_count": 23,
          "metadata": {},
          "output_type": "execute_result"
        }
      ],
      "source": [
        "3**4"
      ]
    },
    {
      "cell_type": "code",
      "execution_count": null,
      "id": "ce85385c",
      "metadata": {
        "id": "ce85385c"
      },
      "outputs": [],
      "source": [
        "#assignment operator\n",
        "a = 10"
      ]
    },
    {
      "cell_type": "code",
      "execution_count": null,
      "id": "fb3e7b55",
      "metadata": {
        "id": "fb3e7b55",
        "outputId": "ffe05d20-d55d-49e3-954f-a4c8311321ba"
      },
      "outputs": [
        {
          "name": "stdout",
          "output_type": "stream",
          "text": [
            "10\n"
          ]
        }
      ],
      "source": [
        "print(a)"
      ]
    },
    {
      "cell_type": "code",
      "execution_count": null,
      "id": "60fddceb",
      "metadata": {
        "id": "60fddceb",
        "outputId": "2ed19002-c907-4d38-f856-f1b3099e442c"
      },
      "outputs": [
        {
          "name": "stdout",
          "output_type": "stream",
          "text": [
            "15\n"
          ]
        }
      ],
      "source": [
        "a = a + 5\n",
        "print(a)"
      ]
    },
    {
      "cell_type": "code",
      "execution_count": null,
      "id": "7e797293",
      "metadata": {
        "id": "7e797293",
        "outputId": "f7b38c51-7825-4491-a37f-ee2c9157a8bb"
      },
      "outputs": [
        {
          "name": "stdout",
          "output_type": "stream",
          "text": [
            "20\n"
          ]
        }
      ],
      "source": [
        "a += 5  #a = a + 5\n",
        "print(a)"
      ]
    },
    {
      "cell_type": "code",
      "execution_count": null,
      "id": "dc7fcb03",
      "metadata": {
        "id": "dc7fcb03",
        "outputId": "b53f4f3a-af5f-4529-c306-a93f1019f1c3"
      },
      "outputs": [
        {
          "name": "stdout",
          "output_type": "stream",
          "text": [
            "10\n"
          ]
        }
      ],
      "source": [
        "a -= 10 #a = a - 10\n",
        "print(a)"
      ]
    },
    {
      "cell_type": "code",
      "execution_count": null,
      "id": "5fe2af60",
      "metadata": {
        "id": "5fe2af60",
        "outputId": "89a1fdd4-0ff6-4939-d860-b798cdd2eb19"
      },
      "outputs": [
        {
          "name": "stdout",
          "output_type": "stream",
          "text": [
            "100\n"
          ]
        }
      ],
      "source": [
        "a *= 10   #a = a * 10\n",
        "print(a)"
      ]
    },
    {
      "cell_type": "code",
      "execution_count": null,
      "id": "ff3307e5",
      "metadata": {
        "id": "ff3307e5",
        "outputId": "6d762e8e-acbb-4f0c-86d4-98ac6c4a2bcc"
      },
      "outputs": [
        {
          "name": "stdout",
          "output_type": "stream",
          "text": [
            "50.0\n"
          ]
        }
      ],
      "source": [
        "a /= 2 #a = a / 2\n",
        "print(a)"
      ]
    },
    {
      "cell_type": "code",
      "execution_count": null,
      "id": "166bd0dd",
      "metadata": {
        "id": "166bd0dd"
      },
      "outputs": [],
      "source": [
        "#comparison\n",
        "x= 20\n",
        "y = 30"
      ]
    },
    {
      "cell_type": "code",
      "execution_count": null,
      "id": "4685dc91",
      "metadata": {
        "id": "4685dc91",
        "outputId": "8f06d683-b5be-4e22-b834-54fe5026d321"
      },
      "outputs": [
        {
          "data": {
            "text/plain": [
              "False"
            ]
          },
          "execution_count": 32,
          "metadata": {},
          "output_type": "execute_result"
        }
      ],
      "source": [
        "x > y  #> - greater than opertaor"
      ]
    },
    {
      "cell_type": "code",
      "execution_count": null,
      "id": "43690573",
      "metadata": {
        "id": "43690573",
        "outputId": "929b28ac-146f-4860-dfc4-1c19ef507f99"
      },
      "outputs": [
        {
          "data": {
            "text/plain": [
              "True"
            ]
          },
          "execution_count": 33,
          "metadata": {},
          "output_type": "execute_result"
        }
      ],
      "source": [
        "x < y # #< - smaller than opertaor"
      ]
    },
    {
      "cell_type": "code",
      "execution_count": null,
      "id": "7f0edb82",
      "metadata": {
        "id": "7f0edb82"
      },
      "outputs": [],
      "source": [
        "z = 20"
      ]
    },
    {
      "cell_type": "code",
      "execution_count": null,
      "id": "bdcad275",
      "metadata": {
        "id": "bdcad275",
        "outputId": "c821dd26-bf5f-4bf9-f810-9ec340f71c70"
      },
      "outputs": [
        {
          "data": {
            "text/plain": [
              "False"
            ]
          },
          "execution_count": 35,
          "metadata": {},
          "output_type": "execute_result"
        }
      ],
      "source": [
        "x >= y"
      ]
    },
    {
      "cell_type": "code",
      "execution_count": null,
      "id": "764ca345",
      "metadata": {
        "scrolled": true,
        "id": "764ca345",
        "outputId": "5c27597d-1772-4e13-d9ad-691a17dd025b"
      },
      "outputs": [
        {
          "data": {
            "text/plain": [
              "True"
            ]
          },
          "execution_count": 36,
          "metadata": {},
          "output_type": "execute_result"
        }
      ],
      "source": [
        "x >= z"
      ]
    },
    {
      "cell_type": "code",
      "execution_count": null,
      "id": "6d084ca0",
      "metadata": {
        "scrolled": true,
        "id": "6d084ca0",
        "outputId": "3299825d-b61b-411c-d195-ebdc16dce0d1"
      },
      "outputs": [
        {
          "data": {
            "text/plain": [
              "True"
            ]
          },
          "execution_count": 37,
          "metadata": {},
          "output_type": "execute_result"
        }
      ],
      "source": [
        "x <= y"
      ]
    },
    {
      "cell_type": "code",
      "execution_count": null,
      "id": "a6b320c1",
      "metadata": {
        "scrolled": true,
        "id": "a6b320c1",
        "outputId": "e6d4e061-085d-43e2-ba7c-e4ef7c586d35"
      },
      "outputs": [
        {
          "data": {
            "text/plain": [
              "True"
            ]
          },
          "execution_count": 38,
          "metadata": {},
          "output_type": "execute_result"
        }
      ],
      "source": [
        "x <= z"
      ]
    },
    {
      "cell_type": "code",
      "execution_count": null,
      "id": "f8639784",
      "metadata": {
        "scrolled": true,
        "id": "f8639784",
        "outputId": "88b61142-91ef-4fd4-81f9-fc641420b357"
      },
      "outputs": [
        {
          "data": {
            "text/plain": [
              "True"
            ]
          },
          "execution_count": 39,
          "metadata": {},
          "output_type": "execute_result"
        }
      ],
      "source": [
        "x != y #not equal to"
      ]
    },
    {
      "cell_type": "code",
      "execution_count": null,
      "id": "fb22d0cd",
      "metadata": {
        "scrolled": true,
        "id": "fb22d0cd",
        "outputId": "93066526-95c8-4cdc-9a44-cd54d30a0b9f"
      },
      "outputs": [
        {
          "data": {
            "text/plain": [
              "False"
            ]
          },
          "execution_count": 40,
          "metadata": {},
          "output_type": "execute_result"
        }
      ],
      "source": [
        "x != z"
      ]
    },
    {
      "cell_type": "code",
      "execution_count": null,
      "id": "2143a37f",
      "metadata": {
        "id": "2143a37f",
        "outputId": "bd2b9449-ea9c-451d-a800-92bf4596a313"
      },
      "outputs": [
        {
          "data": {
            "text/plain": [
              "True"
            ]
          },
          "execution_count": 41,
          "metadata": {},
          "output_type": "execute_result"
        }
      ],
      "source": [
        "x == z  #equal to"
      ]
    },
    {
      "cell_type": "code",
      "execution_count": null,
      "id": "bbe1e9fe",
      "metadata": {
        "id": "bbe1e9fe",
        "outputId": "c8c57e2d-3add-4594-f1c3-012408d1904f"
      },
      "outputs": [
        {
          "data": {
            "text/plain": [
              "True"
            ]
          },
          "execution_count": 42,
          "metadata": {},
          "output_type": "execute_result"
        }
      ],
      "source": [
        "#logical condition\n",
        "(x < y) and (x == z)"
      ]
    },
    {
      "cell_type": "code",
      "execution_count": null,
      "id": "6ec0fdbd",
      "metadata": {
        "scrolled": true,
        "id": "6ec0fdbd",
        "outputId": "e125fca6-bf2b-425c-bd95-b491c1011399"
      },
      "outputs": [
        {
          "data": {
            "text/plain": [
              "False"
            ]
          },
          "execution_count": 43,
          "metadata": {},
          "output_type": "execute_result"
        }
      ],
      "source": [
        "(x > y) and (x == z)"
      ]
    },
    {
      "cell_type": "code",
      "execution_count": null,
      "id": "0f41b5e5",
      "metadata": {
        "id": "0f41b5e5",
        "outputId": "ae9011f0-2f8e-4e07-d040-8d61df83be27"
      },
      "outputs": [
        {
          "data": {
            "text/plain": [
              "False"
            ]
          },
          "execution_count": 44,
          "metadata": {},
          "output_type": "execute_result"
        }
      ],
      "source": [
        "(x < y) and (x == z) and (z > y)"
      ]
    },
    {
      "cell_type": "code",
      "execution_count": null,
      "id": "6160aa00",
      "metadata": {
        "id": "6160aa00"
      },
      "outputs": [],
      "source": [
        "and conditions -\n",
        "\n",
        "True False -> False\n",
        "False True -> False\n",
        "False False -> False\n",
        "True True -> True"
      ]
    },
    {
      "cell_type": "code",
      "execution_count": null,
      "id": "147ec33f",
      "metadata": {
        "id": "147ec33f"
      },
      "outputs": [],
      "source": [
        "or condtions\n",
        "True False -> True\n",
        "False True -> True\n",
        "False False -> False\n",
        "True True -> True"
      ]
    },
    {
      "cell_type": "code",
      "execution_count": null,
      "id": "9fccfad7",
      "metadata": {
        "id": "9fccfad7",
        "outputId": "ad673211-a322-405c-e044-c34095a76676"
      },
      "outputs": [
        {
          "data": {
            "text/plain": [
              "True"
            ]
          },
          "execution_count": 45,
          "metadata": {},
          "output_type": "execute_result"
        }
      ],
      "source": [
        "(x < y) or (x == z)"
      ]
    },
    {
      "cell_type": "code",
      "execution_count": null,
      "id": "209a6fb9",
      "metadata": {
        "id": "209a6fb9",
        "outputId": "f48fc0b2-0e56-4c26-91d9-aec666904395"
      },
      "outputs": [
        {
          "data": {
            "text/plain": [
              "True"
            ]
          },
          "execution_count": 46,
          "metadata": {},
          "output_type": "execute_result"
        }
      ],
      "source": [
        "(x > y) or (x == z)"
      ]
    },
    {
      "cell_type": "code",
      "execution_count": null,
      "id": "fa7a4889",
      "metadata": {
        "id": "fa7a4889",
        "outputId": "f9de9426-5e32-422c-8690-c5791b23a1be"
      },
      "outputs": [
        {
          "data": {
            "text/plain": [
              "True"
            ]
          },
          "execution_count": 47,
          "metadata": {},
          "output_type": "execute_result"
        }
      ],
      "source": [
        "(x < y) and (x == z) or (z > y)"
      ]
    },
    {
      "cell_type": "code",
      "execution_count": null,
      "id": "a0d20912",
      "metadata": {
        "id": "a0d20912"
      },
      "outputs": [],
      "source": [
        "#Bitwise operator\n",
        "#Binary - 0,1\n",
        "#Decimal - 0-9\n",
        "#octal - 0-7\n",
        "#Hexadecimal - 0-9,A,B,C,D,E,F"
      ]
    },
    {
      "cell_type": "code",
      "execution_count": null,
      "id": "8dc5a3ee",
      "metadata": {
        "id": "8dc5a3ee"
      },
      "outputs": [],
      "source": [
        "p = 2\n",
        "q = 3"
      ]
    },
    {
      "cell_type": "code",
      "execution_count": null,
      "id": "2514c54e",
      "metadata": {
        "id": "2514c54e",
        "outputId": "90a87bb8-b0b7-4f17-91af-782ebb2d69f7"
      },
      "outputs": [
        {
          "data": {
            "text/plain": [
              "'0b10'"
            ]
          },
          "execution_count": 49,
          "metadata": {},
          "output_type": "execute_result"
        }
      ],
      "source": [
        "bin(p)"
      ]
    },
    {
      "cell_type": "code",
      "execution_count": null,
      "id": "e649cba0",
      "metadata": {
        "id": "e649cba0",
        "outputId": "9e29be95-fb99-4196-c2f0-3210c9a6d61e"
      },
      "outputs": [
        {
          "data": {
            "text/plain": [
              "'0b11'"
            ]
          },
          "execution_count": 50,
          "metadata": {},
          "output_type": "execute_result"
        }
      ],
      "source": [
        "bin(3)"
      ]
    },
    {
      "cell_type": "code",
      "execution_count": null,
      "id": "7b4e8b1b",
      "metadata": {
        "id": "7b4e8b1b"
      },
      "outputs": [],
      "source": [
        "and - nromal and operation ,\n",
        "& - bitwise and operation"
      ]
    },
    {
      "cell_type": "code",
      "execution_count": null,
      "id": "558a282f",
      "metadata": {
        "id": "558a282f",
        "outputId": "d604c522-7ed8-4e82-feca-3e974a7bdae2"
      },
      "outputs": [
        {
          "data": {
            "text/plain": [
              "2"
            ]
          },
          "execution_count": 53,
          "metadata": {},
          "output_type": "execute_result"
        }
      ],
      "source": [
        "p & q"
      ]
    },
    {
      "cell_type": "code",
      "execution_count": null,
      "id": "54aab61f",
      "metadata": {
        "scrolled": false,
        "id": "54aab61f",
        "outputId": "b8a53150-bf95-4ac7-f355-82d3f1860e29"
      },
      "outputs": [
        {
          "data": {
            "text/plain": [
              "3"
            ]
          },
          "execution_count": 54,
          "metadata": {},
          "output_type": "execute_result"
        }
      ],
      "source": [
        "p and q"
      ]
    },
    {
      "cell_type": "code",
      "execution_count": null,
      "id": "1959251e",
      "metadata": {
        "id": "1959251e",
        "outputId": "aebb647d-4c77-40d1-e6b3-68afa6a50014"
      },
      "outputs": [
        {
          "data": {
            "text/plain": [
              "2"
            ]
          },
          "execution_count": 56,
          "metadata": {},
          "output_type": "execute_result"
        }
      ],
      "source": [
        "q and p"
      ]
    },
    {
      "cell_type": "code",
      "execution_count": null,
      "id": "7452edaa",
      "metadata": {
        "scrolled": true,
        "id": "7452edaa",
        "outputId": "465d72fb-e070-4264-e635-3ecaf717d982"
      },
      "outputs": [
        {
          "data": {
            "text/plain": [
              "3"
            ]
          },
          "execution_count": 55,
          "metadata": {},
          "output_type": "execute_result"
        }
      ],
      "source": [
        "p | q"
      ]
    },
    {
      "cell_type": "code",
      "execution_count": null,
      "id": "0f69d2a4",
      "metadata": {
        "id": "0f69d2a4",
        "outputId": "1c65e817-6207-4dc4-c4b0-21ffa520a8d5"
      },
      "outputs": [
        {
          "data": {
            "text/plain": [
              "2"
            ]
          },
          "execution_count": 57,
          "metadata": {},
          "output_type": "execute_result"
        }
      ],
      "source": [
        "p or q"
      ]
    },
    {
      "cell_type": "code",
      "execution_count": null,
      "id": "0cedc572",
      "metadata": {
        "scrolled": true,
        "id": "0cedc572",
        "outputId": "70104680-bc58-423e-aedc-764845347cf5"
      },
      "outputs": [
        {
          "data": {
            "text/plain": [
              "3"
            ]
          },
          "execution_count": 58,
          "metadata": {},
          "output_type": "execute_result"
        }
      ],
      "source": [
        "q or p"
      ]
    },
    {
      "cell_type": "code",
      "execution_count": null,
      "id": "c7be73c0",
      "metadata": {
        "id": "c7be73c0"
      },
      "outputs": [],
      "source": [
        "p = 2\n",
        "q= 0\n"
      ]
    },
    {
      "cell_type": "code",
      "execution_count": null,
      "id": "0ac000a4",
      "metadata": {
        "scrolled": false,
        "id": "0ac000a4",
        "outputId": "36b27408-ae02-411b-c47f-7a770fee4b85"
      },
      "outputs": [
        {
          "data": {
            "text/plain": [
              "0"
            ]
          },
          "execution_count": 60,
          "metadata": {},
          "output_type": "execute_result"
        }
      ],
      "source": [
        "p and q"
      ]
    },
    {
      "cell_type": "code",
      "execution_count": null,
      "id": "f501011c",
      "metadata": {
        "id": "f501011c",
        "outputId": "f893e038-bff4-40d0-f88d-6176b4e55cf1"
      },
      "outputs": [
        {
          "data": {
            "text/plain": [
              "0"
            ]
          },
          "execution_count": 61,
          "metadata": {},
          "output_type": "execute_result"
        }
      ],
      "source": [
        "q and p"
      ]
    },
    {
      "cell_type": "code",
      "execution_count": null,
      "id": "a488c78e",
      "metadata": {
        "id": "a488c78e",
        "outputId": "f0909668-db45-40fd-8190-07678cbc4d9f"
      },
      "outputs": [
        {
          "data": {
            "text/plain": [
              "2"
            ]
          },
          "execution_count": 62,
          "metadata": {},
          "output_type": "execute_result"
        }
      ],
      "source": [
        "p or q"
      ]
    },
    {
      "cell_type": "code",
      "execution_count": null,
      "id": "0deca13c",
      "metadata": {
        "scrolled": true,
        "id": "0deca13c",
        "outputId": "ad71677f-33e9-4c6e-ffc9-e52159db8323"
      },
      "outputs": [
        {
          "data": {
            "text/plain": [
              "2"
            ]
          },
          "execution_count": 63,
          "metadata": {},
          "output_type": "execute_result"
        }
      ],
      "source": [
        "q or p"
      ]
    },
    {
      "cell_type": "code",
      "execution_count": null,
      "id": "09b29a66",
      "metadata": {
        "id": "09b29a66"
      },
      "outputs": [],
      "source": []
    },
    {
      "cell_type": "code",
      "execution_count": null,
      "id": "523e3572",
      "metadata": {
        "id": "523e3572"
      },
      "outputs": [],
      "source": []
    },
    {
      "cell_type": "code",
      "execution_count": null,
      "id": "6e711b42",
      "metadata": {
        "id": "6e711b42"
      },
      "outputs": [],
      "source": []
    },
    {
      "cell_type": "code",
      "execution_count": null,
      "id": "11555773",
      "metadata": {
        "id": "11555773"
      },
      "outputs": [],
      "source": []
    },
    {
      "cell_type": "code",
      "execution_count": null,
      "id": "53a49c7e",
      "metadata": {
        "id": "53a49c7e"
      },
      "outputs": [],
      "source": []
    },
    {
      "cell_type": "code",
      "execution_count": null,
      "id": "769dabc0",
      "metadata": {
        "id": "769dabc0"
      },
      "outputs": [],
      "source": []
    }
  ],
  "metadata": {
    "kernelspec": {
      "display_name": "Python 3",
      "language": "python",
      "name": "python3"
    },
    "language_info": {
      "codemirror_mode": {
        "name": "ipython",
        "version": 3
      },
      "file_extension": ".py",
      "mimetype": "text/x-python",
      "name": "python",
      "nbconvert_exporter": "python",
      "pygments_lexer": "ipython3",
      "version": "3.7.1"
    },
    "colab": {
      "provenance": []
    }
  },
  "nbformat": 4,
  "nbformat_minor": 5
}