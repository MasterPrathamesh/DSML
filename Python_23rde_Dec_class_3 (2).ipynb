{
  "cells": [
    {
      "cell_type": "code",
      "execution_count": null,
      "id": "cbeca492",
      "metadata": {
        "id": "cbeca492"
      },
      "outputs": [],
      "source": [
        "#left shift operator\n",
        "#right shift operator\n",
        "\n",
        "p = 5\n"
      ]
    },
    {
      "cell_type": "code",
      "execution_count": null,
      "id": "019e7bd6",
      "metadata": {
        "scrolled": true,
        "id": "019e7bd6",
        "outputId": "8309c81d-dcf3-4bbe-bb0a-0a6f3f3d522a"
      },
      "outputs": [
        {
          "data": {
            "text/plain": [
              "'0b101'"
            ]
          },
          "execution_count": 6,
          "metadata": {},
          "output_type": "execute_result"
        }
      ],
      "source": [
        "bin(p)"
      ]
    },
    {
      "cell_type": "code",
      "execution_count": null,
      "id": "8c8e2c05",
      "metadata": {
        "scrolled": false,
        "id": "8c8e2c05",
        "outputId": "cce9851e-9d51-450c-84d5-dc23366485b2"
      },
      "outputs": [
        {
          "data": {
            "text/plain": [
              "2"
            ]
          },
          "execution_count": 7,
          "metadata": {},
          "output_type": "execute_result"
        }
      ],
      "source": [
        "p >> 1"
      ]
    },
    {
      "cell_type": "code",
      "execution_count": null,
      "id": "11769238",
      "metadata": {
        "id": "11769238",
        "outputId": "3055643d-7937-41fb-8d56-ccd812ba4de1"
      },
      "outputs": [
        {
          "data": {
            "text/plain": [
              "'0b10'"
            ]
          },
          "execution_count": 8,
          "metadata": {},
          "output_type": "execute_result"
        }
      ],
      "source": [
        "bin(2)"
      ]
    },
    {
      "cell_type": "code",
      "execution_count": null,
      "id": "92a45d18",
      "metadata": {
        "scrolled": true,
        "id": "92a45d18",
        "outputId": "ede74ee0-d2a0-4692-897c-00baa382a0ff"
      },
      "outputs": [
        {
          "data": {
            "text/plain": [
              "10"
            ]
          },
          "execution_count": 9,
          "metadata": {},
          "output_type": "execute_result"
        }
      ],
      "source": [
        "p << 1"
      ]
    },
    {
      "cell_type": "code",
      "execution_count": null,
      "id": "fb465eff",
      "metadata": {
        "id": "fb465eff"
      },
      "outputs": [],
      "source": [
        "101\n",
        "\n",
        "1*2^2+0*2^1+1*2^0"
      ]
    },
    {
      "cell_type": "code",
      "execution_count": null,
      "id": "3f28beba",
      "metadata": {
        "id": "3f28beba"
      },
      "outputs": [],
      "source": [
        "name = 'Ravi'"
      ]
    },
    {
      "cell_type": "code",
      "execution_count": null,
      "id": "fb935fed",
      "metadata": {
        "id": "fb935fed",
        "outputId": "31f0d6e2-7bf4-4bfc-da90-2ae6f55b459c"
      },
      "outputs": [
        {
          "name": "stdout",
          "output_type": "stream",
          "text": [
            "John\n"
          ]
        }
      ],
      "source": [
        "name = input()"
      ]
    },
    {
      "cell_type": "code",
      "execution_count": null,
      "id": "000ef3e8",
      "metadata": {
        "id": "000ef3e8",
        "outputId": "f13d8671-dc26-45fd-c1ee-7663724ac365"
      },
      "outputs": [
        {
          "name": "stdout",
          "output_type": "stream",
          "text": [
            "John\n"
          ]
        }
      ],
      "source": [
        "print(name)"
      ]
    },
    {
      "cell_type": "code",
      "execution_count": null,
      "id": "0269d925",
      "metadata": {
        "id": "0269d925",
        "outputId": "36247671-1609-46e7-891a-7719822eed8f"
      },
      "outputs": [
        {
          "name": "stdout",
          "output_type": "stream",
          "text": [
            "Enter your name: Yash\n"
          ]
        }
      ],
      "source": [
        "name = input('Enter your name: ')"
      ]
    },
    {
      "cell_type": "code",
      "execution_count": null,
      "id": "4eef3564",
      "metadata": {
        "id": "4eef3564",
        "outputId": "4355c66a-6e7f-4e28-88f7-f0a1473ddcd0"
      },
      "outputs": [
        {
          "name": "stdout",
          "output_type": "stream",
          "text": [
            "Yash\n"
          ]
        }
      ],
      "source": [
        "print(name)"
      ]
    },
    {
      "cell_type": "code",
      "execution_count": null,
      "id": "21f6170a",
      "metadata": {
        "id": "21f6170a",
        "outputId": "d04438ad-cd50-4b94-abcd-3c37d29e9ae5"
      },
      "outputs": [
        {
          "name": "stdout",
          "output_type": "stream",
          "text": [
            "Enter your age:23\n"
          ]
        }
      ],
      "source": [
        "age = input(\"Enter your age:\")"
      ]
    },
    {
      "cell_type": "code",
      "execution_count": null,
      "id": "b8c2a7e4",
      "metadata": {
        "id": "b8c2a7e4",
        "outputId": "cd0e50d5-f856-43e7-b738-800152edc02c"
      },
      "outputs": [
        {
          "data": {
            "text/plain": [
              "str"
            ]
          },
          "execution_count": 16,
          "metadata": {},
          "output_type": "execute_result"
        }
      ],
      "source": [
        "type(age)"
      ]
    },
    {
      "cell_type": "code",
      "execution_count": null,
      "id": "1919a0b4",
      "metadata": {
        "id": "1919a0b4",
        "outputId": "75d3c3c5-9c95-40f5-9a66-aaa9ba469280"
      },
      "outputs": [
        {
          "data": {
            "text/plain": [
              "'23'"
            ]
          },
          "execution_count": 17,
          "metadata": {},
          "output_type": "execute_result"
        }
      ],
      "source": [
        "age"
      ]
    },
    {
      "cell_type": "code",
      "execution_count": null,
      "id": "e580a008",
      "metadata": {
        "id": "e580a008",
        "outputId": "ce4e6216-eb3b-4c33-e650-4aea79b2b046"
      },
      "outputs": [
        {
          "data": {
            "text/plain": [
              "23"
            ]
          },
          "execution_count": 18,
          "metadata": {},
          "output_type": "execute_result"
        }
      ],
      "source": [
        "int(age)"
      ]
    },
    {
      "cell_type": "code",
      "execution_count": null,
      "id": "387da35d",
      "metadata": {
        "scrolled": true,
        "id": "387da35d",
        "outputId": "937117fd-e382-456d-a614-9cb03d2a38e8"
      },
      "outputs": [
        {
          "name": "stdout",
          "output_type": "stream",
          "text": [
            "Enter your age:40\n"
          ]
        }
      ],
      "source": [
        "age = int(input(\"Enter your age:\"))"
      ]
    },
    {
      "cell_type": "code",
      "execution_count": null,
      "id": "7f0a851c",
      "metadata": {
        "id": "7f0a851c"
      },
      "outputs": [],
      "source": []
    },
    {
      "cell_type": "code",
      "execution_count": null,
      "id": "d2ce179e",
      "metadata": {
        "scrolled": true,
        "id": "d2ce179e",
        "outputId": "cbe66b19-1b50-4ce1-cba1-106ac09e986a"
      },
      "outputs": [
        {
          "data": {
            "text/plain": [
              "int"
            ]
          },
          "execution_count": 20,
          "metadata": {},
          "output_type": "execute_result"
        }
      ],
      "source": [
        "type(age)"
      ]
    },
    {
      "cell_type": "code",
      "execution_count": null,
      "id": "67b070b9",
      "metadata": {
        "id": "67b070b9",
        "outputId": "23eaad51-bf84-4e5f-c1b8-0eefce1193ca"
      },
      "outputs": [
        {
          "name": "stdout",
          "output_type": "stream",
          "text": [
            "Enter your age:33\n"
          ]
        }
      ],
      "source": [
        "age = float(input(\"Enter your age:\"))"
      ]
    },
    {
      "cell_type": "code",
      "execution_count": null,
      "id": "7d773daf",
      "metadata": {
        "id": "7d773daf",
        "outputId": "ee062e14-8140-417a-de9a-586d0978a8e9"
      },
      "outputs": [
        {
          "data": {
            "text/plain": [
              "33.0"
            ]
          },
          "execution_count": 42,
          "metadata": {},
          "output_type": "execute_result"
        }
      ],
      "source": [
        "age"
      ]
    },
    {
      "cell_type": "code",
      "execution_count": null,
      "id": "e820b4ad",
      "metadata": {
        "id": "e820b4ad"
      },
      "outputs": [],
      "source": [
        "#data types\n",
        "1.number\n",
        "2.strings\n",
        "3.boolean\n",
        "4.list\n",
        "5.tuple\n",
        "6.set\n",
        "7. dictionary"
      ]
    },
    {
      "cell_type": "code",
      "execution_count": null,
      "id": "b78b9938",
      "metadata": {
        "id": "b78b9938"
      },
      "outputs": [],
      "source": [
        "#numbers\n",
        "1.integer - whole number +12,-30,0,45,-50\n",
        "2. float - 2.3,-7.6,8.5\n",
        "3. complex number -"
      ]
    },
    {
      "cell_type": "code",
      "execution_count": null,
      "id": "c53d858f",
      "metadata": {
        "id": "c53d858f",
        "outputId": "60b558fe-20e9-42e6-b89e-8b2ef5268e41"
      },
      "outputs": [
        {
          "name": "stdout",
          "output_type": "stream",
          "text": [
            "<class 'int'>\n"
          ]
        }
      ],
      "source": [
        "#integer to float\n",
        "x = 10\n",
        "print(type(x))"
      ]
    },
    {
      "cell_type": "code",
      "execution_count": null,
      "id": "34b6674b",
      "metadata": {
        "id": "34b6674b",
        "outputId": "ea329303-2636-42cb-bd9e-f14abaeb98f4"
      },
      "outputs": [
        {
          "name": "stdout",
          "output_type": "stream",
          "text": [
            "<class 'float'>\n"
          ]
        }
      ],
      "source": [
        "y = float(x)\n",
        "print(type(y))"
      ]
    },
    {
      "cell_type": "code",
      "execution_count": null,
      "id": "997e7e95",
      "metadata": {
        "id": "997e7e95",
        "outputId": "58e1173d-675f-4f09-a861-c21ef77b86c7"
      },
      "outputs": [
        {
          "name": "stdout",
          "output_type": "stream",
          "text": [
            "10\n",
            "10.0\n"
          ]
        }
      ],
      "source": [
        "print(x)\n",
        "print(y)"
      ]
    },
    {
      "cell_type": "code",
      "execution_count": null,
      "id": "b8e400b9",
      "metadata": {
        "id": "b8e400b9",
        "outputId": "4d828134-ed3b-46da-c572-c83d5339b9b2"
      },
      "outputs": [
        {
          "name": "stdout",
          "output_type": "stream",
          "text": [
            "<class 'float'>\n"
          ]
        }
      ],
      "source": [
        "#float to integer\n",
        "a = 12.5\n",
        "print(type(a))"
      ]
    },
    {
      "cell_type": "code",
      "execution_count": null,
      "id": "36889732",
      "metadata": {
        "id": "36889732",
        "outputId": "0e9a68b3-8ac9-4fd0-c33b-a68c6632d076"
      },
      "outputs": [
        {
          "name": "stdout",
          "output_type": "stream",
          "text": [
            "<class 'int'>\n"
          ]
        }
      ],
      "source": [
        "b = int(a)\n",
        "print(type(b))"
      ]
    },
    {
      "cell_type": "code",
      "execution_count": null,
      "id": "5e3353e9",
      "metadata": {
        "id": "5e3353e9",
        "outputId": "d5e20cf0-9294-40cd-c416-35149eb2742c"
      },
      "outputs": [
        {
          "name": "stdout",
          "output_type": "stream",
          "text": [
            "12.5\n",
            "12\n"
          ]
        }
      ],
      "source": [
        "print(a)\n",
        "print(b)"
      ]
    },
    {
      "cell_type": "code",
      "execution_count": null,
      "id": "c9d8ecf2",
      "metadata": {
        "id": "c9d8ecf2"
      },
      "outputs": [],
      "source": [
        "#strings - written inside '' or \"\" considered as string\n",
        "#string is a special type of list\n",
        "\n",
        "name = 'John'\n",
        "city = \"Delhi\"\n",
        "age='23'"
      ]
    },
    {
      "cell_type": "code",
      "execution_count": null,
      "id": "187bd58f",
      "metadata": {
        "id": "187bd58f",
        "outputId": "e59be702-a0fb-4893-b4fb-888863401767"
      },
      "outputs": [
        {
          "data": {
            "text/plain": [
              "str"
            ]
          },
          "execution_count": 30,
          "metadata": {},
          "output_type": "execute_result"
        }
      ],
      "source": [
        "type(name)"
      ]
    },
    {
      "cell_type": "code",
      "execution_count": null,
      "id": "be76aea2",
      "metadata": {
        "id": "be76aea2",
        "outputId": "8f0ad345-5d7f-4418-dea0-4a21a6bce9f3"
      },
      "outputs": [
        {
          "data": {
            "text/plain": [
              "str"
            ]
          },
          "execution_count": 31,
          "metadata": {},
          "output_type": "execute_result"
        }
      ],
      "source": [
        "type(city)"
      ]
    },
    {
      "cell_type": "code",
      "execution_count": null,
      "id": "ac9f08cf",
      "metadata": {
        "id": "ac9f08cf",
        "outputId": "d232338c-c9a1-4626-c097-5bef973e4ab8"
      },
      "outputs": [
        {
          "data": {
            "text/plain": [
              "str"
            ]
          },
          "execution_count": 32,
          "metadata": {},
          "output_type": "execute_result"
        }
      ],
      "source": [
        "type(age)"
      ]
    },
    {
      "cell_type": "code",
      "execution_count": null,
      "id": "2877bcfa",
      "metadata": {
        "id": "2877bcfa",
        "outputId": "50f8c752-6215-46f9-8012-ac02520e04e1"
      },
      "outputs": [
        {
          "data": {
            "text/plain": [
              "23"
            ]
          },
          "execution_count": 33,
          "metadata": {},
          "output_type": "execute_result"
        }
      ],
      "source": [
        "int(age)"
      ]
    },
    {
      "cell_type": "code",
      "execution_count": null,
      "id": "db7f5f8c",
      "metadata": {
        "scrolled": true,
        "id": "db7f5f8c",
        "outputId": "8642aaaa-df27-406b-af5a-925eec382fdb"
      },
      "outputs": [
        {
          "ename": "ValueError",
          "evalue": "invalid literal for int() with base 10: 'John'",
          "output_type": "error",
          "traceback": [
            "\u001b[1;31m---------------------------------------------------------------------------\u001b[0m",
            "\u001b[1;31mValueError\u001b[0m                                Traceback (most recent call last)",
            "\u001b[1;32m<ipython-input-34-f75bcf899621>\u001b[0m in \u001b[0;36m<module>\u001b[1;34m\u001b[0m\n\u001b[1;32m----> 1\u001b[1;33m \u001b[0mint\u001b[0m\u001b[1;33m(\u001b[0m\u001b[0mname\u001b[0m\u001b[1;33m)\u001b[0m\u001b[1;33m\u001b[0m\u001b[1;33m\u001b[0m\u001b[0m\n\u001b[0m",
            "\u001b[1;31mValueError\u001b[0m: invalid literal for int() with base 10: 'John'"
          ]
        }
      ],
      "source": [
        "int(name)"
      ]
    },
    {
      "cell_type": "code",
      "execution_count": null,
      "id": "aa6f83cb",
      "metadata": {
        "id": "aa6f83cb"
      },
      "outputs": [],
      "source": [
        "#string operations\n",
        "# + - concatenation\n",
        "# * - repetition"
      ]
    },
    {
      "cell_type": "code",
      "execution_count": null,
      "id": "26985b89",
      "metadata": {
        "id": "26985b89"
      },
      "outputs": [],
      "source": [
        "str1 = \"hello!\"\n",
        "str2 = \"how are you ?\""
      ]
    },
    {
      "cell_type": "code",
      "execution_count": null,
      "id": "1ac7d0f2",
      "metadata": {
        "id": "1ac7d0f2",
        "outputId": "594c65f4-97e2-4092-bab2-da1a0bf8cc66"
      },
      "outputs": [
        {
          "name": "stdout",
          "output_type": "stream",
          "text": [
            "hello! how are you ?\n"
          ]
        }
      ],
      "source": [
        "print(str1,str2)"
      ]
    },
    {
      "cell_type": "code",
      "execution_count": null,
      "id": "25061d10",
      "metadata": {
        "id": "25061d10",
        "outputId": "675a88c5-f706-472e-d1a9-685a91c45a46"
      },
      "outputs": [
        {
          "data": {
            "text/plain": [
              "'hello!how are you ?'"
            ]
          },
          "execution_count": 37,
          "metadata": {},
          "output_type": "execute_result"
        }
      ],
      "source": [
        "str3 = str1+str2\n",
        "str3"
      ]
    },
    {
      "cell_type": "code",
      "execution_count": null,
      "id": "41cb4c8b",
      "metadata": {
        "id": "41cb4c8b"
      },
      "outputs": [],
      "source": [
        "x =\"a\""
      ]
    },
    {
      "cell_type": "code",
      "execution_count": null,
      "id": "c1cc9802",
      "metadata": {
        "id": "c1cc9802",
        "outputId": "7a0712bc-cc20-4b8a-c959-6c19d8cec7a6"
      },
      "outputs": [
        {
          "data": {
            "text/plain": [
              "'aaaaaaaaaaaaaaaaaaaaaaaaaaaaaa'"
            ]
          },
          "execution_count": 40,
          "metadata": {},
          "output_type": "execute_result"
        }
      ],
      "source": [
        "x*30"
      ]
    },
    {
      "cell_type": "code",
      "execution_count": null,
      "id": "7cd63de5",
      "metadata": {
        "id": "7cd63de5",
        "outputId": "ace92431-77a9-4e35-a854-95f15ed94531"
      },
      "outputs": [
        {
          "data": {
            "text/plain": [
              "30"
            ]
          },
          "execution_count": 43,
          "metadata": {},
          "output_type": "execute_result"
        }
      ],
      "source": [
        "10*3"
      ]
    },
    {
      "cell_type": "code",
      "execution_count": null,
      "id": "f0732a91",
      "metadata": {
        "scrolled": true,
        "id": "f0732a91",
        "outputId": "915e9014-3134-4cee-ca48-25a5455f4e6b"
      },
      "outputs": [
        {
          "data": {
            "text/plain": [
              "'hello hello hello hello hello '"
            ]
          },
          "execution_count": 45,
          "metadata": {},
          "output_type": "execute_result"
        }
      ],
      "source": [
        "\"hello \"*5"
      ]
    },
    {
      "cell_type": "code",
      "execution_count": null,
      "id": "b63bf0a1",
      "metadata": {
        "id": "b63bf0a1"
      },
      "outputs": [],
      "source": [
        "#list\n",
        "- collection,comma-separated,enclosed with []\n",
        "- ordered\n",
        "-mutable"
      ]
    },
    {
      "cell_type": "code",
      "execution_count": null,
      "id": "5aaa3d7b",
      "metadata": {
        "id": "5aaa3d7b"
      },
      "outputs": [],
      "source": [
        "#list operations\n",
        "1.indexing\n",
        "2. slicing\n",
        "3. sorting - sort(),sorted()\n",
        "4. extending\n",
        "5. appending\n",
        "6. concatenation\n",
        "7.sum\n",
        "8.min\n",
        "9.max\n",
        "10.len"
      ]
    },
    {
      "cell_type": "code",
      "execution_count": null,
      "id": "ca6aee12",
      "metadata": {
        "id": "ca6aee12"
      },
      "outputs": [],
      "source": [
        "#two ways we can create list\n",
        "#first way\n",
        "lst = [1,2,3,4,5,10,12,12.5,40.6,'abc','hello']"
      ]
    },
    {
      "cell_type": "code",
      "execution_count": null,
      "id": "7875133c",
      "metadata": {
        "scrolled": true,
        "id": "7875133c",
        "outputId": "0633ad9f-54aa-4ce6-9c2c-5fda3d4cc63a"
      },
      "outputs": [
        {
          "name": "stdout",
          "output_type": "stream",
          "text": [
            "[1, 2, 3, 4, 5, 10, 12, 12.5, 40.6, 'abc', 'hello']\n"
          ]
        }
      ],
      "source": [
        "print(lst)"
      ]
    },
    {
      "cell_type": "code",
      "execution_count": null,
      "id": "785ceeef",
      "metadata": {
        "id": "785ceeef",
        "outputId": "ced619bd-6b5b-442b-efc9-cbc5ce99b231"
      },
      "outputs": [
        {
          "data": {
            "text/plain": [
              "1"
            ]
          },
          "execution_count": 48,
          "metadata": {},
          "output_type": "execute_result"
        }
      ],
      "source": [
        "lst[0]"
      ]
    },
    {
      "cell_type": "code",
      "execution_count": null,
      "id": "78d488a0",
      "metadata": {
        "id": "78d488a0",
        "outputId": "ce794e16-f55b-4971-f8a5-081f906e7d99"
      },
      "outputs": [
        {
          "data": {
            "text/plain": [
              "10"
            ]
          },
          "execution_count": 49,
          "metadata": {},
          "output_type": "execute_result"
        }
      ],
      "source": [
        "lst[5]"
      ]
    },
    {
      "cell_type": "code",
      "execution_count": null,
      "id": "63207ffc",
      "metadata": {
        "scrolled": true,
        "id": "63207ffc",
        "outputId": "5d00f296-9bcd-4430-e394-0d0a9b840699"
      },
      "outputs": [
        {
          "data": {
            "text/plain": [
              "'abc'"
            ]
          },
          "execution_count": 50,
          "metadata": {},
          "output_type": "execute_result"
        }
      ],
      "source": [
        "lst[-2]"
      ]
    },
    {
      "cell_type": "code",
      "execution_count": null,
      "id": "81b31dfe",
      "metadata": {
        "id": "81b31dfe",
        "outputId": "5cffb8af-14d2-4e28-ef9f-f04405a4a03c"
      },
      "outputs": [
        {
          "data": {
            "text/plain": [
              "'hello'"
            ]
          },
          "execution_count": 51,
          "metadata": {},
          "output_type": "execute_result"
        }
      ],
      "source": [
        "lst[-1]"
      ]
    },
    {
      "cell_type": "code",
      "execution_count": null,
      "id": "45ec5796",
      "metadata": {
        "id": "45ec5796"
      },
      "outputs": [],
      "source": [
        "lst[-2] = 'xyz'"
      ]
    },
    {
      "cell_type": "code",
      "execution_count": null,
      "id": "534a2fd6",
      "metadata": {
        "scrolled": true,
        "id": "534a2fd6",
        "outputId": "6d623203-62f6-4ab5-8456-7e30890ef184"
      },
      "outputs": [
        {
          "name": "stdout",
          "output_type": "stream",
          "text": [
            "[1, 2, 3, 4, 5, 10, 12, 12.5, 40.6, 'xyz', 'hello']\n"
          ]
        }
      ],
      "source": [
        "print(lst)"
      ]
    },
    {
      "cell_type": "code",
      "execution_count": null,
      "id": "9f97dfc4",
      "metadata": {
        "scrolled": true,
        "id": "9f97dfc4",
        "outputId": "9144219e-5fd5-4a1d-fd0b-1fb7381673e9"
      },
      "outputs": [
        {
          "data": {
            "text/plain": [
              "[3, 4, 5, 10, 12]"
            ]
          },
          "execution_count": 54,
          "metadata": {},
          "output_type": "execute_result"
        }
      ],
      "source": [
        "#slicing\n",
        "lst[2:7]"
      ]
    },
    {
      "cell_type": "code",
      "execution_count": null,
      "id": "5011c429",
      "metadata": {
        "id": "5011c429"
      },
      "outputs": [],
      "source": [
        "lst[start:stop:step]"
      ]
    },
    {
      "cell_type": "code",
      "execution_count": null,
      "id": "6875c8bb",
      "metadata": {
        "scrolled": false,
        "id": "6875c8bb",
        "outputId": "773b4c24-0723-49c6-f7bb-8d21ed6ebf27"
      },
      "outputs": [
        {
          "data": {
            "text/plain": [
              "['hello', 'xyz', 40.6, 12.5]"
            ]
          },
          "execution_count": 55,
          "metadata": {},
          "output_type": "execute_result"
        }
      ],
      "source": [
        "lst[-1:-5:-1]"
      ]
    },
    {
      "cell_type": "code",
      "execution_count": null,
      "id": "f94be9dd",
      "metadata": {
        "id": "f94be9dd",
        "outputId": "e3731b4f-cc17-4543-9d8a-613590fabbea"
      },
      "outputs": [
        {
          "data": {
            "text/plain": [
              "[]"
            ]
          },
          "execution_count": 56,
          "metadata": {},
          "output_type": "execute_result"
        }
      ],
      "source": [
        "lst[-1:-5]"
      ]
    },
    {
      "cell_type": "code",
      "execution_count": null,
      "id": "8ee8b073",
      "metadata": {
        "id": "8ee8b073"
      },
      "outputs": [],
      "source": [
        "-1+1 = 0"
      ]
    },
    {
      "cell_type": "code",
      "execution_count": null,
      "id": "2b96b0e3",
      "metadata": {
        "id": "2b96b0e3"
      },
      "outputs": [],
      "source": [
        "#in slicing, the upper value is not counted because of python is zero indexing language,so\n",
        "#uppervalue-1 will going to consider"
      ]
    },
    {
      "cell_type": "code",
      "execution_count": null,
      "id": "c4a85a1b",
      "metadata": {
        "id": "c4a85a1b"
      },
      "outputs": [],
      "source": [
        "#python attribute - zero indexing, reverse indexing"
      ]
    },
    {
      "cell_type": "code",
      "execution_count": null,
      "id": "8a5ce0ff",
      "metadata": {
        "id": "8a5ce0ff",
        "outputId": "2cac751d-0219-42da-ae72-700a6dab5f9b"
      },
      "outputs": [
        {
          "data": {
            "text/plain": [
              "[12, 34, 1, 50, 23, 18, 30]"
            ]
          },
          "execution_count": 57,
          "metadata": {},
          "output_type": "execute_result"
        }
      ],
      "source": [
        "#sorting\n",
        "lst = [12,34,1,50,23,18,30]\n",
        "lst"
      ]
    },
    {
      "cell_type": "code",
      "execution_count": null,
      "id": "d4b5c4e9",
      "metadata": {
        "id": "d4b5c4e9"
      },
      "outputs": [],
      "source": [
        "#sort() methode\n",
        "lst.sort()"
      ]
    },
    {
      "cell_type": "code",
      "execution_count": null,
      "id": "5c86a22c",
      "metadata": {
        "id": "5c86a22c",
        "outputId": "32bacfaa-3c01-4a36-bcc3-66f75edce92f"
      },
      "outputs": [
        {
          "name": "stdout",
          "output_type": "stream",
          "text": [
            "[1, 12, 18, 23, 30, 34, 50]\n"
          ]
        }
      ],
      "source": [
        "print(lst)"
      ]
    },
    {
      "cell_type": "code",
      "execution_count": null,
      "id": "c169ad07",
      "metadata": {
        "id": "c169ad07",
        "outputId": "2d44cd19-260e-4355-83e1-f8a4fc222af1"
      },
      "outputs": [
        {
          "name": "stdout",
          "output_type": "stream",
          "text": [
            "Before sorting [12, 34, 1, 50, 23, 18, 30]\n",
            "After sorting [50, 34, 30, 23, 18, 12, 1]\n"
          ]
        }
      ],
      "source": [
        "lst = [12,34,1,50,23,18,30]\n",
        "print(\"Before sorting\",lst)\n",
        "lst.sort(reverse=True)\n",
        "print(\"After sorting\",lst)"
      ]
    },
    {
      "cell_type": "code",
      "execution_count": null,
      "id": "2e528f58",
      "metadata": {
        "id": "2e528f58",
        "outputId": "64064318-61d6-4c41-8cc4-ca1379b7a797"
      },
      "outputs": [
        {
          "name": "stdout",
          "output_type": "stream",
          "text": [
            "Before sorting [12, 34, 1, 50, 23, 18, 30]\n"
          ]
        }
      ],
      "source": [
        "#sorted function\n",
        "lst = [12,34,1,50,23,18,30]\n",
        "print(\"Before sorting\",lst)"
      ]
    },
    {
      "cell_type": "code",
      "execution_count": null,
      "id": "7369b8ae",
      "metadata": {
        "id": "7369b8ae"
      },
      "outputs": [],
      "source": [
        "lst2 = sorted(lst)"
      ]
    },
    {
      "cell_type": "code",
      "execution_count": null,
      "id": "aeded4c0",
      "metadata": {
        "id": "aeded4c0",
        "outputId": "89ee5a2b-ecc4-4980-ca56-301f1949be17"
      },
      "outputs": [
        {
          "name": "stdout",
          "output_type": "stream",
          "text": [
            "[12, 34, 1, 50, 23, 18, 30]\n"
          ]
        }
      ],
      "source": [
        "print(lst)"
      ]
    },
    {
      "cell_type": "code",
      "execution_count": null,
      "id": "9ec62c32",
      "metadata": {
        "scrolled": true,
        "id": "9ec62c32",
        "outputId": "1e6f4e32-3e1d-4c50-a957-4d38cfb96003"
      },
      "outputs": [
        {
          "name": "stdout",
          "output_type": "stream",
          "text": [
            "[1, 12, 18, 23, 30, 34, 50]\n"
          ]
        }
      ],
      "source": [
        "print(lst2)"
      ]
    },
    {
      "cell_type": "code",
      "execution_count": null,
      "id": "16bcffa0",
      "metadata": {
        "id": "16bcffa0"
      },
      "outputs": [],
      "source": [
        "lst3 = sorted(lst,reverse=True)"
      ]
    },
    {
      "cell_type": "code",
      "execution_count": null,
      "id": "9aa63cfa",
      "metadata": {
        "scrolled": true,
        "id": "9aa63cfa",
        "outputId": "820b776f-e2e8-4d4a-caaa-8913fc795298"
      },
      "outputs": [
        {
          "name": "stdout",
          "output_type": "stream",
          "text": [
            "[50, 34, 30, 23, 18, 12, 1]\n"
          ]
        }
      ],
      "source": [
        "print(lst3)"
      ]
    },
    {
      "cell_type": "code",
      "execution_count": null,
      "id": "7a888574",
      "metadata": {
        "id": "7a888574"
      },
      "outputs": [],
      "source": [
        "#extending\n",
        "lst =  [12,34,1,50,23,18,30]\n",
        "lst2 = [1,2,3,4,5,10,12,12.5,40.6,'abc','hello']"
      ]
    },
    {
      "cell_type": "code",
      "execution_count": null,
      "id": "43aa5f8c",
      "metadata": {
        "scrolled": true,
        "id": "43aa5f8c",
        "outputId": "199f7e88-0c3b-408c-9fd7-0e42fd61b402"
      },
      "outputs": [
        {
          "name": "stdout",
          "output_type": "stream",
          "text": [
            "[12, 34, 1, 50, 23, 18, 30]\n",
            "[1, 2, 3, 4, 5, 10, 12, 12.5, 40.6, 'abc', 'hello']\n"
          ]
        }
      ],
      "source": [
        "print(lst)\n",
        "print(lst2)"
      ]
    },
    {
      "cell_type": "code",
      "execution_count": null,
      "id": "77d3e296",
      "metadata": {
        "id": "77d3e296"
      },
      "outputs": [],
      "source": [
        "lst.extend(lst2)"
      ]
    },
    {
      "cell_type": "code",
      "execution_count": null,
      "id": "c0df50fd",
      "metadata": {
        "id": "c0df50fd",
        "outputId": "436e1a49-cc55-45ce-e28e-225a441f90a0"
      },
      "outputs": [
        {
          "name": "stdout",
          "output_type": "stream",
          "text": [
            "[12, 34, 1, 50, 23, 18, 30, 1, 2, 3, 4, 5, 10, 12, 12.5, 40.6, 'abc', 'hello']\n"
          ]
        }
      ],
      "source": [
        "print(lst)"
      ]
    },
    {
      "cell_type": "code",
      "execution_count": null,
      "id": "1e04f10b",
      "metadata": {
        "id": "1e04f10b"
      },
      "outputs": [],
      "source": [
        "lst =  [12,34,1,50,23,18,30]\n",
        "lst2 = [1,2,3,4,5,10,12,12.5,40.6]\n",
        "lst2.extend(lst)"
      ]
    },
    {
      "cell_type": "code",
      "execution_count": null,
      "id": "2994f3c6",
      "metadata": {
        "scrolled": true,
        "id": "2994f3c6",
        "outputId": "a06c9345-3e06-45ca-80ac-2da976d10b45"
      },
      "outputs": [
        {
          "name": "stdout",
          "output_type": "stream",
          "text": [
            "[1, 2, 3, 4, 5, 10, 12, 12.5, 40.6, 12, 34, 1, 50, 23, 18, 30]\n"
          ]
        }
      ],
      "source": [
        "print(lst2)"
      ]
    },
    {
      "cell_type": "code",
      "execution_count": null,
      "id": "3a3ea244",
      "metadata": {
        "scrolled": true,
        "id": "3a3ea244",
        "outputId": "bef8f16c-91c9-483a-9856-82dd08dbd036"
      },
      "outputs": [
        {
          "data": {
            "text/plain": [
              "[1, 1, 2, 3, 4, 5, 10, 12, 12, 12.5, 18, 23, 30, 34, 40.6, 50]"
            ]
          },
          "execution_count": 76,
          "metadata": {},
          "output_type": "execute_result"
        }
      ],
      "source": [
        "sorted(lst2)"
      ]
    },
    {
      "cell_type": "code",
      "execution_count": null,
      "id": "64fe58fc",
      "metadata": {
        "id": "64fe58fc"
      },
      "outputs": [],
      "source": [
        "#appending\n",
        "a = list()"
      ]
    },
    {
      "cell_type": "code",
      "execution_count": null,
      "id": "8c4ff50c",
      "metadata": {
        "id": "8c4ff50c",
        "outputId": "4a07b42d-3504-4362-df35-ff61e58eb5d8"
      },
      "outputs": [
        {
          "data": {
            "text/plain": [
              "list"
            ]
          },
          "execution_count": 78,
          "metadata": {},
          "output_type": "execute_result"
        }
      ],
      "source": [
        "type(a)"
      ]
    },
    {
      "cell_type": "code",
      "execution_count": null,
      "id": "02e71948",
      "metadata": {
        "id": "02e71948",
        "outputId": "9234548f-ca1d-4ba5-e135-ce6f95bdddb7"
      },
      "outputs": [
        {
          "name": "stdout",
          "output_type": "stream",
          "text": [
            "[]\n"
          ]
        }
      ],
      "source": [
        "print(a)"
      ]
    },
    {
      "cell_type": "code",
      "execution_count": null,
      "id": "26c18e34",
      "metadata": {
        "id": "26c18e34"
      },
      "outputs": [],
      "source": [
        "a.append(30)"
      ]
    },
    {
      "cell_type": "code",
      "execution_count": null,
      "id": "762e689e",
      "metadata": {
        "id": "762e689e",
        "outputId": "511a7e3c-7db5-4b19-a0ec-213097a4b3ec"
      },
      "outputs": [
        {
          "data": {
            "text/plain": [
              "[10, 12, 30]"
            ]
          },
          "execution_count": 85,
          "metadata": {},
          "output_type": "execute_result"
        }
      ],
      "source": [
        "a"
      ]
    },
    {
      "cell_type": "code",
      "execution_count": null,
      "id": "f5fda578",
      "metadata": {
        "id": "f5fda578"
      },
      "outputs": [],
      "source": [
        "a.append([20,34,56])"
      ]
    },
    {
      "cell_type": "code",
      "execution_count": null,
      "id": "cecdcc39",
      "metadata": {
        "scrolled": true,
        "id": "cecdcc39",
        "outputId": "e0a7e144-ce9b-4f14-9f21-b7f3278ccfa3"
      },
      "outputs": [
        {
          "data": {
            "text/plain": [
              "[10, 12, 30, [20, 34, 56]]"
            ]
          },
          "execution_count": 88,
          "metadata": {},
          "output_type": "execute_result"
        }
      ],
      "source": [
        "a"
      ]
    },
    {
      "cell_type": "code",
      "execution_count": null,
      "id": "0657b914",
      "metadata": {
        "id": "0657b914"
      },
      "outputs": [],
      "source": [
        "#concatenation\n",
        "lst =  [12,34,1,50,23,18,30]\n",
        "lst2 = [1,2,3,4,5,10,12,12.5,40.6]"
      ]
    },
    {
      "cell_type": "code",
      "execution_count": null,
      "id": "4551144a",
      "metadata": {
        "scrolled": true,
        "id": "4551144a",
        "outputId": "07086394-3d5b-4778-8b42-0db20a3bc66d"
      },
      "outputs": [
        {
          "data": {
            "text/plain": [
              "[12, 34, 1, 50, 23, 18, 30, 1, 2, 3, 4, 5, 10, 12, 12.5, 40.6]"
            ]
          },
          "execution_count": 90,
          "metadata": {},
          "output_type": "execute_result"
        }
      ],
      "source": [
        "lst + lst2"
      ]
    },
    {
      "cell_type": "code",
      "execution_count": null,
      "id": "5b790905",
      "metadata": {
        "scrolled": true,
        "id": "5b790905",
        "outputId": "5e4df1e9-c0c9-4c89-ee27-427560ac075c"
      },
      "outputs": [
        {
          "data": {
            "text/plain": [
              "[12, 34, 1, 50, 23, 18, 30]"
            ]
          },
          "execution_count": 91,
          "metadata": {},
          "output_type": "execute_result"
        }
      ],
      "source": [
        "lst"
      ]
    },
    {
      "cell_type": "code",
      "execution_count": null,
      "id": "37647119",
      "metadata": {
        "scrolled": true,
        "id": "37647119",
        "outputId": "3dd51f9d-6901-4fde-c1d7-a31ca282d71b"
      },
      "outputs": [
        {
          "data": {
            "text/plain": [
              "[1, 2, 3, 4, 5, 10, 12, 12.5, 40.6]"
            ]
          },
          "execution_count": 92,
          "metadata": {},
          "output_type": "execute_result"
        }
      ],
      "source": [
        "lst2"
      ]
    },
    {
      "cell_type": "code",
      "execution_count": null,
      "id": "9b7b1b42",
      "metadata": {
        "id": "9b7b1b42",
        "outputId": "29f44273-edf7-4f36-e939-10520ec91c9d"
      },
      "outputs": [
        {
          "data": {
            "text/plain": [
              "36"
            ]
          },
          "execution_count": 100,
          "metadata": {},
          "output_type": "execute_result"
        }
      ],
      "source": [
        "#sum\n",
        "sum(lst2[1:7])"
      ]
    },
    {
      "cell_type": "code",
      "execution_count": null,
      "id": "d58ba7c4",
      "metadata": {
        "id": "d58ba7c4"
      },
      "outputs": [],
      "source": [
        "lst3 = [1,2,3,4,5,10,12,12.5,40.6,'hi']"
      ]
    },
    {
      "cell_type": "code",
      "execution_count": null,
      "id": "566d2aec",
      "metadata": {
        "scrolled": true,
        "id": "566d2aec",
        "outputId": "35c7bf6e-787d-4ff4-a1be-fd0bc6dbc6bb"
      },
      "outputs": [
        {
          "ename": "TypeError",
          "evalue": "unsupported operand type(s) for +: 'float' and 'str'",
          "output_type": "error",
          "traceback": [
            "\u001b[1;31m---------------------------------------------------------------------------\u001b[0m",
            "\u001b[1;31mTypeError\u001b[0m                                 Traceback (most recent call last)",
            "\u001b[1;32m<ipython-input-95-d344c804c2f4>\u001b[0m in \u001b[0;36m<module>\u001b[1;34m\u001b[0m\n\u001b[1;32m----> 1\u001b[1;33m \u001b[0msum\u001b[0m\u001b[1;33m(\u001b[0m\u001b[0mlst3\u001b[0m\u001b[1;33m)\u001b[0m\u001b[1;33m\u001b[0m\u001b[1;33m\u001b[0m\u001b[0m\n\u001b[0m",
            "\u001b[1;31mTypeError\u001b[0m: unsupported operand type(s) for +: 'float' and 'str'"
          ]
        }
      ],
      "source": [
        "sum(lst3)"
      ]
    },
    {
      "cell_type": "code",
      "execution_count": null,
      "id": "d8c28bfa",
      "metadata": {
        "scrolled": true,
        "id": "d8c28bfa",
        "outputId": "cf345033-4ae6-41c5-c9a2-70902fa7a759"
      },
      "outputs": [
        {
          "data": {
            "text/plain": [
              "1"
            ]
          },
          "execution_count": 96,
          "metadata": {},
          "output_type": "execute_result"
        }
      ],
      "source": [
        "#minimum\n",
        "min(lst2)"
      ]
    },
    {
      "cell_type": "code",
      "execution_count": null,
      "id": "276302e4",
      "metadata": {
        "scrolled": true,
        "id": "276302e4",
        "outputId": "8f04f660-139e-4ccc-f32f-04c8db1f75e6"
      },
      "outputs": [
        {
          "data": {
            "text/plain": [
              "40.6"
            ]
          },
          "execution_count": 97,
          "metadata": {},
          "output_type": "execute_result"
        }
      ],
      "source": [
        "#maximum\n",
        "max(lst2)"
      ]
    },
    {
      "cell_type": "code",
      "execution_count": null,
      "id": "0d134414",
      "metadata": {
        "scrolled": true,
        "id": "0d134414",
        "outputId": "de30c6d4-db93-4de3-8650-efb1e9bdf43a"
      },
      "outputs": [
        {
          "data": {
            "text/plain": [
              "9"
            ]
          },
          "execution_count": 98,
          "metadata": {},
          "output_type": "execute_result"
        }
      ],
      "source": [
        "#len\n",
        "len(lst2)"
      ]
    },
    {
      "cell_type": "code",
      "execution_count": null,
      "id": "4a9a8f21",
      "metadata": {
        "id": "4a9a8f21",
        "outputId": "6df8591d-01d1-485f-bad8-8db6cebd8903"
      },
      "outputs": [
        {
          "data": {
            "text/plain": [
              "10"
            ]
          },
          "execution_count": 99,
          "metadata": {},
          "output_type": "execute_result"
        }
      ],
      "source": [
        "len(lst3)"
      ]
    }
  ],
  "metadata": {
    "kernelspec": {
      "display_name": "Python 3",
      "language": "python",
      "name": "python3"
    },
    "language_info": {
      "codemirror_mode": {
        "name": "ipython",
        "version": 3
      },
      "file_extension": ".py",
      "mimetype": "text/x-python",
      "name": "python",
      "nbconvert_exporter": "python",
      "pygments_lexer": "ipython3",
      "version": "3.7.1"
    },
    "colab": {
      "provenance": []
    }
  },
  "nbformat": 4,
  "nbformat_minor": 5
}