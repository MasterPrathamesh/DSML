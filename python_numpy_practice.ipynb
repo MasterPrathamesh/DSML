{
  "nbformat": 4,
  "nbformat_minor": 0,
  "metadata": {
    "colab": {
      "provenance": []
    },
    "kernelspec": {
      "name": "python3",
      "display_name": "Python 3"
    },
    "language_info": {
      "name": "python"
    }
  },
  "cells": [
    {
      "cell_type": "code",
      "source": [
        "l = list(range(100000))\n",
        "print(type(l))\n",
        "%timeit val = sum(l)"
      ],
      "metadata": {
        "colab": {
          "base_uri": "https://localhost:8080/"
        },
        "id": "-zWR555BUVFX",
        "outputId": "07318ea2-c08f-442c-cfe5-1c75a296d56b"
      },
      "execution_count": null,
      "outputs": [
        {
          "output_type": "stream",
          "name": "stdout",
          "text": [
            "<class 'list'>\n",
            "339 µs ± 4.23 µs per loop (mean ± std. dev. of 7 runs, 1000 loops each)\n"
          ]
        }
      ]
    },
    {
      "cell_type": "code",
      "execution_count": null,
      "metadata": {
        "colab": {
          "base_uri": "https://localhost:8080/"
        },
        "id": "ERWXWsKxP_DG",
        "outputId": "d4ed8146-a180-4341-d6a3-901e16fde249"
      },
      "outputs": [
        {
          "output_type": "stream",
          "name": "stdout",
          "text": [
            "10.4 ms ± 3.12 ms per loop (mean ± std. dev. of 7 runs, 100 loops each)\n"
          ]
        }
      ],
      "source": [
        "# as we can see that list is taking too much time to process the values , where as the numpy process the data very easily within less time which is in milli seconds ..\n",
        "import numpy as np\n",
        "a = np.arange(100000)\n",
        "%timeit sum_val = sum(a)"
      ]
    },
    {
      "cell_type": "code",
      "source": [
        "# arrays can be 1D or 2D .\n",
        "import numpy as np\n",
        "# one - dimensional Numpy array .\n",
        "x = np.array([100,200,300])\n",
        "print(x)\n",
        "\n",
        "# to check the dimensions of the arrays . we have :\n",
        "print(\"The array is \",x.ndim,\"dimensional array\")\n",
        "\n",
        "# to check the shape of the array , we have :\n",
        "print(\"The shape of the array is \",x.shape)\n",
        "\n",
        "\n",
        "# to check the size of the array , we have :\n",
        "print(\"The size of the arrays is : \",x.size)\n",
        "\n",
        "\n",
        "# 2 - dimensional Numpy Array :\n",
        "\n",
        "a = np.array([ [100,200,300],[400,500,600] ])\n",
        "print(\"The second dimensional array is :\\n \")\n",
        "print(a)\n",
        "print()\n",
        "# if we want to see the dimension of this array we can use the same \"ndim\" .\n",
        "print(\"The array is\",a.ndim,\"dimensional array..\\n\")\n",
        "\n",
        "# if we want to see the size of the array , we can use :\n",
        "print(\"The size of the arrys is : \",a.size)\n",
        "\n",
        "# if we want to see the shape of the array , then :\n",
        "# the shape is decided firstly through row then columns ...\n",
        "print(\"The shape of the array is : \",a.shape)\n"
      ],
      "metadata": {
        "colab": {
          "base_uri": "https://localhost:8080/"
        },
        "id": "qysOaK_xU7un",
        "outputId": "4263466c-3e4f-409d-932e-2a7bb3ddbcef"
      },
      "execution_count": null,
      "outputs": [
        {
          "output_type": "stream",
          "name": "stdout",
          "text": [
            "[100 200 300]\n",
            "The array is  1 dimensional array\n",
            "The shape of the array is  (3,)\n",
            "The size of the arrays is :  3\n",
            "The second dimensional array is :\n",
            " \n",
            "[[100 200 300]\n",
            " [400 500 600]]\n",
            "\n",
            "The array is 2 dimensional array..\n",
            "\n",
            "The size of the arrys is :  6\n",
            "The shape of the array is :  (2, 3)\n"
          ]
        }
      ]
    },
    {
      "cell_type": "code",
      "source": [
        "# if we want the arrays filled with zeroes with specific shape , then we can do this :\n",
        "\n",
        "import numpy as np\n",
        "\n",
        "arr = np.zeros([2,3])\n",
        "print(arr)"
      ],
      "metadata": {
        "colab": {
          "base_uri": "https://localhost:8080/"
        },
        "id": "lkg8EUmeYCgi",
        "outputId": "a214ff54-a353-4ff8-875e-9caceb0630db"
      },
      "execution_count": null,
      "outputs": [
        {
          "output_type": "stream",
          "name": "stdout",
          "text": [
            "[[0. 0. 0.]\n",
            " [0. 0. 0.]]\n"
          ]
        }
      ]
    },
    {
      "cell_type": "code",
      "source": [
        "# if we want the arrays filled with ones with specific shape , then we can do this :\n",
        "import numpy as np\n",
        "\n",
        "arr = np.ones([2,3])\n",
        "print(arr)"
      ],
      "metadata": {
        "colab": {
          "base_uri": "https://localhost:8080/"
        },
        "id": "IxOWz7B5ZmvF",
        "outputId": "f2b6254a-d6fa-4c64-8d61-23d5b7f377a4"
      },
      "execution_count": null,
      "outputs": [
        {
          "output_type": "stream",
          "name": "stdout",
          "text": [
            "[[1. 1. 1.]\n",
            " [1. 1. 1.]]\n"
          ]
        }
      ]
    },
    {
      "cell_type": "code",
      "source": [
        "# by default the above arrays are in float we can convert them into integer too :\n",
        "import numpy as np\n",
        "\n",
        "arr = np.zeros([2,3],dtype=int)\n",
        "print(arr)\n"
      ],
      "metadata": {
        "colab": {
          "base_uri": "https://localhost:8080/"
        },
        "id": "mLwcgDFyZ8c1",
        "outputId": "dbd05a98-23b1-4c95-d934-3f57db2ea79d"
      },
      "execution_count": null,
      "outputs": [
        {
          "output_type": "stream",
          "name": "stdout",
          "text": [
            "[[0 0 0]\n",
            " [0 0 0]]\n"
          ]
        }
      ]
    },
    {
      "cell_type": "code",
      "source": [
        "# and for one's we have to do the same :\n",
        "import numpy as np\n",
        "\n",
        "arr = np.ones([2,3],dtype=int)\n",
        "print(arr)"
      ],
      "metadata": {
        "colab": {
          "base_uri": "https://localhost:8080/"
        },
        "id": "dOn8rZGncOcb",
        "outputId": "3ab68643-781a-4469-89a3-2b3440132add"
      },
      "execution_count": null,
      "outputs": [
        {
          "output_type": "stream",
          "name": "stdout",
          "text": [
            "[[1 1 1]\n",
            " [1 1 1]]\n"
          ]
        }
      ]
    },
    {
      "cell_type": "code",
      "source": [
        "# now we have copy function :\n",
        "# we can copy one array into another like following :\n",
        "import numpy as np\n",
        "\n",
        "arr = np.array([ [100,200,300],[400,500,600]  ])\n",
        "print(arr)\n",
        "print()\n",
        "copied = arr.copy()\n",
        "print(copied)\n",
        "\n",
        "# we can also access the elements through indexing and we can also change the elements too :\n",
        "print(arr[0][0])\n",
        "print(arr[1][2])\n",
        "print()\n",
        "# to change the elements within the array :\n",
        "arr[0][0] = 50\n",
        "print(arr)"
      ],
      "metadata": {
        "colab": {
          "base_uri": "https://localhost:8080/"
        },
        "id": "_cXjuQsXdMwz",
        "outputId": "3dd54b3c-6e1f-4d12-8e45-cf88f3b0689b"
      },
      "execution_count": null,
      "outputs": [
        {
          "output_type": "stream",
          "name": "stdout",
          "text": [
            "[[100 200 300]\n",
            " [400 500 600]]\n",
            "\n",
            "[[100 200 300]\n",
            " [400 500 600]]\n",
            "100\n",
            "600\n",
            "\n",
            "[[ 50 200 300]\n",
            " [400 500 600]]\n"
          ]
        }
      ]
    },
    {
      "cell_type": "code",
      "source": [
        "# we can also generate the array through range function :\n",
        "# for ex :\n",
        "import numpy as np\n",
        "\n",
        "arr = np.arange(0,20,2)\n",
        "print(\"The array is : \",arr)"
      ],
      "metadata": {
        "colab": {
          "base_uri": "https://localhost:8080/"
        },
        "id": "8I9gHxjbdpqq",
        "outputId": "a23f4691-4bc9-4e7d-de18-af4a0bedcbf0"
      },
      "execution_count": null,
      "outputs": [
        {
          "output_type": "stream",
          "name": "stdout",
          "text": [
            "The array is :  [ 0  2  4  6  8 10 12 14 16 18]\n"
          ]
        }
      ]
    },
    {
      "cell_type": "code",
      "source": [
        "# Linspace function :\n",
        "\"\"\"\n",
        "numpy.linspace is a function that returns an array of evenly spaced numbers between two values.\n",
        "The first argument is the start value, the second argument is the end value, and the third argument is the number of evenly spaced points between the two values.\n",
        "\"\"\"\n",
        "import numpy as np\n",
        "\n",
        "arr = np.linspace(0,1,10)\n",
        "print(arr)\n",
        "\n",
        "print()\n",
        "b = np.linspace(0 , 10 , 4)\n",
        "print(b)"
      ],
      "metadata": {
        "colab": {
          "base_uri": "https://localhost:8080/"
        },
        "id": "63xrL_ZRgPj4",
        "outputId": "ca669690-e4bc-469d-9335-2bd161ad648e"
      },
      "execution_count": null,
      "outputs": [
        {
          "output_type": "stream",
          "name": "stdout",
          "text": [
            "[0.         0.11111111 0.22222222 0.33333333 0.44444444 0.55555556\n",
            " 0.66666667 0.77777778 0.88888889 1.        ]\n",
            "\n",
            "[ 0.          3.33333333  6.66666667 10.        ]\n"
          ]
        }
      ]
    },
    {
      "cell_type": "code",
      "source": [
        "# Element wise operator :\n",
        "\n",
        "import numpy as np\n",
        "\n",
        "arr = np.arange(0,10)\n",
        "print(arr)\n",
        "\n",
        "# what if we want to add 2 in each element of the array once ? without using loops ..\n",
        "# numpy helps us with this using only one line of code :\n",
        "\n",
        "print(\"The addition by adding 2 in each element : \", arr + 2)\n",
        "print()\n",
        "\n",
        "# by doing same we can substract the elements from the above array as follows :\n",
        "\n",
        "print(\"The Substraction by substracting 2 from each element : \",arr - 2)\n",
        "\n",
        "# we can do the different arithmetic operations by doing the same ..\n",
        "\n"
      ],
      "metadata": {
        "colab": {
          "base_uri": "https://localhost:8080/"
        },
        "id": "mwG_7Fo_hcGQ",
        "outputId": "c8766ba6-5f4a-405b-92f9-b817db946f40"
      },
      "execution_count": null,
      "outputs": [
        {
          "output_type": "stream",
          "name": "stdout",
          "text": [
            "[0 1 2 3 4 5 6 7 8 9]\n",
            "The addition by adding 2 in each element :  [ 2  3  4  5  6  7  8  9 10 11]\n",
            "\n",
            "The Substraction by substracting 2 from each element :  [-2 -1  0  1  2  3  4  5  6  7]\n"
          ]
        }
      ]
    },
    {
      "cell_type": "code",
      "source": [
        "# we can also add the one or two arrays into one array :\n",
        "import numpy as np\n",
        "\n",
        "arr = np.arange(0,5)\n",
        "arr_2 = np.arange(5,10)\n",
        "print(arr)\n",
        "print()\n",
        "print(arr_2)\n",
        "print()\n",
        "arr_3 = arr + arr_2\n",
        "print(arr_3)\n",
        "print()\n",
        "# we can also multiply the both the different arrays .\n",
        "print(arr*arr_2)\n",
        "print()\n",
        "# We can also divide the arrays with the help of same method .\n",
        "print(arr/arr_2)"
      ],
      "metadata": {
        "colab": {
          "base_uri": "https://localhost:8080/"
        },
        "id": "NWEcbCfQiRAQ",
        "outputId": "7100b247-deca-409c-c15f-e72ccf8371b3"
      },
      "execution_count": null,
      "outputs": [
        {
          "output_type": "stream",
          "name": "stdout",
          "text": [
            "[0 1 2 3 4]\n",
            "\n",
            "[5 6 7 8 9]\n",
            "\n",
            "[ 5  7  9 11 13]\n",
            "\n",
            "[ 0  6 14 24 36]\n",
            "\n",
            "[0.         0.16666667 0.28571429 0.375      0.44444444]\n"
          ]
        }
      ]
    },
    {
      "cell_type": "code",
      "source": [
        "# We all know that , dimensions = r * c\n",
        "# Reshape function:\n",
        "import numpy as np\n",
        "\n",
        "arr = np.arange(16)\n",
        "print(arr)\n",
        "print()\n",
        "print(arr.reshape(2,8))\n",
        "print()\n",
        "print(arr.reshape(8,2))\n"
      ],
      "metadata": {
        "colab": {
          "base_uri": "https://localhost:8080/"
        },
        "id": "nMDRJj4sb27z",
        "outputId": "a531091c-d461-415a-c39d-b385fd04aa50"
      },
      "execution_count": null,
      "outputs": [
        {
          "output_type": "stream",
          "name": "stdout",
          "text": [
            "[ 0  1  2  3  4  5  6  7  8  9 10 11 12 13 14 15]\n",
            "\n",
            "[[ 0  1  2  3  4  5  6  7]\n",
            " [ 8  9 10 11 12 13 14 15]]\n",
            "\n",
            "[[ 0  1]\n",
            " [ 2  3]\n",
            " [ 4  5]\n",
            " [ 6  7]\n",
            " [ 8  9]\n",
            " [10 11]\n",
            " [12 13]\n",
            " [14 15]]\n"
          ]
        }
      ]
    },
    {
      "cell_type": "code",
      "source": [
        "# we can aslo multiply the 2-dimensional arrray .\n",
        "arr1 = np.arange(4).reshape(2,2)\n",
        "arr2 = np.arange(5,9).reshape(2,2)\n",
        "print(arr1)\n",
        "print()\n",
        "print(arr2)\n",
        "print()\n",
        "print(arr1 * arr2)"
      ],
      "metadata": {
        "colab": {
          "base_uri": "https://localhost:8080/"
        },
        "id": "FsV4UBXQ1XSW",
        "outputId": "91c187e8-a6ea-4f75-f80e-07af1e65f554"
      },
      "execution_count": null,
      "outputs": [
        {
          "output_type": "stream",
          "name": "stdout",
          "text": [
            "[[0 1]\n",
            " [2 3]]\n",
            "\n",
            "[[5 6]\n",
            " [7 8]]\n",
            "\n",
            "[[ 0  6]\n",
            " [14 24]]\n"
          ]
        }
      ]
    },
    {
      "cell_type": "code",
      "source": [
        "# Matrix product\n",
        "import numpy as np\n",
        "\n",
        "a = np.arange(4).reshape(2,2)\n",
        "b = np.array([[11,12],[13,14]])\n",
        "print(a)\n",
        "print()\n",
        "print(b)\n",
        "print(\"The matrix product is : \\n\")\n",
        "print(np.dot(a,b))"
      ],
      "metadata": {
        "colab": {
          "base_uri": "https://localhost:8080/"
        },
        "id": "j4FT7Fh56z46",
        "outputId": "fd17e154-06f1-4fa4-b6d1-89a9124ba0a0"
      },
      "execution_count": null,
      "outputs": [
        {
          "output_type": "stream",
          "name": "stdout",
          "text": [
            "[[0 1]\n",
            " [2 3]]\n",
            "\n",
            "[[11 12]\n",
            " [13 14]]\n",
            "The matrix product is : \n",
            "\n",
            "[[13 14]\n",
            " [61 66]]\n"
          ]
        }
      ]
    },
    {
      "cell_type": "code",
      "source": [
        "0 * 11 + 1 * 13"
      ],
      "metadata": {
        "colab": {
          "base_uri": "https://localhost:8080/"
        },
        "id": "KtGRy7RR2m1W",
        "outputId": "5541a38c-ecc3-4d87-f446-238635a33188"
      },
      "execution_count": null,
      "outputs": [
        {
          "output_type": "execute_result",
          "data": {
            "text/plain": [
              "13"
            ]
          },
          "metadata": {},
          "execution_count": 9
        }
      ]
    },
    {
      "cell_type": "code",
      "source": [
        "0 * 12 + 1 * 14"
      ],
      "metadata": {
        "colab": {
          "base_uri": "https://localhost:8080/"
        },
        "id": "LRw98j2t6GsE",
        "outputId": "e37a646d-5d6b-429f-e644-4ef2b974c7fe"
      },
      "execution_count": null,
      "outputs": [
        {
          "output_type": "execute_result",
          "data": {
            "text/plain": [
              "14"
            ]
          },
          "metadata": {},
          "execution_count": 10
        }
      ]
    },
    {
      "cell_type": "code",
      "source": [
        "2 * 11 + 3 * 13"
      ],
      "metadata": {
        "colab": {
          "base_uri": "https://localhost:8080/"
        },
        "id": "FOcGEQRm6bby",
        "outputId": "2e3e6ca0-bfea-4bc4-fb51-ead3a12bdabc"
      },
      "execution_count": null,
      "outputs": [
        {
          "output_type": "execute_result",
          "data": {
            "text/plain": [
              "61"
            ]
          },
          "metadata": {},
          "execution_count": 11
        }
      ]
    },
    {
      "cell_type": "code",
      "source": [
        "2 * 12 + 3 * 14"
      ],
      "metadata": {
        "colab": {
          "base_uri": "https://localhost:8080/"
        },
        "id": "_WYoPamo6pXC",
        "outputId": "c89e742f-d438-433f-c2d3-7237d8f6a0a9"
      },
      "execution_count": null,
      "outputs": [
        {
          "output_type": "execute_result",
          "data": {
            "text/plain": [
              "66"
            ]
          },
          "metadata": {},
          "execution_count": 12
        }
      ]
    },
    {
      "cell_type": "code",
      "source": [
        "# Numpy Universal Funcitons :\n",
        "import numpy as np\n",
        "\n",
        "a = np.arange(4).reshape(2,2)\n",
        "b = np.array([[11,12],[13,14]])\n",
        "\n",
        "print(np.add(a,b))\n",
        "print()\n",
        "print(np.subtract(a,b))\n",
        "print()\n",
        "print(np.divide(a,b))\n",
        "print()\n",
        "print(np.multiply(a,b))\n",
        "print()\n",
        "print(np.power(a,b))\n",
        "print()\n",
        "print(\"To calculate the square-root of individual arrays : \")\n",
        "print(np.sqrt(a))\n",
        "print()\n",
        "print(np.sqrt(b))"
      ],
      "metadata": {
        "colab": {
          "base_uri": "https://localhost:8080/"
        },
        "id": "Wjjax2306vzS",
        "outputId": "9428a1a0-5500-4c04-a33c-b69068284889"
      },
      "execution_count": null,
      "outputs": [
        {
          "output_type": "stream",
          "name": "stdout",
          "text": [
            "[[11 13]\n",
            " [15 17]]\n",
            "\n",
            "[[-11 -11]\n",
            " [-11 -11]]\n",
            "\n",
            "[[0.         0.08333333]\n",
            " [0.15384615 0.21428571]]\n",
            "\n",
            "[[ 0 12]\n",
            " [26 42]]\n",
            "\n",
            "[[      0       1]\n",
            " [   8192 4782969]]\n",
            "\n",
            "To calculate the square-root of individual arrays : \n",
            "[[0.         1.        ]\n",
            " [1.41421356 1.73205081]]\n",
            "\n",
            "[[3.31662479 3.46410162]\n",
            " [3.60555128 3.74165739]]\n"
          ]
        }
      ]
    },
    {
      "cell_type": "code",
      "source": [
        "# Trignometric functions :\n",
        "import numpy as np\n",
        "arr = np.arange(4).reshape(2,2)\n",
        "arr2 = np.arange(5,9).reshape(2,2)\n",
        "print(arr)\n",
        "print()\n",
        "print(arr2)\n",
        "print()\n",
        "print(np.sin(arr))\n",
        "print()\n",
        "print(np.sin(arr2))"
      ],
      "metadata": {
        "colab": {
          "base_uri": "https://localhost:8080/"
        },
        "id": "Fk6IgFID8y0B",
        "outputId": "b58ba1c8-0818-462c-caff-9433d594bc8a"
      },
      "execution_count": null,
      "outputs": [
        {
          "output_type": "stream",
          "name": "stdout",
          "text": [
            "[[0 1]\n",
            " [2 3]]\n",
            "\n",
            "[[5 6]\n",
            " [7 8]]\n",
            "\n",
            "[[0.         0.84147098]\n",
            " [0.90929743 0.14112001]]\n",
            "\n",
            "[[-0.95892427 -0.2794155 ]\n",
            " [ 0.6569866   0.98935825]]\n"
          ]
        }
      ]
    },
    {
      "cell_type": "code",
      "source": [
        "# converting from radius to degrees :\n",
        "sin_60 = np.sin(60 * np.pi / 180)\n",
        "sin_60"
      ],
      "metadata": {
        "colab": {
          "base_uri": "https://localhost:8080/"
        },
        "id": "1NR31zeI-MgY",
        "outputId": "96ce0972-674a-4b8e-e40f-4ac86a903795"
      },
      "execution_count": null,
      "outputs": [
        {
          "output_type": "execute_result",
          "data": {
            "text/plain": [
              "0.8660254037844386"
            ]
          },
          "metadata": {},
          "execution_count": 25
        }
      ]
    },
    {
      "cell_type": "code",
      "source": [
        "sin_90 = np.sin(90 * np.pi / 180)\n",
        "sin_90"
      ],
      "metadata": {
        "colab": {
          "base_uri": "https://localhost:8080/"
        },
        "id": "2Evl8ngo_XXg",
        "outputId": "5c887cc1-3295-4d0a-b7e8-19b848819898"
      },
      "execution_count": null,
      "outputs": [
        {
          "output_type": "execute_result",
          "data": {
            "text/plain": [
              "1.0"
            ]
          },
          "metadata": {},
          "execution_count": 26
        }
      ]
    },
    {
      "cell_type": "code",
      "source": [
        "# Comparison functions :\n",
        "\n",
        "import numpy as np\n",
        "\n",
        "a = np.arange(4).reshape(2,2)\n",
        "b = np.arange(11,15).reshape(2,2)\n",
        "print()\n",
        "print(a)\n",
        "print()\n",
        "print(b)\n",
        "print()\n",
        "print(np.greater(a,b))\n",
        "print()\n",
        "print(np.greater_equal(a,b))\n",
        "print()\n",
        "print(np.less(a,b))\n",
        "print()\n",
        "print(np.equal(a,b))\n",
        "\n",
        "\n",
        "\n"
      ],
      "metadata": {
        "colab": {
          "base_uri": "https://localhost:8080/"
        },
        "id": "gp-4N4tf_l63",
        "outputId": "3703b125-903e-4369-c810-695a9c6b80e1"
      },
      "execution_count": null,
      "outputs": [
        {
          "output_type": "stream",
          "name": "stdout",
          "text": [
            "\n",
            "[[0 1]\n",
            " [2 3]]\n",
            "\n",
            "[[11 12]\n",
            " [13 14]]\n",
            "\n",
            "[[False False]\n",
            " [False False]]\n",
            "\n",
            "[[False False]\n",
            " [False False]]\n",
            "\n",
            "[[ True  True]\n",
            " [ True  True]]\n",
            "\n",
            "[[False False]\n",
            " [False False]]\n"
          ]
        }
      ]
    },
    {
      "cell_type": "code",
      "source": [
        "# Mod funciton :\n",
        "x = np.mod(6,4)\n",
        "print(x)"
      ],
      "metadata": {
        "colab": {
          "base_uri": "https://localhost:8080/"
        },
        "id": "LaDXVcsvAIEI",
        "outputId": "dbf96c9d-9f84-4335-89f8-5f4d4dcabe23"
      },
      "execution_count": null,
      "outputs": [
        {
          "output_type": "stream",
          "name": "stdout",
          "text": [
            "2\n"
          ]
        }
      ]
    },
    {
      "cell_type": "code",
      "source": [
        "6%4"
      ],
      "metadata": {
        "colab": {
          "base_uri": "https://localhost:8080/"
        },
        "id": "a__REZww0bkD",
        "outputId": "d3248834-2f06-4423-f8cf-258b82c03ef4"
      },
      "execution_count": null,
      "outputs": [
        {
          "output_type": "execute_result",
          "data": {
            "text/plain": [
              "2"
            ]
          },
          "metadata": {},
          "execution_count": 6
        }
      ]
    },
    {
      "cell_type": "code",
      "source": [
        "# Log Funcitons :\n",
        "np.log(1)"
      ],
      "metadata": {
        "colab": {
          "base_uri": "https://localhost:8080/"
        },
        "id": "plE9yIGt0ezL",
        "outputId": "b95c9d3d-8839-4452-db8f-ac442509a7e2"
      },
      "execution_count": null,
      "outputs": [
        {
          "output_type": "execute_result",
          "data": {
            "text/plain": [
              "0.0"
            ]
          },
          "metadata": {},
          "execution_count": 7
        }
      ]
    },
    {
      "cell_type": "code",
      "source": [
        "# Hypotenuse  :\n",
        "b = 3\n",
        "h = 4\n",
        "np.hypot(b,h)"
      ],
      "metadata": {
        "colab": {
          "base_uri": "https://localhost:8080/"
        },
        "id": "4s9FbDpl0jyq",
        "outputId": "5637e7fb-dec8-4908-eb03-7295516db566"
      },
      "execution_count": null,
      "outputs": [
        {
          "output_type": "execute_result",
          "data": {
            "text/plain": [
              "5.0"
            ]
          },
          "metadata": {},
          "execution_count": 8
        }
      ]
    },
    {
      "cell_type": "code",
      "source": [
        "# Aggregate Funcitons :\n",
        "import numpy as np\n",
        "\n",
        "arr = np.arange(1,10)\n",
        "print(arr)\n",
        "print()\n",
        "print(arr.sum())\n",
        "print()\n",
        "print(arr.min())\n",
        "print()\n",
        "print(arr.max())\n",
        "print()\n",
        "print(arr.min())\n",
        "print()"
      ],
      "metadata": {
        "colab": {
          "base_uri": "https://localhost:8080/"
        },
        "id": "gywqVRK60vvK",
        "outputId": "f22f851f-6e23-4b33-f0b8-15c773c5500a"
      },
      "execution_count": null,
      "outputs": [
        {
          "output_type": "stream",
          "name": "stdout",
          "text": [
            "[1 2 3 4 5 6 7 8 9]\n",
            "\n",
            "45\n",
            "\n",
            "1\n",
            "\n",
            "9\n",
            "\n",
            "1\n",
            "\n"
          ]
        }
      ]
    },
    {
      "cell_type": "code",
      "source": [
        "# Indexing in Numpy array :\n",
        "arr = np.array([11,12,13,14,15])\n",
        "print(arr)\n",
        "arr[1]\n",
        "print()\n",
        "arr[1:]\n",
        "arr[1 : 4]\n",
        "arr[ : : -1]\n",
        "arr[-1]"
      ],
      "metadata": {
        "colab": {
          "base_uri": "https://localhost:8080/"
        },
        "id": "0uAvJuIH1C76",
        "outputId": "7fa97d79-5716-4172-8de2-6b0bb0bc5d68"
      },
      "execution_count": null,
      "outputs": [
        {
          "output_type": "stream",
          "name": "stdout",
          "text": [
            "[11 12 13 14 15]\n",
            "\n"
          ]
        },
        {
          "output_type": "execute_result",
          "data": {
            "text/plain": [
              "15"
            ]
          },
          "metadata": {},
          "execution_count": 17
        }
      ]
    },
    {
      "cell_type": "code",
      "source": [
        "import numpy as np\n",
        "\n",
        "arr = np.arange(11,27).reshape(4,4)\n",
        "print(arr)\n",
        "# Returns complete row :\n",
        "print()\n",
        "print(arr[1])\n",
        "print()\n",
        "print(arr[1 : , 1 : ])"
      ],
      "metadata": {
        "colab": {
          "base_uri": "https://localhost:8080/"
        },
        "id": "kEW_VzGf15yK",
        "outputId": "35f5b3da-7b93-499c-a2e9-34376db1abe4"
      },
      "execution_count": null,
      "outputs": [
        {
          "output_type": "stream",
          "name": "stdout",
          "text": [
            "[[11 12 13 14]\n",
            " [15 16 17 18]\n",
            " [19 20 21 22]\n",
            " [23 24 25 26]]\n",
            "\n",
            "[15 16 17 18]\n",
            "\n",
            "[[16 17 18]\n",
            " [20 21 22]\n",
            " [24 25 26]]\n"
          ]
        }
      ]
    },
    {
      "cell_type": "code",
      "source": [
        "# Fancy indexing :\n",
        "\n",
        "a  = np.array([3,78,23,12,90,10,45,56])\n",
        "print(a)\n",
        "print()\n",
        "ind = np.array([[3,5],[2,4]]) # returns the elements from the index of above array 'a' .\n",
        "print(a[ind])\n",
        "\n",
        "\n",
        "\n"
      ],
      "metadata": {
        "colab": {
          "base_uri": "https://localhost:8080/"
        },
        "id": "wDq415Q82xmB",
        "outputId": "7ae346d6-238a-465b-86ae-9fa98257b670"
      },
      "execution_count": null,
      "outputs": [
        {
          "output_type": "stream",
          "name": "stdout",
          "text": [
            "[ 3 78 23 12 90 10 45 56]\n",
            "\n",
            "[[12 10]\n",
            " [23 90]]\n"
          ]
        }
      ]
    },
    {
      "cell_type": "code",
      "source": [
        "# Iterating through arrays :\n",
        "import numpy as np\n",
        "\n",
        "arr = np.arange(20)\n",
        "print(arr)\n",
        "print()\n",
        "# for those who work in projects that involve fourier transform or linear algebra\n",
        "# they can use the nditer option along with order parameter .\n",
        "for i in np.nditer(arr , order = \"K\"):\n",
        "    print(i)\n",
        "\n",
        "print()\n",
        "# for simple reading of the ndarray a standard for loop can be used .\n",
        "for i in arr:\n",
        "  print(i)"
      ],
      "metadata": {
        "colab": {
          "base_uri": "https://localhost:8080/"
        },
        "id": "Gzrw-Fl53xSr",
        "outputId": "cd710005-5c38-4d88-abcb-df670d51df12"
      },
      "execution_count": null,
      "outputs": [
        {
          "output_type": "stream",
          "name": "stdout",
          "text": [
            "[ 0  1  2  3  4  5  6  7  8  9 10 11 12 13 14 15 16 17 18 19]\n",
            "\n",
            "0\n",
            "1\n",
            "2\n",
            "3\n",
            "4\n",
            "5\n",
            "6\n",
            "7\n",
            "8\n",
            "9\n",
            "10\n",
            "11\n",
            "12\n",
            "13\n",
            "14\n",
            "15\n",
            "16\n",
            "17\n",
            "18\n",
            "19\n",
            "\n",
            "0\n",
            "1\n",
            "2\n",
            "3\n",
            "4\n",
            "5\n",
            "6\n",
            "7\n",
            "8\n",
            "9\n",
            "10\n",
            "11\n",
            "12\n",
            "13\n",
            "14\n",
            "15\n",
            "16\n",
            "17\n",
            "18\n",
            "19\n"
          ]
        }
      ]
    },
    {
      "cell_type": "code",
      "source": [
        "# Transpose :\n",
        "import numpy as np\n",
        "\n",
        "arr = np.arange(11,27).reshape(4,4)\n",
        "print(arr)\n",
        "print()\n",
        "arr1 = np.transpose(arr)\n",
        "print(arr1)\n"
      ],
      "metadata": {
        "colab": {
          "base_uri": "https://localhost:8080/"
        },
        "id": "RmM0KNfIL-KM",
        "outputId": "40c9719d-bfb2-4bdd-9637-9cac2234b5ae"
      },
      "execution_count": null,
      "outputs": [
        {
          "output_type": "stream",
          "name": "stdout",
          "text": [
            "[[11 12 13 14]\n",
            " [15 16 17 18]\n",
            " [19 20 21 22]\n",
            " [23 24 25 26]]\n",
            "\n",
            "[[11 15 19 23]\n",
            " [12 16 20 24]\n",
            " [13 17 21 25]\n",
            " [14 18 22 26]]\n"
          ]
        }
      ]
    },
    {
      "cell_type": "code",
      "source": [
        "# Condcatenate :\n",
        "import numpy as np\n",
        "\n",
        "arr1 = np.array([[1,2],[3,4]])\n",
        "arr2 = np.array([[8,10]])\n",
        "print(arr1)\n",
        "print()\n",
        "print(arr2)\n",
        "print()\n",
        "print(np.concatenate((arr1, arr2)))\n",
        "# axis = 1 means concatenate as a column\n",
        "# axis = 0 means concatenate as a row\n",
        "print()\n",
        "print(np.concatenate((arr1 , arr2.T),axis=1))"
      ],
      "metadata": {
        "colab": {
          "base_uri": "https://localhost:8080/"
        },
        "id": "Qio-mYvKNKgy",
        "outputId": "5af4799d-7d7d-4548-9461-585d410363c5"
      },
      "execution_count": null,
      "outputs": [
        {
          "output_type": "stream",
          "name": "stdout",
          "text": [
            "[[1 2]\n",
            " [3 4]]\n",
            "\n",
            "[[ 8 10]]\n",
            "\n",
            "[[ 1  2]\n",
            " [ 3  4]\n",
            " [ 8 10]]\n",
            "\n",
            "[[ 1  2  8]\n",
            " [ 3  4 10]]\n"
          ]
        }
      ]
    },
    {
      "cell_type": "code",
      "source": [
        "# Splitting Array : split() , hsplit() and vsplit()\n",
        "import numpy as np\n",
        "\n",
        "a = np.array([3,78,23,12,90,10,45,56])\n",
        "print(a)\n",
        "print()\n",
        "a1 , a2 = np.split(a,2)\n",
        "print(a1)\n",
        "print()\n",
        "print(a2)\n"
      ],
      "metadata": {
        "colab": {
          "base_uri": "https://localhost:8080/"
        },
        "id": "Yv_D4fpFOUEK",
        "outputId": "6268851a-9f62-468e-f7b1-585db99c4f11"
      },
      "execution_count": null,
      "outputs": [
        {
          "output_type": "stream",
          "name": "stdout",
          "text": [
            "[ 3 78 23 12 90 10 45 56]\n",
            "\n",
            "[ 3 78 23 12]\n",
            "\n",
            "[90 10 45 56]\n"
          ]
        }
      ]
    },
    {
      "cell_type": "code",
      "source": [
        "import numpy as np\n",
        "\n",
        "arr = np.arange(11,27).reshape(4,4)\n",
        "print(arr)\n",
        "\n",
        "arr1 , arr2 , arr3 , arr4 = np.hsplit(arr,4)\n",
        "print(arr1)\n",
        "print()\n",
        "print(arr2)\n",
        "print()\n",
        "print(arr3)\n",
        "print()\n",
        "print(arr4)\n",
        "print()\n",
        "arr1 , arr2 , arr3 , arr4 = np.vsplit(arr,4)\n",
        "print(arr1)\n",
        "print()\n",
        "print(arr2)\n",
        "print()\n",
        "print(arr3)\n",
        "print()\n",
        "print(arr4)\n",
        "\n"
      ],
      "metadata": {
        "colab": {
          "base_uri": "https://localhost:8080/"
        },
        "id": "RPexzveFTM3j",
        "outputId": "aeb09268-0e46-4e43-fb4d-d00a2f3af86c"
      },
      "execution_count": null,
      "outputs": [
        {
          "output_type": "stream",
          "name": "stdout",
          "text": [
            "[[11 12 13 14]\n",
            " [15 16 17 18]\n",
            " [19 20 21 22]\n",
            " [23 24 25 26]]\n",
            "[[11]\n",
            " [15]\n",
            " [19]\n",
            " [23]]\n",
            "\n",
            "[[12]\n",
            " [16]\n",
            " [20]\n",
            " [24]]\n",
            "\n",
            "[[13]\n",
            " [17]\n",
            " [21]\n",
            " [25]]\n",
            "\n",
            "[[14]\n",
            " [18]\n",
            " [22]\n",
            " [26]]\n",
            "\n",
            "[[11 12 13 14]]\n",
            "\n",
            "[[15 16 17 18]]\n",
            "\n",
            "[[19 20 21 22]]\n",
            "\n",
            "[[23 24 25 26]]\n"
          ]
        }
      ]
    },
    {
      "cell_type": "code",
      "source": [],
      "metadata": {
        "id": "ahhRxr5JT0ux"
      },
      "execution_count": null,
      "outputs": []
    }
  ]
}