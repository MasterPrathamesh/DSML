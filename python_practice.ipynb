{
  "nbformat": 4,
  "nbformat_minor": 0,
  "metadata": {
    "colab": {
      "provenance": []
    },
    "kernelspec": {
      "name": "python3",
      "display_name": "Python 3"
    },
    "language_info": {
      "name": "python"
    }
  },
  "cells": [
    {
      "cell_type": "markdown",
      "source": [],
      "metadata": {
        "id": "HoyMYM4abhgH"
      }
    },
    {
      "cell_type": "code",
      "execution_count": null,
      "metadata": {
        "colab": {
          "base_uri": "https://localhost:8080/"
        },
        "id": "wD_KJJA0a_AV",
        "outputId": "870b08cb-e77c-4e4a-c31a-78cb01e43322"
      },
      "outputs": [
        {
          "output_type": "stream",
          "name": "stdout",
          "text": [
            "Enter two numbers\n",
            "100\n",
            "20000\n",
            "Addition is : 20100\n"
          ]
        }
      ],
      "source": [
        "#This sheet is only for the practice of python from the very basics.\n",
        "#Input statements: This input() function reads the input form console (output screen) and return's . Therefore, we have to receive that returned\n",
        "# value into a variable/reference. ex: a = input().\n",
        "\"\"\" but the thing is , python reads and returns every input as string . Therefore , we have to parse / convert the input string value into required datatype\n",
        "Datatypes: int , float , string , boolean etc \"\"\"\n",
        "\n",
        "# write a program to accept two no's from the user and perform their addition.\n",
        "print(\"Enter two numbers\")\n",
        "a = int(input())\n",
        "b = int(input())\n",
        "c = a + b\n",
        "print(\"Addition is :\",c)\n"
      ]
    },
    {
      "cell_type": "code",
      "source": [
        "# Arithmetic Operators:\n",
        "\"\"\" +(Addition) , -(Subtraction) , *(Multiplication) , %(Modulas,Modulae) , /(Division) , //(Floor division) , **(For power)\n",
        "In python, we have total 7 arithematic operators,here we have directly (**) as power operator . For this opearator left operand is base and right\n",
        "operadn is power. In other programming languages, int / int is integer but in python int / int is the original value (float).\n",
        "Here we have special division opertor ( // ) called as floor division . This operator performs division and results integer value \"\"\"\n",
        "\n",
        "# write a program to accept a number from the user and print its square and cube .\n",
        "print(\"Enter the number\")\n",
        "a = int(input())\n",
        "b = a**2\n",
        "c = a**3\n",
        "print(\"The square of the no. is \", b , \"and the cube of the number is \", c)"
      ],
      "metadata": {
        "colab": {
          "base_uri": "https://localhost:8080/"
        },
        "id": "YLvId-XN9HqZ",
        "outputId": "130d4dc9-5b57-4183-84ac-9ce27354de60"
      },
      "execution_count": null,
      "outputs": [
        {
          "output_type": "stream",
          "name": "stdout",
          "text": [
            "Enter the number\n",
            "50\n",
            "The square of the no. is  2500 and the cube of the number is  125000\n"
          ]
        }
      ]
    },
    {
      "cell_type": "code",
      "source": [
        "# write a program to accept two no's from the users and perform all aritematic operations on them .\n",
        "print(\"Enter the 2 Numbers\")\n",
        "a = int(input())\n",
        "b = int(input())\n",
        "c = a + b\n",
        "d = a - b\n",
        "e = a * b\n",
        "f = a % b\n",
        "g = a ** b\n",
        "h = a / b\n",
        "i = a // b\n",
        "print(\"The addition is:\", c)\n",
        "print(\"The Subtraction is:\", d)\n",
        "print(\"The multiplication is:\",e)\n",
        "print(\"The modulas is:\", f)\n",
        "print(\"The Power is:\", g)\n",
        "print(\"The Division is :\", h)\n",
        "print(\"The floor division is:\", i)"
      ],
      "metadata": {
        "colab": {
          "base_uri": "https://localhost:8080/"
        },
        "id": "bj3r80e0_vco",
        "outputId": "7654c0db-38d7-491b-f247-ffa69648752b"
      },
      "execution_count": null,
      "outputs": [
        {
          "output_type": "stream",
          "name": "stdout",
          "text": [
            "Enter the 2 Numbers\n",
            "20\n",
            "30\n",
            "The addition is: 50\n",
            "The Subtraction is: -10\n",
            "The multiplication is: 600\n",
            "The modulas is: 20\n",
            "The Power is: 1073741824000000000000000000000000000000\n",
            "The Division is : 0.6666666666666666\n",
            "The floor division is: 0\n"
          ]
        }
      ]
    },
    {
      "cell_type": "code",
      "source": [
        "# write a program to accept marks of 3 subjects of a student and print the total marks and average marks.\n",
        "print(\"Enter the marks of 3 subjects\")\n",
        "a = int(input())\n",
        "b = int(input())\n",
        "c = int(input())\n",
        "total = a + b + c\n",
        "avg = total / 3\n",
        "print(\"The total marks of the 3 subjects is :\", total , \"and the Average is :\", avg)"
      ],
      "metadata": {
        "colab": {
          "base_uri": "https://localhost:8080/"
        },
        "id": "-J87jfblBZpf",
        "outputId": "1c9c8402-c4e2-4a1c-974a-87620cedc81e"
      },
      "execution_count": null,
      "outputs": [
        {
          "output_type": "stream",
          "name": "stdout",
          "text": [
            "Enter the marks of 3 subjects\n",
            "90\n",
            "93\n",
            "97\n",
            "The total marks of the 3 subjects is : 280 and the Average is : 93.33333333333333\n"
          ]
        }
      ]
    },
    {
      "cell_type": "code",
      "source": [
        "# In python , for giving comments we have two options.\n",
        "# '#' is for single line comment\n",
        "\"\"\"  this is for multiline comment , we can write n no. of statements in it \"\"\"\n",
        "\n",
        "# write a program to accept radius of a circle in float and print area and circumference fo the circle .\n",
        "print(\"Enter the radius of the circle in Float\")\n",
        "r = float(input())\n",
        "area = 3.14 * r * r\n",
        "circum = 2 * 3.14 * r\n",
        "print(\"The area of the circle is : \",area , \"circumference of the circle is :\",circum)"
      ],
      "metadata": {
        "colab": {
          "base_uri": "https://localhost:8080/"
        },
        "id": "8sTFtOEzC3l3",
        "outputId": "65edf30f-6cef-415d-8a2d-e4ed325e06a5"
      },
      "execution_count": null,
      "outputs": [
        {
          "output_type": "stream",
          "name": "stdout",
          "text": [
            "Enter the radius of the circle in Float\n",
            "4.15\n",
            "The area of the circle is :  54.07865000000002 circumference of the circle is : 26.062000000000005\n"
          ]
        }
      ]
    },
    {
      "cell_type": "code",
      "source": [
        "# write a program to accept roll no , name , avg marks , and contact no of a student and print them with proper message.\n",
        "print(\"Enter the roll no of the student\")\n",
        "roll = int(input())\n",
        "print(\"Enter the name of the student\")\n",
        "name = input()\n",
        "print(\"Enter the avg marks of the student\")\n",
        "avg = float(input())\n",
        "print(\"Enter the contact no. of the student\")\n",
        "con = int(input())\n",
        "print(\"The roll no. of the student is\",roll)\n",
        "print(\"The Name of the student is \",name)\n",
        "print(\"The avg marks of the student is \",avg)\n",
        "print(\"The contact no . of the student is\",con)"
      ],
      "metadata": {
        "colab": {
          "base_uri": "https://localhost:8080/"
        },
        "id": "rfh85Ze-FBnO",
        "outputId": "b412b91b-d3dc-4d2c-f546-35613f3c3b2e"
      },
      "execution_count": null,
      "outputs": [
        {
          "output_type": "stream",
          "name": "stdout",
          "text": [
            "Enter the roll no of the student\n",
            "30\n",
            "Enter the name of the student\n",
            "Prathamesh\n",
            "Enter the avg marks of the student\n",
            "91.57\n",
            "Enter the contact no. of the student\n",
            "1001001000\n",
            "The roll no. of the student is 30\n",
            "The Name of the student is  Prathamesh\n",
            "The avg marks of the student is  91.57\n",
            "The contact no . of the student is 1001001000\n"
          ]
        }
      ]
    },
    {
      "cell_type": "code",
      "source": [
        "# python has 35 keywords, unnecessary spaces are not allowed in python\n",
        "# spaces are also called as indent or indentation.\n",
        "# Every python program or file is called as module and the folder is called as package or library.\n",
        "# we can directly include / import any existing module by using keyword import (import module_name)\n",
        "\"\"\"\n",
        "In pycharm , --> open terminal\n",
        "pip install (______) ---> any module to install\n",
        "cmd --> python -m pip install ______\n",
        "ipynb --> Interactive python notebook\n",
        "pip install notebook\n",
        "pip install voila\n",
        "pip install jupyterlab\n",
        "pip install jupyterlab is an combination of both notebook and jupyter.\n",
        "prefer to download the jupyterlab in cmd.\n",
        "\"\"\"\n",
        "# pass : used for keeping the blank function or condition .\n",
        "\"\"\" ex:\n",
        "        def example:\n",
        "            pass\n",
        "        if condition:\n",
        "            pass\n",
        "\n",
        "\"\"\"\n",
        "# comment in python:\n",
        "\"\"\" we know that comments are the statements that neither compiles nor executes. generally , we put comments to indicate / explain any logical block\n",
        "  or decisions . Similar to other programming languages we have two types of comments in python .\n",
        "  1: Single line comment\n",
        "  2: Multiline comment\n",
        "\n",
        "  Single line comment :\n",
        "          comments are valid only for that single line . In python we have # is single line comment .\n",
        "\n",
        "  Multiline comment :\n",
        "          is valid for multipel statements / lines . In python we have \"\"\" \"\"\" / or ''' ''' as multiline comments\n",
        "\n",
        "*Preparing documentation :\n",
        "            Python provides a very good facility of specifying documentation for any function , class or module and library . This documentation means a\n",
        "            small description / explaination about the role of that entity . To prepare documentation for any entity we begin it with multiline comments.\n",
        "\n",
        "            for ex:\n",
        "              def addition():\n",
        "                \"\"\" #This function calculates addition of two numbers \"\"\"\n",
        "               # print(\"Enter two no's \")\n",
        "              #  a = int(input())\n",
        "              # b = int(input())\n",
        "               # c = a + b\n",
        "               # print(\"Addition is \",c )\n",
        "\n",
        "    #After mentioning documentation of any entity , we can fetch that documentation on by using attribute (__doc__).\n",
        "    \"\"\"\n",
        "    for ex:\n",
        "      print(Addition.__doc__)\n",
        "\n",
        "    \"\"\"\n",
        "  \"\"\"\n",
        "    Importing a python module is similar to including header files in \"C\". But here in python , to include / import a module we have keyword\n",
        "    \"import\". To import a module general syntax is :\n",
        "\n",
        "    import module_name\n",
        "    or\n",
        "    import keyword , cx_oracle , math\n",
        "\n",
        "  \"\"\"\n",
        "\"\"\"\n",
        "  Additionally , python provides the facility of giving an alternate name to reference by using keyword \"as\".\n",
        "    For ex :\n",
        "        import keyword as kw\n",
        "        or\n",
        "        import cx_oracle as co\n",
        "\n",
        "  After declaring such shorten names for references , we can now use such shorten names in statements. Remember that , if we use any modele then every entity\n",
        "  of this module must be use with module_name/ shorten names.\n",
        "        ex:\n",
        "          import test1 as T\n",
        "            T.method1()\n",
        "            T.A\n",
        "            T.method2()\n",
        "\n",
        "The use of keyword \"as\" is also called as \"alias\".\n",
        "\n",
        "    **. from ____ import ____ :\n",
        "            This is also anoter way of importing packages and modules . To apply from import we have to use\n",
        "                from MODULE_NAME import ENTITY_NAME\n",
        "                            or\n",
        "                from PACKAGE_NAME import MODULE_NAME\n",
        "\n",
        "    * The advantage of using from ___ import ___  is that , that entity directly becomes port of porgram and therefore we don't need to use module name\n",
        "    to use that entity.\n",
        "\n",
        "\n",
        "  \"\"\"\n",
        " # Logical statements :\n",
        "\"\"\"\n",
        "        * Single if - statements :\n",
        "\n",
        "              if condition :\n",
        "                stmts\n",
        "                stmts\n",
        "                stmts\n",
        "\n",
        "      *Multiple if statements :\n",
        "\n",
        "            if condition :\n",
        "                stmts\n",
        "            if condition :\n",
        "                stmts\n",
        "            if condition :\n",
        "                stmts\n",
        "\n",
        "      * if-else :\n",
        "\n",
        "            if condition :\n",
        "                stmts\n",
        "                stmts\n",
        "                stmts\n",
        "            else :\n",
        "                stmts\n",
        "                stmts\n",
        "                stmts\n",
        "\n",
        "      * Nested if :\n",
        "\n",
        "              if condition:\n",
        "                  if condition:\n",
        "                        stmts\n",
        "                        stmts\n",
        "                        stmts\n",
        "\n",
        "      * Nested if - else stmts:\n",
        "\n",
        "                  if codition:\n",
        "                      if condition:\n",
        "                            stmts\n",
        "                            stmts\n",
        "                      else:\n",
        "                            stmts\n",
        "                            stmts\n",
        "                            stmts\n",
        "                  else :\n",
        "                      if condition:\n",
        "                            stmts\n",
        "                            stmts\n",
        "      ** instead of else-if statement we use \"elif\"\n",
        "\n",
        "      \"\"\"\n",
        "\"\"\"\n",
        "\n",
        "\n",
        "\n"
      ],
      "metadata": {
        "id": "vMDH8hgUHJz8"
      },
      "execution_count": null,
      "outputs": []
    },
    {
      "cell_type": "code",
      "source": [
        "# write a program to check whether the number is even or odd\n",
        "\n",
        "number= int(input(\"Enter the no. to check whether it's even or odd\\n\"))\n",
        "if(number % 2 == 0):\n",
        "  print(\"The number is the even which is \", number)\n",
        "else:\n",
        "  print(\"The number is not even which is\", number)"
      ],
      "metadata": {
        "colab": {
          "base_uri": "https://localhost:8080/"
        },
        "id": "8pG8Rz9npDDR",
        "outputId": "ce94a880-1f96-47b0-92dc-670d3cab95ca"
      },
      "execution_count": null,
      "outputs": [
        {
          "output_type": "stream",
          "name": "stdout",
          "text": [
            "Enter the no. to check whether it's even or odd\n",
            "20\n",
            "The number is the even which is  20\n"
          ]
        }
      ]
    },
    {
      "cell_type": "code",
      "source": [
        "# The randint() function will return any random value from sprcified range. It also incudes the end value.\n",
        "\n",
        "# The randrange() function will return any random value form specified range . It will not include end value . The randrange() function also allows to\n",
        "# specify step . By default step value is +1 .\n",
        "\n",
        "# The random() function will return a random floating point value from 0.0 to 0.99 ( > 0 but < 1).\n",
        "# The choice() function will randomly select and reutrn any item / value form specified sequence .\n",
        "\n",
        "# make a game of stone , paper and scissor and display how many times the user wins .\n",
        "# it's not a complete game it's just a basic structure we'll do some correction in it in upcoming days .\n",
        "import random\n",
        "\n",
        "print(\"1-Stone\")\n",
        "print(\"2-Paper\")\n",
        "print(\"3-Scissor\")\n",
        "\n",
        "# taking user's choice\n",
        "\n",
        "i = 1\n",
        "while i <= 5 :\n",
        "  user = int(input(\"Select one option:\"))\n",
        "\n",
        "  # taking a random value as computer's choice\n",
        "  comp = random.randint(1,3)\n",
        "\n",
        "  if (user==1 and comp==2) or (user==2 and comp==3) or (user==3 and comp==1) :\n",
        "     temp = 0\n",
        "     temp = temp + 1\n",
        "  elif (user==2 and comp==1) or (user==3 and user==2) or (user==1 and comp==3):\n",
        "      temp2 = 0\n",
        "      temp2 = temp2 + 1\n",
        "  elif (user == comp) :\n",
        "      temp3 = 0\n",
        "      temp3 = temp3 + 1\n",
        "\n",
        "i = i + 1\n",
        "\n",
        "print(temp)\n",
        "print(\"This times computer wins\")\n",
        "\n",
        "print(temp2)\n",
        "print(\"This time user wins\")\n",
        "\n",
        "print(temp3)\n",
        "print(\"This times draws happend\")\n",
        "\n"
      ],
      "metadata": {
        "id": "r8p_r8n4pnbd"
      },
      "execution_count": null,
      "outputs": []
    },
    {
      "cell_type": "code",
      "source": [
        "# List :\n",
        "\"\"\"\n",
        "#List is dynamic and mutable.\n",
        "#List is represent in [].\n",
        "#Allows to overwrite by using index and indexing operator .\n",
        "#Allows indexing (use indexing operator []).\n",
        "#Allows duplicate elements.\n",
        "\n",
        "\n",
        "# Note : By default the tuple is data structure in python .\n",
        "\n",
        "# __prompt__: Giving msg in the input taking function.\n",
        "b = int(input(\"Enter the number\"))\n",
        "\n",
        "\n",
        "\"\"\"\n",
        "ls1 = [\"Amit\",\"Gaurav\",\"Ajinkya\",\"Rahul\"]\n",
        "ls2 = [1,2,3,4,5]\n",
        "\n",
        "ls1.append(\"Prathamesh\")\n",
        "ls2.append(17)\n",
        "\n",
        "ls1.insert(3,\"MGM'S POLYTECHNIC\")\n",
        "ls2.reverse()\n",
        "\n",
        "ls1.remove(\"Amit\")\n",
        "ls2.remove(1)\n",
        "\n",
        "print(ls1)\n",
        "print(ls2)\n"
      ],
      "metadata": {
        "id": "UV2vzeudc90_"
      },
      "execution_count": null,
      "outputs": []
    },
    {
      "cell_type": "code",
      "source": [
        "# Tuple:\n",
        "# - is a static and immutable entity.\n",
        "# - is represent  in simple parantesis braces .\n",
        "# - allows indexing ( in indexing operator[]) but will not allow over writing by using index number .\n",
        "# - minimum 2 elements / objects are required to initialize a tuple.\n",
        "# - allows every type of elements / objects .\n",
        "\n",
        "=======================================\n",
        "\n",
        "\n",
        "# Dictionary :\n",
        "# - keys must be an immutable entity .\n",
        "# - values can be anything.\n",
        "# - d = { \"Ganesh\":123456}\n",
        "\n",
        "# mutable : List , dictionary and set\n",
        "# immutable : string , tuple , numeric objects .\n",
        "\n",
        "\n",
        "======================================\n",
        "\n",
        "\n",
        "# Difference between List and Tuple\n",
        "      List                                                                                                        Tuple\n",
        "    =======                                                                                                     =========\n",
        "# - is dynamic and mutable entity .                                                  - is static and immutable entity .\n",
        "# - is represented in [].                                                            - is represented in ()\n",
        "# - is object of class list .                                                        - is object of Class tuple .\n",
        "# - generates indexing automatically (from 0) .                                      - generates indexing automatically form 0 .\n",
        "# - allows to overwrite values by using index number .                               - Tuple allows indexing in [] .\n",
        "# - allows every object as its element.                                              - does not allow to overwrite the values by using index number.\n",
        "# - allows duplicate elements .                                                      - allows every object as element.\n",
        "# - Single element can create list .                                                 - allows duplicate elements.\n",
        "# - None is allowed as value                                                         - atleast 2 elements are required to create a tuple .\n",
        "                                                                                    #- none is allowed as value .\n",
        "\n",
        "\n",
        "# Dictionary                                                                      # Set :\n",
        "==============                                                                    =======\n",
        "# - is dynamic and mutable entity                                                - set is dynamic and mutable entity .\n",
        "# - is represented in curly braces {}.                                           - is object of class set .\n",
        "# - is object of class Dict.                                                     - is represented {} .\n",
        "# - we specify {key: value} pair will not generate indexing use key as index.    - does not allow indexing .\n",
        "# - allows indexing in [] (use key as index).                                    - does not allow overwrite of elements .\n",
        "# - allows to overwrite value by using key .                                     - allows only immutable entities as elements .\n",
        "# - keys must be immutable entity value can be anything .                        [ list , dict , set - are not allowed].\n",
        "# - does not allows duplicate keys but values can be duplicate .                 - does not allow duplicate elements .\n",
        "# - single { key : value }  pair can create dictionary .                         - single element can create a set .\n",
        "# - A key cannot be None but Value can be None .                                 - None is allowed as value .\n",
        "                                                                                # {} is \"dict\" .\n",
        "\n",
        "\n",
        "\n",
        "\n"
      ],
      "metadata": {
        "id": "_oxm-dVPfk5G"
      },
      "execution_count": null,
      "outputs": []
    },
    {
      "cell_type": "code",
      "source": [
        "# append():\n",
        "# This function appends and adds specified abject as last element in invoking list object.\n",
        "# ex :\n",
        "ls1 = [10,55,\"ABCD\",56.43,\"IJKL\",522]\n",
        "print(\"initially list contains : \", ls1)\n",
        "ls1.append(200)\n",
        "print(\"updated list contains : \",ls1)\n",
        "# Also remember that, list is a dynamic entity . Therefore it will automatically expand when append() mehtod executes.\n",
        "# We can also declare blank list . This append() method will add elements into list add expand it ."
      ],
      "metadata": {
        "id": "K8bAV4Kwf-SY"
      },
      "execution_count": null,
      "outputs": []
    },
    {
      "cell_type": "code",
      "source": [
        "# clear(): This method clears/resets all elements of invoking list object .\n",
        "# ex : 1\n",
        "ls1 = [10,255,488.24,\"ABCD\",900]\n",
        "print(\"Initially list contains :\",ls1)\n",
        "ls1.clear()\n",
        "print(\"updated list contains : \",ls1)"
      ],
      "metadata": {
        "id": "vE_hbnUQxlT5"
      },
      "execution_count": null,
      "outputs": []
    },
    {
      "cell_type": "code",
      "source": [
        "# ex : 2\n",
        "ls1 = [10,255,488.24,\"ABCD\",900]\n",
        "print(\"Initially list contains :\",ls1)\n",
        "print(\"initial ID of ls1 is : \",id(ls1))\n",
        "ls1.clear()\n",
        "print(\"updated list contains : \",ls1)\n",
        "print(\"Now ID of ls1 is : \", id(ls1))"
      ],
      "metadata": {
        "colab": {
          "base_uri": "https://localhost:8080/"
        },
        "id": "rW56SwLIyjAV",
        "outputId": "7c72f85f-aed4-4a6e-c7fe-a1c4c52b55ae"
      },
      "execution_count": null,
      "outputs": [
        {
          "output_type": "stream",
          "name": "stdout",
          "text": [
            "Initially list contains : [10, 255, 488.24, 'ABCD', 900]\n",
            "initial ID of ls1 is :  133055137047872\n",
            "updated list contains :  []\n",
            "Now ID of ls1 is :  133055137047872\n"
          ]
        }
      ]
    },
    {
      "cell_type": "code",
      "source": [
        "# sort : This function sorts the list elements in ASC or DESC order .\n",
        "# By - default sorts in ASC order .\n",
        "# To sort in DESC order assign True to attribute \"reverse=\" .\n",
        "ls1 = [10,255,488.24,900,543]\n",
        "print(\"Initially list contains : \",ls1)\n",
        "ls1.sort(reverse=True)\n",
        "print(\"Sorted list is :\",ls1)"
      ],
      "metadata": {
        "colab": {
          "base_uri": "https://localhost:8080/"
        },
        "id": "PN1cUYplzgB-",
        "outputId": "2a3b6e05-1ae1-44a7-9ae3-d155f708d3a2"
      },
      "execution_count": null,
      "outputs": [
        {
          "output_type": "stream",
          "name": "stdout",
          "text": [
            "Initially list contains :  [10, 255, 488.24, 900, 543]\n",
            "Sorted list is : [900, 543, 488.24, 255, 10]\n"
          ]
        }
      ]
    },
    {
      "cell_type": "code",
      "source": [
        "# ex 2 :\n",
        "ls1 = [\"Prathamesh\",\"soham\",\"Gaurav\",\"Siddhart\",\"Vinit\",\"Vishal\"]\n",
        "print(\"Initially list contains : \",ls1)\n",
        "ls1.sort()\n",
        "print(\"Sorted list is :\",ls1)\n",
        "# Strictly remember that , for sorting the object / elements of list must be of either numeric or String ."
      ],
      "metadata": {
        "colab": {
          "base_uri": "https://localhost:8080/"
        },
        "id": "cAH8r8KP0s_T",
        "outputId": "ef31e321-7aa9-486a-a9e6-48bbdd1081ff"
      },
      "execution_count": null,
      "outputs": [
        {
          "output_type": "stream",
          "name": "stdout",
          "text": [
            "Initially list contains :  ['Prathamesh', 'soham', 'Gaurav', 'Siddhart', 'Vinit', 'Vishal']\n",
            "Sorted list is : ['Gaurav', 'Prathamesh', 'Siddhart', 'Vinit', 'Vishal', 'soham']\n"
          ]
        }
      ]
    },
    {
      "cell_type": "code",
      "source": [
        "# Copy() : This function returns a copy of invoking list object as another list object . Both will have different ID's .\n",
        "# ex :\n",
        "ls1 = [15,22.65,\"ABCD\",\"XYZ\",3555]\n",
        "print(\"Initially list contains :\", ls1)\n",
        "ls2 = ls1.copy()\n",
        "print(\"ls1 contains :\" , ls1)\n",
        "print(\"ls2 contains :\" , ls2)\n",
        "print(\"ID of ls1 is :\" , id(ls1))\n",
        "print(\"ID of ls2 is : \" , id(ls2))"
      ],
      "metadata": {
        "colab": {
          "base_uri": "https://localhost:8080/"
        },
        "id": "UZE9UpB81iFD",
        "outputId": "b0aa8fe9-22fd-4e23-cfdb-919e373ebc09"
      },
      "execution_count": null,
      "outputs": [
        {
          "output_type": "stream",
          "name": "stdout",
          "text": [
            "Initially list contains : [15, 22.65, 'ABCD', 'XYZ', 3555]\n",
            "ls1 contains : [15, 22.65, 'ABCD', 'XYZ', 3555]\n",
            "ls2 contains : [15, 22.65, 'ABCD', 'XYZ', 3555]\n",
            "ID of ls1 is : 133055141409152\n",
            "ID of ls2 is :  133055135602944\n"
          ]
        }
      ]
    },
    {
      "cell_type": "code",
      "source": [
        "# insert() : This function inserts specified object at specified index in invoking list object .\n",
        "# ex :\n",
        "ls1 = [15,22.65,\"ABCD\",\"XYZ\",3555]\n",
        "print(\"Initially list contains :\", ls1)\n",
        "ls1.insert(2,\"joshi\")\n",
        "print(\"Updated list is : \", ls1)"
      ],
      "metadata": {
        "colab": {
          "base_uri": "https://localhost:8080/"
        },
        "id": "49VSbqLF29dA",
        "outputId": "951b97a1-7bc2-4389-f16f-13530294ceb1"
      },
      "execution_count": null,
      "outputs": [
        {
          "output_type": "stream",
          "name": "stdout",
          "text": [
            "Initially list contains : [15, 22.65, 'ABCD', 'XYZ', 3555]\n",
            "Updated list is :  [15, 22.65, 'joshi', 'ABCD', 'XYZ', 3555]\n"
          ]
        }
      ]
    },
    {
      "cell_type": "code",
      "source": [
        "# remove() : This function is to remove specified object from invoking list object .\n",
        "# ex:\n",
        "ls1 = [\"Prathamesh\",15,\"Gaurav\",22.65,\"ABCD\",\"XYZ\",3555]\n",
        "print(\"Initially list contains :\", ls1)\n",
        "ls1.remove(\"Gaurav\")\n",
        "print(\"Updatd is : \", ls1)\n",
        "# The element/object to be removed , must be present in the list object ."
      ],
      "metadata": {
        "colab": {
          "base_uri": "https://localhost:8080/"
        },
        "id": "fMZBDeNW3-yh",
        "outputId": "176ccf20-4d0f-4d48-e86c-738352c23bc5"
      },
      "execution_count": null,
      "outputs": [
        {
          "output_type": "stream",
          "name": "stdout",
          "text": [
            "Initially list contains : ['Prathamesh', 15, 'Gaurav', 22.65, 'ABCD', 'XYZ', 3555]\n",
            "Updatd is :  ['Prathamesh', 15, 22.65, 'ABCD', 'XYZ', 3555]\n"
          ]
        }
      ]
    },
    {
      "cell_type": "code",
      "source": [
        "# pop() : This function removes an object form the specified index . we have to mention the index value in the pop() function . And if the\n",
        "# index no. is not mentioned in the pop() function then it will remove the object/element from the last .\n",
        "# ex :\n",
        "ls1 = [\"Prathamesh\",15,\"Gaurav\",22.65,\"ABCD\",\"XYZ\",3555]\n",
        "print(\"Initially list contains :\", ls1)\n",
        "ls1.pop(1)\n",
        "print(\"Updated list is : \", ls1)"
      ],
      "metadata": {
        "colab": {
          "base_uri": "https://localhost:8080/"
        },
        "id": "cR9uJFw842-I",
        "outputId": "c764e5c9-b343-4492-98d6-005eef5755dd"
      },
      "execution_count": null,
      "outputs": [
        {
          "output_type": "stream",
          "name": "stdout",
          "text": [
            "Initially list contains : ['Prathamesh', 15, 'Gaurav', 22.65, 'ABCD', 'XYZ', 3555]\n",
            "Updated list is :  ['Prathamesh', 'Gaurav', 22.65, 'ABCD', 'XYZ', 3555]\n"
          ]
        }
      ]
    },
    {
      "cell_type": "code",
      "source": [
        "# reverse() : This function will permanently reverse the order of list object .\n",
        "# ex :\n",
        "ls1 = [\"Prathamesh\",15,\"Gaurav\",22.65,\"ABCD\",\"XYZ\",3555]\n",
        "print(\"Initially list contains :\", ls1)\n",
        "ls1.reverse()\n",
        "print(\"Updated list contains :\", ls1)"
      ],
      "metadata": {
        "colab": {
          "base_uri": "https://localhost:8080/"
        },
        "id": "0LCeKTCz6lgt",
        "outputId": "e3dd1e3b-a9dd-4aac-eb78-51b520c8de26"
      },
      "execution_count": null,
      "outputs": [
        {
          "output_type": "stream",
          "name": "stdout",
          "text": [
            "Initially list contains : ['Prathamesh', 15, 'Gaurav', 22.65, 'ABCD', 'XYZ', 3555]\n",
            "Updated list contains : [3555, 'XYZ', 'ABCD', 22.65, 'Gaurav', 15, 'Prathamesh']\n"
          ]
        }
      ]
    },
    {
      "cell_type": "code",
      "source": [
        "# count() : This function will return the occurence count of specified object / element in invoking list object . we have to store the value of\n",
        "# count in another variable .\n",
        "# ex :\n",
        "ls1 = [\"Prathamesh\",15,\"Gaurav\",22.65,15,\"Gaurav\",\"ABCD\",\"XYZ\",3555]\n",
        "print(\"Initially list contains :\", ls1)\n",
        "a = ls1.count(\"Gaurav\")\n",
        "print(\"count of specified object/element :\" ,a)"
      ],
      "metadata": {
        "colab": {
          "base_uri": "https://localhost:8080/"
        },
        "id": "-knqBj8m7UgN",
        "outputId": "7680bb26-6f91-4c32-c6ca-d203f7897cb3"
      },
      "execution_count": null,
      "outputs": [
        {
          "output_type": "stream",
          "name": "stdout",
          "text": [
            "Initially list contains : ['Prathamesh', 15, 'Gaurav', 22.65, 15, 'Gaurav', 'ABCD', 'XYZ', 3555]\n",
            "count of specified object/element : 2\n"
          ]
        }
      ]
    },
    {
      "cell_type": "code",
      "source": [
        "# extend(): This function appends the elements of specified sequence in invoking list object .\n",
        "ls1 = [\"Prathamesh\",15,\"Gaurav\",22.65,\"ABCD\",\"XYZ\",3555]\n",
        "print(\"Initially list contains :\", ls1)\n",
        "ls2 = [100,200,\"IJKL\",50.66]\n",
        "ls1.extend(ls2)\n",
        "print(\"List 1 becomes :\", ls1)\n",
        "print(\"List 2 becomes : \" , ls2)"
      ],
      "metadata": {
        "colab": {
          "base_uri": "https://localhost:8080/"
        },
        "id": "d5MCoypT8P4V",
        "outputId": "f7faf39e-92e8-48d1-f8a9-940da9cab79a"
      },
      "execution_count": null,
      "outputs": [
        {
          "output_type": "stream",
          "name": "stdout",
          "text": [
            "Initially list contains : ['Prathamesh', 15, 'Gaurav', 22.65, 'ABCD', 'XYZ', 3555]\n",
            "List 1 becomes : ['Prathamesh', 15, 'Gaurav', 22.65, 'ABCD', 'XYZ', 3555, 100, 200, 'IJKL', 50.66]\n",
            "List 2 becomes :  [100, 200, 'IJKL', 50.66]\n"
          ]
        }
      ]
    },
    {
      "cell_type": "code",
      "source": [
        "# index() : This function returns index number of first occurrence of specified object / element in invoking list object .\n",
        "# ex :\n",
        "ls1 = [\"Prathamesh\",15,\"Gaurav\",22.65,\"ABCD\",\"XYZ\",3555]\n",
        "print(\"Initially list contains :\", ls1)\n",
        "a = ls1.index(\"Gaurav\")\n",
        "print(a)\n",
        "b = ls1.index(15)\n",
        "print(b)"
      ],
      "metadata": {
        "colab": {
          "base_uri": "https://localhost:8080/"
        },
        "id": "jVwOsAoY9Sb9",
        "outputId": "816ac668-3c53-4efd-fa1d-b0445f9f2696"
      },
      "execution_count": null,
      "outputs": [
        {
          "output_type": "stream",
          "name": "stdout",
          "text": [
            "Initially list contains : ['Prathamesh', 15, 'Gaurav', 22.65, 'ABCD', 'XYZ', 3555]\n",
            "2\n",
            "1\n"
          ]
        }
      ]
    },
    {
      "cell_type": "code",
      "source": [
        "# Roll and Dice:\n",
        "import random\n",
        "\n",
        "players = []\n",
        "first_six = False\n",
        "\n",
        "print(\"Enter number of players\")\n",
        "pl = int(input())\n",
        "\n",
        "print(\"Enter names of players\")\n",
        "i = 1\n",
        "while i<=pl:\n",
        "  nm = input()\n",
        "  players.append(nm)\n",
        "  i = i + 1\n",
        "\n",
        "\n",
        "player_index = 0\n",
        "while True:\n",
        "  print(\"\\n Please play your turn :\",players[player_index])\n",
        "  input(\"Press Enter to Roll the Dice\")\n",
        "  score = random.randint(1,6)\n",
        "  print(\"You rolled : \", score)\n",
        "  if score == 6 and first_six == False:\n",
        "    print(\"Please repeat your turn\")\n",
        "    first_six = True\n",
        "  elif score == 6 and first_six == True:\n",
        "    print(players[player_index],\"wins...!!\")\n",
        "    break\n",
        "  else:\n",
        "    player_index = player_index + 1\n",
        "    first_six = False\n",
        "    if player_index == pl:\n",
        "      player_index = 0\n",
        "\n"
      ],
      "metadata": {
        "id": "pDvA18uS-76L"
      },
      "execution_count": null,
      "outputs": []
    },
    {
      "cell_type": "code",
      "source": [
        "ls1 = [5,10,15,20,25,50,20]\n",
        "print(\"Original list is :\",ls1)\n",
        "a = ls1.index(20)\n",
        "ls1[a]=200\n",
        "print(\"updated list is :\", ls1)"
      ],
      "metadata": {
        "colab": {
          "base_uri": "https://localhost:8080/"
        },
        "id": "NFave2a3DgxD",
        "outputId": "fbfa3e43-1659-4ce5-c9cc-acf396774ced"
      },
      "execution_count": null,
      "outputs": [
        {
          "output_type": "stream",
          "name": "stdout",
          "text": [
            "Original list is : [5, 10, 15, 20, 25, 50, 20]\n",
            "updated list is : [5, 10, 15, 200, 25, 50, 20]\n"
          ]
        }
      ]
    },
    {
      "cell_type": "code",
      "source": [
        "# or\n",
        "ls1 = [5,10,15,20,25,50,20]\n",
        "print(\"Original list is :\", ls1)\n",
        "i = 0\n",
        "while i<=len(ls1):\n",
        "  if ls1[i] == 20:\n",
        "    ls1[i] = 200\n",
        "    break\n",
        "  i = i + 1\n",
        "print(\"Üpdated list is :\" , ls1)"
      ],
      "metadata": {
        "colab": {
          "base_uri": "https://localhost:8080/"
        },
        "id": "h216cnKzDl-v",
        "outputId": "59aec0bd-3545-4de6-fbf7-1d88321590e5"
      },
      "execution_count": null,
      "outputs": [
        {
          "output_type": "stream",
          "name": "stdout",
          "text": [
            "Original list is : [5, 10, 15, 20, 25, 50, 20]\n",
            "Üpdated list is : [5, 10, 15, 200, 25, 50, 20]\n"
          ]
        }
      ]
    },
    {
      "cell_type": "code",
      "source": [
        "list1 = [\"M\",\"na\",\"i\",\"Ke\"]\n",
        "list2 = [\"y\",\"me\",\"s\",\"lly\"]\n",
        "\n",
        "list3 = []\n",
        "\n",
        "i = 0\n",
        "while i<len(list1):\n",
        "  word = list1[i] + list2[i]\n",
        "  list3.append(word)\n",
        "  i = i + 1\n",
        "\n",
        "print(\"Resulting list is :\", list3)"
      ],
      "metadata": {
        "colab": {
          "base_uri": "https://localhost:8080/"
        },
        "id": "svBfQWHJDl8l",
        "outputId": "65d5883c-c7c4-45cc-91fb-57109605cd64"
      },
      "execution_count": null,
      "outputs": [
        {
          "output_type": "stream",
          "name": "stdout",
          "text": [
            "Resulting list is : ['My', 'name', 'is', 'Kelly']\n"
          ]
        }
      ]
    },
    {
      "cell_type": "code",
      "source": [
        "ls1 = [1,2,3,4,5,6,7]\n",
        "print(\"Original list is :\",ls1)\n",
        "\n",
        "i=0\n",
        "while i<len(ls1):\n",
        "  ls1[i] = ls1[i] * ls1[i]\n",
        "  i = i + 1\n",
        "print(\"Updated list is :\", ls1)"
      ],
      "metadata": {
        "colab": {
          "base_uri": "https://localhost:8080/"
        },
        "id": "J3AwNnDIDl4d",
        "outputId": "19b76f72-b710-42c8-9569-d4c27ead0c69"
      },
      "execution_count": null,
      "outputs": [
        {
          "output_type": "stream",
          "name": "stdout",
          "text": [
            "Original list is : [1, 2, 3, 4, 5, 6, 7]\n",
            "Updated list is : [1, 4, 9, 16, 25, 36, 49]\n"
          ]
        }
      ]
    },
    {
      "cell_type": "code",
      "source": [
        "ls1 = [\"Hello\",\"take\"]\n",
        "ls2 = [\"Dear\",\"Sir\"]\n",
        "\n",
        "ls3 = []\n",
        "i = 0\n",
        "while i<len(ls2):\n",
        "  j=0\n",
        "  word = ls1[i] + \" \" + ls2[j]\n",
        "  j = j + 1\n",
        "  ls3.append(word)\n",
        "i = i + 1\n",
        "\n",
        "print(\"List 3 contains : \", list3)"
      ],
      "metadata": {
        "id": "K9G4PRpGDllm"
      },
      "execution_count": null,
      "outputs": []
    }
  ]
}