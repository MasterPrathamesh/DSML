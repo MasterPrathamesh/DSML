{
  "cells": [
    {
      "cell_type": "code",
      "execution_count": null,
      "metadata": {
        "id": "vujnV8TtLGNY"
      },
      "outputs": [],
      "source": [
        "ls1 = [\"Hello\",\"take\"]\n",
        "ls2 = [\"Dear\",\"Sir\"]\n",
        "\n",
        "ls3 = []\n",
        "i = 0\n",
        "while i<len(ls2):\n",
        "  j=0\n",
        "  word = ls1[i] + \" \" + ls2[j]\n",
        "  j = j + 1\n",
        "  ls3.append(word)\n",
        "i = i + 1\n",
        "\n",
        "print(\"List 3 contains : \", list3)"
      ]
    },
    {
      "cell_type": "code",
      "execution_count": null,
      "metadata": {
        "colab": {
          "base_uri": "https://localhost:8080/"
        },
        "id": "MXlpaSfnLuxW",
        "outputId": "c90d94e3-721a-43a8-b4bd-4c21e231af76"
      },
      "outputs": [
        {
          "name": "stdout",
          "output_type": "stream",
          "text": [
            "Resulting list is : ['My', 'name', 'is', 'Kelly']\n"
          ]
        }
      ],
      "source": [
        "list1 = [\"M\",\"na\",\"i\",\"Ke\"]\n",
        "list2 = [\"y\",\"me\",\"s\",\"lly\"]\n",
        "\n",
        "list3 = []\n",
        "\n",
        "i = 0\n",
        "while i<len(list1):\n",
        "  word = list1[i] + list2[i]\n",
        "  list3.append(word)\n",
        "  i = i + 1\n",
        "\n",
        "print(\"Resulting list is :\", list3)"
      ]
    },
    {
      "cell_type": "code",
      "execution_count": null,
      "metadata": {
        "colab": {
          "base_uri": "https://localhost:8080/"
        },
        "id": "dMF_OmcGMLEz",
        "outputId": "262f04d8-4600-4bf6-8d7e-5a7731e4afea"
      },
      "outputs": [
        {
          "name": "stdout",
          "output_type": "stream",
          "text": [
            "Original list is :  ['Mike', '', 'Emma', 'Kelly', '', 'Brad']\n",
            "updated list is  ['Mike', 'Emma', 'Kelly', 'Brad']\n"
          ]
        }
      ],
      "source": [
        "ls1 = [\"Mike\", \"\" ,\"Emma\",\"Kelly\",\"\",\"Brad\"]\n",
        "print(\"Original list is : \", ls1)\n",
        "i = 0\n",
        "while i<len(ls1):\n",
        "  if len(ls1[i]) == 0 :\n",
        "    ls1.remove(ls1[i])\n",
        "  i = i + 1\n",
        "print(\"updated list is \", ls1)"
      ]
    },
    {
      "cell_type": "code",
      "execution_count": null,
      "metadata": {
        "colab": {
          "base_uri": "https://localhost:8080/"
        },
        "id": "0AdeRLRxNQyi",
        "outputId": "681cfd8d-91f6-4099-bcb8-e0e7878232b1"
      },
      "outputs": [
        {
          "name": "stdout",
          "output_type": "stream",
          "text": [
            "Original list is :  ['Mike', '', 'Emma', 'Kelly', '', 'Brad']\n",
            "Updated list is ['Mike', 'Emma', 'Kelly', 'Brad']\n"
          ]
        }
      ],
      "source": [
        "# or\n",
        "ls1 = [\"Mike\", \"\" ,\"Emma\",\"Kelly\",\"\",\"Brad\"]\n",
        "print(\"Original list is : \", ls1)\n",
        "ls2 = []\n",
        "i = 0\n",
        "while i<len(ls1):\n",
        "  if len(ls1[i]) > 0 :\n",
        "    ls2.append(ls1[i])\n",
        "  i = i + 1\n",
        "\n",
        "print(\"Updated list is\", ls2)"
      ]
    },
    {
      "cell_type": "code",
      "execution_count": null,
      "metadata": {
        "colab": {
          "base_uri": "https://localhost:8080/"
        },
        "id": "qZ55pW3mOonk",
        "outputId": "c6bb2666-2874-4632-f1e3-52f1c112fb52"
      },
      "outputs": [
        {
          "name": "stdout",
          "output_type": "stream",
          "text": [
            "Original list is :  [10, 20, [300, 400, [5000, 6000], 500], 30, 40]\n",
            "Updated list is :  [10, 20, [300, 400, [5000, 6000, 7000], 500], 30, 40]\n"
          ]
        }
      ],
      "source": [
        "ls1 = [10,20,[300,400,[5000,6000],500],30,40]\n",
        "print(\"Original list is : \",ls1)\n",
        "ls1[2][2].append(7000)\n",
        "print(\"Updated list is : \", ls1)"
      ]
    },
    {
      "cell_type": "code",
      "execution_count": null,
      "metadata": {
        "colab": {
          "base_uri": "https://localhost:8080/"
        },
        "id": "GYovxVFeq_OM",
        "outputId": "01af7288-a5d5-4631-b378-fce4070c845a"
      },
      "outputs": [
        {
          "name": "stdout",
          "output_type": "stream",
          "text": [
            "{'ABCD', 20.55, 25, 10, 'XYZ', 110.45}\n"
          ]
        }
      ],
      "source": [
        "# Set :\n",
        "# - A set is collection of unique values only .\n",
        "# - i.e no duplicate elements allowed .\n",
        "# - A set is dynamic and mutable entity .\n",
        "# for ex :\n",
        "\n",
        "set1 = {10,\"ABCD\",20.55,110.45,\"XYZ\",10,\"ABCD\",25}\n",
        "print(set1)"
      ]
    },
    {
      "cell_type": "code",
      "execution_count": null,
      "metadata": {
        "colab": {
          "base_uri": "https://localhost:8080/"
        },
        "id": "NK9DbW5IsWBC",
        "outputId": "4dc46027-66a1-474b-877d-2419550fb2bd"
      },
      "outputs": [
        {
          "name": "stdout",
          "output_type": "stream",
          "text": [
            "Initially set is : {'ABCD', 20.55, 25, 10, 'XYZ', 110.45}\n",
            "Updated set is : {20.55, 25, 10, 'XYZ', 110.45}\n"
          ]
        }
      ],
      "source": [
        "# Remember that , set does not allow indexing and therefore we cannot over-write elements via index-numbers.\n",
        "# Therefore , we cannot use while loops to iterate on elements of set (via index - number).\n",
        "# But we can use for-loop on set . Because for-loop works on elements .(not on index-numbers).\n",
        "# set allows only immutable elements.\n",
        "# set does not maintain order of elements .\n",
        "\n",
        "\n",
        "# Pop : This function removes/pops any random element from invoking set object .\n",
        "# ex :\n",
        "set1 = {10,\"ABCD\",20.55,110.45,\"XYZ\",10,\"ABCD\",25}\n",
        "print(\"Initially set is :\", set1)\n",
        "set1.pop()\n",
        "print(\"Updated set is :\",set1)\n"
      ]
    },
    {
      "cell_type": "code",
      "execution_count": null,
      "metadata": {
        "colab": {
          "base_uri": "https://localhost:8080/"
        },
        "id": "1D3fXpJiuGU7",
        "outputId": "cbc5be53-7233-4f8b-b21d-62da7af3c7cc"
      },
      "outputs": [
        {
          "name": "stdout",
          "output_type": "stream",
          "text": [
            "Initially set is :  {'ABCD', 20.55, 25, 10, 'XYZ', 110.45}\n",
            "Update set is :  {'ABCD', 20.55, 88, 25, 10, 'XYZ', 45, 110.45}\n"
          ]
        }
      ],
      "source": [
        "# Update : This function adds elements of parameter sequence into invoking set object . This is like extend() method of list .\n",
        "# ex :\n",
        "set1 = {10,\"ABCD\",20.55,110.45,\"XYZ\",10,\"ABCD\",25}\n",
        "print(\"Initially set is : \", set1)\n",
        "set1.update([45,88,10])\n",
        "print(\"Update set is : \", set1)\n",
        "# parameter must be sequence/iterable"
      ]
    },
    {
      "cell_type": "code",
      "execution_count": null,
      "metadata": {
        "colab": {
          "base_uri": "https://localhost:8080/"
        },
        "id": "jKzR3YmIusXZ",
        "outputId": "3675091c-86e9-4597-a70a-ea52bb47e85f"
      },
      "outputs": [
        {
          "name": "stdout",
          "output_type": "stream",
          "text": [
            "Initially set is :  {'ABCD', 20.55, 25, 10, 'XYZ', 110.45}\n",
            "set1 is : {'ABCD', 20.55, 25, 10, 'XYZ', 110.45}\n",
            "set2 is : {'ABCD', 20.55, 25, 10, 'XYZ', 110.45}\n",
            "138670399400960\n",
            "138670399404768\n"
          ]
        }
      ],
      "source": [
        "# copy : This function creates new copy of invoking set object and returns.\n",
        "# ID of both objects will be different .\n",
        "# ex:\n",
        "set1 = {10,\"ABCD\",20.55,110.45,\"XYZ\",10,\"ABCD\",25}\n",
        "print(\"Initially set is : \", set1)\n",
        "set2 = set1.copy()\n",
        "print(\"set1 is :\",set1)\n",
        "print(\"set2 is :\",set2)\n",
        "print(id(set1))\n",
        "print(id(set2))"
      ]
    },
    {
      "cell_type": "code",
      "execution_count": null,
      "metadata": {
        "colab": {
          "base_uri": "https://localhost:8080/"
        },
        "id": "6vDIgFRFvVsV",
        "outputId": "b886321f-da2f-476e-8f9e-181fa81dbbd0"
      },
      "outputs": [
        {
          "name": "stdout",
          "output_type": "stream",
          "text": [
            "Initially set is :  {'ABCD', 20.55, 25, 10, 'XYZ', 110.45}\n",
            "Updated set is :  set()\n"
          ]
        }
      ],
      "source": [
        "# clear : This function clears/truncates all elements of invoking set object .\n",
        "set1 = {10,\"ABCD\",20.55,110.45,\"XYZ\",10,\"ABCD\",25}\n",
        "print(\"Initially set is : \", set1)\n",
        "set1.clear()\n",
        "print(\"Updated set is : \",set1)"
      ]
    },
    {
      "cell_type": "code",
      "execution_count": null,
      "metadata": {
        "colab": {
          "base_uri": "https://localhost:8080/"
        },
        "id": "ZPsABYDRxVvE",
        "outputId": "2a018986-db5a-42ac-da10-e71ae3a97364"
      },
      "outputs": [
        {
          "name": "stdout",
          "output_type": "stream",
          "text": [
            "Initially set is :  {'ABCD', 20.55, 25, 10, 'XYZ', 110.45}\n",
            "Updated list is :  {20.55, 25, 10, 'XYZ', 110.45}\n"
          ]
        }
      ],
      "source": [
        "# remove: This function removes specified element form invoking set object .\n",
        "# ex :\n",
        "set1 = {10,\"ABCD\",20.55,110.45,\"XYZ\",10,25}\n",
        "print(\"Initially set is : \", set1)\n",
        "set1.remove(\"ABCD\")\n",
        "print(\"Updated list is : \",set1)\n",
        "# Remember that , set does not store duplicate elements , therefore each elements can have only single entry in set ."
      ]
    },
    {
      "cell_type": "code",
      "execution_count": null,
      "metadata": {
        "colab": {
          "base_uri": "https://localhost:8080/"
        },
        "id": "qUIQpY5OjJI1",
        "outputId": "4c467177-4ab5-4a55-c3c2-05d842b38662"
      },
      "outputs": [
        {
          "name": "stdout",
          "output_type": "stream",
          "text": [
            "Initially set is :  {'XYZ', 20.55, 25, 10, 'ABCD', 110.45}\n",
            "Updated set is :  {'XYZ', 20.55, 25, 10, 110.45}\n"
          ]
        }
      ],
      "source": [
        "# discard() : This function removes/discards specified element from invoking set object .\n",
        "set1 = {10,\"ABCD\",20.55,110.45,\"XYZ\",10,25}\n",
        "print(\"Initially set is : \", set1)\n",
        "set1.discard(\"ABCD\")\n",
        "print(\"Updated set is : \",set1)"
      ]
    },
    {
      "cell_type": "code",
      "execution_count": null,
      "metadata": {
        "colab": {
          "base_uri": "https://localhost:8080/"
        },
        "id": "NHCcsoATzQGq",
        "outputId": "8713773e-74e3-4906-857e-24848f41bc09"
      },
      "outputs": [
        {
          "name": "stdout",
          "output_type": "stream",
          "text": [
            "Initially set is :  {'ABCD', 20.55, 25, 10, 'XYZ', 110.45}\n",
            "Updated list is :  {'ABCD', 20.55, 'Kishori', 25, 10, 'XYZ', 110.45}\n"
          ]
        }
      ],
      "source": [
        "# add() : This function is to add specified single element into invoking set object . This funcion is similar to append() of list .\n",
        "# remove: This function removes specified element form invoking set object .\n",
        "# ex :\n",
        "set1 = {10,\"ABCD\",20.55,110.45,\"XYZ\",10,\"ABCD\",25}\n",
        "print(\"Initially set is : \", set1)\n",
        "set1.add(\"Kishori\")\n",
        "print(\"Updated list is : \",set1)\n",
        "# if an already existing element is mentioned to add , then it will not kep duplicate element .\n",
        "# we can also add an entire immutable sequence in invoking set object . Only set and string are allowed to be add ."
      ]
    },
    {
      "cell_type": "code",
      "execution_count": null,
      "metadata": {
        "colab": {
          "base_uri": "https://localhost:8080/"
        },
        "id": "Fh_SwJ8lzlnG",
        "outputId": "3c445a9c-9353-4a10-d112-a147123bcea9"
      },
      "outputs": [
        {
          "name": "stdout",
          "output_type": "stream",
          "text": [
            "Initially set is :  {'ABCD', 20.55, 25, 10, 'XYZ', 110.45}\n",
            "Updated list is :  {'ABCD', 20.55, (33, 45, 60, 80), 25, 10, 'XYZ', 110.45}\n"
          ]
        }
      ],
      "source": [
        "# remove: This function removes specified element form invoking set object .\n",
        "# ex :\n",
        "set1 = {10,\"ABCD\",20.55,110.45,\"XYZ\",10,\"ABCD\",25}\n",
        "print(\"Initially set is : \", set1)\n",
        "set2 = set1.add((33,45,60,80))\n",
        "print(\"Updated list is : \",set1)"
      ]
    },
    {
      "cell_type": "code",
      "execution_count": null,
      "metadata": {
        "colab": {
          "base_uri": "https://localhost:8080/"
        },
        "id": "Gw-xAWLk2aE2",
        "outputId": "97aae1e2-be54-4cf7-8db6-173c403d5f55"
      },
      "outputs": [
        {
          "name": "stdout",
          "output_type": "stream",
          "text": [
            "{'Two': '||'}\n",
            "{'Two': '||', 'One': 1}\n"
          ]
        }
      ],
      "source": [
        "# dict methods :\n",
        "# update() : This method is to add or update a k:v pair in invoking dict object . This pair must be in {}.\n",
        "# ex :\n",
        "d = {\"Two\":\"||\"}\n",
        "print(d)\n",
        "d.update({\"One\":1})\n",
        "print(d)"
      ]
    },
    {
      "cell_type": "code",
      "execution_count": null,
      "metadata": {
        "colab": {
          "base_uri": "https://localhost:8080/"
        },
        "id": "ORej7jpw3AI3",
        "outputId": "fa5a69e6-2cac-4d8b-e5cc-554518d16408"
      },
      "outputs": [
        {
          "name": "stdout",
          "output_type": "stream",
          "text": [
            "{'two': '||'}\n",
            "{'two': '||', 'Öne': 1}\n",
            "{'two': '||', 'Öne': 1, 'Two': 2}\n",
            "{'two': '||', 'Öne': 1, 'Two': 2, 3: 'Three'}\n"
          ]
        }
      ],
      "source": [
        "# We can also add or update a K:V pair by using indexing operator . If specified K:V pair is already present then updates the value , if not present\n",
        "# then adds as new K:v pair.\n",
        "# ex :\n",
        "d = {\"two\":\"||\"}\n",
        "print(d)\n",
        "d.update({\"Öne\":1})\n",
        "print(d)\n",
        "d[\"Two\"] = 2\n",
        "print(d)\n",
        "d[3] = \"Three\"\n",
        "print(d)"
      ]
    },
    {
      "cell_type": "code",
      "execution_count": null,
      "metadata": {
        "colab": {
          "base_uri": "https://localhost:8080/"
        },
        "id": "FV6hgOE45bHa",
        "outputId": "0bbc82a3-0065-4392-cf60-bc89eab673cc"
      },
      "outputs": [
        {
          "name": "stdout",
          "output_type": "stream",
          "text": [
            "Initially Dictionary is :  {'One': 1, 'Two': 2, 'Three': 3, 'Four': 4}\n",
            "Updated dicitonary is  {'One': 1, 'Two': 2, 'Three': 3, 'Four': 4, 'Five': 5, 'Six': 6, 'Seven': 7}\n"
          ]
        }
      ],
      "source": [
        "# ex 3 : We can also provide multiple K:V pairs to update() method .\n",
        "d = {\"One\":1,\"Two\":2,\"Three\":3,\"Four\":4}\n",
        "print(\"Initially Dictionary is : \",d)\n",
        "d2 = {\"Five\":5,\"Six\":6,\"Seven\":7}\n",
        "d.update(d2)\n",
        "print(\"Updated dicitonary is \",d)"
      ]
    },
    {
      "cell_type": "code",
      "execution_count": null,
      "metadata": {
        "colab": {
          "base_uri": "https://localhost:8080/"
        },
        "id": "TMfEWNkC7BxD",
        "outputId": "6635303a-db87-4776-a0af-ba83350be425"
      },
      "outputs": [
        {
          "name": "stdout",
          "output_type": "stream",
          "text": [
            "Initially Dictionary is :  {'One': 1, 'Two': 2, 'Three': 3, 'Four': 4}\n",
            "138669682662592\n",
            "Updated Dictionary is : {}\n",
            "138669682662592\n"
          ]
        }
      ],
      "source": [
        "# clear : This function clears / truncates of invoking dictionary object .\n",
        "d = {\"One\":1,\"Two\":2,\"Three\":3,\"Four\":4}\n",
        "print(\"Initially Dictionary is : \",d)\n",
        "print(id(d))\n",
        "d.clear()\n",
        "print(\"Updated Dictionary is :\",d)\n",
        "print(id(d))"
      ]
    },
    {
      "cell_type": "code",
      "execution_count": null,
      "metadata": {
        "colab": {
          "base_uri": "https://localhost:8080/"
        },
        "id": "nwMdY-BZ76yA",
        "outputId": "7fc84d60-c2d1-401d-8fa5-44f22aaf1011"
      },
      "outputs": [
        {
          "name": "stdout",
          "output_type": "stream",
          "text": [
            "Initially Dictionary is :  {'One': 1, 'Two': 2, 'Three': 3, 'Four': 4}\n",
            "138669682399872\n",
            "The copied list is :  {'One': 1, 'Two': 2, 'Three': 3, 'Four': 4}\n",
            "138669682408832\n"
          ]
        }
      ],
      "source": [
        "# copy : This funcitn returns a new copy of invoking dictionary object . ID of both dictionary object will be different.\n",
        "# for ex :\n",
        "d = {\"One\":1,\"Two\":2,\"Three\":3,\"Four\":4}\n",
        "print(\"Initially Dictionary is : \",d)\n",
        "print(id(d))\n",
        "d2 = d.copy()\n",
        "print(\"The copied list is : \", d2)\n",
        "print(id(d2))"
      ]
    },
    {
      "cell_type": "code",
      "execution_count": null,
      "metadata": {
        "colab": {
          "base_uri": "https://localhost:8080/"
        },
        "id": "G6Z-oZJf82ql",
        "outputId": "f1fbdbc8-1fe8-4375-ff5c-7bbea16f16e6"
      },
      "outputs": [
        {
          "name": "stdout",
          "output_type": "stream",
          "text": [
            "2\n"
          ]
        }
      ],
      "source": [
        "# get() : This function fetches and returns value of specified key . We have to pass KEY as a parameter .\n",
        "# ex :\n",
        "d = {\"One\":1,\"Two\":2,\"Three\":3,\"Four\":4}\n",
        "a = d.get(\"Two\")\n",
        "print(a)"
      ]
    },
    {
      "cell_type": "code",
      "execution_count": null,
      "metadata": {
        "colab": {
          "base_uri": "https://localhost:8080/"
        },
        "id": "0lIOSCD1L6y0",
        "outputId": "7c6d8ec1-2758-4ea8-bb1b-665b77e533ab"
      },
      "outputs": [
        {
          "name": "stdout",
          "output_type": "stream",
          "text": [
            "{1: None, 2: None, 3: None, 4: None, 5: None, 6: None, 7: None, 8: None, 9: None}\n"
          ]
        }
      ],
      "source": [
        "# fromkeys() : This function creates and returns a dictionary from specified iterable .\n",
        "# The elements of specified iterable will be KEYS . It will be default assigned with None .\n",
        "# ex :\n",
        "ls = [1,2,3,4,5,6,7,8,9]\n",
        "d = dict.fromkeys(ls)\n",
        "print(d)"
      ]
    },
    {
      "cell_type": "code",
      "execution_count": null,
      "metadata": {
        "colab": {
          "base_uri": "https://localhost:8080/"
        },
        "id": "TXZk-vd-NKoO",
        "outputId": "0f720780-90c2-44d7-d07e-2b14ebbe0519"
      },
      "outputs": [
        {
          "name": "stdout",
          "output_type": "stream",
          "text": [
            "{1: 'ABCD', 2: 'ABCD', 3: 'ABCD', 4: 'ABCD', 5: 'ABCD', 6: 'ABCD', 7: 'ABCD', 8: 'ABCD', 9: 'ABCD'}\n"
          ]
        }
      ],
      "source": [
        "# ex 2:\n",
        "ls = [1,2,3,4,5,6,7,8,9]\n",
        "d = dict.fromkeys(ls,\"ABCD\") # <--- \"ABCD\" will be the value and the list elements will be the keys .\n",
        "print(d)"
      ]
    },
    {
      "cell_type": "code",
      "execution_count": null,
      "metadata": {
        "colab": {
          "base_uri": "https://localhost:8080/"
        },
        "id": "r2Fw0KEpNmFf",
        "outputId": "9455ed3d-243a-4ba6-8676-2b08ea3484d2"
      },
      "outputs": [
        {
          "name": "stdout",
          "output_type": "stream",
          "text": [
            "[('Prathamesh', 100), ('Pratik', 101234), ('Pranav', 1010400)]\n"
          ]
        }
      ],
      "source": [
        "# items() : This function returns the K:V pairs of invoking dicitonary object as tuple-elements , this entire set of K:V pairs is a list object .\n",
        "# This function returns a list containing K:V pairs as tuple elements .\n",
        "# ex :\n",
        "d = {\"Prathamesh\":100,\"Pratik\":101234,\"Pranav\":1010400}\n",
        "a = list(d.items()) # <--- converts results in list object .\n",
        "print(a)\n"
      ]
    },
    {
      "cell_type": "code",
      "execution_count": null,
      "metadata": {
        "colab": {
          "base_uri": "https://localhost:8080/"
        },
        "id": "aUWWK-wGPvLJ",
        "outputId": "002a7a44-08b9-45d3-8192-be073bed2cde"
      },
      "outputs": [
        {
          "name": "stdout",
          "output_type": "stream",
          "text": [
            "['Prathamesh', 'Pratik', 'Pranav']\n"
          ]
        }
      ],
      "source": [
        "# Keys() : This function fetches only keys from invoking dictionary object and returns as iterable/seq .\n",
        "# for ex :\n",
        "d = {\"Prathamesh\":100,\"Pratik\":101234,\"Pranav\":1010400}\n",
        "ls = list(d.keys())\n",
        "print(ls)"
      ]
    },
    {
      "cell_type": "code",
      "execution_count": null,
      "metadata": {
        "colab": {
          "base_uri": "https://localhost:8080/"
        },
        "id": "PEHb35hgQUEt",
        "outputId": "e4b44c34-994f-4b84-8973-8d80f5cb6729"
      },
      "outputs": [
        {
          "name": "stdout",
          "output_type": "stream",
          "text": [
            "[100, 101234, 1010400]\n"
          ]
        }
      ],
      "source": [
        "# values : This function returns only values form invoking dicitonary object and returns as iterable/seq .\n",
        "d = {\"Prathamesh\":100,\"Pratik\":101234,\"Pranav\":1010400}\n",
        "v = list(d.values())\n",
        "print(v)"
      ]
    },
    {
      "cell_type": "code",
      "execution_count": null,
      "metadata": {
        "colab": {
          "base_uri": "https://localhost:8080/"
        },
        "id": "EMOtL48XRIbm",
        "outputId": "d19eaaf2-80ce-414c-c31e-adf0bb7c736a"
      },
      "outputs": [
        {
          "name": "stdout",
          "output_type": "stream",
          "text": [
            "Initially dictionary contains :  {'Prathamesh': 100, 'Pratik': 101234, 'Pranav': 1010400}\n",
            "Now the list contains : {'Prathamesh': 100, 'Pranav': 1010400}\n"
          ]
        }
      ],
      "source": [
        "# Pop : This function will remove/pop specified K:V pair based on specified parameter KEY .\n",
        "# ex :\n",
        "d = {\"Prathamesh\":100,\"Pratik\":101234,\"Pranav\":1010400}\n",
        "print(\"Initially dictionary contains : \",d)\n",
        "d.pop(\"Pratik\")\n",
        "print(\"Now the list contains :\", d)"
      ]
    },
    {
      "cell_type": "code",
      "execution_count": null,
      "metadata": {
        "colab": {
          "base_uri": "https://localhost:8080/"
        },
        "id": "-GbgVdghR5Oc",
        "outputId": "120b936e-6ebb-44d1-94de-1cd2badc8877"
      },
      "outputs": [
        {
          "name": "stdout",
          "output_type": "stream",
          "text": [
            "Initially dictionary contains :  {'Prathamesh': 100, 'Pratik': 101234, 'Pranav': 1010400}\n",
            "Updated dictionary contains :  {'Prathamesh': 100, 'Pratik': 101234}\n"
          ]
        }
      ],
      "source": [
        "# popitem() : This function removes/pops any K:V pair ramdomly form invoking a dictionary object .\n",
        "# ex :\n",
        "d = {\"Prathamesh\":100,\"Pratik\":101234,\"Pranav\":1010400}\n",
        "print(\"Initially dictionary contains : \", d)\n",
        "d.popitem()\n",
        "print(\"Updated dictionary contains : \",d )"
      ]
    },
    {
      "cell_type": "code",
      "execution_count": null,
      "metadata": {
        "colab": {
          "base_uri": "https://localhost:8080/"
        },
        "id": "CCsNNWMcTMUs",
        "outputId": "c21076ab-765a-45a7-da49-724e2f2fdfe4"
      },
      "outputs": [
        {
          "name": "stdout",
          "output_type": "stream",
          "text": [
            "{1: 10, 2: 20, 3: 30, 4: 40, 5: 50, 6: 60, 7: 70, 8: 80, 9: 90}\n"
          ]
        }
      ],
      "source": [
        "# ZIP() : The zip function creates a dictionary form specified two iterables .\n",
        "# zip(itr1,itr2)\n",
        "# This will prepare a dictionary , where elements of first iterable becomes KEYS and elements of second iterable becomes VALUES .\n",
        "# ex :\n",
        "ls = [1,2,3,4,5,6,7,8,9]\n",
        "tup = (10,20,30,40,50,60,70,80,90)\n",
        "d = dict(zip(ls,tup))\n",
        "print(d)"
      ]
    },
    {
      "cell_type": "code",
      "execution_count": null,
      "metadata": {
        "colab": {
          "base_uri": "https://localhost:8080/"
        },
        "id": "HTyRQpsbUsrH",
        "outputId": "377f608a-fbc1-4414-acb2-1555039c043f"
      },
      "outputs": [
        {
          "name": "stdout",
          "output_type": "stream",
          "text": [
            "The converted list into set is :  {70, 40, 10, 80, 50, 20, 90, 60, 30}\n",
            "The converted set into list is :  [70, 40, 10, 80, 50, 20, 90, 60, 30]\n"
          ]
        }
      ],
      "source": [
        "# simple logic to remove duplicate elements from list :\n",
        "# convert the list into set\n",
        "# so that it will remove duplicate elements\n",
        "# now convert back this set into list\n",
        "\n",
        "a = [10,20,30,10,40,50,60,10,70,80,20,90]\n",
        "s = set(a)\n",
        "print(\"The converted list into set is : \",s)\n",
        "b = list(s)\n",
        "print(\"The converted set into list is : \",b)\n"
      ]
    },
    {
      "cell_type": "code",
      "execution_count": null,
      "metadata": {
        "colab": {
          "base_uri": "https://localhost:8080/"
        },
        "id": "HPusuGXKVrzi",
        "outputId": "3b0fa685-71f6-400a-a23f-2560555dc22d"
      },
      "outputs": [
        {
          "name": "stdout",
          "output_type": "stream",
          "text": [
            "Initailly a = 10 and b = 20\n",
            "Now a = 20 and b= 10\n"
          ]
        }
      ],
      "source": [
        "# simple program for swapping :\n",
        "a = 10\n",
        "b = 20\n",
        "print(\"Initailly a =\",a,\"and b =\",b)\n",
        "a,b = b,a\n",
        "print(\"Now a =\",a,\"and b=\",b)"
      ]
    },
    {
      "cell_type": "code",
      "execution_count": null,
      "metadata": {
        "colab": {
          "base_uri": "https://localhost:8080/"
        },
        "id": "E11gqUggXqM8",
        "outputId": "6d8a8a60-91a1-4704-9139-00831b0937a9"
      },
      "outputs": [
        {
          "name": "stdout",
          "output_type": "stream",
          "text": [
            "Enter any number2\n",
            "The given no. is even \n",
            "Enter any number5\n",
            "is odd\n"
          ]
        }
      ],
      "source": [
        "# ---Short hand if-else statement---\n",
        "# refer following general if-else program :\n",
        "num = int(input(\"Enter any number\"))\n",
        "if num%2==0:\n",
        "  print(\"The given no. is even \")\n",
        "else:\n",
        "  print(\"The given no. is false\")\n",
        "\n",
        "# The same program can be written as :\n",
        "num = int(input(\"Enter any number\"))\n",
        "print(\"is even\") if num%2==0 else print(\"is odd\")\n",
        "\n"
      ]
    },
    {
      "cell_type": "code",
      "execution_count": null,
      "metadata": {
        "colab": {
          "base_uri": "https://localhost:8080/"
        },
        "id": "I7F9R2Q7ab9A",
        "outputId": "51da4138-784d-44b5-ce67-13c98b1f0f4e"
      },
      "outputs": [
        {
          "name": "stdout",
          "output_type": "stream",
          "text": [
            "Enter any string : heyy\n",
            "[104, 101, 121, 121]\n"
          ]
        }
      ],
      "source": [
        "# program to demonstrate lambda expression and map()\n",
        "# lambda is basically to reduce the complexity of code like inline functions in c++ .\n",
        "asci = lambda ch : ord(ch)\n",
        "st = input(\"Enter any string : \")\n",
        "a = list(map(asci,st))\n",
        "print(a)\n"
      ]
    },
    {
      "cell_type": "code",
      "execution_count": null,
      "metadata": {
        "colab": {
          "base_uri": "https://localhost:8080/"
        },
        "id": "GXHMry1nezOu",
        "outputId": "220f8272-86c6-48b0-9edb-e5d6a31371fb"
      },
      "outputs": [
        {
          "name": "stdout",
          "output_type": "stream",
          "text": [
            "Enter any string : jaishreeram\n",
            "[106, 97, 105, 115, 104, 114, 101, 101, 114, 97, 109]\n"
          ]
        }
      ],
      "source": [
        "# or\n",
        "asci = lambda ch : ord(ch)\n",
        "ls = []\n",
        "st = input(\"Enter any string : \")\n",
        "ls.extend(st)\n",
        "a = list(map(asci,ls))\n",
        "print(a)"
      ]
    },
    {
      "cell_type": "code",
      "execution_count": null,
      "metadata": {
        "colab": {
          "base_uri": "https://localhost:8080/"
        },
        "id": "VDpczx9FhSqx",
        "outputId": "4f63ba61-ceb2-40b8-ea91-edde3c9a47a2"
      },
      "outputs": [
        {
          "name": "stdout",
          "output_type": "stream",
          "text": [
            "Initially set is : {'XYZ', 20.55, 'ABCD', 25, 10, 110.45}\n",
            "Initially set is :  {False, 67, 'XYZ', 2005, 54.365, 45}\n",
            "set1 is :  {'XYZ', 20.55, 'ABCD', 25, 10, 110.45}\n",
            "set2 is :  {False, 67, 'XYZ', 2005, 54.365, 45}\n",
            "set3 is : {False, 67, 'ABCD', 10, 45, 110.45, 'XYZ', 20.55, 2005, 54.365, 25}\n"
          ]
        }
      ],
      "source": [
        "# --- Set operation's functions ---\n",
        "# union() : This function will perform union of elements of invoking set object and parameter set object .\n",
        "# for ex :\n",
        "set1 = {10,\"ABCD\",20.55,110.45,\"XYZ\",25}\n",
        "set2 = {45,67,2005,54.365,False,\"XYZ\"}\n",
        "print(\"Initially set is :\",set1)\n",
        "print(\"Initially set is : \",set2)\n",
        "set3 = set1.union(set2)\n",
        "print(\"set1 is : \",set1)\n",
        "print(\"set2 is : \",set2)\n",
        "print(\"set3 is :\",set3)\n",
        "\n",
        "# Remember that , we can provide any sequence/iterable as parameter to set's operational functions ."
      ]
    },
    {
      "cell_type": "code",
      "execution_count": null,
      "metadata": {
        "colab": {
          "base_uri": "https://localhost:8080/"
        },
        "id": "8cAbemTWvLcE",
        "outputId": "e825d76e-15c3-4749-f0e7-6c4b41c8b913"
      },
      "outputs": [
        {
          "name": "stdout",
          "output_type": "stream",
          "text": [
            "Initially set is : {'XYZ', 20.55, 'ABCD', 25, 10, 110.45}\n",
            "Initially set is :  {False, 67, 'XYZ', 2005, 54.365, 45}\n",
            "\n",
            "set1 is :  {'XYZ', 20.55, 'ABCD', 25, 10, 110.45}\n",
            "set2 is :  {False, 67, 'XYZ', 2005, 54.365, 45}\n",
            "set3 is : {'XYZ'}\n"
          ]
        }
      ],
      "source": [
        "# intersection() : This function performs intersection of invoking set object and parameter set object .\n",
        "# for ex :\n",
        "set1 = {10,\"ABCD\",20.55,110.45,\"XYZ\",25}\n",
        "set2 = {45,67,2005,54.365,False,\"XYZ\"}\n",
        "print(\"Initially set is :\",set1)\n",
        "print(\"Initially set is : \",set2)\n",
        "set3 = set1.intersection(set2) # <--- common elements between set1 and set2\n",
        "print()\n",
        "print(\"set1 is : \",set1)\n",
        "print(\"set2 is : \",set2)\n",
        "print(\"set3 is :\",set3)\n"
      ]
    },
    {
      "cell_type": "code",
      "execution_count": null,
      "metadata": {
        "colab": {
          "base_uri": "https://localhost:8080/"
        },
        "id": "K9aB9BOlw86l",
        "outputId": "db4edf15-c633-4716-daf6-29054f817e7b"
      },
      "outputs": [
        {
          "name": "stdout",
          "output_type": "stream",
          "text": [
            "Initially set is : {'XYZ', 20.55, 'ABCD', 25, 10, 110.45}\n",
            "Initially set is :  {False, 67, 'XYZ', 2005, 54.365, 45}\n",
            "\n",
            "set1 is :  {'XYZ', 20.55, 'ABCD', 25, 10, 110.45}\n",
            "set2 is :  {False, 67, 'XYZ', 2005, 54.365, 45}\n",
            "set3 is : {'ABCD', 10, 110.45, 20.55, 25}\n",
            "set is :  {False, 67, 45, 2005, 54.365}\n"
          ]
        }
      ],
      "source": [
        "# difference() : This function return resulting set that contains elements of invoking set object other-than common elements between invoking set object and parameter set object .\n",
        "set1 = {10,\"ABCD\",20.55,110.45,\"XYZ\",25}\n",
        "set2 = {45,67,2005,54.365,False,\"XYZ\"}\n",
        "print(\"Initially set is :\",set1)\n",
        "print(\"Initially set is : \",set2)\n",
        "set3 = set1.difference(set2) # <-- will show without common elements.\n",
        "# will return elements of \"set1\"\n",
        "# other than common elements\n",
        "set4 = set2.difference(set1)\n",
        "# will return elements of \"set2\"\n",
        "# other than common elements .\n",
        "print()\n",
        "print(\"set1 is : \",set1)\n",
        "print(\"set2 is : \",set2)\n",
        "print(\"set3 is :\",set3)\n",
        "print(\"set is : \",set4)\n"
      ]
    },
    {
      "cell_type": "code",
      "execution_count": null,
      "metadata": {
        "colab": {
          "base_uri": "https://localhost:8080/"
        },
        "id": "gO_eRcyCx8-r",
        "outputId": "9d01968d-a3ac-4d9b-89c5-767459f6acac"
      },
      "outputs": [
        {
          "name": "stdout",
          "output_type": "stream",
          "text": [
            "Initially set is : {'XYZ', 20.55, 'ABCD', 25, 10, 110.45}\n",
            "Initially set is :  {False, 67, 'XYZ', 2005, 54.365, 45}\n",
            "\n",
            "set1 is :  {20.55, 'ABCD', 25, 10, 110.45}\n",
            "set2 is :  {False, 67, 'XYZ', 2005, 54.365, 45}\n",
            "set3 is : None\n"
          ]
        }
      ],
      "source": [
        "# difference_update : This function performs difference operation but will update the resulting set in invoking set object directly . will not return .\n",
        "set1 = {10,\"ABCD\",20.55,110.45,\"XYZ\",25}\n",
        "set2 = {45,67,2005,54.365,False,\"XYZ\"}\n",
        "print(\"Initially set is :\",set1)\n",
        "print(\"Initially set is : \",set2)\n",
        "set3 = set1.difference_update(set2)\n",
        "print()\n",
        "print(\"set1 is : \",set1)\n",
        "print(\"set2 is : \",set2)\n",
        "print(\"set3 is :\",set3)\n"
      ]
    },
    {
      "cell_type": "code",
      "execution_count": null,
      "metadata": {
        "colab": {
          "base_uri": "https://localhost:8080/"
        },
        "id": "XmSMsI2B2GBU",
        "outputId": "cefc2515-ad03-48ab-ae59-81baebdbdc83"
      },
      "outputs": [
        {
          "name": "stdout",
          "output_type": "stream",
          "text": [
            "Initially set is : {'XYZ', 20.55, 'ABCD', 25, 10, 110.45}\n",
            "Initially set is :  {False, 67, 'XYZ', 2005, 54.365, 45}\n",
            "\n",
            "set1 is :  {'XYZ'}\n",
            "set2 is :  {False, 67, 'XYZ', 2005, 54.365, 45}\n",
            "set3 is : None\n"
          ]
        }
      ],
      "source": [
        "# intersection_update() : This function finds intersection of invoking set object and parameter set object and updates in invoking set object . will not return .\n",
        "set1 = {10,\"ABCD\",20.55,110.45,\"XYZ\",25}\n",
        "set2 = {45,67,2005,54.365,False,\"XYZ\"}\n",
        "print(\"Initially set is :\",set1)\n",
        "print(\"Initially set is : \",set2)\n",
        "set3 = set1.intersection_update(set2)\n",
        "print()\n",
        "print(\"set1 is : \",set1)\n",
        "print(\"set2 is : \",set2)\n",
        "print(\"set3 is :\",set3)"
      ]
    },
    {
      "cell_type": "code",
      "execution_count": null,
      "metadata": {
        "colab": {
          "base_uri": "https://localhost:8080/"
        },
        "id": "j-ZJ7zas-SBI",
        "outputId": "c9de6c80-e688-42fe-e356-7b1d0be1bc7f"
      },
      "outputs": [
        {
          "name": "stdout",
          "output_type": "stream",
          "text": [
            "Initially set is : {'XYZ', 20.55, 'ABCD', 25, 10, 110.45}\n",
            "Initially set is :  {False, 67, 'XYZ', 2005, 54.365, 45}\n",
            "\n",
            "set1 is :  {'XYZ', 20.55, 'ABCD', 25, 10, 110.45}\n",
            "set2 is :  {False, 67, 'XYZ', 2005, 54.365, 45}\n",
            "set3 is : {False, 67, 'ABCD', 10, 20.55, 2005, 25, 45, 110.45, 54.365}\n"
          ]
        }
      ],
      "source": [
        "# symmetric_difference() : This function returns symmatric difference of invoking set object and parameter set object .\n",
        "# symmetric_difference = union - common\n",
        "set1 = {10,\"ABCD\",20.55,110.45,\"XYZ\",25}\n",
        "set2 = {45,67,2005,54.365,False,\"XYZ\"}\n",
        "print(\"Initially set is :\",set1)\n",
        "print(\"Initially set is : \",set2)\n",
        "set3 = set1.symmetric_difference(set2)\n",
        "print()\n",
        "print(\"set1 is : \",set1)\n",
        "print(\"set2 is : \",set2)\n",
        "print(\"set3 is :\",set3)\n"
      ]
    },
    {
      "cell_type": "code",
      "execution_count": null,
      "metadata": {
        "colab": {
          "base_uri": "https://localhost:8080/"
        },
        "id": "3HAtZwtYBRMx",
        "outputId": "010241be-9221-4213-87ff-8284875ef240"
      },
      "outputs": [
        {
          "name": "stdout",
          "output_type": "stream",
          "text": [
            "Initially set is : {'XYZ', 20.55, 'ABCD', 25, 10, 110.45}\n",
            "Initially set is :  {False, 67, 'XYZ', 2005, 54.365, 45}\n",
            "\n",
            "set1 is :  {False, 67, 'ABCD', 10, 20.55, 2005, 25, 45, 110.45, 54.365}\n",
            "set2 is :  {False, 67, 'XYZ', 2005, 54.365, 45}\n",
            "set3 is : None\n"
          ]
        }
      ],
      "source": [
        "# symmetric_difference_update() : This function finds symmatric difference betweeen inboking set object and parameter set object and updates invoking set object . will not return .\n",
        "set1 = {10,\"ABCD\",20.55,110.45,\"XYZ\",25}\n",
        "set2 = {45,67,2005,54.365,False,\"XYZ\"}\n",
        "print(\"Initially set is :\",set1)\n",
        "print(\"Initially set is : \",set2)\n",
        "set3 = set1.symmetric_difference_update(set2)\n",
        "print()\n",
        "print(\"set1 is : \",set1)\n",
        "print(\"set2 is : \",set2)\n",
        "print(\"set3 is :\",set3)"
      ]
    },
    {
      "cell_type": "code",
      "execution_count": null,
      "metadata": {
        "colab": {
          "base_uri": "https://localhost:8080/"
        },
        "id": "wOB4-bjZCfls",
        "outputId": "f41aaab0-2877-470e-ca9f-445d0ef613dd"
      },
      "outputs": [
        {
          "name": "stdout",
          "output_type": "stream",
          "text": [
            "Initially set is : {'XYZ', 20.55, 'ABCD', 25, 10, 110.45}\n",
            "Initially set is :  {10, 'XYZ', 'ABCD'}\n",
            "set1 is subset of set2:  False\n",
            "set2 is subset of set1:  True\n"
          ]
        }
      ],
      "source": [
        "# issubset(): This function checks and returns whether invoking set object is subset of prameter set object or not . Returns boolean .\n",
        "# for ex :\n",
        "set1 = {10,\"ABCD\",20.55,110.45,\"XYZ\",25}\n",
        "set2 = {10,\"ABCD\",\"XYZ\"}\n",
        "print(\"Initially set is :\",set1)\n",
        "print(\"Initially set is : \",set2)\n",
        "a = set1.issubset(set2)\n",
        "b = set2.issubset(set1)\n",
        "\n",
        "print(\"set1 is subset of set2: \",a)\n",
        "print(\"set2 is subset of set1: \",b)\n"
      ]
    },
    {
      "cell_type": "code",
      "execution_count": null,
      "metadata": {
        "colab": {
          "base_uri": "https://localhost:8080/"
        },
        "id": "joxsMpmUEIGE",
        "outputId": "9800758b-b546-4305-d2e5-12b711ce8218"
      },
      "outputs": [
        {
          "name": "stdout",
          "output_type": "stream",
          "text": [
            "Initially set is : {'XYZ', 20.55, 'ABCD', 25, 10, 110.45}\n",
            "Initially set is :  {10, 'XYZ', 'ABCD'}\n",
            "\n",
            "set1 is superset of set2:  True\n",
            "set2 is superset of set1:  False\n"
          ]
        }
      ],
      "source": [
        "# issuperset(): This function checks and returns whether invoking set object is superset of parameter set object or not . Returns Boolean .\n",
        "set1 = {10,\"ABCD\",20.55,110.45,\"XYZ\",25}\n",
        "set2 = {10,\"ABCD\",\"XYZ\"}\n",
        "print(\"Initially set is :\",set1)\n",
        "print(\"Initially set is : \",set2)\n",
        "a = set1.issuperset(set2)\n",
        "b = set2.issuperset(set1)\n",
        "print()\n",
        "print(\"set1 is superset of set2: \",a)\n",
        "print(\"set2 is superset of set1: \",b)"
      ]
    },
    {
      "cell_type": "code",
      "execution_count": null,
      "metadata": {
        "colab": {
          "base_uri": "https://localhost:8080/"
        },
        "id": "zbV8FrldExuE",
        "outputId": "5ca39d22-5f40-4335-b11a-583b97b5c66a"
      },
      "outputs": [
        {
          "name": "stdout",
          "output_type": "stream",
          "text": [
            "Initially set is : {'XYZ', 20.55, 'ABCD', 25, 10, 110.45}\n",
            "Initially set is :  {10, 'XYZ', 'ABCD'}\n",
            "\n",
            "set1 is disjoint of set2:  False\n",
            "set2 is disjoint of set1:  False\n"
          ]
        }
      ],
      "source": [
        "# isdisjoint() : The isdisjoint() method in Python returns True if two sets have no items in common, otherwise False. Sets are disjoint if and only if their intersection is the empty set.\n",
        "# This function checks and returns whether invoking set object is disjoint of parameter set object or not . Returns Boolean .\n",
        "# for ex :\n",
        "set1 = {10,\"ABCD\",20.55,110.45,\"XYZ\",25}\n",
        "set2 = {10,\"ABCD\",\"XYZ\"}\n",
        "print(\"Initially set is :\",set1)\n",
        "print(\"Initially set is : \",set2)\n",
        "a = set1.isdisjoint(set2)\n",
        "b = set2.isdisjoint(set1)\n",
        "print()\n",
        "print(\"set1 is disjoint of set2: \",a)\n",
        "print(\"set2 is disjoint of set1: \",b)"
      ]
    },
    {
      "cell_type": "code",
      "execution_count": null,
      "metadata": {
        "colab": {
          "base_uri": "https://localhost:8080/"
        },
        "id": "SF9Tzs5RGxLG",
        "outputId": "4e01e6e4-638e-4118-ed5e-06eeb2229db3"
      },
      "outputs": [
        {
          "name": "stdout",
          "output_type": "stream",
          "text": [
            "2\n",
            "0\n"
          ]
        }
      ],
      "source": [
        "#  --- Tuple Mehtods ---\n",
        "\n",
        "# count() : This function returns the occurence count of specified element / object in invoking tuple object .\n",
        "# for ex :\n",
        "tup1 = (45,66,85,\"ABCD\",False,None,\"XYZ\",85)\n",
        "a = tup1.count(85)\n",
        "print(a)\n",
        "b = tup1.count(\"IJKL\")\n",
        "print(b)"
      ]
    },
    {
      "cell_type": "code",
      "execution_count": null,
      "metadata": {
        "colab": {
          "base_uri": "https://localhost:8080/"
        },
        "id": "O0poVeKnHJvC",
        "outputId": "ca178cb4-e9e6-4a62-a950-eb54faae01d1"
      },
      "outputs": [
        {
          "name": "stdout",
          "output_type": "stream",
          "text": [
            "3\n"
          ]
        }
      ],
      "source": [
        "# index() : This function returns index number of first occurrence of specified element / object in invoking tuple object .\n",
        "tup1 = (45,66,85,\"ABCD\",False,None,\"XYZ\",85)\n",
        "a = tup1.index('ABCD')\n",
        "print(a)"
      ]
    },
    {
      "cell_type": "code",
      "execution_count": null,
      "metadata": {
        "colab": {
          "base_uri": "https://localhost:8080/"
        },
        "id": "AQkOd_xMJw9s",
        "outputId": "f8bdca5b-066d-4dba-bfe0-25a7253d57de"
      },
      "outputs": [
        {
          "name": "stdout",
          "output_type": "stream",
          "text": [
            "2\n",
            "7\n"
          ]
        }
      ],
      "source": [
        "# If we want to print second occurence , then use second parameter as \"after-index\".\n",
        "# for ex :\n",
        "tup1 = (45,66,85,\"ABCD\",False,None,\"XYZ\",85)\n",
        "a = tup1.index(85)\n",
        "print(a)\n",
        "b = tup1.index(85,a+1) # checks second occurence .\n",
        "print(b)"
      ]
    },
    {
      "cell_type": "code",
      "execution_count": null,
      "metadata": {
        "colab": {
          "base_uri": "https://localhost:8080/"
        },
        "id": "6FQLmAy0K0_F",
        "outputId": "d15b4b8b-197c-4ac0-c430-7856f0bd6ece"
      },
      "outputs": [
        {
          "name": "stdout",
          "output_type": "stream",
          "text": [
            "2\n",
            "2\n",
            "2\n",
            "2\n"
          ]
        }
      ],
      "source": [
        "# Refer following program to find every occurence of 85 in tuple .\n",
        "tup1 = (45,66,85,\"ABCD\",False,None,\"XYZ\",85,85,\"IJK\",85)\n",
        "a = tup1.count(85)\n",
        "if a==0:\n",
        "  print(\"Not present\")\n",
        "else:\n",
        "  i=1\n",
        "  after_index = -1\n",
        "  while i<=a:\n",
        "    b = tup1.index(85,after_index+1)\n",
        "    print(b)\n",
        "    after_ind = b\n",
        "    i = i + 1\n"
      ]
    },
    {
      "cell_type": "code",
      "execution_count": null,
      "metadata": {
        "id": "8zJUY2joN2VW"
      },
      "outputs": [],
      "source": [
        "\"\"\" we know that , there are three types of variables : ( based on where we declare it)\n",
        "    - local variable\n",
        "    - global variable\n",
        "    - block variable\n",
        "\n",
        "    * to differentiate between local variable and global variable , we have to use the keyword \"global\" .\n",
        "    for ex :\n",
        "      def sample():\n",
        "        global a <-- will start referring global 'a'\n",
        "        a = 15 <-- will make change in global 'a\n",
        "        print(\"This is sample\")\n",
        "        print(\"in simple , a =\",a)\n",
        "\n",
        "     print(\"main starts from here\")\n",
        "     a = 12 <-- is global 'a'\n",
        "     print(\"in main , initially a =\",a)\n",
        "     sample()\n",
        "     print(\"in main area,a =\",a)\n",
        "     print(\"main area ends\")\"\"\""
      ]
    },
    {
      "cell_type": "code",
      "execution_count": null,
      "metadata": {
        "colab": {
          "base_uri": "https://localhost:8080/"
        },
        "id": "MguX-9tv18eg",
        "outputId": "442d682b-bed2-4609-aea4-eb6bee258a98"
      },
      "outputs": [
        {
          "name": "stdout",
          "output_type": "stream",
          "text": [
            "main starts from here\n",
            "in main , initially a = 12\n",
            "This is sample\n",
            "in simple , a = 15\n",
            "in main area,a = 15\n",
            "main area ends\n"
          ]
        }
      ],
      "source": [
        "def sample():\n",
        "        global a # <-- will start referring global 'a'\n",
        "        a = 15 #<-- will make change in global 'a\n",
        "        print(\"This is sample\")\n",
        "        print(\"in simple , a =\",a)\n",
        "\n",
        "print(\"main starts from here\")\n",
        "a = 12 #<-- is global 'a'\n",
        "print(\"in main , initially a =\",a)\n",
        "sample()\n",
        "print(\"in main area,a =\",a)\n",
        "print(\"main area ends\")"
      ]
    },
    {
      "cell_type": "code",
      "execution_count": null,
      "metadata": {
        "colab": {
          "base_uri": "https://localhost:8080/"
        },
        "id": "fRDXLo6g2ipj",
        "outputId": "5492daca-c14c-40cf-bead-4d137990afe5"
      },
      "outputs": [
        {
          "name": "stdout",
          "output_type": "stream",
          "text": [
            "Roll= 20\n",
            "name= Prathamesh\n"
          ]
        }
      ],
      "source": [
        "# Remember that , python don't allow external use of datatype to declare variables .\n",
        "# Therefore , we must not use datatype while declaring formal parameters of fuction .\n",
        "# we must declare formal parameters , just as names .\n",
        "#  Similar to c/c++ , we must have to pass actual - parameter to such formal - parameters .\n",
        "# ex :\n",
        "def sample(roll,name):\n",
        "  print(\"Roll=\",roll)\n",
        "  print(\"name=\",name)\n",
        "\n",
        "sample(20,\"Prathamesh\")"
      ]
    },
    {
      "cell_type": "code",
      "execution_count": null,
      "metadata": {
        "colab": {
          "base_uri": "https://localhost:8080/"
        },
        "id": "xK34bgEQ3q3R",
        "outputId": "aff2fdeb-c78b-47e5-e90d-094e690e7ad4"
      },
      "outputs": [
        {
          "name": "stdout",
          "output_type": "stream",
          "text": [
            "main starts form here ..\n",
            "roll = 122\n",
            "name =  Prathamesh\n",
            "age =  20\n",
            "city =  Pune\n",
            "main ends here\n"
          ]
        }
      ],
      "source": [
        "# In C/C++/Java , we experience that if a function has multiple formal prameters , then we must have to remember the order of formal parameter ,and then pass actual parameter according to that order .\n",
        "# But , python has the best option that , it allows to pass acutal parameter by the names of formal parameter .\n",
        "# This process is known as keyword arguments .\n",
        "# for ex :\n",
        "def sample(roll,name,age,city):\n",
        "  print(\"roll =\",roll)\n",
        "  print(\"name = \",name)\n",
        "  print(\"age = \",age)\n",
        "  print(\"city = \",city)\n",
        "\n",
        "print(\"main starts form here ..\")\n",
        "sample(age=20,city=\"Pune\",roll=122,name=\"Prathamesh\")\n",
        "print(\"main ends here\")\n"
      ]
    },
    {
      "cell_type": "code",
      "execution_count": null,
      "metadata": {
        "colab": {
          "base_uri": "https://localhost:8080/"
        },
        "id": "qT7MWqMS5NEy",
        "outputId": "8de001ce-2454-424d-f5a9-fbbd75aea178"
      },
      "outputs": [
        {
          "name": "stdout",
          "output_type": "stream",
          "text": [
            "main starts \n",
            "Addition is :  67\n",
            "Subraction is :  23\n",
            "Multiplication is : 990\n",
            "Subraction is : 2.0454545454545454\n",
            "\n",
            "Main ends\n"
          ]
        }
      ],
      "source": [
        " # another ex :\n",
        "\n",
        "def addition(a,b):\n",
        "  c = a + b\n",
        "  d = a - b\n",
        "  e = a * b\n",
        "  f = a / b\n",
        "  return c,d,e,f\n",
        "\n",
        "print(\"main starts \")\n",
        "a1,a2,a3,a4 = addition(45,22)\n",
        "print(\"Addition is : \",a1)\n",
        "print(\"Subraction is : \",a2)\n",
        "print(\"Multiplication is :\",a3)\n",
        "print(\"Subraction is :\",a4)\n",
        "print()\n",
        "print(\"Main ends\")\n"
      ]
    },
    {
      "cell_type": "code",
      "execution_count": null,
      "metadata": {
        "colab": {
          "base_uri": "https://localhost:8080/"
        },
        "id": "PJWiitJz7g8J",
        "outputId": "226c4a1e-22d1-407c-c5bf-7cafdbd6d9ee"
      },
      "outputs": [
        {
          "name": "stdout",
          "output_type": "stream",
          "text": [
            "main starts form here..\n",
            "Age is :  12\n",
            "gender is :  M\n",
            "average is :  65.22\n",
            "main ends here..\n",
            "\n",
            "Age is : 12\n",
            "gender is : M\n",
            "average is :  45.22\n"
          ]
        }
      ],
      "source": [
        "# Function with Default Arguments...\n",
        "\n",
        "# Like C++ , here also we can provide formal parameter with default values . So that , it becomes optional to provide Actual parameter to such functions .\n",
        "# for ex :\n",
        "\n",
        "def temp(age=12,gender=\"M\",average=65.22):\n",
        "  print(\"Age is : \",age)\n",
        "  print(\"gender is : \", gender)\n",
        "  print(\"average is : \", average)\n",
        "\n",
        "print(\"main starts form here..\")\n",
        "temp()\n",
        "print(\"main ends here..\")\n",
        "print()\n",
        "\n",
        "# above function temp() is with all default arguments .\n",
        "# Therefore , it is optional to pass Actual parameter to it .\n",
        "# If we have any updated value , then pass it otherwise it will continue with default values.\n",
        "# If we have a combination of initialized formal parameter and uninitialized formal parameter , then such uninitialized formal parameter must be at teh beginning .(Left Side)\n",
        "# If there are any uninitialized parameters , then we must have to pass Actual parameter to it .\n",
        "\n",
        "def sample1(average,age=12,gender=\"M\"):\n",
        "  print(\"Age is :\",age)\n",
        "  print(\"gender is :\",gender)\n",
        "  print(\"average is : \",average)\n",
        "\n",
        "sample1(45.22)\n",
        "# Note that , the uninitialized formal parameter \"average\" is first parameter ."
      ]
    },
    {
      "cell_type": "code",
      "execution_count": null,
      "metadata": {
        "colab": {
          "base_uri": "https://localhost:8080/"
        },
        "id": "4IR6qjNn-vib",
        "outputId": "d24a200d-3324-4891-b178-79d922873edf"
      },
      "outputs": [
        {
          "name": "stdout",
          "output_type": "stream",
          "text": [
            "main starts..\n",
            "283\n"
          ]
        }
      ],
      "source": [
        "# Variable Length Argument ...\n",
        "# By using this facility , we can define a function that can receive any numbers of arguments.\n",
        "# Simply declare a formal-parameter with * .\n",
        "# For ex :\n",
        "def addition(*a):\n",
        "  b = sum(a)\n",
        "  return b\n",
        "\n",
        "print(\"main starts..\")\n",
        "ans = addition(10,30,40,36,32,14,56,65)\n",
        "print(ans)\n",
        "\n",
        "#  The Type of Formal Parameter 'a' will be 'Tuple'."
      ]
    },
    {
      "cell_type": "code",
      "execution_count": null,
      "metadata": {
        "colab": {
          "base_uri": "https://localhost:8080/"
        },
        "id": "2tgZa10FQyvY",
        "outputId": "f80b66c6-3400-4a0b-998d-629464dc555f"
      },
      "outputs": [
        {
          "name": "stdout",
          "output_type": "stream",
          "text": [
            "main starts\n",
            "Pratham\n",
            "(10, 20, 30, 34, 23, 45, 54, 56)\n",
            "272\n"
          ]
        }
      ],
      "source": [
        "# *** If we want to Add normal Formal Parameter with such variable-length-arguments,then such normal formal parameter must be at the beginning .\n",
        "# For ex :\n",
        "\n",
        "def addition(sname,*a):\n",
        "  print(sname)\n",
        "  b = sum(a)\n",
        "  print(a)\n",
        "  return b\n",
        "\n",
        "print(\"main starts\")\n",
        "ans = addition(\"Pratham\",10,20,30,34,23,45,54,56)\n",
        "print(ans)\n",
        "# Here , Pratham will be assigned to sname and another the tuple of numbers is also assigned to a ."
      ]
    },
    {
      "cell_type": "code",
      "execution_count": null,
      "metadata": {
        "colab": {
          "base_uri": "https://localhost:8080/"
        },
        "id": "kXCdJvnJWkeD",
        "outputId": "36c93bf7-0b7f-4c5b-db57-24d9b8e7b468"
      },
      "outputs": [
        {
          "name": "stdout",
          "output_type": "stream",
          "text": [
            "Main area starts...\n",
            "sname= Ajay\n",
            "sroll= 15\n",
            "sgen= Male\n",
            "scity= Pune\n",
            "savg= 56.88\n",
            "empname= vaishali\n",
            "empsal= 10000\n",
            "btitle= Let Us C\n",
            "bauthor= YK\n",
            "bprice= 235\n",
            "main area ends...\n"
          ]
        }
      ],
      "source": [
        "# Variable Length Keyword Argument .\n",
        "# The ** can be used to accept any number of keyword arguments. The keyword arguments are stored in a dictionary.\n",
        "\n",
        "def display_anything(**a):\n",
        "  for i in a:\n",
        "    print(i + \"=\",a[i])\n",
        "\n",
        "print(\"Main area starts...\")\n",
        "display_anything(sname='Ajay',sroll=15,sgen='Male',scity='Pune',savg=56.88)\n",
        "display_anything(empname='vaishali',empsal=10000)\n",
        "display_anything(btitle='Let Us C',bauthor=\"YK\",bprice=235)\n",
        "print(\"main area ends...\")\n"
      ]
    },
    {
      "cell_type": "code",
      "execution_count": null,
      "metadata": {
        "colab": {
          "base_uri": "https://localhost:8080/"
        },
        "id": "aWE8tD1MZyya",
        "outputId": "36812339-7358-48f0-8915-40f417512264"
      },
      "outputs": [
        {
          "name": "stdout",
          "output_type": "stream",
          "text": [
            "main area starts\n",
            "Hello all\n",
            "Hi all\n",
            "main area ends..\n"
          ]
        }
      ],
      "source": [
        "# In python , we can even pass a function as Actual Parameter .\n",
        "# for ex  :\n",
        "def test(a): # <-- passed function is received in varaible 'a'.\n",
        "  a()  # <-- calling function 'a'\n",
        "\n",
        "def sayHello():\n",
        "  print(\"Hello all\")\n",
        "  print(\"Hi all\")\n",
        "\n",
        "print(\"main area starts\")\n",
        "test(sayHello) # <-- passing fuction as AP.\n",
        "print(\"main area ends..\")"
      ]
    },
    {
      "cell_type": "code",
      "execution_count": null,
      "metadata": {
        "colab": {
          "base_uri": "https://localhost:8080/"
        },
        "id": "PUnF1D5Ra02Y",
        "outputId": "ca49cad5-81df-4c03-e855-a7c068fe7afc"
      },
      "outputs": [
        {
          "name": "stdout",
          "output_type": "stream",
          "text": [
            "main starts form here ..\n",
            "Hello all\n",
            "Hi all ..\n",
            "Name is :  Kuldeep\n",
            "main area ends..\n"
          ]
        }
      ],
      "source": [
        "# In actual , we are not passing function . But in Python a function is also treated like a variable/object .\n",
        "# Therefore , we are not passing function . But we are passing variable / object as parameter .\n",
        "# Be careful , and don't use () while passing a function as Actual parameter .\n",
        "# ex :\n",
        "def test(a):\n",
        "  a(\"Kuldeep\")\n",
        "\n",
        "def sayHello(nm):\n",
        "  print(\"Hello all\")\n",
        "  print(\"Hi all ..\")\n",
        "  print(\"Name is : \",nm)\n",
        "\n",
        "print(\"main starts form here ..\")\n",
        "test(sayHello)\n",
        "print(\"main area ends..\")"
      ]
    },
    {
      "cell_type": "code",
      "execution_count": null,
      "metadata": {
        "colab": {
          "base_uri": "https://localhost:8080/"
        },
        "id": "F3QcHCtrV6cR",
        "outputId": "595f6af1-e04c-482c-9bed-40209bc956cf"
      },
      "outputs": [
        {
          "name": "stdout",
          "output_type": "stream",
          "text": [
            "main area starts ..\n",
            "All operations here..\n",
            "from operations : \n",
            "Addition is :  30\n",
            "Subraction is : -21\n",
            "Multiplication is :  600\n",
            "Division is :  2.5\n",
            "Addition is :  88\n",
            "main area ends..\n"
          ]
        }
      ],
      "source": [
        "# Nested functions ---\n",
        "\n",
        "# Python allows to define nested functions .\n",
        "# for ex :\n",
        "\n",
        "addition = None # <-- making 'addition' as a global variable\n",
        "\n",
        "def operations():\n",
        "  global addition # <-- referring global 'addition'\n",
        "  print(\"All operations here..\")\n",
        "  def addition(a,b): # <-- updating gobal 'additon' as a function\n",
        "    print(\"Addition is : \",(a+b))\n",
        "  def subraction(a,b):\n",
        "    print(\"Subraction is :\",(a-b))\n",
        "  def Multiplication(a,b):\n",
        "    print(\"Multiplication is : \",(a*b))\n",
        "  def division(a,b):\n",
        "    print(\"Division is : \",(a/b))\n",
        "  print(\"from operations : \")\n",
        "  addition(10,20)\n",
        "  subraction(45,66)\n",
        "  Multiplication(20,30)\n",
        "  division(30,12)\n",
        "\n",
        "\n",
        "print(\"main area starts ..\")\n",
        "operations()\n",
        "addition(22,66) # <-- using global \"addition\"\n",
        "print(\"main area ends..\")"
      ]
    },
    {
      "cell_type": "code",
      "execution_count": null,
      "metadata": {
        "colab": {
          "base_uri": "https://localhost:8080/"
        },
        "id": "Bw3LrN0qZftC",
        "outputId": "74177f5c-6762-4aa8-c02c-638ec14cdcab"
      },
      "outputs": [
        {
          "name": "stdout",
          "output_type": "stream",
          "text": [
            "main area starts..\n",
            "All operations here ...\n",
            "form operations: \n",
            "Addition is :  30\n",
            "Subtraction is :  -21\n",
            "Addition is :  88\n",
            "Subtraction is :  -11\n",
            "main area ends..\n"
          ]
        }
      ],
      "source": [
        "# another ex :\n",
        "additon = None\n",
        "\n",
        "\n",
        "def operations():\n",
        "  global addition\n",
        "  print(\"All operations here ...\")\n",
        "  def additon(a,b):\n",
        "    print(\"Addition is : \",(a+b))\n",
        "  def subtraction(a,b):\n",
        "    print(\"Subtraction is : \",(a-b))\n",
        "  print(\"form operations: \")\n",
        "  addition(10,20)\n",
        "  subtraction(45,66)\n",
        "  return subtraction  # <-- returning nested function 'subtraction'\n",
        "\n",
        "print(\"main area starts..\")\n",
        "b = operations() # <-- receiving nested function 'subtraction' in 'b'\n",
        "addition(22,66)\n",
        "b(88,99) # <-- calling to 'b'\n",
        "print(\"main area ends..\")"
      ]
    },
    {
      "cell_type": "code",
      "execution_count": null,
      "metadata": {
        "colab": {
          "base_uri": "https://localhost:8080/"
        },
        "id": "XD8WWUvRhB3e",
        "outputId": "ee89dc1a-d351-486e-d504-3af0c097fbfe"
      },
      "outputs": [
        {
          "name": "stdout",
          "output_type": "stream",
          "text": [
            "Type of test is <class 'function'>\n"
          ]
        }
      ],
      "source": [
        "# Whenever we have to just define a function and if we want to work on it later then we just write 'pass' in it ..\n",
        "# while we run the program it will not give any errors as the pass is written in functions .\n",
        "def test():\n",
        "  pass\n",
        "\n",
        "print(\"Type of test is\",type(test))"
      ]
    },
    {
      "cell_type": "code",
      "execution_count": null,
      "metadata": {
        "colab": {
          "base_uri": "https://localhost:8080/"
        },
        "id": "AjR3yatViKe4",
        "outputId": "c61e60d5-54f6-4ba5-8376-01c8ec9b96d9"
      },
      "outputs": [
        {
          "name": "stdout",
          "output_type": "stream",
          "text": [
            "Delhi\n",
            "Mumbai\n",
            "Pune\n",
            "Ahmednagar\n"
          ]
        }
      ],
      "source": [
        "# Generators --\n",
        "\n",
        "def city_names():\n",
        "  print(\"Delhi\")\n",
        "  yield\n",
        "  print(\"Mumbai\")\n",
        "  yield\n",
        "  print(\"Pune\")\n",
        "  yield\n",
        "  print(\"Ahmednagar\")\n",
        "  yield\n",
        "\n",
        "a = city_names()\n",
        "\n",
        "a.__next__()\n",
        "a.__next__()\n",
        "a.__next__()\n",
        "a.__next__()"
      ]
    },
    {
      "cell_type": "code",
      "execution_count": null,
      "metadata": {
        "colab": {
          "base_uri": "https://localhost:8080/"
        },
        "id": "oOnmtNQpkYbu",
        "outputId": "7d47927c-c832-4cde-cd22-68e8cc96b87a"
      },
      "outputs": [
        {
          "name": "stdout",
          "output_type": "stream",
          "text": [
            "Addition is : 48\n",
            "Subraction is : 42\n",
            "Multiplication is :  135\n",
            "55\n",
            "66\n",
            "77\n"
          ]
        }
      ],
      "source": [
        "# A generator function can also return a value by using 'yield'.\n",
        "\n",
        "def operations(a,b):\n",
        "  print(\"Addition is :\",(a+b))\n",
        "  yield 55\n",
        "  print(\"Subraction is :\",(a-b))\n",
        "  yield 66\n",
        "  print(\"Multiplication is : \",(a*b))\n",
        "  yield 77\n",
        "  print(\"Division is : \",(a/b))\n",
        "  yield 88\n",
        "\n",
        "a = operations(45,3)\n",
        "v1 = a.__next__()\n",
        "v2 = a.__next__()\n",
        "v3 = a.__next__()\n",
        "\n",
        "print(v1)\n",
        "print(v2)\n",
        "print(v3)"
      ]
    },
    {
      "cell_type": "code",
      "execution_count": null,
      "metadata": {
        "colab": {
          "base_uri": "https://localhost:8080/"
        },
        "id": "D8EAPo6jmaOA",
        "outputId": "a2f5fabb-2bb2-4a34-b14c-2cea7f523663"
      },
      "outputs": [
        {
          "name": "stdout",
          "output_type": "stream",
          "text": [
            "Type Error : function receives only integers, but <class 'float'> is found\n"
          ]
        }
      ],
      "source": [
        "\"\"\"\n",
        "- The difference between 'return' and 'yield' is that the 'return' indicates end of function. It permanently returns the controls .\n",
        "- Whereas , the 'yields' is only like pause in function. It will not considered as end-of-function.\n",
        "-(Similar to Java's serialization concept).\n",
        "- We can pass parameters to functions .\n",
        "-The formal parameter doesn't have any specific data type . Therefore , the formal parameter can receive actual parameter of any datatype .\n",
        "- There is no built - in facility to receive formal parameter of particular datatype .\n",
        "-We have to manually check the datatupe of formal parameter by using isinstance() method . And then use if-else to take decision of specific datatype .\n",
        "-The isinstance() method in Python is used to check if an object is an instance of a particular class or subclass. It takes two arguments: the object to be checked and the class or subclass to check against.\n",
        "-For example, the following code checks if the object x is an instance of the int class:\n",
        "    isinstance(x, int)\n",
        "    - If the object x is an instance of the int class, the isinstance() method will return True, otherwise it will return False.\n",
        "\n",
        "-The isinstance() method can also be used to check if an object is an instance of a subclass of a particular class. For example, the following code checks if the object x is an instance of the float subclass of the numeric class:\n",
        "- for ex :\n",
        "        isinstance(x, numeric.float)\n",
        "        -If the object x is an instance of the float subclass of the numeric class, the isinstance() method will return True, otherwise it will return False.\n",
        "\n",
        "The isinstance() method is a powerful tool that can be used to check the type of an object. It is often used in conjunction with the if statement to control the flow of a program.\n",
        "\"\"\"\n",
        "# for ex :\n",
        "def check_even_odd(num):\n",
        "  a = isinstance(num,int) # <-- will return True or either False\n",
        "  if a == True:\n",
        "    if num%2 == 0:\n",
        "      print(\"is even\")\n",
        "    else:\n",
        "      print(\"is odd\")\n",
        "  else:\n",
        "    print(\"Type Error : function receives only integers, but\",type(num),\"is found\")\n",
        "\n",
        "check_even_odd(15.22)\n",
        "\n",
        "\n",
        "# otherwise we can also use exception handling mechanism in Python , by using try-except blocks .\n"
      ]
    },
    {
      "cell_type": "code",
      "execution_count": null,
      "metadata": {
        "colab": {
          "base_uri": "https://localhost:8080/"
        },
        "id": "GQekmTi-y8GJ",
        "outputId": "49ebddeb-2f4f-47be-a99a-803ffa67eb34"
      },
      "outputs": [
        {
          "name": "stdout",
          "output_type": "stream",
          "text": [
            "main area starts...\n",
            "ID of t1 is :  133130048692544\n",
            "Enter any 3 values\n",
            "Prathamesh\n",
            "saniya\n",
            "Neha\n",
            "a= Prathamesh\n",
            "b= saniya\n",
            "c= Neha\n",
            "main area ends..\n"
          ]
        }
      ],
      "source": [
        "# --- Classes and objects ---\n",
        "\n",
        "\"\"\"\n",
        "We know that , an OOPL strongly supports classes to apply most of the object - oriented features .\n",
        "But in Python , we have classes but only for the purpose of achieving reusability .\n",
        "While defining a class in Python , don't think it like a class of C++ and java . Don't expect must OO features from Python class .\n",
        "\n",
        "To define a class in Python , general syntax is :\n",
        "\n",
        "      class CLASS_NAME:\n",
        "          data-members\n",
        "          and\n",
        "          member functions\n",
        "\n",
        "*  Must declare and define data-members and member functions in indentation of class .\n",
        "\"\"\"\n",
        "\n",
        "# for ex :\n",
        "\n",
        "\"\"\"\n",
        "class Test:\n",
        "  a = 54\n",
        "  b = \"ABCD\"\n",
        "  c = None\n",
        "\n",
        "  def accept_values(self):\n",
        "    print(\"Enter any 3 values\")\n",
        "    self.a = input()\n",
        "    self.b = input()\n",
        "    self.c = input()\n",
        "\n",
        "  def show_values(self):\n",
        "    print(\"a=\",self.a)\n",
        "    print(\"b=\",self.b)\n",
        "    print(\"c=\",self.c)\n",
        "\"\"\"\n",
        "\n",
        "\"\"\"\n",
        "-Note that , the \"self\" will be an auto generated parameter of every member function .\n",
        "-It is like 'this' pointer in C++ and Java .\n",
        "\n",
        "\n",
        "** Strictly remember that , to internally use data - members and member functions we must must must use 'self'.\n",
        "\n",
        "* To declare objects in Python:\n",
        "      obj_name = class_name()\n",
        "\n",
        "* For ex :\n",
        "          t1 = Test()\n",
        "          base = Tk()\n",
        "          btn = Button()\n",
        "          var = IntVariable()\n",
        "\n",
        "* Remember that , the () is mendatory to declare object . It will internally call to default/auto-generated constructor .\n",
        "* For ex , If we declare object of above class Test and call it's member-functions :\n",
        "\n",
        "        print(\"main area starts..\")\n",
        "        t1 = Test()\n",
        "        t1.accept_values()\n",
        "        t1.show_values()\n",
        "        print(\"main area ends\")\n",
        "\n",
        "\n",
        "* Similar to C++ and Java , When a member - function is called by using an invoking object , then here also the ID of invoking object gets passed as first parameter .\n",
        "And which is received in \"Self\".\n",
        "\n",
        "\"\"\"\n",
        "class Test:\n",
        "  a = 54\n",
        "  b = \"ABCD\"\n",
        "  c = None\n",
        "\n",
        "  def accept_values(self):\n",
        "    print(\"Enter any 3 values\")\n",
        "    self.a = input()\n",
        "    self.b = input()\n",
        "    self.c = input()\n",
        "\n",
        "  def show_values(self):\n",
        "    print(\"a=\",self.a)\n",
        "    print(\"b=\",self.b)\n",
        "    print(\"c=\",self.c)\n",
        "\n",
        "print(\"main area starts...\")\n",
        "t1 = Test()\n",
        "print(\"ID of t1 is : \",id(t1))\n",
        "t1.accept_values()\n",
        "t1.show_values()\n",
        "print(\"main area ends..\")\n"
      ]
    },
    {
      "cell_type": "code",
      "execution_count": null,
      "metadata": {
        "colab": {
          "base_uri": "https://localhost:8080/"
        },
        "id": "k4BY8w-uqg53",
        "outputId": "4b9a5508-f525-4a8c-e93f-55370ad86b39"
      },
      "outputs": [
        {
          "name": "stdout",
          "output_type": "stream",
          "text": [
            "main area starts..\n",
            "x =  10\n",
            "y =  20\n",
            "z =  30\n",
            "x =  45\n",
            "y =  55\n",
            "z =  65\n",
            "main area ends...\n"
          ]
        }
      ],
      "source": [
        "\"\"\"\n",
        "* Similar , to other object oriented languages , here also we have constructor and destructor .\n",
        "- In C++ and Java , the constructor has 3 characteristics:\n",
        "      - must have same name as class name\n",
        "      - cannot return\n",
        "      - cannot be called manually . Automatically executes when an object is declaed.\n",
        "\n",
        "- But these rules are not in Python . Here , we have :\n",
        "      -must be named as __init__()\n",
        "      -cannot return\n",
        "      -Automatically executes when object is declared .\n",
        "      -Can manually call to constructor(to reset to default values).\n",
        "\n",
        "* we can also add any instance externally into an object.\n",
        "* simply assign a value to it .\n",
        "\n",
        "* Here , we cannot overload constructors and menthods .\n",
        "* But , if we want to define something like overloaded consturctors , then we should make use of default-arguments and 'self' .\n",
        "\n",
        "\"\"\"\n",
        "# For ex :\n",
        "\n",
        "class Test():\n",
        "  x = None\n",
        "  y = None\n",
        "  z = None\n",
        "\n",
        "  def __init__(self,x = 10,y = 20,z = 30):\n",
        "    self.x = x\n",
        "    self.y = y\n",
        "    self.z = z\n",
        "\n",
        "  def show_values(self):\n",
        "    print(\"x = \",self.x)\n",
        "    print(\"y = \",self.y)\n",
        "    print(\"z = \",self.z)\n",
        "\n",
        "print(\"main area starts..\")\n",
        "t1 = Test()\n",
        "t2 = Test(45,55,65)\n",
        "\n",
        "t1.show_values()\n",
        "t2.show_values()\n",
        "\n",
        "print(\"main area ends...\")\n",
        "\n",
        "# Note that , for object 't1' we did not passed any parameter . Then it continues with parameter's default values 10,20,and 30.\n",
        "# And for object 't2' we passed 3 parameters . Now default values of parameters gets over-write by 45,55,65 ."
      ]
    },
    {
      "cell_type": "code",
      "execution_count": null,
      "metadata": {
        "colab": {
          "base_uri": "https://localhost:8080/"
        },
        "id": "pzV5Pn_lwEAV",
        "outputId": "ad21ebe4-1a61-4f95-d966-c2492dd8669e"
      },
      "outputs": [
        {
          "name": "stdout",
          "output_type": "stream",
          "text": [
            "main area starts..\n",
            " This is constuctor\n",
            "main area ends..\n",
            "This is destructor\n"
          ]
        }
      ],
      "source": [
        "\"\"\"\n",
        "In C++ we define destructor , with following characteristics:\n",
        "  - must have same name as class name but followed by tilde(~) sign.\n",
        "  - cannot be called manually . Automatically executes when scope of object expires.\n",
        "  - cannot return .\n",
        "\n",
        "* Here in Python also , We can define a destructor.\n",
        "* Here we have :\n",
        "      - must be defined as __del__()\n",
        "      - Automatically executes when scope of object expires.\n",
        "      - cannot be called manually .\n",
        "      - allows to return value .\n",
        "      - allows to define with parameters . (should be with default values)\n",
        "\n",
        "\"\"\"\n",
        "# For ex:\n",
        "\n",
        "class Test:\n",
        "  def __init__(self):\n",
        "    print(\" This is constuctor\")\n",
        "\n",
        "  def __del__(self):\n",
        "    print(\"This is destructor\")\n",
        "\n",
        "print(\"main area starts..\")\n",
        "t1 = Test()\n",
        "print(\"main area ends..\")\n",
        "\n"
      ]
    },
    {
      "cell_type": "code",
      "execution_count": null,
      "metadata": {
        "colab": {
          "base_uri": "https://localhost:8080/"
        },
        "id": "brRmMJj8zKFZ",
        "outputId": "7853cf10-2817-4d49-a4c9-34b0211992a3"
      },
      "outputs": [
        {
          "name": "stdout",
          "output_type": "stream",
          "text": [
            "main area starts..\n",
            "This is constructor\n",
            "This is destructor\n",
            "x =  5555\n",
            "main area ends..\n",
            "10\n",
            "This is destructor\n",
            "x =  None\n"
          ]
        }
      ],
      "source": [
        "# ex 2 :\n",
        "\n",
        "class Test():\n",
        "  def __init__(self):\n",
        "    print(\"This is constructor\")\n",
        "\n",
        "  def __del__(self,x=None):\n",
        "    print(\"This is destructor\")\n",
        "    print(\"x = \",x)\n",
        "    return 10\n",
        "\n",
        "print(\"main area starts..\")\n",
        "t1 = Test()\n",
        "a = t1.__del__(5555)\n",
        "print(\"main area ends..\")\n",
        "print(a)\n"
      ]
    },
    {
      "cell_type": "code",
      "execution_count": null,
      "metadata": {
        "colab": {
          "base_uri": "https://localhost:8080/"
        },
        "id": "XFyiaRmB0uVY",
        "outputId": "f1df03b2-4b77-4083-82ee-433994ce900b"
      },
      "outputs": [
        {
          "output_type": "stream",
          "name": "stdout",
          "text": [
            "main starts from here..\n",
            "This is constructor..\n",
            "This is destructor..\n",
            "pranav\n",
            "raj \n",
            "x =  pranav\n",
            "y =  raj \n",
            "main ends here..\n"
          ]
        }
      ],
      "source": [
        "# We know that , we can define class with:\n",
        "# - data members\n",
        "# - member functions\n",
        "# - constructors\n",
        "# - destructors\n",
        "\n",
        "# For ex :\n",
        "\n",
        "class Test:\n",
        "  x = None\n",
        "  y = \"ABCD\"\n",
        "  def __init__(self):\n",
        "    print(\"This is constructor..\")\n",
        "\n",
        "  def accept_values(rushi): # we can write any name on the place of self , it is not compulsory to write only self we can write any name .\n",
        "    rushi.x = input()\n",
        "    rushi.y = input()\n",
        "\n",
        "  def show_values(self):\n",
        "    print(\"x = \",self.x)\n",
        "    print(\"y = \",self.y)\n",
        "\n",
        "  def __del__(self):\n",
        "    print(\"This is destructor..\")\n",
        "\n",
        "print(\"main starts from here..\")\n",
        "t1 = Test()\n",
        "t1.accept_values()\n",
        "t1.show_values()\n",
        "del t1 # explicitly calling destructor\n",
        "print(\"main ends here..\")\n",
        "\n",
        "#Keep in mind that using __del__ explicitly is generally not recommended.\n",
        "#It's better to rely on Python's garbage collector to handle object destruction.\n",
        "# The __del__ method might not be called in some cases, so it's not guaranteed to behave like a typical destructor.\n"
      ]
    },
    {
      "cell_type": "code",
      "source": [
        "\"\"\"\n",
        "* We know that , we can do inheritance of classes .\n",
        "* Inheritance means , deriving properites of one class into another class .\n",
        "* We have concepts of Base Class and Derived class .\n",
        "\n",
        "* In python , we have all 5 types of inheritances .\n",
        "  - Single Inheritance\n",
        "  - Multiple Inheritance\n",
        "  - Multilevel Inheritance\n",
        "  - Hierarchical Inheritance\n",
        "  - Hybrid Inheritance\n",
        "\n",
        "* In java , we don't have multiple Inheritance . But in Python ,we can do multiple Inheritance .\n",
        "* To inherit , we specify base class in () while defining derived class .\n",
        "\n",
        "* For ex :\n",
        "    class A:\n",
        "      pass\n",
        "\n",
        "    class B(A):\n",
        "      pass\n",
        "\n",
        "* Here , class \"A\" becomes base-class and class \"B\" becomes derived class . Makes single Inheritance .\n",
        "\n",
        "* For ex :\n",
        "          class A:\n",
        "            def method1(self):\n",
        "              print(\"This is method 1 of class A\")\n",
        "\n",
        "          class B:\n",
        "            def method2(self):\n",
        "              print(\"This is method 2 of class B\")\n",
        "\n",
        "          print(\"main area starts ..\")\n",
        "          b1 = B() # \"b1\" is the derived class B\n",
        "          b1.method1()\n",
        "          b1.method2()\n",
        "          print(\"main area ends..\")\n",
        "\n",
        "* Note that , we have same old inheritance rules.\n",
        "* Therefore  ,by using object of derived class we can access the members of Base-Class also .\n",
        "\n",
        "** IMP **\n",
        "- Unlike C++ and Java , when we declare object of derived class , the python will not automatically execute constructor of base class .\n",
        "- Because of --> the name of constructor.\n",
        "- It considers like method overriding .\n",
        "\n",
        "* The execution of consturctor of base class from the object of derived class , must be manual .\n",
        "\n",
        "* For ex :\n",
        "          class A:\n",
        "            def __init__(self):\n",
        "              print(\"This is constructor of base class A..\")\n",
        "\n",
        "          class B(A):\n",
        "            def __init__(self):\n",
        "              A.__init__(self) # calling to base class constructor for same invoking object of derived class.\n",
        "              print(\"This is constuctor of derived class B ..\")\n",
        "\n",
        "          print(\"main area starts..\")\n",
        "          b1 = B() # 'b1' is object of derived class B .\n",
        "          print(\"main area ends...\")\n",
        "\n",
        "\"\"\"\n",
        "class A:\n",
        "  def __init__(self):\n",
        "    print(\"This is constructor of base class A..\")\n",
        "\n",
        "class B(A):\n",
        "  def __init__(self):\n",
        "    A.__init__(self) # calling to base class constructor for same invoking object of derived class.\n",
        "    print(\"This is constuctor of derived class B ..\")\n",
        "\n",
        "print(\"main area starts..\")\n",
        "b1 = B() # 'b1' is object of derived class B .\n",
        "print(\"main area ends...\")\n"
      ],
      "metadata": {
        "colab": {
          "base_uri": "https://localhost:8080/"
        },
        "id": "VJgOk2Z8thhu",
        "outputId": "3e0ec61d-b384-4a3c-c3b4-f09ef356de7c"
      },
      "execution_count": null,
      "outputs": [
        {
          "output_type": "stream",
          "name": "stdout",
          "text": [
            "main area starts..\n",
            "This is constructor of base class A..\n",
            "This is constuctor of derived class B ..\n",
            "main area ends...\n"
          ]
        }
      ]
    },
    {
      "cell_type": "code",
      "source": [
        "# same concept is applied for destructor.\n",
        "# The destructor of derived class must call to desturctor of base class for same invoking object .\n",
        "\n",
        "# If constructor of base class is parameterized , then it is duty of constructor of derived class to pass parameters to it .\n",
        "# For ex:\n",
        "class A:\n",
        "  def __init__(self,val1,val2): # parameterized constructor of base class .\n",
        "    print(\"This is constructor of base class A\")\n",
        "\n",
        "class B(A):\n",
        "  def __init__(self):\n",
        "     A.__init__(self,11,23) # passing parameters to parameterized constructor of base class .\n",
        "     print(\"This is constructor of  Derived class B\")\n",
        "\n",
        "print(\"main area starts ..\")\n",
        "b1 = B() # 'b1' is object of derived class B\n",
        "print(\"main area ends ...\")\n"
      ],
      "metadata": {
        "colab": {
          "base_uri": "https://localhost:8080/"
        },
        "id": "2KutL9VE3Btm",
        "outputId": "8f685e18-11a9-42f2-b545-56bdfa59f23a"
      },
      "execution_count": null,
      "outputs": [
        {
          "output_type": "stream",
          "name": "stdout",
          "text": [
            "main area starts ..\n",
            "This is constructor of base class A\n",
            "This is constructor of  Derived class B\n",
            "main area ends ...\n"
          ]
        }
      ]
    },
    {
      "cell_type": "code",
      "source": [
        "# We can also do method - overriding .\n",
        "# For ex :\n",
        "\n",
        "class A:\n",
        "  def method1(self):\n",
        "    print(\"This is method1 of base class A.. \")\n",
        "\n",
        "class B(A):\n",
        "  def method1(self):\n",
        "    print(\"This is method1 of derived class B..\")\n",
        "\n",
        "print(\"main area starts..\")\n",
        "b1 = B() # 'b1' is object of derived class B\n",
        "b1.method1() # <-- calls to new overridden method of DC .\n",
        "print(\"main area ends..\")\n",
        "\n"
      ],
      "metadata": {
        "colab": {
          "base_uri": "https://localhost:8080/"
        },
        "id": "fAULwDgj6l2-",
        "outputId": "5665224c-0959-4884-d2cc-edd2ade09e3d"
      },
      "execution_count": null,
      "outputs": [
        {
          "output_type": "stream",
          "name": "stdout",
          "text": [
            "main area starts..\n",
            "This is method1 of derived class B..\n",
            "main area ends..\n"
          ]
        }
      ]
    },
    {
      "cell_type": "code",
      "source": [
        "# In python we have multiple inheritance .\n",
        "\n",
        "class A:\n",
        "  def method1(self):\n",
        "    print(\"This is method1 of class A\")\n",
        "\n",
        "class B:\n",
        "  def method1(self):\n",
        "    print(\"This is method1 of Derived class B \")\n",
        "\n",
        "class C(B,A): # here in parameters priotity matters if we want to execute the method1 of class A we can write it first on the place of class B in parameters .\n",
        "  def method3(self):\n",
        "    print(\"This is method 3 of class C\")\n",
        "\n",
        "print(\"main starts from here..\")\n",
        "c1 = C()\n",
        "c1.method1() # is ambiguous in C++ , but not in python .\n",
        "c1.method3()\n",
        "print(\"main ends here..\")\n"
      ],
      "metadata": {
        "colab": {
          "base_uri": "https://localhost:8080/"
        },
        "id": "TUqg4QDJ_kj6",
        "outputId": "b429007a-2fb6-49cf-b197-58de4e13e74b"
      },
      "execution_count": null,
      "outputs": [
        {
          "output_type": "stream",
          "name": "stdout",
          "text": [
            "main starts from here..\n",
            "This is method1 of Derived class B \n",
            "This is method 3 of class C\n",
            "main ends here..\n"
          ]
        }
      ]
    },
    {
      "cell_type": "code",
      "source": [
        "# There is nothing like ambiguity error in multiple inheritance .\n",
        "# The order of inheritance decides priority.\n",
        "# We inherit as --> C(B,A) therefore method1() of first base class 'B' executes .\n",
        "\n",
        "# If we need to define static member functions then we can do it by using a builtin's class 'staticmethod' .\n",
        "# For ex :\n",
        "\n",
        "from builtins import staticmethod\n",
        "\n",
        "class A:\n",
        "  def method1(self):\n",
        "    print(\"This is method1 of class A\")\n",
        "  def method2(self):\n",
        "    print(\"This is method2 of class A\")\n",
        "  @staticmethod\n",
        "  def method3():\n",
        "    print(\"This is static method3 of class A\")\n",
        "\n",
        "print(\"main starts from here..\")\n",
        "a1 = A()\n",
        "a1.method1()\n",
        "a1.method2()\n",
        "A.method3() # <-- static method is called by using class name .\n",
        "print(\"main ends here ..\")\n",
        "\n",
        "# static methods in Python are defined using the @staticmethod decorator and do not have the self parameter.\n",
        "# This is because static methods are not bound to an instance of the class.\n",
        "# They don't have access to the instance or its attributes; instead, they work with the class itself."
      ],
      "metadata": {
        "colab": {
          "base_uri": "https://localhost:8080/"
        },
        "id": "MW4ANms_BVrm",
        "outputId": "50be21fe-c6e1-4e70-c690-72a6da5560ef"
      },
      "execution_count": null,
      "outputs": [
        {
          "output_type": "stream",
          "name": "stdout",
          "text": [
            "main starts from here..\n",
            "This is method1 of class A\n",
            "This is method2 of class A\n",
            "This is static method3 of class A\n",
            "main ends here ..\n"
          ]
        }
      ]
    },
    {
      "cell_type": "code",
      "source": [
        "# ---slicing ---\n",
        "\n",
        "\"\"\"\n",
        "                                           --- Slicing ---\n",
        "\n",
        "Slicing is the process of dealing with index-numbers of any sequence / iterable with three parameters .\n",
        "    - start index\n",
        "    - end index\n",
        "    - step [default value is +1]\n",
        "\n",
        "when step is + ve  then :\n",
        "    - start --> 0th index ( first letter )\n",
        "    - end --> LENGTH ( last letter )\n",
        "\n",
        "when step is -ve then :\n",
        "    - default start --> LENGTH ( last letter )\n",
        "    - default end --> 0th index ( first letter )\n",
        "\n",
        "\"\"\"\n",
        "# Example 1 :\n",
        "s = \"Sambhajinagar\"\n",
        "s1 = s[0:8]\n",
        "print(s1)\n",
        "\n",
        "# This will take a slice in 's1' from 0th index to 7th index .\n",
        "# If we don't specify  STEP , then it's default value is + 1 .\n"
      ],
      "metadata": {
        "id": "5Oikb2f5EFtX",
        "colab": {
          "base_uri": "https://localhost:8080/"
        },
        "outputId": "d7b41acd-9be6-4ae1-d6aa-f54dfb3bf73e"
      },
      "execution_count": null,
      "outputs": [
        {
          "output_type": "stream",
          "name": "stdout",
          "text": [
            "Sambhaji\n"
          ]
        }
      ]
    },
    {
      "cell_type": "code",
      "source": [
        "# ex 2 :\n",
        "s = \"Prathameshdeshmukh\"\n",
        "s1 = s[0:8:2]\n",
        "print(s1)\n",
        "# This wil take a slice in 's' form 0th index to 7th index , by incrementing with +2."
      ],
      "metadata": {
        "colab": {
          "base_uri": "https://localhost:8080/"
        },
        "id": "FdJAfuVZmXye",
        "outputId": "0839d4eb-d887-4cf1-c00e-39049e382db3"
      },
      "execution_count": null,
      "outputs": [
        {
          "output_type": "stream",
          "name": "stdout",
          "text": [
            "Pahm\n"
          ]
        }
      ]
    },
    {
      "cell_type": "code",
      "source": [
        "# ex 3 :\n",
        "s = \"Prathameshdeshmukh\"\n",
        "s1 = s[:8]\n",
        "print(s1)\n",
        "\n",
        "# if we don't specify the starting index , then it will be by-default 0 ."
      ],
      "metadata": {
        "colab": {
          "base_uri": "https://localhost:8080/"
        },
        "id": "3w9iDhJVnKQI",
        "outputId": "7bcca597-79bd-4528-ac4f-d17b537a04c8"
      },
      "execution_count": null,
      "outputs": [
        {
          "output_type": "stream",
          "name": "stdout",
          "text": [
            "Prathame\n"
          ]
        }
      ]
    },
    {
      "cell_type": "code",
      "source": [
        "# ex 4 :\n",
        "s = \"Aurangabad\"\n",
        "s1 = s[5:]\n",
        "print(s1)\n",
        "# If we don't specify the END-INDEX , then it's default value is LENGTH ."
      ],
      "metadata": {
        "colab": {
          "base_uri": "https://localhost:8080/"
        },
        "id": "QrYnETcnn7UX",
        "outputId": "d0b9f1db-762f-4579-ea84-943653e25b7d"
      },
      "execution_count": null,
      "outputs": [
        {
          "output_type": "stream",
          "name": "stdout",
          "text": [
            "gabad\n"
          ]
        }
      ]
    },
    {
      "cell_type": "code",
      "source": [
        "# ex 5 :\n",
        "s = \"Indore is the cleanest city in India\"\n",
        "s1 = s[15::-1]\n",
        "print(s1)\n",
        "# this will print the string in reverse order from 15th to 0th index ."
      ],
      "metadata": {
        "colab": {
          "base_uri": "https://localhost:8080/"
        },
        "id": "QENoEpGFoHzv",
        "outputId": "29387630-d701-414c-c4aa-e1178933b761"
      },
      "execution_count": null,
      "outputs": [
        {
          "output_type": "stream",
          "name": "stdout",
          "text": [
            "lc eht si erodnI\n"
          ]
        }
      ]
    },
    {
      "cell_type": "code",
      "source": [
        "# ex 6 :\n",
        "s = \"Indore is the cleanest city in India\"\n",
        "s1 = s[:11:-1]\n",
        "print(s1)\n",
        "# if we specify STEP  as -1 , then automatically the default value of START-INDEX becomes LENGTH and default value of END-INDEX becomes 0."
      ],
      "metadata": {
        "colab": {
          "base_uri": "https://localhost:8080/"
        },
        "id": "ycaiR55ipsLX",
        "outputId": "58f66a86-5aa2-49d8-ac4d-f4af98d5dfc0"
      },
      "execution_count": null,
      "outputs": [
        {
          "output_type": "stream",
          "name": "stdout",
          "text": [
            "aidnI ni ytic tsenaelc e\n"
          ]
        }
      ]
    },
    {
      "cell_type": "code",
      "source": [
        "# ex 7 :\n",
        "s = \"Indore is the cleanest city in India\"\n",
        "s1 = s[::-1]\n",
        "print(s1)\n",
        "# When the step is -ve , then\n",
        "# - default start --> LENGTH ( last letter )\n",
        "# - default end --> 0 ( First letter )\n"
      ],
      "metadata": {
        "colab": {
          "base_uri": "https://localhost:8080/"
        },
        "id": "8TuW8-J-thRs",
        "outputId": "5f212227-a1b2-45a9-fd7a-842d77200f54"
      },
      "execution_count": null,
      "outputs": [
        {
          "output_type": "stream",
          "name": "stdout",
          "text": [
            "aidnI ni ytic tsenaelc eht si erodnI\n"
          ]
        }
      ]
    },
    {
      "cell_type": "code",
      "source": [
        "# ex 8 :\n",
        "s = \"Indore is the cleanest city in India\"\n",
        "s1 = s[::]\n",
        "print(s1)\n",
        "# when the step is not mentioned . It is by default +1 .\n",
        "# when the step is +ve then :\n",
        "# - start--> 0th index ( first letter )\n",
        "# - end --> LENGTH ( last letter )\n"
      ],
      "metadata": {
        "colab": {
          "base_uri": "https://localhost:8080/"
        },
        "id": "jrDg7kWMuO7Q",
        "outputId": "e9636869-b7d9-46ca-8b29-49f3b427c1dd"
      },
      "execution_count": null,
      "outputs": [
        {
          "output_type": "stream",
          "name": "stdout",
          "text": [
            "Indore is the cleanest city in India\n"
          ]
        }
      ]
    },
    {
      "cell_type": "code",
      "source": [
        "\"\"\"\n",
        "This slicing will work only for :\n",
        "  - list\n",
        "  - tuple\n",
        "  - string\n",
        "\n",
        "* will not work for:\n",
        "  - set\n",
        "  - dict\n",
        "  [ Because these don't have pre-defined indexing]\n",
        "\n",
        "\"\"\""
      ],
      "metadata": {
        "id": "maP_8LeMvBH0"
      },
      "execution_count": null,
      "outputs": []
    },
    {
      "cell_type": "code",
      "source": [
        "# packages and modules :\n",
        "\n",
        "\"\"\"\n",
        "In Python, a module is a file that contains Python code. A package is a directory that contains one or more modules. Packages can also contain subpackages.\n",
        "Modules are a way to organize your code and make it reusable. They can also be used to hide implementation details from other parts of your program.\n",
        "Packages are a way to organize your code into larger units. They can also be used to avoid name collisions between modules with the same name.\n",
        "\"\"\"\n",
        "\n",
        "import math as mt\n",
        "\n",
        "print(mt.sqrt(50)) # --> returns the square root of the number.\n",
        "print(mt.pow(10,2)) # --> returns the pow of the number .\n",
        "\n",
        "# The dir() function returns all properties and methods of the specified object, without the values.\n",
        "#This function will return all the properties and methods, even built-in properties which are default for all object.\n",
        "\n",
        "print(dir(mt))\n"
      ],
      "metadata": {
        "colab": {
          "base_uri": "https://localhost:8080/"
        },
        "id": "fWqbPe4TN-qq",
        "outputId": "3e552cea-30be-4ecf-acfa-380bbf8a6e70"
      },
      "execution_count": null,
      "outputs": [
        {
          "output_type": "stream",
          "name": "stdout",
          "text": [
            "7.0710678118654755\n",
            "100.0\n",
            "['__doc__', '__loader__', '__name__', '__package__', '__spec__', 'acos', 'acosh', 'asin', 'asinh', 'atan', 'atan2', 'atanh', 'ceil', 'comb', 'copysign', 'cos', 'cosh', 'degrees', 'dist', 'e', 'erf', 'erfc', 'exp', 'expm1', 'fabs', 'factorial', 'floor', 'fmod', 'frexp', 'fsum', 'gamma', 'gcd', 'hypot', 'inf', 'isclose', 'isfinite', 'isinf', 'isnan', 'isqrt', 'lcm', 'ldexp', 'lgamma', 'log', 'log10', 'log1p', 'log2', 'modf', 'nan', 'nextafter', 'perm', 'pi', 'pow', 'prod', 'radians', 'remainder', 'sin', 'sinh', 'sqrt', 'tan', 'tanh', 'tau', 'trunc', 'ulp']\n"
          ]
        }
      ]
    },
    {
      "cell_type": "code",
      "source": [
        "# we can aslo import the functions present in the packages .\n",
        "\n",
        "from math import pi,sqrt,log2\n",
        "\n",
        "print(\"The value of pi is : \",pi)\n",
        "print(\"The sqrt of the value provided is : \",sqrt(20))\n",
        "print(\"The logarithmic value is : \",log2(8))\n",
        "\n",
        "# The math.log2() function is used to calculate the logarithm of a number with a base of 2.\n",
        "#In other words, it tells you how many times you have to divide a number by 2 to get to 1.\n",
        "\n",
        "\n",
        "# The math.ceil() function in Python returns the smallest integer greater than or equal to the number.\n",
        "# For example, the ceil() of 3.6 would be 4, because 4 is the smallest integer greater than 3.6.\n",
        "# ex :\n",
        "\n",
        "print(mt.ceil(3.6)) # --> I have imported the math as mt in above program that's why i have used the mt in this case .\n",
        "\n",
        "\n",
        "# The math.floor() function in Python rounds a number down to the nearest integer.\n",
        "#For example, math.floor(3.14) will return 3.\n",
        "\n",
        "print(\"The floor value 3.14 is : \",mt.floor(3.14))\n",
        "\n",
        "# The math.copysign() function in Python takes two parameters and returns the first parameter's magnitude with the second parameter's sign.\n",
        "# Here's an example of how to use it:\n",
        "\n",
        "# Example 1\n",
        "print(mt.copysign(10, -2))  # Output: -10.0\n",
        "print(mt.copysign(-10, 2))  # Output: 10.0\n",
        "\n",
        "# Example 2\n",
        "print(mt.copysign(mt.pi, -1))  # Output: -3.141592653589793\n",
        "print(mt.copysign(mt.pi, 1))  # Output: 3.141592653589793\n",
        "\n",
        "\n",
        "# The math. fabs() method returns the absolute value of a number, as a float.\n",
        "# Absolute denotes a non-negative number. This removes the negative sign of the value if it has any.\n",
        "\n",
        "print(mt.fabs(5))  # 5.0\n",
        "print(mt.fabs(-5))  # 5.0"
      ],
      "metadata": {
        "colab": {
          "base_uri": "https://localhost:8080/"
        },
        "id": "h7trjmM7QHvw",
        "outputId": "c9906575-e544-401c-ac19-753fc21a969e"
      },
      "execution_count": null,
      "outputs": [
        {
          "output_type": "stream",
          "name": "stdout",
          "text": [
            "The value of pi is :  3.141592653589793\n",
            "The sqrt of the value provided is :  4.47213595499958\n",
            "The logarithmic value is :  3.0\n",
            "4\n",
            "The floor value 3.14 is :  3\n",
            "-10.0\n",
            "10.0\n",
            "-3.141592653589793\n",
            "3.141592653589793\n",
            "5.0\n",
            "5.0\n"
          ]
        }
      ]
    },
    {
      "cell_type": "code",
      "source": [
        "# Python has a built-in os module with methods for interacting with the operating system, like creating files and directories,\n",
        "# management of files and directories, input, output, environment variables, process management, etc.\n",
        "# Their are lot's of methods in os module but i'll practice some of the important methods .\n",
        "\n",
        "import os\n",
        "\n",
        "print(os.getcwd()) # --> it will show us the current working directory .\n",
        "# when we'll run this on jupyter notebook, it will show the path like :\n",
        "# 'C:\\\\Users\\\\home\\\\Desktop\\\\jupyter\\\\AIML Internship\\\\Instructor files'\n",
        "\n",
        "\n",
        "# os.chdir() :\n",
        "#            it will change the current working directory .\n",
        "\n",
        "\n",
        "# os.listdir() method in python is used to get the list of all files and directories in the specified directory.\n",
        "#If we don’t specify any directory, then list of files and directories in the current working directory will be returned.\n",
        "\n",
        "#os.mkdir(\"Test_folder\") # os.mkdir() method in Python is used to create a directory named path with the specified numeric mode.\n",
        "# This method raise FileExistsError if the directory to be created already exists.\n",
        "\n",
        "os.listdir()\n",
        "\n",
        "#os.rmdir() method in Python is used to remove or delete a empty directory.\n",
        "#OSError will be raised if the specified path is not an empty directory.\n",
        "\n",
        "#os.rmdir('Test_folder') --> the command is firstly processed . that's why it is commented .\n",
        "\n",
        "\n",
        "dir(os)\n",
        "# The os.name finds the name of the operating system dependent module.\n",
        "#Registered names are posix, nt, java.\n",
        "\n",
        "os.name\n",
        "\n",
        "#os.environ in Python is a mapping object that represents the user’s environmental variables.\n",
        "# It returns a dictionary having user’s environmental variable as key and their values as value.\n",
        "# os.environ behaves like a python dictionary, so all the common dictionary operations like get and set can be performed.\n",
        "# We can also modify os.environ but any changes will be effective only for the current process where it was assigned and it will not change the value permanently.\n",
        "os.environ\n",
        "\n",
        "\n",
        " # os.getlogin():\n",
        "  # --> os.getlogin() method in Python is used to get the name of the user logged in on the controlling terminal of the process.\n",
        "\n",
        "\n",
        "\n",
        "#The os.getppid() function in Python returns the parent process ID (PID) of the current process. The PID is a unique identifier for a process. It is assigned to a process when it is created.\n",
        "#The parent process is the process that created the current process.\n",
        "os.getppid()\n",
        "\n"
      ],
      "metadata": {
        "colab": {
          "base_uri": "https://localhost:8080/"
        },
        "id": "t0fqjgLcSm5r",
        "outputId": "48e1be5f-48fb-4777-9631-022005c9e5a3"
      },
      "execution_count": null,
      "outputs": [
        {
          "output_type": "stream",
          "name": "stdout",
          "text": [
            "/content\n"
          ]
        },
        {
          "output_type": "execute_result",
          "data": {
            "text/plain": [
              "81"
            ]
          },
          "metadata": {},
          "execution_count": 34
        }
      ]
    },
    {
      "cell_type": "code",
      "source": [
        "# import sys\n",
        "\n",
        "import sys\n",
        "print(sys.version)\n",
        "\n",
        "\n",
        "# Command line arguments are those values that are passed during calling of program along with the calling statement.\n",
        "# Thus, the first element of the array sys.argv() is the name of the program itself. sys.argv() is an array for command line arguments in Python.\n",
        "#To employ this module named “sys” is used. sys.argv is similar to an array and the values are also retrieved like Python array.\n",
        "sys.argv\n",
        "\n",
        "\n",
        "\n",
        "#The sys.exit() function in Python is used to exit the Python interpreter.\n",
        "#It raises a SystemExit exception, which, if not caught, causes the Python interpreter to quit.\n",
        "# It's commonly used to manage the termination of Python programs, especially in multi-process applications.\n",
        "#The sys.exit() function takes an optional argument, which is the exit status code.\n",
        "#The exit status code is an integer that indicates the reason for termination.\n",
        "#A code of 0 usually means that the program executed successfully, while a non-zero value indicates some sort of error or failure.\n",
        "# ---- sys.exit----\n",
        "\n",
        "\n",
        "# sys.winver :\n",
        "\"\"\"\n",
        "    The sys.winver function in Python returns the version number used to form registry keys on Windows platforms.\n",
        "    This is stored as string resource 1000 in the Python DLL.\n",
        "    The value is a string in the format major.minor.patch, where major is the major version number,\n",
        "    minor is the minor version number, and patch is the patch level.\n",
        "    For example, sys.winver would return 6.0.6001 for Windows 7.\n",
        "\"\"\"\n",
        "\n",
        "\n",
        "#The sys.flags attribute provides information about the startup flags with which Python was invoked.\n",
        "#It returns a named tuple with boolean values indicating the state of different flags.\n",
        "sys.flags\n",
        "\n",
        "\n",
        "\n",
        "#The sys.prefix variable in Python is a string that gives the absolute path to the prefix directory of the Python installation.\n",
        "# This directory usually includes bin and lib directories for executables and installed modules, respectively.\n",
        "#The sys.prefix variable is set when the Python interpreter is started, and it cannot be changed by the program.\n",
        "# However, the program can access the value of sys.prefix to determine where to find installed modules and other resources.\n",
        "sys.prefix\n",
        "\n",
        "dir(sys)\n"
      ],
      "metadata": {
        "colab": {
          "base_uri": "https://localhost:8080/"
        },
        "id": "J8u4Y19Xtikr",
        "outputId": "77d886c2-775b-4f9b-cf96-342f3d4b18e7"
      },
      "execution_count": null,
      "outputs": [
        {
          "output_type": "stream",
          "name": "stdout",
          "text": [
            "3.10.12 (main, Nov 20 2023, 15:14:05) [GCC 11.4.0]\n"
          ]
        },
        {
          "output_type": "execute_result",
          "data": {
            "text/plain": [
              "['__breakpointhook__',\n",
              " '__displayhook__',\n",
              " '__doc__',\n",
              " '__excepthook__',\n",
              " '__interactivehook__',\n",
              " '__loader__',\n",
              " '__name__',\n",
              " '__package__',\n",
              " '__spec__',\n",
              " '__stderr__',\n",
              " '__stdin__',\n",
              " '__stdout__',\n",
              " '__unraisablehook__',\n",
              " '_base_executable',\n",
              " '_clear_type_cache',\n",
              " '_current_exceptions',\n",
              " '_current_frames',\n",
              " '_deactivate_opcache',\n",
              " '_debugmallocstats',\n",
              " '_framework',\n",
              " '_getframe',\n",
              " '_git',\n",
              " '_home',\n",
              " '_xoptions',\n",
              " 'abiflags',\n",
              " 'addaudithook',\n",
              " 'api_version',\n",
              " 'argv',\n",
              " 'audit',\n",
              " 'base_exec_prefix',\n",
              " 'base_prefix',\n",
              " 'breakpointhook',\n",
              " 'builtin_module_names',\n",
              " 'byteorder',\n",
              " 'call_tracing',\n",
              " 'copyright',\n",
              " 'displayhook',\n",
              " 'dont_write_bytecode',\n",
              " 'exc_info',\n",
              " 'excepthook',\n",
              " 'exec_prefix',\n",
              " 'executable',\n",
              " 'exit',\n",
              " 'flags',\n",
              " 'float_info',\n",
              " 'float_repr_style',\n",
              " 'get_asyncgen_hooks',\n",
              " 'get_coroutine_origin_tracking_depth',\n",
              " 'get_int_max_str_digits',\n",
              " 'getallocatedblocks',\n",
              " 'getdefaultencoding',\n",
              " 'getdlopenflags',\n",
              " 'getfilesystemencodeerrors',\n",
              " 'getfilesystemencoding',\n",
              " 'getprofile',\n",
              " 'getrecursionlimit',\n",
              " 'getrefcount',\n",
              " 'getsizeof',\n",
              " 'getswitchinterval',\n",
              " 'gettrace',\n",
              " 'hash_info',\n",
              " 'hexversion',\n",
              " 'implementation',\n",
              " 'int_info',\n",
              " 'intern',\n",
              " 'is_finalizing',\n",
              " 'last_traceback',\n",
              " 'last_type',\n",
              " 'last_value',\n",
              " 'maxsize',\n",
              " 'maxunicode',\n",
              " 'meta_path',\n",
              " 'modules',\n",
              " 'orig_argv',\n",
              " 'path',\n",
              " 'path_hooks',\n",
              " 'path_importer_cache',\n",
              " 'platform',\n",
              " 'platlibdir',\n",
              " 'prefix',\n",
              " 'ps1',\n",
              " 'ps2',\n",
              " 'ps3',\n",
              " 'pycache_prefix',\n",
              " 'set_asyncgen_hooks',\n",
              " 'set_coroutine_origin_tracking_depth',\n",
              " 'set_int_max_str_digits',\n",
              " 'setdlopenflags',\n",
              " 'setprofile',\n",
              " 'setrecursionlimit',\n",
              " 'setswitchinterval',\n",
              " 'settrace',\n",
              " 'stderr',\n",
              " 'stdin',\n",
              " 'stdlib_module_names',\n",
              " 'stdout',\n",
              " 'thread_info',\n",
              " 'unraisablehook',\n",
              " 'version',\n",
              " 'version_info',\n",
              " 'warnoptions']"
            ]
          },
          "metadata": {},
          "execution_count": 41
        }
      ]
    },
    {
      "cell_type": "code",
      "source": [
        "# datetime\n",
        "\n",
        "from datetime import datetime,date,time\n",
        "\n",
        "\"\"\"\n",
        "The DateTime module is categorized into 6 main classes –\n",
        "\n",
        "date – An idealized naive date, assuming the current Gregorian calendar always was, and always will be, in effect. Its attributes are year, month, and day.\n",
        "time – An idealized time, independent of any particular day, assuming that every day has exactly 24*60*60 seconds. Its attributes are hour, minute, second, microsecond, and tzinfo.\n",
        "date-time – It is a combination of date and time along with the attributes year, month, day, hour, minute, second, microsecond, and tzinfo.\n",
        "timedelta – A duration expressing the difference between two date, time, or datetime instances to microsecond resolution.\n",
        "tzinfo – It provides time zone information objects.\n",
        "timezone – A class that implements the tzinfo abstract base class as a fixed offset from the UTC (New in version 3.2).\n",
        "\n",
        "\"\"\"\n",
        "\n",
        "curr = datetime.today()\n",
        "\n",
        "print(datetime.now())\n",
        "\n",
        "print(curr.year)\n",
        "\n",
        "print(curr.month)\n",
        "\n",
        "print(curr.day)\n",
        "\n",
        "datetime(1999,1,19)\n",
        "\n",
        "curr - datetime(1999,1,19)\n",
        "\n",
        "\n"
      ],
      "metadata": {
        "colab": {
          "base_uri": "https://localhost:8080/"
        },
        "id": "NSbthlZA4TDz",
        "outputId": "ff66ad9c-2ba8-4616-e9f7-d290c7f6db50"
      },
      "execution_count": null,
      "outputs": [
        {
          "output_type": "stream",
          "name": "stdout",
          "text": [
            "2024-01-08 12:05:44.886091\n",
            "2024\n",
            "1\n",
            "8\n"
          ]
        },
        {
          "output_type": "execute_result",
          "data": {
            "text/plain": [
              "datetime.timedelta(days=9120, seconds=43544, microseconds=886053)"
            ]
          },
          "metadata": {},
          "execution_count": 61
        }
      ]
    },
    {
      "cell_type": "code",
      "source": [
        "import datetime\n",
        "\n",
        "print(datetime.MAXYEAR)\n",
        "print(datetime.MINYEAR)\n",
        "dir(datetime)"
      ],
      "metadata": {
        "colab": {
          "base_uri": "https://localhost:8080/"
        },
        "id": "O7w-9zB69iXN",
        "outputId": "131c3d56-8b95-4a75-f88f-678f6d5709e4"
      },
      "execution_count": null,
      "outputs": [
        {
          "output_type": "stream",
          "name": "stdout",
          "text": [
            "9999\n",
            "1\n"
          ]
        },
        {
          "output_type": "execute_result",
          "data": {
            "text/plain": [
              "['MAXYEAR',\n",
              " 'MINYEAR',\n",
              " '__all__',\n",
              " '__builtins__',\n",
              " '__cached__',\n",
              " '__doc__',\n",
              " '__file__',\n",
              " '__loader__',\n",
              " '__name__',\n",
              " '__package__',\n",
              " '__spec__',\n",
              " 'date',\n",
              " 'datetime',\n",
              " 'datetime_CAPI',\n",
              " 'sys',\n",
              " 'time',\n",
              " 'timedelta',\n",
              " 'timezone',\n",
              " 'tzinfo']"
            ]
          },
          "metadata": {},
          "execution_count": 63
        }
      ]
    },
    {
      "cell_type": "code",
      "source": [
        "# ------ File handling basics --------------\n",
        "\"\"\"\n",
        "This is the 3rd file of python_practice of Data Science and Machine Learning program .\n",
        "- We will going to learn file handling in this file .\n",
        "\n",
        "Step 1 : Open file in required mode .\n",
        "step 2 : perform operations.\n",
        "step 3 : close that file .\n",
        "\n",
        "- There are two types of files :\n",
        "        - Plain text file : no text formatting\n",
        "        - Rich text file : allows text formatting\n",
        "\n",
        "- To open a file  ,we have open() function .\n",
        "- This function requires two parameters :\n",
        "            - file name with extension .\n",
        "            - file opening mode (default 'r' mode ).\n",
        "\n",
        "- This function returns an object which we can use to work with that file .\n",
        " # For ex :\n",
        "    ob = open(\"testfile.txt\",\"w\")\n",
        "    print(type(ob))\n",
        "\n",
        "- This object 'ob' is totally responsible to do any operations on 'testfile.txt' .\n",
        "\n",
        "# For ex :\n",
        "    ob1 = open(\"testfile1.txt\",\"w\")\n",
        "    ob2 = open(\"file2.txt\",\"w\")\n",
        "\n",
        "- To do any operation on 'testfile1.txt' we have to use 'ob1'\n",
        "- To do any operation on 'file2.txt' we have to use ob2 .\n",
        "\n",
        "\n",
        "*** File opening modes:\n",
        "1 . 'r' --> read mode\n",
        "- if we open a file in read mode , then we can only perform read operations from it .\n",
        "- if we open a file in read mode , then that file must exist .\n",
        "- if that file is not present then shows error .\n",
        "\n",
        "2. 'w' --> write mode - if we open a file in write mode , then we can only perform write operation in it. - if we\n",
        "open a file in write mode and that file does not exists , then automatically creates new blank file with that name.\n",
        "- if we open a file in write mode and that file already exists then it gets truncated . (old data gets deleted)\n",
        "\n",
        "3. 'a' --> append mode - if we open a file in append mode , then we can only perform write operation . - if we open a\n",
        "file in append mode, and that file does not exists , then automatically creates new blank file with that name. - if\n",
        "we open a file in append mode , and that file already exists then simply that file gets opened to write . old data\n",
        "remains .\n",
        "\n",
        "4. 'r+' --> opens the file for both reading and writing .\n",
        "\n",
        "5. 'a+' --> opens the file for both appending and reading .\n",
        "\n",
        "# \"+\" is string-concatenation operator  . if you don't convert each element to a string before writing it to the file,\n",
        "you may encounter a TypeError because the write method expects a string as an argument. In your case, the elements in\n",
        "the list ls are integers, so you need to convert them to strings using str().\n",
        "\n",
        "\"\"\"\n",
        "\n",
        "\n",
        "# Ex 1 :\n",
        "ls = [1,2,3,4,5,6,7,8,9,10]\n",
        "ob = open(\"testfile1.txt\",\"w\")\n",
        "for ele in ls:\n",
        "    ob.write(str(ele) + \"\\n\")\n",
        "ob.close()\n",
        "\n",
        "\n",
        "\n",
        "# the random() function is covered in previous file .\n",
        "\n",
        "\n",
        "\n",
        "\n"
      ],
      "metadata": {
        "id": "3QfWr6P49tcl"
      },
      "execution_count": null,
      "outputs": []
    },
    {
      "cell_type": "code",
      "source": [
        "# ex 2 :\n",
        "# we can also give the whole path of the file to the open function. and if the file is not present then it creates a\n",
        "# new file automatically . In the output we'll see the print statement is in upper case , because in the nextfile\n",
        "# which is example2.py we have taken this testfile2.txt  which will convert the file's data to upper case .\n",
        "\n",
        "ls = [1,2,3,4,5,6,7,8,9,10]\n",
        "ob = open(\"C:/Users/Home/PycharmProjects/python_practice3/testfile2.txt\",\"w\")\n",
        "for ele in ls:\n",
        "    ob.write(\"value of ele is : \" + str(ele) + \"\\n\" )\n",
        "ob.close()"
      ],
      "metadata": {
        "id": "zEUPNkwJ1qoh"
      },
      "execution_count": null,
      "outputs": []
    },
    {
      "cell_type": "code",
      "source": [
        "\"\"\"\n",
        "- firstly we wil open a file in read mode , then read the data and put the readed data to another file .\n",
        "- Then we apply the upper() method to convert the readable data to uppercase and store it in another variable / object .\n",
        "- Then we close that file .\n",
        "- Then we open the same file in write mode , and pass the  'ndata' variable to the write function and close that file .\n",
        "\"\"\"\n",
        "ob = open(\"C:/Users/Home/PycharmProjects/python_practice3/testfile2.txt\",\"r\")\n",
        "fdata = ob.read()\n",
        "ndata = fdata.upper()\n",
        "ob.close()\n",
        "ob2 = open(\"C:/Users/Home/PycharmProjects/python_practice3/testfile2.txt\",\"w\")\n",
        "ob2.write(ndata)\n",
        "ob2.close()"
      ],
      "metadata": {
        "id": "bJ7U5WFh2XNZ"
      },
      "execution_count": null,
      "outputs": []
    },
    {
      "cell_type": "code",
      "source": [
        "\"\"\"\n",
        "* Remember :\n",
        "- Use of \"\\n\" , \"\\t\" , \"\\b\" ... are valid in file handling .\n",
        "\n",
        "-In Python, \\n, \\t, and \\b are escape sequences that represent special characters in strings. When used in file\n",
        "handling or any string manipulation, they have specific meanings:\n",
        "\n",
        "1  . \\n: Represents a newline character. When used in a string, it creates a new line, causing the text that follows\n",
        "it to start on a new line.\n",
        "\n",
        "Example 1:\n",
        "        with open(\"example.txt\", \"w\") as file:\n",
        "         file.write(\"Line 1\\nLine 2\\nLine 3\")\n",
        "\n",
        "Output :\n",
        "        Line 1\n",
        "        Line 2\n",
        "        Line 3\n",
        "\n",
        "\n",
        "2  . \\t: Represents a tab character. When used in a string, it inserts a horizontal tab.\n",
        "\n",
        "Example 2:\n",
        "            with open(\"example.txt\", \"w\") as file:\n",
        "            file.write(\"Name\\tAge\\tCity\")\n",
        "\n",
        "Output:\n",
        "            Name    Age    City\n",
        "\n",
        "3 . \\b: Represents a backspace character. When used in a string, it moves the cursor back one position.\n",
        "\n",
        "Example:\n",
        "            with open(\"example.txt\", \"w\") as file:\n",
        "            file.write(\"Hello\\bWorld\")\n",
        "\n",
        "Output :\n",
        "            HellWorld\n",
        "\n",
        "\"\"\"\n",
        "\n",
        "a = 15\n",
        "ob = open(\"testfile3.txt\",\"w\")\n",
        "\n",
        "ob.write(\"Hello all.. \\n\")\n",
        "ob.write(\"Hi all..\\n\")\n",
        "ob.write(\"value of a is \" + str(a) + \"\\n\")\n",
        "ob.write(\"Good day..\\n\")\n",
        "\n",
        "ob.close()\n",
        "print(\"Data is written into file...\")\n",
        "\n"
      ],
      "metadata": {
        "colab": {
          "base_uri": "https://localhost:8080/"
        },
        "id": "iAJYKPFS2yid",
        "outputId": "a4fbcf57-1cdf-4d36-e44e-53fcc581f25e"
      },
      "execution_count": null,
      "outputs": [
        {
          "output_type": "stream",
          "name": "stdout",
          "text": [
            "Data is written into file...\n"
          ]
        }
      ]
    },
    {
      "cell_type": "code",
      "source": [
        "\"\"\"\n",
        "- Write a program to accept details of 5 students from the user and write those details into file with a proper\n",
        "message .\n",
        "\n",
        "- Step 1 : Open file in 'w' or 'a' mode .\n",
        "- step 2 : prepare while loop for 5 iterations and accept details of students in it .\n",
        "- step 3 : after accepting details , write those values into file with proper message .\n",
        "- step 4 : close the file when loop stops .\n",
        "\n",
        "\"\"\"\n",
        "\n",
        "ob = open(\"testfile4.txt\",\"w\")\n",
        "i = 1\n",
        "while i <= 5 :\n",
        "    roll = input(\"Enter Roll number : \")\n",
        "    name = input(\"Enter name : \")\n",
        "    avg = input(\"Enter average : \")\n",
        "    ob.write(\"Roll number is : \" + roll + \"\\n\")\n",
        "    ob.write(\"Name is : \" + name + \"\\n\")\n",
        "    ob.write(\"Average is : \" + avg + \"\\n\" + \"\\n\")\n",
        "    i = i + 1\n",
        "ob.close()\n"
      ],
      "metadata": {
        "colab": {
          "base_uri": "https://localhost:8080/"
        },
        "id": "E1COHijO3bk6",
        "outputId": "caf60817-9057-4ee1-a396-340aac7b781f"
      },
      "execution_count": null,
      "outputs": [
        {
          "name": "stdout",
          "output_type": "stream",
          "text": [
            "Enter Roll number : 71\n",
            "Enter name : Neha\n",
            "Enter average : 80.00\n",
            "Enter Roll number : 72\n",
            "Enter name : Shrutika\n",
            "Enter average : 80.00\n",
            "Enter Roll number : 73\n",
            "Enter name : Dhiraj\n",
            "Enter average : 80.00\n",
            "Enter Roll number : 74\n",
            "Enter name : Raj\n",
            "Enter average : 88.00\n",
            "Enter Roll number : 75\n",
            "Enter name : 90.00\n",
            "Enter average : 90.00\n"
          ]
        }
      ]
    },
    {
      "cell_type": "code",
      "source": [
        "\"\"\"\n",
        "Write a program to accept 5 different numbers from the user and calculate their square and cube . Write this data\n",
        "in file with proper message .\n",
        "\n",
        "\"\"\"\n",
        "ob = open(\"testfile5.txt\",\"w\")\n",
        "i = 1\n",
        "while i <=5 :\n",
        "    num = int(input(\"Enter a number\"))\n",
        "    s = num * num\n",
        "    c = num * num * num\n",
        "\n",
        "    ob.write(\"Number is :\" + str(num) + \"\\n\")\n",
        "    ob.write(\"Square is :\" + str(s) + \"\\n\")\n",
        "    ob.write(\"cube is : \" + str(c) + \"\\n\" + \"\\n\")\n",
        "    i = i + 1\n",
        "ob.close()\n"
      ],
      "metadata": {
        "colab": {
          "base_uri": "https://localhost:8080/"
        },
        "id": "EMLVvovW4hEW",
        "outputId": "47c6195d-c260-49d8-f5e6-97f54d999ad9"
      },
      "execution_count": null,
      "outputs": [
        {
          "name": "stdout",
          "output_type": "stream",
          "text": [
            "Enter a number50\n",
            "Enter a number20\n",
            "Enter a number10\n",
            "Enter a number30\n",
            "Enter a number40\n"
          ]
        }
      ]
    },
    {
      "cell_type": "code",
      "source": [
        "\n",
        "# Same example5.py but with different output .\n",
        "\n",
        "ob = open(\"testfile6.txt\",\"w\")\n",
        "i = 1\n",
        "while i <=5 :\n",
        "    num = int(input(\"Enter a number\"))\n",
        "    s = num * num\n",
        "    c = num ** 3\n",
        "\n",
        "    ob.write(\"The number is : \" + str(num)  +\" , \" + \"The square is :\" + str(s) + \" , \" + \"The cube is : \" + str(c) + \"\\n\")\n",
        "    i = i + 1\n",
        "ob.close()\n"
      ],
      "metadata": {
        "colab": {
          "base_uri": "https://localhost:8080/"
        },
        "id": "YBzr7jRM4tZr",
        "outputId": "b63cb6ca-cbb8-4c34-8508-beb5d1f88a94"
      },
      "execution_count": null,
      "outputs": [
        {
          "name": "stdout",
          "output_type": "stream",
          "text": [
            "Enter a number30\n",
            "Enter a number20\n",
            "Enter a number10\n",
            "Enter a number40\n",
            "Enter a number50\n"
          ]
        }
      ]
    },
    {
      "cell_type": "code",
      "source": [
        "\"\"\"\n",
        "We can also ask User to give the name to the file . ( with extension )\n",
        "\"\"\"\n",
        "\n",
        "print(\"Enter the file name , you want to create ( with extension ):\")\n",
        "fname = input()\n",
        "ob = open(fname,\"w\")\n",
        "\n",
        "print(\"File created ..\")\n",
        "print(\"Start writing into file..\")\n",
        "data = input()\n",
        "\n",
        "ob.write(data)\n",
        "ob.close()\n",
        "\n",
        "print(\"Data written successfully..\")"
      ],
      "metadata": {
        "colab": {
          "base_uri": "https://localhost:8080/"
        },
        "id": "SGr4SWCf47TE",
        "outputId": "02d894c8-29ad-4f47-ec69-e978e12fe670"
      },
      "execution_count": null,
      "outputs": [
        {
          "output_type": "stream",
          "name": "stdout",
          "text": [
            "Enter the file name , you want to create ( with extension ):\n",
            "testfile7.txt\n",
            "File created ..\n",
            "Start writing into file..\n",
            "Heyy ! This file is generated through user's convinience . \n",
            "Data written successfully..\n"
          ]
        }
      ]
    },
    {
      "cell_type": "code",
      "source": [
        "\"\"\"\n",
        "-----   Read - Write functions in file handling -------\n",
        "\n",
        "* functions related to write operation :\n",
        "1 . Write() :\n",
        "* This function writes specified string into related file through invoking object .\n",
        "* This function strictly requires string parameter .\n",
        "* If we are writing any variable , then we must convert it into string .\n",
        "\n",
        "2 . writelines() :\n",
        "* This function writes the element of specified sequence / iterable directly into file .\n",
        "* Strictly the parameter of this function must be a sequence / iterable .\n",
        "\n",
        "\"\"\"\n",
        "# ex : of write function , and in the next file we'll do example of writelines() function .\n",
        "a = 15\n",
        "ob = open(\"testfile8.txt\",\"w\")\n",
        "ob.write(\"Hello World..\")\n",
        "ob.write(\"Hi all ..\")\n",
        "ob.write(\"Value of a : \" + str(a) + \"\\n\")\n",
        "ob.write(\"Good day ..\")\n",
        "ob.close()\n",
        "print(\"Data Written into file ..\")"
      ],
      "metadata": {
        "colab": {
          "base_uri": "https://localhost:8080/"
        },
        "id": "D6i_l0TA5UO8",
        "outputId": "09136f58-214b-4d49-c96d-93c5513a309e"
      },
      "execution_count": null,
      "outputs": [
        {
          "output_type": "stream",
          "name": "stdout",
          "text": [
            "Data Written into file ..\n"
          ]
        }
      ]
    },
    {
      "cell_type": "code",
      "source": [
        "# This is the example of writelines() function .\n",
        "# This function writes the elements of specified sequence / iterable directly into file .\n",
        "# Strictly the parameter of this function must be a sequence / iterable .\n",
        "# for ex :\n",
        "ob = open(\"testfile9.txt\",\"w\")\n",
        "ls = [\"Hello-1\\n\",\"Hello-2\\n\",\"Hello-3\\n\",\"Hello-4\\n\"]\n",
        "ob.writelines(ls)\n",
        "ob.close()"
      ],
      "metadata": {
        "id": "KJEpp9jm5Zsn"
      },
      "execution_count": null,
      "outputs": []
    },
    {
      "cell_type": "code",
      "source": [
        "\"\"\"\n",
        "* Functions related to read operations:\n",
        "1 . read() :\n",
        "- This function reads and returns entire data of file as single string value .\n",
        "\n",
        "2 . readline() :\n",
        "- This function reads single line (where READ cursor is pointing ) and drops the READ cursor to the next line .\n",
        "\n",
        "3 . readlines() :\n",
        "- This function reads and returns file data as list where each line becomes elements of list .\n",
        "\"\"\"\n",
        "# example of read():\n",
        "ob = open(\"testfile7.txt\",\"r\")\n",
        "a = ob.read()\n",
        "print(a)\n",
        "ob.close()\n"
      ],
      "metadata": {
        "colab": {
          "base_uri": "https://localhost:8080/"
        },
        "id": "3HodNqyP5mEL",
        "outputId": "a46a78e1-c82e-41c6-8e9d-39e30e7b4b2d"
      },
      "execution_count": null,
      "outputs": [
        {
          "output_type": "stream",
          "name": "stdout",
          "text": [
            "Heyy ! This file is generated through user's convinience . \n"
          ]
        }
      ]
    },
    {
      "cell_type": "code",
      "source": [
        "# example of Readline() :\n",
        "ob = open(\"testfile7.txt\",\"r\")\n",
        "a = ob.readline()\n",
        "print(a)\n",
        "ob.close()"
      ],
      "metadata": {
        "colab": {
          "base_uri": "https://localhost:8080/"
        },
        "id": "Vpr51i065x1f",
        "outputId": "5bb9a4c4-0863-47f6-9ddf-ce81bfc3c368"
      },
      "execution_count": null,
      "outputs": [
        {
          "output_type": "stream",
          "name": "stdout",
          "text": [
            "Heyy ! This file is generated through user's convinience . \n"
          ]
        }
      ]
    },
    {
      "cell_type": "code",
      "source": [
        "# readlines() :\n",
        "# This function reads and returns file data as list where each line becomes element of list .\n",
        "# for ex :\n",
        "ob = open(\"testfile7.txt\",\"r\")\n",
        "a = ob.readlines()\n",
        "print(a)\n",
        "ob.close()"
      ],
      "metadata": {
        "colab": {
          "base_uri": "https://localhost:8080/"
        },
        "id": "PbxFsdNj55P5",
        "outputId": "94b8a1a1-68fa-4251-b5b5-197bb68502ef"
      },
      "execution_count": null,
      "outputs": [
        {
          "output_type": "stream",
          "name": "stdout",
          "text": [
            "[\"Heyy ! This file is generated through user's convinience . \"]\n"
          ]
        }
      ]
    },
    {
      "cell_type": "code",
      "source": [
        "# slicing is already done above ."
      ],
      "metadata": {
        "id": "w7r2b7W_6Fr4"
      },
      "execution_count": null,
      "outputs": []
    },
    {
      "cell_type": "code",
      "source": [
        "import datetime\n",
        "\n",
        "def add_new_book():\n",
        "  bnum = input(\"Enter Book Number : \")\n",
        "  btitle = input(\"Enter book Title : \")\n",
        "  bauthor = input(\"Enter book Author : \")\n",
        "  bpub = input(\"Enter book Publication :\")\n",
        "\n",
        "  ob = open(\"all_books.txt\",\"a\")\n",
        "  ob.write(bnum + \",\" + btitle + \",\" + bauthor + \",\" + bpub + \"\\n\")\n",
        "  ob.close()\n",
        "  print(\"New book's Data Saved..\")\n",
        "\n",
        "\n",
        "def add_new_student():\n",
        "  senr = input(\"Enter Enrollment Number : \")\n",
        "  sname = input(\"Enter Student Name : \")\n",
        "  semail = input(\"Enter Student Email : \")\n",
        "  smob = input(\"Enter student Mobile :\")\n",
        "  sclass = input(\"Enter student Class : \")\n",
        "\n",
        "  ob = open(\"all_students.txt\",\"a\")\n",
        "  ob.write(senr + \",\" + sname + \",\"  + semail + \",\" + smob + \",\" + sclass + \"\\n\")\n",
        "  ob.close()\n",
        "  print(\"New student data saved...\")\n",
        "\n",
        "\n",
        "def view_book_history():\n",
        "  bnum = input(\"Enter Book Number , Whose history you want to print :\")\n",
        "\n",
        "  ob = open(\"issued_books.txt\",\"r\")\n",
        "  ls = ob.readlines()\n",
        "  ob.close()\n",
        "\n",
        "  for val in ls :\n",
        "    ls2 = val.split(\",\")\n",
        "    if ls2[1] == bnum:\n",
        "      print(ls2[0] + \"\\t\" + ls2[2] + \"\\t\" + ls2[3])\n",
        "\n",
        "\n",
        "\n",
        "def view_student_history():\n",
        "  senr = input(\"Enter Enrollment Number of student, Whose history you want to print : \")\n",
        "\n",
        "  ob = open(\"issued_books.txt\",\"r\")\n",
        "  ls = ob.readlines()\n",
        "  ob.close()\n",
        "\n",
        "  if len(ls) >= 3:\n",
        "    for val in ls :\n",
        "      ls2 = val.split(\",\")\n",
        "      if ls2[0] == senr:\n",
        "        print(ls[1] + \"\\t\" + ls[2] + \"\\t\" + ls[3] )\n",
        "\n",
        "\n",
        "def search_student():\n",
        "  print(\"\\t How you want to search a Student\")\n",
        "  print(\"\\t 1- Search By Student Enrollment Number : \")\n",
        "  print(\"\\t 2- Search By Student Name  :\")\n",
        "  print(\"\\t 3- Search By Student Email : \")\n",
        "  print(\"\\t 4- Search By Stuent Mobile Number : \\n\")\n",
        "\n",
        "  ch = input(\"Enter your Choice ..\")\n",
        "\n",
        "  ob = open(\"all_students.txt\",\"r\")\n",
        "  ls = ob.readlines()\n",
        "  ob.close()\n",
        "\n",
        "  if ch==1 :\n",
        "    enroll = input(\"Enter the Enrollment Number of the Student : \\n\")\n",
        "    for val in ls :\n",
        "      ls2 = val.split(\",\")\n",
        "      if ls2[0] == enroll:\n",
        "        print(\"\\t\" + val[1] + \"\\t\" + val[2] + \"\\t\" + val[3])\n",
        "        break\n",
        "\n",
        "\n",
        "  elif ch ==2:\n",
        "    stud = input(\"Enter the Name of the Student : \\n\")\n",
        "    for val in ls :\n",
        "      ls2 = val.split(\",\")\n",
        "      if ls2[1] == stud:\n",
        "        print(\"\\t\" + val[0] + \"\\t\" + val[2] + \"\\t\" + val[3])\n",
        "\n",
        "  elif ch==3:\n",
        "    semail = input(\"Enter the Email of the Student : \\n\")\n",
        "    for val in ls :\n",
        "      ls2 = val.split(\",\")\n",
        "      if ls2[2] == semail:\n",
        "        print(\"\\t\" + val[0] + \"\\t\" + val[1] + \"\\t\" + val[3])\n",
        "\n",
        "  elif ch==4:\n",
        "    smob = input(\"Enter the Mobile Number of the Student : \\n\")\n",
        "    for val in ls :\n",
        "      ls2 = val.split(\",\")\n",
        "      if ls2[3] == smob:\n",
        "        print(\"\\t\" + val[0] + \"\\t\" + val[1] + \"\\t\" + val[2])\n",
        "\n",
        "\n",
        "\n",
        "def search_book():\n",
        "  print(\"\\t How you want to Search the book : \")\n",
        "  print(\"\\t 1-Search By Book Number : \")\n",
        "  print(\"\\t 2-Search By Book Title : \")\n",
        "  print(\"\\t 3-Search By Book Author : \")\n",
        "  print(\"\\t 4-Search By Book Publication : \\n\")\n",
        "\n",
        "  ch = int(input(\"\\t Provide your choice : \"))\n",
        "\n",
        "  ob = open(\"all_books.txt\",\"r\")\n",
        "  ls = ob.readlines()\n",
        "  ob.close()\n",
        "\n",
        "\n",
        "  if ch==1:\n",
        "    # Search by Book Number\n",
        "    bnum = input(\"\\t Enter Book Number to Search for : \")\n",
        "    for val in ls :\n",
        "      ls2 = val.split(\",\")\n",
        "      if ls2[0] == bnum:\n",
        "        print(\"\\t\" + ls2[1] + \"\\t\" + ls2[2] + \"\\t\" + ls2[3])\n",
        "        break\n",
        "\n",
        "  elif ch==2:\n",
        "    # search by title\n",
        "    btitle = input(\"\\t Enter Book Title to Search For : \")\n",
        "    for val in ls :\n",
        "      ls2 = val.split(\",\")\n",
        "      if ls2[1] == btitle:\n",
        "        print(\"\\t \" + ls2[0] + \"\\t\" , ls2[2] + \"\\t\" + ls2[3])\n",
        "\n",
        "\n",
        "  elif ch==3:\n",
        "    # search by author\n",
        "    bauth = input(\"\\t Enter Book Author Name to Search For : \")\n",
        "    for val in ls :\n",
        "      ls2 = val.split(\",\")\n",
        "      if ls2[2] == bauth:\n",
        "        print(\"\\t \" + ls2[0] + \"\\t\" , ls2[1] + \"\\t\" + ls2[3])\n",
        "\n",
        "\n",
        "  elif ch==4:\n",
        "    # search by Publicaitons\n",
        "    bpub = input(\"\\t Enter Book Publications to Search For : \")\n",
        "    for val in ls :\n",
        "      ls2 = val.split(\",\")\n",
        "      if ls2[3] == bpub + \"\\n\":\n",
        "        print(\"\\t \" + ls2[0] + \"\\t\" , ls2[1] + \"\\t\" + ls2[2])\n",
        "\n",
        "\n",
        "\n",
        "def view_not_returned_books():\n",
        "  ob = open(\"issued_books.txt\",\"r\")\n",
        "  for line in ob :\n",
        "    ls = line.split(\",\")\n",
        "    if ls[3] == \"None\\n\":\n",
        "      print(ls[0] + \"\\t\" + ls[1] + \"\\t\" + ls[2])\n",
        "  ob.close()\n",
        "\n",
        "\n",
        "def issue_book():\n",
        "  idate = str(datetime.date.today())\n",
        "  enr_num = input(\"Enter Student's Enrollment Number : \")\n",
        "  book_num = input(\"Enter Book Number :\")\n",
        "\n",
        "  ob = open(\"issued_books.txt\",\"a\")\n",
        "  ob.write(enr_num + \",\" + book_num + \",\" + idate + \",\" + \"None\" + \"\\n\")\n",
        "  ob.close()\n",
        "  print(\"Book Issued ...\")\n",
        "\n",
        "\n",
        "def return_book():\n",
        "  ob = open(\"issued_books.txt\",\"r\")\n",
        "  ls = ob.readlines()\n",
        "  ob.close()\n",
        "\n",
        "  ret_bk = input(\"Enter Book Number to Return : \")\n",
        "\n",
        "  i = 0\n",
        "  for val in ls :\n",
        "    ls2 = val.split(\",\")\n",
        "    if ls2[1] == ret_bk and ls2[3] == \"None\\n\":\n",
        "      ls2[3] = str(datetime.date.today())\n",
        "      new_str = ls2[0] + \",\" + ls2[1] + \",\" + ls2[2] + \",\" + ls2[3] + \"\\n\"\n",
        "      ls[i] = new_str\n",
        "      print(\"Book Returned...\")\n",
        "      break\n",
        "    i = i + 1\n",
        "\n",
        "    ob = open(\"issued_books.txt\",\"w\")\n",
        "    ob.writelines(ls)\n",
        "    ob.close()\n",
        "\n",
        "\n",
        "# main program starts form here\n",
        "while True:\n",
        "  print()\n",
        "  print(\"Select Operation\")\n",
        "\n",
        "  print(\"1 - Issue Book\")\n",
        "  print(\"2 - Return Book\")\n",
        "  print(\"3 - Search Book\")\n",
        "  print(\"4 - Search Student\")\n",
        "  print(\"5 - View Book History\")\n",
        "  print(\"6 - View Student History\")\n",
        "  print(\"7 - Add New Book\")\n",
        "  print(\"8 - Add New Student\")\n",
        "  print(\"9 - View Not Returned Books\")\n",
        "  print(\"0 - Exit\")\n",
        "\n",
        "  ch = int(input(\"Provide your choice :\"))\n",
        "\n",
        "  if ch==1:\n",
        "    issue_book()\n",
        "  elif ch==2:\n",
        "    return_book()\n",
        "  elif ch==3:\n",
        "    search_book()\n",
        "  elif ch==4:\n",
        "    search_student()\n",
        "  elif ch==5:\n",
        "    view_book_history()\n",
        "  elif ch==6:\n",
        "    view_student_history()\n",
        "  elif ch==7:\n",
        "    add_new_book()\n",
        "  elif ch==8:\n",
        "    add_new_student()\n",
        "  elif ch==9:\n",
        "    view_not_returned_books()\n",
        "  elif ch==0:\n",
        "    break # or \"exit\" will also work here\n"
      ],
      "metadata": {
        "id": "iHsjaxuWzg8a"
      },
      "execution_count": null,
      "outputs": []
    },
    {
      "cell_type": "code",
      "source": [],
      "metadata": {
        "id": "3ORcIzEw0Pms"
      },
      "execution_count": null,
      "outputs": []
    }
  ],
  "metadata": {
    "colab": {
      "provenance": []
    },
    "kernelspec": {
      "display_name": "Python 3",
      "name": "python3"
    },
    "language_info": {
      "name": "python"
    }
  },
  "nbformat": 4,
  "nbformat_minor": 0
}