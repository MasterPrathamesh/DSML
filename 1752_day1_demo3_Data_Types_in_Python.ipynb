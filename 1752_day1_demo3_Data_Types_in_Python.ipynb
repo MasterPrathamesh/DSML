{
  "nbformat": 4,
  "nbformat_minor": 0,
  "metadata": {
    "colab": {
      "provenance": [],
      "collapsed_sections": [
        "VQSZkSVwS_ln",
        "tvoseJU0S_m9",
        "BRBc_CUAydwF",
        "ab7DE9Huydwx",
        "hCwTsUSM7pJH",
        "QC0bduJU7pJ1",
        "Dj8lMPUT7pKB"
      ]
    },
    "kernelspec": {
      "name": "python3",
      "display_name": "Python 3"
    }
  },
  "cells": [
    {
      "cell_type": "markdown",
      "source": [
        "#Python Basics\n",
        "\n",
        "###Demo 3: Data Types in Python"
      ],
      "metadata": {
        "id": "LQwHz2FxM8am"
      }
    },
    {
      "cell_type": "markdown",
      "metadata": {
        "id": "PvsBVW1nxFVE"
      },
      "source": [
        "### Numbers"
      ]
    },
    {
      "cell_type": "markdown",
      "metadata": {
        "id": "hm_-zx5IxQPe"
      },
      "source": [
        "Payal is beginner in Python. She is just sitting outside and studying Python. Let us see how she applies Python here."
      ]
    },
    {
      "cell_type": "code",
      "metadata": {
        "id": "ANoIwf0shGyg",
        "colab": {
          "base_uri": "https://localhost:8080/"
        },
        "outputId": "1a7ecf5c-8d4b-4b77-e4e5-dd148d6aa644"
      },
      "source": [
        "chickens=input('Number of chickens:')\n",
        "eggs=input('Eggs per day:')"
      ],
      "execution_count": null,
      "outputs": [
        {
          "name": "stdout",
          "output_type": "stream",
          "text": [
            "Number of chickens:8\n",
            "Eggs per day:8\n"
          ]
        }
      ]
    },
    {
      "cell_type": "markdown",
      "metadata": {
        "id": "-QHG1TShx1bP"
      },
      "source": [
        "Encountering Errors:"
      ]
    },
    {
      "cell_type": "code",
      "metadata": {
        "id": "NM46Epwdx0nV",
        "colab": {
          "base_uri": "https://localhost:8080/",
          "height": 165
        },
        "outputId": "a6303164-36a3-48a0-ac8d-0221b1b289a9"
      },
      "source": [
        "print('Number of eggs each chicken will lay?',eggs/chickens)"
      ],
      "execution_count": null,
      "outputs": [
        {
          "output_type": "error",
          "ename": "TypeError",
          "evalue": "ignored",
          "traceback": [
            "\u001b[0;31m---------------------------------------------------------------------------\u001b[0m",
            "\u001b[0;31mTypeError\u001b[0m                                 Traceback (most recent call last)",
            "\u001b[0;32m<ipython-input-4-d9bf48f3993c>\u001b[0m in \u001b[0;36m<module>\u001b[0;34m()\u001b[0m\n\u001b[0;32m----> 1\u001b[0;31m \u001b[0mprint\u001b[0m\u001b[0;34m(\u001b[0m\u001b[0;34m'Number of eggs each chicken will lay?'\u001b[0m\u001b[0;34m,\u001b[0m\u001b[0meggs\u001b[0m\u001b[0;34m/\u001b[0m\u001b[0mchickens\u001b[0m\u001b[0;34m)\u001b[0m\u001b[0;34m\u001b[0m\u001b[0;34m\u001b[0m\u001b[0m\n\u001b[0m",
            "\u001b[0;31mTypeError\u001b[0m: unsupported operand type(s) for /: 'str' and 'str'"
          ]
        }
      ]
    },
    {
      "cell_type": "markdown",
      "metadata": {
        "id": "TOWgr29Qx7fp"
      },
      "source": [
        "Type error. We cannot divide two strings."
      ]
    },
    {
      "cell_type": "markdown",
      "metadata": {
        "id": "fS0s7Ot3yFft"
      },
      "source": [
        "She tries to rectify the error by converting type to integer"
      ]
    },
    {
      "cell_type": "code",
      "metadata": {
        "id": "Z9ImqAYQhGym",
        "colab": {
          "base_uri": "https://localhost:8080/"
        },
        "outputId": "fc62b457-b6fd-488a-a32f-44149e45da46"
      },
      "source": [
        "print('Number of eggs each chicken will lay?',int(eggs)/int(chickens))"
      ],
      "execution_count": null,
      "outputs": [
        {
          "output_type": "stream",
          "name": "stdout",
          "text": [
            "Number of eggs each chicken will lay? 1.0\n"
          ]
        }
      ]
    },
    {
      "cell_type": "code",
      "metadata": {
        "id": "VhFPZ0gahGys",
        "colab": {
          "base_uri": "https://localhost:8080/"
        },
        "outputId": "b4abf364-22eb-48d0-a2f8-a684e98e16e0"
      },
      "source": [
        "#It is not possible to lay half egg right?\n",
        "each_chicken_egg=int(eggs)//int(chickens)\n",
        "print('Number of eggs each chicken will lay?',each_chicken_egg)"
      ],
      "execution_count": null,
      "outputs": [
        {
          "output_type": "stream",
          "name": "stdout",
          "text": [
            "Number of eggs each chicken will lay? 1\n"
          ]
        }
      ]
    },
    {
      "cell_type": "markdown",
      "metadata": {
        "id": "Ix3rmqDEhGyy"
      },
      "source": [
        "Every chicken will give at least 1 egg. That makes sense. But there is one more problem:\n",
        "Which chickens are laying more eggs or vice versa."
      ]
    },
    {
      "cell_type": "code",
      "metadata": {
        "id": "0i4699qchGy1",
        "colab": {
          "base_uri": "https://localhost:8080/"
        },
        "outputId": "36ab6b2e-4a9f-4ff5-fedf-b45e3f6b2674"
      },
      "source": [
        "#how many eggs all the chickens should lay? tuff...\n",
        "eggs_presumed=int(each_chicken_egg)*int(chickens)\n",
        "print('Total eggs all the chickens should lay:',eggs_presumed)\n",
        "print('Total eggs laid originally:',eggs)\n",
        "more_eggs=int(eggs)-eggs_presumed\n",
        "print('number of chickens laying more eggs:',more_eggs)"
      ],
      "execution_count": null,
      "outputs": [
        {
          "output_type": "stream",
          "name": "stdout",
          "text": [
            "Total eggs all the chickens should lay: 8\n",
            "Total eggs laid originally: 8\n",
            "number of chickens laying more eggs: 0\n"
          ]
        }
      ]
    },
    {
      "cell_type": "code",
      "metadata": {
        "id": "xNaMvv8xhGzC",
        "colab": {
          "base_uri": "https://localhost:8080/"
        },
        "outputId": "3eb2599b-e34f-4122-e7db-808aa0bd7d1f"
      },
      "source": [
        "#This is basic formatting in python\n",
        "print('Means %i chickens are laying more than average eggs'%(more_eggs)) #This is basic formatting in python"
      ],
      "execution_count": null,
      "outputs": [
        {
          "output_type": "stream",
          "name": "stdout",
          "text": [
            "Means 0 chickens are laying more than average eggs\n"
          ]
        }
      ]
    },
    {
      "cell_type": "markdown",
      "metadata": {
        "id": "g-Cg8pCgyj6T"
      },
      "source": [
        "Now, Payal wants to measure the area of the farm. She asks her dad to enter length and breadth of the farm."
      ]
    },
    {
      "cell_type": "code",
      "metadata": {
        "id": "u4WVThkHhGzH",
        "colab": {
          "base_uri": "https://localhost:8080/"
        },
        "outputId": "63b28634-a679-4711-e96c-5fc238c91aed"
      },
      "source": [
        "# %i represents an integer value\n",
        "length, breadth=input('Enter length and breadth of the farm separated by comma:').split(',')\n",
        "area=float(length)*float(breadth)\n",
        "print('Area of field:',area)"
      ],
      "execution_count": null,
      "outputs": [
        {
          "output_type": "stream",
          "name": "stdout",
          "text": [
            "Enter length and breadth of the farm separated by comma:12,12\n",
            "Area of field: 144.0\n"
          ]
        }
      ]
    },
    {
      "cell_type": "code",
      "metadata": {
        "id": "Y_8treQ3hGzO",
        "colab": {
          "base_uri": "https://localhost:8080/"
        },
        "outputId": "1356bb1f-0f06-4982-bf18-70d5216bb506"
      },
      "source": [
        "# Some of the land is used as grazing land. So, the usable area should be-\n",
        "grazing_land=200\n",
        "area -= 200\n",
        "print('Usable area:',area)"
      ],
      "execution_count": null,
      "outputs": [
        {
          "output_type": "stream",
          "name": "stdout",
          "text": [
            "Usable area: -56.0\n"
          ]
        }
      ]
    },
    {
      "cell_type": "code",
      "metadata": {
        "id": "cdekEQzuhGzQ",
        "colab": {
          "base_uri": "https://localhost:8080/"
        },
        "outputId": "879d1519-ab72-4535-b43d-a026c796cc25"
      },
      "source": [
        "# Rest of the area is evenly divided into 7 parts\n",
        "print('Area for each section:',area/7)"
      ],
      "execution_count": null,
      "outputs": [
        {
          "output_type": "stream",
          "name": "stdout",
          "text": [
            "Area for each section: -8.0\n"
          ]
        }
      ]
    },
    {
      "cell_type": "code",
      "metadata": {
        "id": "k4rxVV03hGzV",
        "colab": {
          "base_uri": "https://localhost:8080/"
        },
        "outputId": "5f7ffe4a-d147-4150-9537-05e9b8f27cb1"
      },
      "source": [
        "# The precision level is to high, Payal needs just 4 decimal places\n",
        "print('Area for each section %0.4f'%(area/7))"
      ],
      "execution_count": null,
      "outputs": [
        {
          "output_type": "stream",
          "name": "stdout",
          "text": [
            "Area for each section -8.0000\n"
          ]
        }
      ]
    },
    {
      "cell_type": "code",
      "metadata": {
        "id": "u5r2jiIZhGzZ",
        "colab": {
          "base_uri": "https://localhost:8080/"
        },
        "outputId": "9e25d6ec-04c1-4d31-e764-cff29a9710d0"
      },
      "source": [
        "# Formatting can also be done using format() function\n",
        "print('Area for each section {:.3f}'.format(area/7))"
      ],
      "execution_count": null,
      "outputs": [
        {
          "output_type": "stream",
          "name": "stdout",
          "text": [
            "Area for each section -8.000\n"
          ]
        }
      ]
    },
    {
      "cell_type": "code",
      "metadata": {
        "id": "R6pKJDE6hGze"
      },
      "source": [
        "# later she learnt how to use complex number in python\n",
        "A=10+3j\n",
        "B=5-10j"
      ],
      "execution_count": null,
      "outputs": []
    },
    {
      "cell_type": "code",
      "metadata": {
        "id": "azHJnLffhGzi",
        "colab": {
          "base_uri": "https://localhost:8080/"
        },
        "outputId": "67a77641-c418-4975-d6f3-0a4134615721"
      },
      "source": [
        "#operations on complex numbers\n",
        "print('Addition of two complex numbers:',A+B)\n",
        "print('Mulitplication of a complex number and an integer:',A*2)\n",
        "print('Real part of a complex number:',A.real)\n",
        "print('Conjugate of complex number:',A.conjugate())\n",
        "print('Imaginary part of a complex number:',A.imag)"
      ],
      "execution_count": null,
      "outputs": [
        {
          "output_type": "stream",
          "name": "stdout",
          "text": [
            "Addition of two complex numbers: (15-7j)\n",
            "Mulitplication of a complex number and an integer: (20+6j)\n",
            "Real part of a complex number: 10.0\n",
            "Conjugate of complex number: (10-3j)\n",
            "Imaginary part of a complex number: 3.0\n"
          ]
        }
      ]
    },
    {
      "cell_type": "code",
      "metadata": {
        "id": "mtU2ZAnwhGzm",
        "colab": {
          "base_uri": "https://localhost:8080/"
        },
        "outputId": "be6d3f25-e518-40b0-a0ad-15223be16376"
      },
      "source": [
        "# Comparision of real part to an integer\n",
        "print(A.real == 10)"
      ],
      "execution_count": null,
      "outputs": [
        {
          "output_type": "stream",
          "name": "stdout",
          "text": [
            "True\n"
          ]
        }
      ]
    },
    {
      "cell_type": "code",
      "metadata": {
        "id": "u3RIE_LShGzr",
        "colab": {
          "base_uri": "https://localhost:8080/"
        },
        "outputId": "4741489b-2d2b-442b-b229-76abd0389ece"
      },
      "source": [
        "# left shift and right shift\n",
        "# binary of 5= 00000101 so left shifting by two places\n",
        "# 101(5) << 2 => 10100 which is 20 in decimal\n",
        "\n",
        "5<<2,5>>2"
      ],
      "execution_count": null,
      "outputs": [
        {
          "output_type": "execute_result",
          "data": {
            "text/plain": [
              "(20, 1)"
            ]
          },
          "metadata": {},
          "execution_count": 23
        }
      ]
    },
    {
      "cell_type": "code",
      "metadata": {
        "id": "CCcpGX1xhGzv",
        "colab": {
          "base_uri": "https://localhost:8080/"
        },
        "outputId": "3d9b68c9-6e15-4921-f530-ec0fe9fbae68"
      },
      "source": [
        "#To represent a number in various number systems\n",
        "test=int(input('Enter a number:'))\n",
        "print('octal %s:'%oct(test))\n",
        "print('binary %s:'%bin(test))\n",
        "print('hexadecimal %s:'%hex(test))\n",
        "#why %s? these functions return specific value in string for representation"
      ],
      "execution_count": null,
      "outputs": [
        {
          "output_type": "stream",
          "name": "stdout",
          "text": [
            "Enter a number:20\n",
            "octal 0o24:\n",
            "binary 0b10100:\n",
            "hexadecimal 0x14:\n"
          ]
        }
      ]
    },
    {
      "cell_type": "code",
      "metadata": {
        "id": "OVO2vebmhGz0",
        "colab": {
          "base_uri": "https://localhost:8080/"
        },
        "outputId": "dfee74d7-90e2-4a3a-f0ad-2ce68ec41b7c"
      },
      "source": [
        "# Exponents and powers\n",
        "print('2 to 5th power: %d'%2**5)\n",
        "print('three times ten to the fifth power: %d'%3e5) #python supports E-notation"
      ],
      "execution_count": null,
      "outputs": [
        {
          "output_type": "stream",
          "name": "stdout",
          "text": [
            "2 to 5th power: 32\n",
            "three times ten to the fifth power: 300000\n"
          ]
        }
      ]
    },
    {
      "cell_type": "code",
      "metadata": {
        "id": "ELdYgx10hGz8",
        "colab": {
          "base_uri": "https://localhost:8080/"
        },
        "outputId": "558508bf-42aa-4244-ac29-3751869ba79e"
      },
      "source": [
        "# While playing with numbers she noticed something unsual\n",
        "print(1.1+2.2==3.3)"
      ],
      "execution_count": null,
      "outputs": [
        {
          "output_type": "stream",
          "name": "stdout",
          "text": [
            "False\n"
          ]
        }
      ]
    },
    {
      "cell_type": "code",
      "metadata": {
        "id": "RMbgkvqQhGz-",
        "colab": {
          "base_uri": "https://localhost:8080/"
        },
        "outputId": "b60dab5a-0243-4484-d4d5-89cf60509b1a"
      },
      "source": [
        "#How can that be possible?\n",
        "x=1.1+2.20\n",
        "y=3.3\n",
        "print(x==y)"
      ],
      "execution_count": null,
      "outputs": [
        {
          "output_type": "stream",
          "name": "stdout",
          "text": [
            "False\n"
          ]
        }
      ]
    },
    {
      "cell_type": "code",
      "metadata": {
        "id": "yP68garKhG0C",
        "colab": {
          "base_uri": "https://localhost:8080/"
        },
        "outputId": "98f88324-7f15-4047-ff50-a6f7dd04bfac"
      },
      "source": [
        "#  It due to machine error. Machines cannot store decimals precisely\n",
        "print(x)\n",
        "print(y)"
      ],
      "execution_count": null,
      "outputs": [
        {
          "output_type": "stream",
          "name": "stdout",
          "text": [
            "3.3000000000000003\n",
            "3.3\n"
          ]
        }
      ]
    },
    {
      "cell_type": "code",
      "metadata": {
        "id": "sxm_IS_ChG0G",
        "colab": {
          "base_uri": "https://localhost:8080/"
        },
        "outputId": "6336a8c9-67d1-4952-f94b-6b207c209691"
      },
      "source": [
        "''' Payal wants to convert temperature from Fahrenheit to Celcuis\n",
        "    Let us try to help her\n",
        "    She knows the Formula is: C = 5 / 9 * (F - 32)\n",
        "    One more thing! This is how we write multiline comments in Python.\n",
        "'''\n",
        "F=int(input('Enter the temperature in fahrenheit: '))\n",
        "C=5/9*(F-32)\n",
        "print('Celcuis: %0.2f'%C)\n"
      ],
      "execution_count": null,
      "outputs": [
        {
          "output_type": "stream",
          "name": "stdout",
          "text": [
            "Enter the temperature in fahrenheit: 123\n",
            "Celcuis: 50.56\n"
          ]
        }
      ]
    },
    {
      "cell_type": "markdown",
      "metadata": {
        "id": "VQSZkSVwS_ln"
      },
      "source": [
        "### Strings"
      ]
    },
    {
      "cell_type": "markdown",
      "metadata": {
        "id": "OmgHbDwaS_lo"
      },
      "source": [
        "Besides numbers, Python can also manipulate strings. Strings can enclosed in single quotes (`'...'`) or double quotes (`\"...\"`) with the same result. Use `\\` to escape quotes, that is, to use a quote within the string itself:"
      ]
    },
    {
      "cell_type": "code",
      "metadata": {
        "id": "S7WzuXP0S_lp",
        "colab": {
          "base_uri": "https://localhost:8080/",
          "height": 35
        },
        "outputId": "0a264503-5ab4-43a4-af9e-82cc3da9ba6b"
      },
      "source": [
        "'spam eggs'  # Single quotes."
      ],
      "execution_count": null,
      "outputs": [
        {
          "output_type": "execute_result",
          "data": {
            "text/plain": [
              "'spam eggs'"
            ],
            "application/vnd.google.colaboratory.intrinsic+json": {
              "type": "string"
            }
          },
          "metadata": {},
          "execution_count": 30
        }
      ]
    },
    {
      "cell_type": "code",
      "metadata": {
        "id": "FzJRH3H9S_lq",
        "colab": {
          "base_uri": "https://localhost:8080/",
          "height": 35
        },
        "outputId": "6865c11a-be17-4139-835a-9e511e6683f5"
      },
      "source": [
        "'doesn\\'t'  # Use \\' to escape the single quote..."
      ],
      "execution_count": null,
      "outputs": [
        {
          "output_type": "execute_result",
          "data": {
            "text/plain": [
              "\"doesn't\""
            ],
            "application/vnd.google.colaboratory.intrinsic+json": {
              "type": "string"
            }
          },
          "metadata": {},
          "execution_count": 31
        }
      ]
    },
    {
      "cell_type": "code",
      "metadata": {
        "id": "FDEl5GRDS_lu",
        "colab": {
          "base_uri": "https://localhost:8080/",
          "height": 35
        },
        "outputId": "c9c4296c-f486-4134-faf2-b6f5ad4e9516"
      },
      "source": [
        "\"doesn't\"  # ...or use double quotes instead."
      ],
      "execution_count": null,
      "outputs": [
        {
          "output_type": "execute_result",
          "data": {
            "text/plain": [
              "\"doesn't\""
            ],
            "application/vnd.google.colaboratory.intrinsic+json": {
              "type": "string"
            }
          },
          "metadata": {},
          "execution_count": 32
        }
      ]
    },
    {
      "cell_type": "code",
      "metadata": {
        "id": "4au8vsahS_lw",
        "colab": {
          "base_uri": "https://localhost:8080/",
          "height": 35
        },
        "outputId": "97981005-d6b8-4a6a-c83f-dcc234eb9833"
      },
      "source": [
        "'\"Yes,\" he said.'"
      ],
      "execution_count": null,
      "outputs": [
        {
          "output_type": "execute_result",
          "data": {
            "text/plain": [
              "'\"Yes,\" he said.'"
            ],
            "application/vnd.google.colaboratory.intrinsic+json": {
              "type": "string"
            }
          },
          "metadata": {},
          "execution_count": 33
        }
      ]
    },
    {
      "cell_type": "code",
      "metadata": {
        "id": "WD-D_A4QS_ly",
        "colab": {
          "base_uri": "https://localhost:8080/",
          "height": 35
        },
        "outputId": "16405083-f316-4e3a-de84-3ea6d5a075f8"
      },
      "source": [
        "\"\\\"Yes,\\\" he said.\""
      ],
      "execution_count": null,
      "outputs": [
        {
          "output_type": "execute_result",
          "data": {
            "text/plain": [
              "'\"Yes,\" he said.'"
            ],
            "application/vnd.google.colaboratory.intrinsic+json": {
              "type": "string"
            }
          },
          "metadata": {},
          "execution_count": 34
        }
      ]
    },
    {
      "cell_type": "code",
      "metadata": {
        "id": "2iXsbD8nS_lz",
        "colab": {
          "base_uri": "https://localhost:8080/",
          "height": 35
        },
        "outputId": "62323c70-f0e4-45db-ed67-5dc503cf6d90"
      },
      "source": [
        "'\"Isn\\'t,\" she said.'"
      ],
      "execution_count": null,
      "outputs": [
        {
          "output_type": "execute_result",
          "data": {
            "text/plain": [
              "'\"Isn\\'t,\" she said.'"
            ],
            "application/vnd.google.colaboratory.intrinsic+json": {
              "type": "string"
            }
          },
          "metadata": {},
          "execution_count": 35
        }
      ]
    },
    {
      "cell_type": "markdown",
      "metadata": {
        "id": "KHycghMBS_l1"
      },
      "source": [
        "In the interactive interpreter and Jupyter notebooks, the output string is enclosed in quotes and special characters are escaped with backslashes. Although this output sometimes looks different from the input (the enclosing quotes could change), the two strings are equivalent. The string is enclosed in double quotes if the string contains a single quote and no double quotes, otherwise its enclosed in single quotes. The [`print()`](https://docs.python.org/3.6/library/functions.html#print) function produces a more readable output by omitting the enclosing quotes and by printing escaped and special characters:"
      ]
    },
    {
      "cell_type": "code",
      "metadata": {
        "id": "g7IJdkXLS_l1",
        "colab": {
          "base_uri": "https://localhost:8080/",
          "height": 35
        },
        "outputId": "a513cecc-50cf-42aa-bbc4-c2b44e2d6cb2"
      },
      "source": [
        "'\"Isn\\'t,\" she said.'"
      ],
      "execution_count": null,
      "outputs": [
        {
          "output_type": "execute_result",
          "data": {
            "text/plain": [
              "'\"Isn\\'t,\" she said.'"
            ],
            "application/vnd.google.colaboratory.intrinsic+json": {
              "type": "string"
            }
          },
          "metadata": {},
          "execution_count": 36
        }
      ]
    },
    {
      "cell_type": "code",
      "metadata": {
        "id": "8PXC1r-vS_l2",
        "colab": {
          "base_uri": "https://localhost:8080/"
        },
        "outputId": "c36879f0-1958-4acc-8616-3f355c65bf43"
      },
      "source": [
        "print('\"Isn\\'t,\" she said.')"
      ],
      "execution_count": null,
      "outputs": [
        {
          "output_type": "stream",
          "name": "stdout",
          "text": [
            "\"Isn't,\" she said.\n"
          ]
        }
      ]
    },
    {
      "cell_type": "code",
      "metadata": {
        "id": "aFTympE2S_l3",
        "colab": {
          "base_uri": "https://localhost:8080/",
          "height": 35
        },
        "outputId": "b189a939-0635-422c-fca8-2bae51f563e1"
      },
      "source": [
        "s = 'First line.\\nSecond line.'  # \\n means newline.\n",
        "s  # Without print(), \\n is included in the output."
      ],
      "execution_count": null,
      "outputs": [
        {
          "output_type": "execute_result",
          "data": {
            "text/plain": [
              "'First line.\\nSecond line.'"
            ],
            "application/vnd.google.colaboratory.intrinsic+json": {
              "type": "string"
            }
          },
          "metadata": {},
          "execution_count": 38
        }
      ]
    },
    {
      "cell_type": "code",
      "metadata": {
        "id": "WfymncsiS_l5",
        "colab": {
          "base_uri": "https://localhost:8080/"
        },
        "outputId": "9acd734f-8b0f-4f31-9b3e-4dd442be2b77"
      },
      "source": [
        "print(s)  # With print(), \\n produces a new line."
      ],
      "execution_count": null,
      "outputs": [
        {
          "output_type": "stream",
          "name": "stdout",
          "text": [
            "First line.\n",
            "Second line.\n"
          ]
        }
      ]
    },
    {
      "cell_type": "markdown",
      "metadata": {
        "id": "hgKk5iuwS_l6"
      },
      "source": [
        "If you don't want escaped characters (prefaced by `\\`) to be interpreted as special characters, use *raw strings* by adding an `r` before the first quote:"
      ]
    },
    {
      "cell_type": "code",
      "metadata": {
        "id": "UyMmv79kS_l8",
        "colab": {
          "base_uri": "https://localhost:8080/"
        },
        "outputId": "6bd9c7de-d1d1-4e97-fa00-d248062be5ab"
      },
      "source": [
        "print('C:\\some\\name')  # Here \\n means newline!"
      ],
      "execution_count": null,
      "outputs": [
        {
          "output_type": "stream",
          "name": "stdout",
          "text": [
            "C:\\some\n",
            "ame\n"
          ]
        }
      ]
    },
    {
      "cell_type": "code",
      "metadata": {
        "id": "Nh23_Xw-S_l9",
        "colab": {
          "base_uri": "https://localhost:8080/"
        },
        "outputId": "82db9f92-e657-472c-f924-ca6b0cbc91e4"
      },
      "source": [
        "print(r'C:\\some\\name')  # Note the r before the quote."
      ],
      "execution_count": null,
      "outputs": [
        {
          "output_type": "stream",
          "name": "stdout",
          "text": [
            "C:\\some\\name\n"
          ]
        }
      ]
    },
    {
      "cell_type": "markdown",
      "metadata": {
        "id": "UPbxgoCsS_l-"
      },
      "source": [
        "String literals can span multiple lines and are delineated by triple-quotes: `\"\"\"...\"\"\"` or `'''...'''`. End of lines are automatically included in the string, but it's possible to prevent this by adding a `\\` at the end of the line. For example, without a `\\`, the following example includes an extra line at the beginning of the output:"
      ]
    },
    {
      "cell_type": "code",
      "metadata": {
        "id": "5LNXRTdKS_l_",
        "colab": {
          "base_uri": "https://localhost:8080/"
        },
        "outputId": "91309bc4-5988-46f2-d798-5d0d553e6100"
      },
      "source": [
        "print(\"\"\"\n",
        "Usage: thingy [OPTIONS]\n",
        "     -h                        Display this usage message\n",
        "     -H hostname               Hostname to connect to\n",
        "\"\"\")"
      ],
      "execution_count": null,
      "outputs": [
        {
          "output_type": "stream",
          "name": "stdout",
          "text": [
            "\n",
            "Usage: thingy [OPTIONS]\n",
            "     -h                        Display this usage message\n",
            "     -H hostname               Hostname to connect to\n",
            "\n"
          ]
        }
      ]
    },
    {
      "cell_type": "markdown",
      "metadata": {
        "id": "w2i871_6S_mA"
      },
      "source": [
        "Adding a `\\` removes that extra line:"
      ]
    },
    {
      "cell_type": "code",
      "metadata": {
        "id": "M947f-nMS_mA",
        "colab": {
          "base_uri": "https://localhost:8080/"
        },
        "outputId": "5fc3155d-f57f-4f27-801d-70f45ee7392f"
      },
      "source": [
        "print(\"\"\"\\\n",
        "Usage: thingy [OPTIONS]\n",
        "     -h                        Display this usage message\n",
        "     -H hostname               Hostname to connect to\n",
        "\"\"\")"
      ],
      "execution_count": null,
      "outputs": [
        {
          "output_type": "stream",
          "name": "stdout",
          "text": [
            "Usage: thingy [OPTIONS]\n",
            "     -h                        Display this usage message\n",
            "     -H hostname               Hostname to connect to\n",
            "\n"
          ]
        }
      ]
    },
    {
      "cell_type": "markdown",
      "metadata": {
        "id": "YlETWuXiS_mC"
      },
      "source": [
        "Because Python doesn't provide a means for creating multi-line comments, developers often just use triple quotes for this purpose. In a Jupyter notebook, however, such quotes define a string literal which appears as the output of a code cell:"
      ]
    },
    {
      "cell_type": "code",
      "metadata": {
        "id": "JBPG173LS_mC",
        "colab": {
          "base_uri": "https://localhost:8080/",
          "height": 53
        },
        "outputId": "47c42a44-11b9-4643-c375-f5d8efeee10c"
      },
      "source": [
        "\"\"\"\n",
        "Everything between the first three quotes, including new lines,\n",
        "is part of the multi-line comment. Technically, the Python interpreter\n",
        "simply sees the comment as a string, and because it's not otherwise\n",
        "used in code, the string is ignored. Convenient, eh?\n",
        "\"\"\""
      ],
      "execution_count": null,
      "outputs": [
        {
          "output_type": "execute_result",
          "data": {
            "text/plain": [
              "\"\\nEverything between the first three quotes, including new lines,\\nis part of the multi-line comment. Technically, the Python interpreter\\nsimply sees the comment as a string, and because it's not otherwise\\nused in code, the string is ignored. Convenient, eh?\\n\""
            ],
            "application/vnd.google.colaboratory.intrinsic+json": {
              "type": "string"
            }
          },
          "metadata": {},
          "execution_count": 44
        }
      ]
    },
    {
      "cell_type": "markdown",
      "metadata": {
        "id": "fINzM6AOS_mD"
      },
      "source": [
        "For this reason, it's best in notebooks to use the `#` comment character at the beginning of each line, or better still, just use a Markdown cell!"
      ]
    },
    {
      "cell_type": "markdown",
      "metadata": {
        "id": "iGHFyM-CS_mD"
      },
      "source": [
        "Strings can be *concatenated* (glued together) with the `+` operator, and repeated with `*`:"
      ]
    },
    {
      "cell_type": "code",
      "metadata": {
        "id": "wB0dU8WlS_mE",
        "colab": {
          "base_uri": "https://localhost:8080/",
          "height": 35
        },
        "outputId": "9ef319cf-91f6-4a15-a628-6401779340e1"
      },
      "source": [
        "# 3 times 'un', followed by 'ium'\n",
        "3 * 'un' + 'ium'"
      ],
      "execution_count": null,
      "outputs": [
        {
          "output_type": "execute_result",
          "data": {
            "text/plain": [
              "'unununium'"
            ],
            "application/vnd.google.colaboratory.intrinsic+json": {
              "type": "string"
            }
          },
          "metadata": {},
          "execution_count": 45
        }
      ]
    },
    {
      "cell_type": "markdown",
      "metadata": {
        "id": "XqrQND2JS_mF"
      },
      "source": [
        "Two or more *string literals* (that is, the values enclosed in quotes) placed next to each other are automatically concatenated:"
      ]
    },
    {
      "cell_type": "code",
      "metadata": {
        "id": "ur5Cp2D2S_mF",
        "colab": {
          "base_uri": "https://localhost:8080/",
          "height": 35
        },
        "outputId": "115dece6-d5b6-43b1-86ad-edd411f16e4f"
      },
      "source": [
        "'Py' 'thon'"
      ],
      "execution_count": null,
      "outputs": [
        {
          "output_type": "execute_result",
          "data": {
            "text/plain": [
              "'Python'"
            ],
            "application/vnd.google.colaboratory.intrinsic+json": {
              "type": "string"
            }
          },
          "metadata": {},
          "execution_count": 46
        }
      ]
    },
    {
      "cell_type": "markdown",
      "metadata": {
        "id": "Qtwxf2QBzhOo"
      },
      "source": [
        "Encountering Errors:"
      ]
    },
    {
      "cell_type": "markdown",
      "metadata": {
        "id": "k5QmKtZmS_mG"
      },
      "source": [
        "Automatic concatenation works only with two literals; it does not work with variables or expressions, so the following cell produces an error:"
      ]
    },
    {
      "cell_type": "code",
      "metadata": {
        "id": "Hw3jcgLqS_mH",
        "colab": {
          "base_uri": "https://localhost:8080/",
          "height": 130
        },
        "outputId": "9f121b5e-5423-45a8-86d1-bd0a8a87e496"
      },
      "source": [
        "prefix = 'Py'\n",
        "prefix 'thon'  # Can't concatenate a variable and a string literal."
      ],
      "execution_count": null,
      "outputs": [
        {
          "output_type": "error",
          "ename": "SyntaxError",
          "evalue": "ignored",
          "traceback": [
            "\u001b[0;36m  File \u001b[0;32m\"<ipython-input-47-00ad70cd97bc>\"\u001b[0;36m, line \u001b[0;32m2\u001b[0m\n\u001b[0;31m    prefix 'thon'  # Can't concatenate a variable and a string literal.\u001b[0m\n\u001b[0m                ^\u001b[0m\n\u001b[0;31mSyntaxError\u001b[0m\u001b[0;31m:\u001b[0m invalid syntax\n"
          ]
        }
      ]
    },
    {
      "cell_type": "markdown",
      "metadata": {
        "id": "tOEyViOdS_mI"
      },
      "source": [
        "The following cell likewise produces an error:"
      ]
    },
    {
      "cell_type": "code",
      "metadata": {
        "id": "r-4WqfmES_mI",
        "colab": {
          "base_uri": "https://localhost:8080/",
          "height": 130
        },
        "outputId": "aaf397fc-9f1f-4940-a74c-e078b4926179"
      },
      "source": [
        "('un' * 3) 'ium'"
      ],
      "execution_count": null,
      "outputs": [
        {
          "output_type": "error",
          "ename": "SyntaxError",
          "evalue": "ignored",
          "traceback": [
            "\u001b[0;36m  File \u001b[0;32m\"<ipython-input-48-f4764cbe42a8>\"\u001b[0;36m, line \u001b[0;32m1\u001b[0m\n\u001b[0;31m    ('un' * 3) 'ium'\u001b[0m\n\u001b[0m                   ^\u001b[0m\n\u001b[0;31mSyntaxError\u001b[0m\u001b[0;31m:\u001b[0m invalid syntax\n"
          ]
        }
      ]
    },
    {
      "cell_type": "markdown",
      "metadata": {
        "id": "doeE8G3QS_mJ"
      },
      "source": [
        "To concatenate variables, or a variable and a literal, use `+`:"
      ]
    },
    {
      "cell_type": "code",
      "metadata": {
        "id": "WT5gOe-4S_mJ",
        "colab": {
          "base_uri": "https://localhost:8080/",
          "height": 35
        },
        "outputId": "d34323a6-9a1b-406d-e1de-440da4bf3c63"
      },
      "source": [
        "prefix = 'Py'\n",
        "prefix + 'thon'"
      ],
      "execution_count": null,
      "outputs": [
        {
          "output_type": "execute_result",
          "data": {
            "text/plain": [
              "'Python'"
            ],
            "application/vnd.google.colaboratory.intrinsic+json": {
              "type": "string"
            }
          },
          "metadata": {},
          "execution_count": 49
        }
      ]
    },
    {
      "cell_type": "markdown",
      "metadata": {
        "id": "mG3qrSiDS_mL"
      },
      "source": [
        "Automatic concatenation is particularly useful when you want to break up long strings:"
      ]
    },
    {
      "cell_type": "code",
      "metadata": {
        "id": "o_bbHVaxS_mM",
        "colab": {
          "base_uri": "https://localhost:8080/",
          "height": 35
        },
        "outputId": "74f1debe-6dc5-4937-8eec-062071fe79e5"
      },
      "source": [
        "text = ('Put several strings within parentheses '\n",
        "            'to have them joined together.')\n",
        "text"
      ],
      "execution_count": null,
      "outputs": [
        {
          "output_type": "execute_result",
          "data": {
            "application/vnd.google.colaboratory.intrinsic+json": {
              "type": "string"
            },
            "text/plain": [
              "'Put several strings within parentheses to have them joined together.'"
            ]
          },
          "metadata": {
            "tags": []
          },
          "execution_count": 36
        }
      ]
    },
    {
      "cell_type": "markdown",
      "metadata": {
        "id": "au80-JlwS_mM"
      },
      "source": [
        "Strings can be *indexed* (subscripted), with the first character having index 0. There is no separate character type; a character is simply a string of size one:"
      ]
    },
    {
      "cell_type": "code",
      "metadata": {
        "id": "d2gZ4UbGS_mN",
        "colab": {
          "base_uri": "https://localhost:8080/",
          "height": 35
        },
        "outputId": "382ca4a3-1a14-4ca4-b2a1-a1b3d6ccd6e7"
      },
      "source": [
        "word = 'Python'\n",
        "word[0]  # Character in position 0."
      ],
      "execution_count": null,
      "outputs": [
        {
          "output_type": "execute_result",
          "data": {
            "application/vnd.google.colaboratory.intrinsic+json": {
              "type": "string"
            },
            "text/plain": [
              "'P'"
            ]
          },
          "metadata": {
            "tags": []
          },
          "execution_count": 37
        }
      ]
    },
    {
      "cell_type": "code",
      "metadata": {
        "id": "N37gmbYSS_mO",
        "colab": {
          "base_uri": "https://localhost:8080/",
          "height": 35
        },
        "outputId": "b2e9a109-386d-46d9-dc95-d89175f2e6bd"
      },
      "source": [
        "word[5]  # Character in position 5."
      ],
      "execution_count": null,
      "outputs": [
        {
          "output_type": "execute_result",
          "data": {
            "application/vnd.google.colaboratory.intrinsic+json": {
              "type": "string"
            },
            "text/plain": [
              "'n'"
            ]
          },
          "metadata": {
            "tags": []
          },
          "execution_count": 38
        }
      ]
    },
    {
      "cell_type": "markdown",
      "metadata": {
        "id": "FyW_27SCS_mP"
      },
      "source": [
        "Indices may also be negative numbers, which means to start counting from the end of the string. Note that because -0 is the same as 0, negative indices start from -1:"
      ]
    },
    {
      "cell_type": "code",
      "metadata": {
        "id": "Ks-53v18S_mP",
        "colab": {
          "base_uri": "https://localhost:8080/",
          "height": 35
        },
        "outputId": "e7765ec3-3010-480d-f231-f89a4582da5e"
      },
      "source": [
        "word[-1]  # Last character."
      ],
      "execution_count": null,
      "outputs": [
        {
          "output_type": "execute_result",
          "data": {
            "application/vnd.google.colaboratory.intrinsic+json": {
              "type": "string"
            },
            "text/plain": [
              "'n'"
            ]
          },
          "metadata": {
            "tags": []
          },
          "execution_count": 39
        }
      ]
    },
    {
      "cell_type": "code",
      "metadata": {
        "id": "SK5SqqxkS_mQ",
        "colab": {
          "base_uri": "https://localhost:8080/",
          "height": 35
        },
        "outputId": "ef26d2a9-fbed-47cc-874b-aae2aab2c7df"
      },
      "source": [
        "word[-2]  # Second-last character."
      ],
      "execution_count": null,
      "outputs": [
        {
          "output_type": "execute_result",
          "data": {
            "application/vnd.google.colaboratory.intrinsic+json": {
              "type": "string"
            },
            "text/plain": [
              "'o'"
            ]
          },
          "metadata": {
            "tags": []
          },
          "execution_count": 40
        }
      ]
    },
    {
      "cell_type": "code",
      "metadata": {
        "id": "GlnguB3QS_mR",
        "colab": {
          "base_uri": "https://localhost:8080/",
          "height": 35
        },
        "outputId": "9fc18811-4fe0-4659-c789-565a9a2ee128"
      },
      "source": [
        "word[-6]"
      ],
      "execution_count": null,
      "outputs": [
        {
          "output_type": "execute_result",
          "data": {
            "application/vnd.google.colaboratory.intrinsic+json": {
              "type": "string"
            },
            "text/plain": [
              "'P'"
            ]
          },
          "metadata": {
            "tags": []
          },
          "execution_count": 41
        }
      ]
    },
    {
      "cell_type": "markdown",
      "metadata": {
        "id": "JTAQqIdYS_mU"
      },
      "source": [
        "In addition to indexing, which extracts individual characters, Python also supports *slicing*, which extracts a substring. To slide, you indicate a *range* in the format `start:end`, where the start position is included but the end position is excluded:"
      ]
    },
    {
      "cell_type": "code",
      "metadata": {
        "id": "ys8uuv-0S_mU",
        "colab": {
          "base_uri": "https://localhost:8080/",
          "height": 35
        },
        "outputId": "090f1f28-055a-4886-b93e-331168e97b1b"
      },
      "source": [
        "word[0:2]  # Characters from position 0 (included) to 2 (excluded)."
      ],
      "execution_count": null,
      "outputs": [
        {
          "output_type": "execute_result",
          "data": {
            "application/vnd.google.colaboratory.intrinsic+json": {
              "type": "string"
            },
            "text/plain": [
              "'Py'"
            ]
          },
          "metadata": {
            "tags": []
          },
          "execution_count": 42
        }
      ]
    },
    {
      "cell_type": "code",
      "metadata": {
        "id": "O3gXqpuPS_mV",
        "colab": {
          "base_uri": "https://localhost:8080/",
          "height": 35
        },
        "outputId": "4be57422-8c94-44fc-950a-74afa69a545f"
      },
      "source": [
        "word[2:5]  # Characters from position 2 (included) to 5 (excluded)."
      ],
      "execution_count": null,
      "outputs": [
        {
          "output_type": "execute_result",
          "data": {
            "application/vnd.google.colaboratory.intrinsic+json": {
              "type": "string"
            },
            "text/plain": [
              "'tho'"
            ]
          },
          "metadata": {
            "tags": []
          },
          "execution_count": 43
        }
      ]
    },
    {
      "cell_type": "markdown",
      "metadata": {
        "id": "WyJggKxwS_mW"
      },
      "source": [
        "If you omit either position, the default start position is 0 and the default end is the length of the string:"
      ]
    },
    {
      "cell_type": "code",
      "metadata": {
        "id": "am6uyJATS_mW",
        "colab": {
          "base_uri": "https://localhost:8080/",
          "height": 35
        },
        "outputId": "de602e51-2a84-4970-c302-c04f5c1f7827"
      },
      "source": [
        "word[:2]   # Character from the beginning to position 2 (excluded)."
      ],
      "execution_count": null,
      "outputs": [
        {
          "output_type": "execute_result",
          "data": {
            "application/vnd.google.colaboratory.intrinsic+json": {
              "type": "string"
            },
            "text/plain": [
              "'Py'"
            ]
          },
          "metadata": {
            "tags": []
          },
          "execution_count": 44
        }
      ]
    },
    {
      "cell_type": "code",
      "metadata": {
        "id": "WVTZFKNCS_mX",
        "colab": {
          "base_uri": "https://localhost:8080/",
          "height": 35
        },
        "outputId": "34a95bbd-a6f5-4696-9e0d-0ce11b598c7d"
      },
      "source": [
        "word[4:]  # Characters from position 4 (included) to the end."
      ],
      "execution_count": null,
      "outputs": [
        {
          "output_type": "execute_result",
          "data": {
            "application/vnd.google.colaboratory.intrinsic+json": {
              "type": "string"
            },
            "text/plain": [
              "'on'"
            ]
          },
          "metadata": {
            "tags": []
          },
          "execution_count": 45
        }
      ]
    },
    {
      "cell_type": "code",
      "metadata": {
        "id": "4URHDyXiS_mY",
        "colab": {
          "base_uri": "https://localhost:8080/",
          "height": 35
        },
        "outputId": "e3e2268f-0e3a-44b8-c4e1-d9bd015127a9"
      },
      "source": [
        "word[-2:] # Characters from the second-last (included) to the end."
      ],
      "execution_count": null,
      "outputs": [
        {
          "output_type": "execute_result",
          "data": {
            "application/vnd.google.colaboratory.intrinsic+json": {
              "type": "string"
            },
            "text/plain": [
              "'on'"
            ]
          },
          "metadata": {
            "tags": []
          },
          "execution_count": 46
        }
      ]
    },
    {
      "cell_type": "markdown",
      "metadata": {
        "id": "2NWWwnnFS_mZ"
      },
      "source": [
        "This characteristic means that `s[:i] + s[i:]` is always equal to `s`:"
      ]
    },
    {
      "cell_type": "code",
      "metadata": {
        "id": "5W_dnCKUS_ma",
        "colab": {
          "base_uri": "https://localhost:8080/",
          "height": 35
        },
        "outputId": "53e8a807-6e2a-4c0c-e2d1-471eaa97cd26"
      },
      "source": [
        "word[:2] + word[2:]"
      ],
      "execution_count": null,
      "outputs": [
        {
          "output_type": "execute_result",
          "data": {
            "application/vnd.google.colaboratory.intrinsic+json": {
              "type": "string"
            },
            "text/plain": [
              "'Python'"
            ]
          },
          "metadata": {
            "tags": []
          },
          "execution_count": 47
        }
      ]
    },
    {
      "cell_type": "code",
      "metadata": {
        "id": "pNrnlAMXS_mb",
        "colab": {
          "base_uri": "https://localhost:8080/",
          "height": 35
        },
        "outputId": "856066c2-d5da-4d47-95c2-f159d8d5b676"
      },
      "source": [
        "word[:4] + word[4:]"
      ],
      "execution_count": null,
      "outputs": [
        {
          "output_type": "execute_result",
          "data": {
            "application/vnd.google.colaboratory.intrinsic+json": {
              "type": "string"
            },
            "text/plain": [
              "'Python'"
            ]
          },
          "metadata": {
            "tags": []
          },
          "execution_count": 48
        }
      ]
    },
    {
      "cell_type": "markdown",
      "metadata": {
        "id": "qd1KiPgeS_me"
      },
      "source": [
        "One way to remember how slices work is to think of the indices as pointing between characters, with the left edge of the first character numbered 0. Then the right edge of the last character of a string of *n* characters has index *n*. For example:"
      ]
    },
    {
      "cell_type": "markdown",
      "metadata": {
        "id": "fD5qIup5S_me"
      },
      "source": [
        " +---+---+---+---+---+---+\n",
        " | P | y | t | h | o | n |\n",
        " +---+---+---+---+---+---+\n",
        " 0   1   2   3   4   5   6\n",
        "-6  -5  -4  -3  -2  -1"
      ]
    },
    {
      "cell_type": "markdown",
      "metadata": {
        "id": "dlpLslq5S_me"
      },
      "source": [
        "The first row of numbers gives the position of the indices 0...6 in the string; the second row gives the corresponding negative indices. The slice from *i* to *j* consists of all characters between the edges labeled *i* and *j*, respectively.\n",
        "\n",
        "For non-negative indices, the length of a slice is the difference of the indices, if both are within bounds. For example, the length of `word[1:3]` is 2.\n",
        "\n",
        "Attempting to use an index that is too large results in an error:"
      ]
    },
    {
      "cell_type": "code",
      "metadata": {
        "id": "A27ZUB4mS_me",
        "colab": {
          "base_uri": "https://localhost:8080/",
          "height": 163
        },
        "outputId": "5d814fa6-0a58-4492-af96-abe8cec05842"
      },
      "source": [
        "word[42]  # The word only has 6 characters."
      ],
      "execution_count": null,
      "outputs": [
        {
          "output_type": "error",
          "ename": "IndexError",
          "evalue": "ignored",
          "traceback": [
            "\u001b[0;31m---------------------------------------------------------------------------\u001b[0m",
            "\u001b[0;31mIndexError\u001b[0m                                Traceback (most recent call last)",
            "\u001b[0;32m<ipython-input-49-e894f93573ea>\u001b[0m in \u001b[0;36m<module>\u001b[0;34m()\u001b[0m\n\u001b[0;32m----> 1\u001b[0;31m \u001b[0mword\u001b[0m\u001b[0;34m[\u001b[0m\u001b[0;36m42\u001b[0m\u001b[0;34m]\u001b[0m  \u001b[0;31m# The word only has 6 characters.\u001b[0m\u001b[0;34m\u001b[0m\u001b[0;34m\u001b[0m\u001b[0m\n\u001b[0m",
            "\u001b[0;31mIndexError\u001b[0m: string index out of range"
          ]
        }
      ]
    },
    {
      "cell_type": "markdown",
      "metadata": {
        "id": "eRffX76AS_mg"
      },
      "source": [
        "However, when used in a range, an index that's too large defaults to the size of the string and does not give an error. This characteristic is useful when you always want to slice at a particular index regardless of the length of a string:"
      ]
    },
    {
      "cell_type": "code",
      "metadata": {
        "id": "__7rIzHlS_mg",
        "colab": {
          "base_uri": "https://localhost:8080/",
          "height": 35
        },
        "outputId": "dd84d4ce-1bf0-402d-97f2-5fb193878da6"
      },
      "source": [
        "word[4:42]"
      ],
      "execution_count": null,
      "outputs": [
        {
          "output_type": "execute_result",
          "data": {
            "application/vnd.google.colaboratory.intrinsic+json": {
              "type": "string"
            },
            "text/plain": [
              "'on'"
            ]
          },
          "metadata": {
            "tags": []
          },
          "execution_count": 50
        }
      ]
    },
    {
      "cell_type": "code",
      "metadata": {
        "id": "TxY_JhFeS_mh",
        "colab": {
          "base_uri": "https://localhost:8080/",
          "height": 35
        },
        "outputId": "5a41ed3f-1c7a-4d5e-e30a-dafb6177168b"
      },
      "source": [
        "word[42:]"
      ],
      "execution_count": null,
      "outputs": [
        {
          "output_type": "execute_result",
          "data": {
            "application/vnd.google.colaboratory.intrinsic+json": {
              "type": "string"
            },
            "text/plain": [
              "''"
            ]
          },
          "metadata": {
            "tags": []
          },
          "execution_count": 51
        }
      ]
    },
    {
      "cell_type": "markdown",
      "metadata": {
        "id": "8rpSCGLhS_mj"
      },
      "source": [
        "Python strings are [immutable](https://docs.python.org/3.5/glossary.html#term-immutable), which means they cannot be changed. Therefore, assigning a value to an indexed position in a string results in an error:"
      ]
    },
    {
      "cell_type": "code",
      "metadata": {
        "id": "9KtIvMHtS_mj",
        "colab": {
          "base_uri": "https://localhost:8080/",
          "height": 163
        },
        "outputId": "640a6b55-95ad-4ad7-f56e-65f354ab79cf"
      },
      "source": [
        "word[0] = 'J'"
      ],
      "execution_count": null,
      "outputs": [
        {
          "output_type": "error",
          "ename": "TypeError",
          "evalue": "ignored",
          "traceback": [
            "\u001b[0;31m---------------------------------------------------------------------------\u001b[0m",
            "\u001b[0;31mTypeError\u001b[0m                                 Traceback (most recent call last)",
            "\u001b[0;32m<ipython-input-52-91a956888ca7>\u001b[0m in \u001b[0;36m<module>\u001b[0;34m()\u001b[0m\n\u001b[0;32m----> 1\u001b[0;31m \u001b[0mword\u001b[0m\u001b[0;34m[\u001b[0m\u001b[0;36m0\u001b[0m\u001b[0;34m]\u001b[0m \u001b[0;34m=\u001b[0m \u001b[0;34m'J'\u001b[0m\u001b[0;34m\u001b[0m\u001b[0;34m\u001b[0m\u001b[0m\n\u001b[0m",
            "\u001b[0;31mTypeError\u001b[0m: 'str' object does not support item assignment"
          ]
        }
      ]
    },
    {
      "cell_type": "markdown",
      "metadata": {
        "id": "C0A7_fXFS_mk"
      },
      "source": [
        "The following cell also produces an error:"
      ]
    },
    {
      "cell_type": "code",
      "metadata": {
        "id": "H_Ay1BoPS_mk",
        "colab": {
          "base_uri": "https://localhost:8080/",
          "height": 163
        },
        "outputId": "b3bae335-5a61-43f3-d9c9-f55f88ae5021"
      },
      "source": [
        "word[2:] = 'py'"
      ],
      "execution_count": null,
      "outputs": [
        {
          "output_type": "error",
          "ename": "TypeError",
          "evalue": "ignored",
          "traceback": [
            "\u001b[0;31m---------------------------------------------------------------------------\u001b[0m",
            "\u001b[0;31mTypeError\u001b[0m                                 Traceback (most recent call last)",
            "\u001b[0;32m<ipython-input-53-6488bbf78f5a>\u001b[0m in \u001b[0;36m<module>\u001b[0;34m()\u001b[0m\n\u001b[0;32m----> 1\u001b[0;31m \u001b[0mword\u001b[0m\u001b[0;34m[\u001b[0m\u001b[0;36m2\u001b[0m\u001b[0;34m:\u001b[0m\u001b[0;34m]\u001b[0m \u001b[0;34m=\u001b[0m \u001b[0;34m'py'\u001b[0m\u001b[0;34m\u001b[0m\u001b[0;34m\u001b[0m\u001b[0m\n\u001b[0m",
            "\u001b[0;31mTypeError\u001b[0m: 'str' object does not support item assignment"
          ]
        }
      ]
    },
    {
      "cell_type": "markdown",
      "metadata": {
        "id": "s7zPh0WvS_ml"
      },
      "source": [
        "A slice it itself a value that you can concatenate with other values using `+`:"
      ]
    },
    {
      "cell_type": "code",
      "metadata": {
        "id": "WarhrTpsS_ml",
        "colab": {
          "base_uri": "https://localhost:8080/",
          "height": 35
        },
        "outputId": "de24d91c-ce47-4f10-d027-9f49369e0292"
      },
      "source": [
        "'J' + word[1:]"
      ],
      "execution_count": null,
      "outputs": [
        {
          "output_type": "execute_result",
          "data": {
            "application/vnd.google.colaboratory.intrinsic+json": {
              "type": "string"
            },
            "text/plain": [
              "'Jython'"
            ]
          },
          "metadata": {
            "tags": []
          },
          "execution_count": 54
        }
      ]
    },
    {
      "cell_type": "code",
      "metadata": {
        "id": "3xyMR0t9S_m5",
        "colab": {
          "base_uri": "https://localhost:8080/",
          "height": 35
        },
        "outputId": "044cb813-c662-4dae-aadc-a3f40bafd241"
      },
      "source": [
        "word[:2] + 'Py'"
      ],
      "execution_count": null,
      "outputs": [
        {
          "output_type": "execute_result",
          "data": {
            "application/vnd.google.colaboratory.intrinsic+json": {
              "type": "string"
            },
            "text/plain": [
              "'PyPy'"
            ]
          },
          "metadata": {
            "tags": []
          },
          "execution_count": 55
        }
      ]
    },
    {
      "cell_type": "markdown",
      "metadata": {
        "id": "VB4ybDWhS_m6"
      },
      "source": [
        "A slice, however, is not a string literal and cannot be used with automatic concatenation. The following code produces an error:"
      ]
    },
    {
      "cell_type": "code",
      "metadata": {
        "id": "RGrQEDy9S_m7",
        "colab": {
          "base_uri": "https://localhost:8080/",
          "height": 129
        },
        "outputId": "b1287dbf-8b2b-4ae5-b77c-73788470fdd2"
      },
      "source": [
        "word[:2] 'Py'    # Slice is not a literal; produces an error"
      ],
      "execution_count": null,
      "outputs": [
        {
          "output_type": "error",
          "ename": "SyntaxError",
          "evalue": "ignored",
          "traceback": [
            "\u001b[0;36m  File \u001b[0;32m\"<ipython-input-56-60be1c701626>\"\u001b[0;36m, line \u001b[0;32m1\u001b[0m\n\u001b[0;31m    word[:2] 'Py'    # Slice is not a literal; produces an error\u001b[0m\n\u001b[0m                ^\u001b[0m\n\u001b[0;31mSyntaxError\u001b[0m\u001b[0;31m:\u001b[0m invalid syntax\n"
          ]
        }
      ]
    },
    {
      "cell_type": "markdown",
      "metadata": {
        "id": "Tn7W5AAZS_m8"
      },
      "source": [
        "The built-in function [`len()`](https://docs.python.org/3.5/library/functions.html#len) returns the length of a string:"
      ]
    },
    {
      "cell_type": "code",
      "metadata": {
        "id": "xZYBw6OiS_m8",
        "colab": {
          "base_uri": "https://localhost:8080/"
        },
        "outputId": "2f97e255-0d75-41f2-ea98-a87e814278d4"
      },
      "source": [
        "s = 'supercalifragilisticexpialidocious'\n",
        "len(s)"
      ],
      "execution_count": null,
      "outputs": [
        {
          "output_type": "execute_result",
          "data": {
            "text/plain": [
              "34"
            ]
          },
          "metadata": {},
          "execution_count": 50
        }
      ]
    },
    {
      "cell_type": "markdown",
      "metadata": {
        "id": "tvoseJU0S_m9"
      },
      "source": [
        "### Lists"
      ]
    },
    {
      "cell_type": "markdown",
      "metadata": {
        "id": "GO-UbVV2S_m9"
      },
      "source": [
        "Python knows a number of _compound_ data types, which are used to group together other values. The most versatile is the [*list*](https://docs.python.org/3.5/library/stdtypes.html#typesseq-list), which can be written as a sequence of comma-separated values (items) between square brackets. Lists might contain items of different types, but usually the items all have the same type."
      ]
    },
    {
      "cell_type": "code",
      "metadata": {
        "id": "JQGPCZbcS_m9",
        "colab": {
          "base_uri": "https://localhost:8080/"
        },
        "outputId": "7211701f-94b0-4e60-aa32-97d12d2de28a"
      },
      "source": [
        "squares = [1, 4, 9, 16, 25]\n",
        "squares"
      ],
      "execution_count": null,
      "outputs": [
        {
          "output_type": "execute_result",
          "data": {
            "text/plain": [
              "[1, 4, 9, 16, 25]"
            ]
          },
          "metadata": {},
          "execution_count": 51
        }
      ]
    },
    {
      "cell_type": "markdown",
      "metadata": {
        "id": "THDVMuRLS_m-"
      },
      "source": [
        "Like strings (and all other built-in [sequence](https://docs.python.org/3.5/glossary.html#term-sequence) types), lists can be indexed and sliced:"
      ]
    },
    {
      "cell_type": "code",
      "metadata": {
        "id": "7MMMsv9tS_m-",
        "colab": {
          "base_uri": "https://localhost:8080/"
        },
        "outputId": "020a2ec6-c491-4a6e-b82a-bbc6a8175a69"
      },
      "source": [
        "squares[0]  # Indexing returns the item."
      ],
      "execution_count": null,
      "outputs": [
        {
          "output_type": "execute_result",
          "data": {
            "text/plain": [
              "1"
            ]
          },
          "metadata": {},
          "execution_count": 52
        }
      ]
    },
    {
      "cell_type": "code",
      "metadata": {
        "id": "gLSGx2rSS_m_",
        "colab": {
          "base_uri": "https://localhost:8080/"
        },
        "outputId": "d31a3ad0-6cc0-45a4-caf0-aef66e7f944a"
      },
      "source": [
        "squares[-1]"
      ],
      "execution_count": null,
      "outputs": [
        {
          "output_type": "execute_result",
          "data": {
            "text/plain": [
              "25"
            ]
          },
          "metadata": {},
          "execution_count": 53
        }
      ]
    },
    {
      "cell_type": "code",
      "metadata": {
        "id": "dt3j7UhaS_nA",
        "colab": {
          "base_uri": "https://localhost:8080/"
        },
        "outputId": "4a230e4c-f8f3-4f2a-fd88-e6b68e07a0de"
      },
      "source": [
        "squares[-3:]  # Slicing returns a new list."
      ],
      "execution_count": null,
      "outputs": [
        {
          "output_type": "execute_result",
          "data": {
            "text/plain": [
              "[9, 16, 25]"
            ]
          },
          "metadata": {},
          "execution_count": 54
        }
      ]
    },
    {
      "cell_type": "markdown",
      "metadata": {
        "id": "sSmqoVDzS_nB"
      },
      "source": [
        "All slice operations return a new list containing the requested elements. This means that the following slice returns a new (shallow) copy of the list:"
      ]
    },
    {
      "cell_type": "code",
      "metadata": {
        "id": "b_WFwjRpS_nB",
        "colab": {
          "base_uri": "https://localhost:8080/"
        },
        "outputId": "d271eb27-44af-41d0-f107-5424a969c473"
      },
      "source": [
        "squares[:]"
      ],
      "execution_count": null,
      "outputs": [
        {
          "output_type": "execute_result",
          "data": {
            "text/plain": [
              "[1, 4, 9, 16, 25]"
            ]
          },
          "metadata": {},
          "execution_count": 55
        }
      ]
    },
    {
      "cell_type": "markdown",
      "metadata": {
        "id": "LIj4X0NtS_nC"
      },
      "source": [
        "Lists also support concatenation with the `+` operator:"
      ]
    },
    {
      "cell_type": "code",
      "metadata": {
        "id": "j2N91LzbS_nC",
        "colab": {
          "base_uri": "https://localhost:8080/"
        },
        "outputId": "8364c5f3-a94a-4d22-d76d-b7ee1dba5572"
      },
      "source": [
        "squares + [36, 49, 64, 81, 100]"
      ],
      "execution_count": null,
      "outputs": [
        {
          "output_type": "execute_result",
          "data": {
            "text/plain": [
              "[1, 4, 9, 16, 25, 36, 49, 64, 81, 100]"
            ]
          },
          "metadata": {},
          "execution_count": 56
        }
      ]
    },
    {
      "cell_type": "markdown",
      "metadata": {
        "id": "vq6BbyAqS_nD"
      },
      "source": [
        "Unlike strings, which are [immutable](https://docs.python.org/3.5/glossary.html#term-immutable), lists are a [mutable](https://docs.python.org/3.5/glossary.html#term-mutable) type, which means you can change any value in the list:"
      ]
    },
    {
      "cell_type": "code",
      "metadata": {
        "id": "xZ1Zo_-GS_nD",
        "colab": {
          "base_uri": "https://localhost:8080/"
        },
        "outputId": "396386c3-8204-4f41-afea-cccd13507a1e"
      },
      "source": [
        "cubes = [1, 8, 27, 65, 125]  # Something's wrong here ...\n",
        "4 ** 3  # the cube of 4 is 64, not 65!"
      ],
      "execution_count": null,
      "outputs": [
        {
          "output_type": "execute_result",
          "data": {
            "text/plain": [
              "64"
            ]
          },
          "metadata": {},
          "execution_count": 57
        }
      ]
    },
    {
      "cell_type": "code",
      "metadata": {
        "id": "0tde-gz8S_nE",
        "colab": {
          "base_uri": "https://localhost:8080/"
        },
        "outputId": "23dd8124-c1f4-4f3e-c01b-2884ee7effc1"
      },
      "source": [
        "cubes[3] = 64  # Replace the wrong value.\n",
        "cubes"
      ],
      "execution_count": null,
      "outputs": [
        {
          "output_type": "execute_result",
          "data": {
            "text/plain": [
              "[1, 8, 27, 64, 125]"
            ]
          },
          "metadata": {},
          "execution_count": 58
        }
      ]
    },
    {
      "cell_type": "markdown",
      "metadata": {
        "id": "ejDA3coES_nF"
      },
      "source": [
        "Use the list's `append()` method to add new items to the end of the list:"
      ]
    },
    {
      "cell_type": "code",
      "metadata": {
        "id": "k8jD9bLSS_nF",
        "colab": {
          "base_uri": "https://localhost:8080/"
        },
        "outputId": "97207f68-f890-4106-f1a8-49ef25bf2549"
      },
      "source": [
        "# Append\n",
        "cubes.append('append me!')\n",
        "cubes.append(216)  # Add the cube of 6 ...\n",
        "cubes.append(7 ** 3)  # and the cube of 7.\n",
        "cubes"
      ],
      "execution_count": null,
      "outputs": [
        {
          "output_type": "execute_result",
          "data": {
            "text/plain": [
              "[1, 8, 27, 64, 125, 'append me!', 216, 343]"
            ]
          },
          "metadata": {},
          "execution_count": 59
        }
      ]
    },
    {
      "cell_type": "markdown",
      "metadata": {
        "id": "WZcjhx3bPVfV"
      },
      "source": [
        "Use **pop** to \"pop off\" an item from the list. By default pop takes off the last index, but you can also specify which index to pop off. Let's see an example:"
      ]
    },
    {
      "cell_type": "code",
      "metadata": {
        "id": "zx2uTMDJPVfa",
        "colab": {
          "base_uri": "https://localhost:8080/"
        },
        "outputId": "888b3d6e-0469-440a-b332-abe3926773b1"
      },
      "source": [
        "# Pop off the 0 indexed item\n",
        "cubes.pop(0)"
      ],
      "execution_count": null,
      "outputs": [
        {
          "output_type": "execute_result",
          "data": {
            "text/plain": [
              "1"
            ]
          },
          "metadata": {},
          "execution_count": 60
        }
      ]
    },
    {
      "cell_type": "code",
      "metadata": {
        "id": "bI8e-TIxPhLy"
      },
      "source": [
        "# Assign the popped element, remember default popped index is -1\n",
        "popped_item = cubes.pop()"
      ],
      "execution_count": null,
      "outputs": []
    },
    {
      "cell_type": "code",
      "metadata": {
        "id": "mOuvbl09PuY0",
        "colab": {
          "base_uri": "https://localhost:8080/",
          "height": 165
        },
        "outputId": "b2dfe3fb-1f5f-4fdd-a607-8cbbf187b66e"
      },
      "source": [
        "cubes[100] # This will throw an error because of list index out of range"
      ],
      "execution_count": null,
      "outputs": [
        {
          "output_type": "error",
          "ename": "IndexError",
          "evalue": "ignored",
          "traceback": [
            "\u001b[0;31m---------------------------------------------------------------------------\u001b[0m",
            "\u001b[0;31mIndexError\u001b[0m                                Traceback (most recent call last)",
            "\u001b[0;32m<ipython-input-62-6aa13b831e5c>\u001b[0m in \u001b[0;36m<module>\u001b[0;34m()\u001b[0m\n\u001b[0;32m----> 1\u001b[0;31m \u001b[0mcubes\u001b[0m\u001b[0;34m[\u001b[0m\u001b[0;36m100\u001b[0m\u001b[0;34m]\u001b[0m \u001b[0;31m# This will throw an error because of list index out of range\u001b[0m\u001b[0;34m\u001b[0m\u001b[0;34m\u001b[0m\u001b[0m\n\u001b[0m",
            "\u001b[0;31mIndexError\u001b[0m: list index out of range"
          ]
        }
      ]
    },
    {
      "cell_type": "markdown",
      "metadata": {
        "id": "MYQyVLnFS_nG"
      },
      "source": [
        "You can even assign to slices, which can change the size of the list or clear it entirely:"
      ]
    },
    {
      "cell_type": "code",
      "metadata": {
        "id": "97-K0A9BS_nH",
        "colab": {
          "base_uri": "https://localhost:8080/"
        },
        "outputId": "166d710a-8e31-4cc0-ab61-b00cebabdaa2"
      },
      "source": [
        "letters = ['a', 'b', 'c', 'd', 'e', 'f', 'g']\n",
        "letters"
      ],
      "execution_count": null,
      "outputs": [
        {
          "output_type": "execute_result",
          "data": {
            "text/plain": [
              "['a', 'b', 'c', 'd', 'e', 'f', 'g']"
            ]
          },
          "metadata": {},
          "execution_count": 63
        }
      ]
    },
    {
      "cell_type": "code",
      "metadata": {
        "id": "5zOvLLOSS_nH",
        "colab": {
          "base_uri": "https://localhost:8080/"
        },
        "outputId": "3f4c1ede-0426-4781-d0bc-38b3f4c507ed"
      },
      "source": [
        "# Replace some values.\n",
        "letters[2:5] = ['C', 'D', 'E']\n",
        "letters"
      ],
      "execution_count": null,
      "outputs": [
        {
          "output_type": "execute_result",
          "data": {
            "text/plain": [
              "['a', 'b', 'C', 'D', 'E', 'f', 'g']"
            ]
          },
          "metadata": {},
          "execution_count": 64
        }
      ]
    },
    {
      "cell_type": "code",
      "metadata": {
        "id": "EFdJEVhXS_nI",
        "colab": {
          "base_uri": "https://localhost:8080/"
        },
        "outputId": "ff8568a4-ea9a-45e2-daea-c6582bbcba9c"
      },
      "source": [
        "# Now remove them.\n",
        "letters[2:5] = []\n",
        "letters"
      ],
      "execution_count": null,
      "outputs": [
        {
          "output_type": "execute_result",
          "data": {
            "text/plain": [
              "['a', 'b', 'f', 'g']"
            ]
          },
          "metadata": {},
          "execution_count": 65
        }
      ]
    },
    {
      "cell_type": "code",
      "metadata": {
        "id": "p0rXHdl0S_nJ",
        "colab": {
          "base_uri": "https://localhost:8080/"
        },
        "outputId": "0a52ef91-55d1-4192-950d-1ba51cf2084a"
      },
      "source": [
        "# Clear the list by replacing all the elements with an empty list.\n",
        "letters[:] = []\n",
        "letters"
      ],
      "execution_count": null,
      "outputs": [
        {
          "output_type": "execute_result",
          "data": {
            "text/plain": [
              "[]"
            ]
          },
          "metadata": {},
          "execution_count": 66
        }
      ]
    },
    {
      "cell_type": "markdown",
      "metadata": {
        "id": "WCqvpLCDS_nK"
      },
      "source": [
        "The built-in [`len()`](https://docs.python.org/3.5/library/functions.html#len) function also applies to lists:"
      ]
    },
    {
      "cell_type": "code",
      "metadata": {
        "id": "G0k_aKdDS_nK",
        "colab": {
          "base_uri": "https://localhost:8080/"
        },
        "outputId": "5b7ed96d-4e83-4a69-b6da-7f03228d9a12"
      },
      "source": [
        "letters = ['a', 'b', 'c', 'd']\n",
        "len(letters)"
      ],
      "execution_count": null,
      "outputs": [
        {
          "output_type": "execute_result",
          "data": {
            "text/plain": [
              "4"
            ]
          },
          "metadata": {},
          "execution_count": 67
        }
      ]
    },
    {
      "cell_type": "markdown",
      "metadata": {
        "id": "LNpGWsNvS_nL"
      },
      "source": [
        "You can nest lists, which means to create lists that contain other lists. For example:"
      ]
    },
    {
      "cell_type": "code",
      "metadata": {
        "id": "nnWw5HUaS_nL",
        "colab": {
          "base_uri": "https://localhost:8080/"
        },
        "outputId": "e7e0a597-4e32-4553-c4e2-5d7cdb5bc217"
      },
      "source": [
        "a = ['a', 'b', 'c']\n",
        "n = [1, 2, 3]\n",
        "x = [a, n]\n",
        "x"
      ],
      "execution_count": null,
      "outputs": [
        {
          "output_type": "execute_result",
          "data": {
            "text/plain": [
              "[['a', 'b', 'c'], [1, 2, 3]]"
            ]
          },
          "metadata": {},
          "execution_count": 68
        }
      ]
    },
    {
      "cell_type": "code",
      "metadata": {
        "id": "-fMYgGlxS_nM",
        "colab": {
          "base_uri": "https://localhost:8080/"
        },
        "outputId": "ff6eeb97-eb02-4dc5-d48f-365320810c4e"
      },
      "source": [
        "x[0]"
      ],
      "execution_count": null,
      "outputs": [
        {
          "output_type": "execute_result",
          "data": {
            "text/plain": [
              "['a', 'b', 'c']"
            ]
          },
          "metadata": {},
          "execution_count": 69
        }
      ]
    },
    {
      "cell_type": "code",
      "metadata": {
        "id": "Cz1OzLIaS_nM",
        "colab": {
          "base_uri": "https://localhost:8080/",
          "height": 35
        },
        "outputId": "b2fb7289-4b1e-4d84-a187-effcb873aea3"
      },
      "source": [
        "x[0][1]"
      ],
      "execution_count": null,
      "outputs": [
        {
          "output_type": "execute_result",
          "data": {
            "text/plain": [
              "'b'"
            ],
            "application/vnd.google.colaboratory.intrinsic+json": {
              "type": "string"
            }
          },
          "metadata": {},
          "execution_count": 70
        }
      ]
    },
    {
      "cell_type": "markdown",
      "metadata": {
        "id": "BRBc_CUAydwF"
      },
      "source": [
        "### Basic List Methods\n",
        "\n",
        "If you are familiar with another programming language, you might start to draw parallels between arrays in another language and lists in Python. Lists in Python however, tend to be more flexible than arrays in other languages for a two good reasons: they have no fixed size (meaning we don't have to specify how big a list will be), and they have no fixed type constraint (like we've seen above).\n",
        "\n",
        "Let's go ahead and explore some more special methods for lists:"
      ]
    },
    {
      "cell_type": "markdown",
      "metadata": {
        "id": "pwVOWS5Iydwf"
      },
      "source": [
        "It should also be noted that lists indexing will return an error if there is no element at that index. For example:"
      ]
    },
    {
      "cell_type": "markdown",
      "metadata": {
        "id": "e3fWU6Uiydwi"
      },
      "source": [
        "We can use the **sort** method and the **reverse** methods to also effect your lists:"
      ]
    },
    {
      "cell_type": "code",
      "metadata": {
        "id": "eBHq6-nuydwi"
      },
      "source": [
        "new_list = ['a','e','x','b','c']"
      ],
      "execution_count": null,
      "outputs": []
    },
    {
      "cell_type": "code",
      "metadata": {
        "id": "f8ralE2qydwl",
        "colab": {
          "base_uri": "https://localhost:8080/"
        },
        "outputId": "7d2869a6-dbbc-4c2c-fccb-2dc430ab36f5"
      },
      "source": [
        "#Show\n",
        "new_list"
      ],
      "execution_count": null,
      "outputs": [
        {
          "output_type": "execute_result",
          "data": {
            "text/plain": [
              "['a', 'e', 'x', 'b', 'c']"
            ]
          },
          "metadata": {},
          "execution_count": 84
        }
      ]
    },
    {
      "cell_type": "code",
      "metadata": {
        "id": "uYbiwQbsydwn"
      },
      "source": [
        "# Use reverse to reverse order (this is permanent!)\n",
        "new_list.reverse()"
      ],
      "execution_count": null,
      "outputs": []
    },
    {
      "cell_type": "code",
      "metadata": {
        "id": "cIYSsif1ydwq",
        "colab": {
          "base_uri": "https://localhost:8080/"
        },
        "outputId": "9f5f11c9-8168-4818-bedf-214e0053a431"
      },
      "source": [
        "new_list"
      ],
      "execution_count": null,
      "outputs": [
        {
          "output_type": "execute_result",
          "data": {
            "text/plain": [
              "['c', 'b', 'x', 'e', 'a']"
            ]
          },
          "metadata": {},
          "execution_count": 86
        }
      ]
    },
    {
      "cell_type": "code",
      "metadata": {
        "id": "cHOmz4TBydws"
      },
      "source": [
        "# Use sort to sort the list (in this case alphabetical order, but for numbers it will go ascending)\n",
        "new_list.sort()"
      ],
      "execution_count": null,
      "outputs": []
    },
    {
      "cell_type": "code",
      "metadata": {
        "id": "FCTgeJAWydwu",
        "colab": {
          "base_uri": "https://localhost:8080/"
        },
        "outputId": "ccc9a272-82df-4090-d129-bb93d8137c64"
      },
      "source": [
        "new_list"
      ],
      "execution_count": null,
      "outputs": [
        {
          "output_type": "execute_result",
          "data": {
            "text/plain": [
              "['a', 'b', 'c', 'e', 'x']"
            ]
          },
          "metadata": {},
          "execution_count": 82
        }
      ]
    },
    {
      "cell_type": "markdown",
      "metadata": {
        "id": "ab7DE9Huydwx"
      },
      "source": [
        "### Nesting Lists\n",
        "A great feature of of Python data structures is that they support *nesting*. This means we can have data structures within data structures. For example: A list inside a list.\n",
        "\n",
        "Let's see how this works!"
      ]
    },
    {
      "cell_type": "code",
      "metadata": {
        "id": "R4lSShDwydwx"
      },
      "source": [
        "# Let's make three lists\n",
        "lst_1=[1,2,3]\n",
        "lst_2=[4,5,6]\n",
        "lst_3=[7,8,9]\n",
        "\n",
        "# Make a list of lists to form a matrix\n",
        "matrix = [lst_1,lst_2,lst_3]"
      ],
      "execution_count": null,
      "outputs": []
    },
    {
      "cell_type": "code",
      "metadata": {
        "id": "Gb7VsABAydw0",
        "colab": {
          "base_uri": "https://localhost:8080/"
        },
        "outputId": "b76c934d-56bf-4aa5-e6e0-d7ea58a9c738"
      },
      "source": [
        "# Show\n",
        "matrix"
      ],
      "execution_count": null,
      "outputs": [
        {
          "output_type": "execute_result",
          "data": {
            "text/plain": [
              "[[1, 2, 3], [4, 5, 6], [7, 8, 9]]"
            ]
          },
          "metadata": {},
          "execution_count": 89
        }
      ]
    },
    {
      "cell_type": "markdown",
      "metadata": {
        "id": "KlxLuvJDydw2"
      },
      "source": [
        "We can again use indexing to grab elements, but now there are two levels for the index. The items in the matrix object, and then the items inside that list!"
      ]
    },
    {
      "cell_type": "code",
      "metadata": {
        "id": "e0aBvoUOydw2",
        "colab": {
          "base_uri": "https://localhost:8080/"
        },
        "outputId": "24251f42-a638-4a73-f17f-343914b01ecc"
      },
      "source": [
        "# Grab first item in matrix object\n",
        "matrix[0]"
      ],
      "execution_count": null,
      "outputs": [
        {
          "output_type": "execute_result",
          "data": {
            "text/plain": [
              "[1, 2, 3]"
            ]
          },
          "metadata": {},
          "execution_count": 90
        }
      ]
    },
    {
      "cell_type": "code",
      "metadata": {
        "id": "e7dVwdYCydw5",
        "colab": {
          "base_uri": "https://localhost:8080/"
        },
        "outputId": "45e69fb3-44f4-4211-b643-a1f0fefc3c68"
      },
      "source": [
        "# Grab first item of the first item in the matrix object\n",
        "matrix[0][0]"
      ],
      "execution_count": null,
      "outputs": [
        {
          "output_type": "execute_result",
          "data": {
            "text/plain": [
              "1"
            ]
          },
          "metadata": {},
          "execution_count": 91
        }
      ]
    },
    {
      "cell_type": "markdown",
      "metadata": {
        "id": "hCwTsUSM7pJH"
      },
      "source": [
        "### Dictionaries\n",
        "\n",
        "We've been learning about *sequences* in Python but now we're going to switch gears and learn about *mappings* in Python. If you're familiar with other languages you can think of these Dictionaries as hash tables.\n",
        "\n",
        "This section will serve as a brief introduction to dictionaries and consist of:\n",
        "\n",
        "    1.) Constructing a Dictionary\n",
        "    2.) Accessing objects from a dictionary\n",
        "    3.) Nesting Dictionaries\n",
        "    4.) Basic Dictionary Methods\n",
        "\n",
        "So what are mappings? Mappings are a collection of objects that are stored by a *key*, unlike a sequence that stored objects by their relative position. This is an important distinction, since mappings won't retain order since they have objects defined by a key.\n",
        "\n",
        "A Python dictionary consists of a key and then an associated value. That value can be almost any Python object.\n",
        "\n",
        "\n",
        "## Constructing a Dictionary\n",
        "Let's see how we can construct dictionaries to get a better understanding of how they work!"
      ]
    },
    {
      "cell_type": "code",
      "metadata": {
        "id": "VyGszYeu7pJI"
      },
      "source": [
        "# Make a dictionary with {} and : to signify a key and a value\n",
        "my_dict = {'key1':'value1','key2':'value2'}"
      ],
      "execution_count": null,
      "outputs": []
    },
    {
      "cell_type": "code",
      "metadata": {
        "id": "KeYJ5k_Q7pJL",
        "colab": {
          "base_uri": "https://localhost:8080/",
          "height": 35
        },
        "outputId": "54cada04-3f0e-4ada-8dc1-a190192225f5"
      },
      "source": [
        "# Call values by their key\n",
        "my_dict['key2']"
      ],
      "execution_count": null,
      "outputs": [
        {
          "output_type": "execute_result",
          "data": {
            "text/plain": [
              "'value2'"
            ],
            "application/vnd.google.colaboratory.intrinsic+json": {
              "type": "string"
            }
          },
          "metadata": {},
          "execution_count": 93
        }
      ]
    },
    {
      "cell_type": "markdown",
      "metadata": {
        "id": "C_pal7y57pJO"
      },
      "source": [
        "Its important to note that dictionaries are very flexible in the data types they can hold. For example:"
      ]
    },
    {
      "cell_type": "code",
      "metadata": {
        "id": "q37vEMyJ7pJP"
      },
      "source": [
        "my_dict = {'key1':123,'key2':[12,23,33],'key3':['item0','item1','item2']}"
      ],
      "execution_count": null,
      "outputs": []
    },
    {
      "cell_type": "code",
      "metadata": {
        "id": "TbkVgp5-7pJS",
        "colab": {
          "base_uri": "https://localhost:8080/"
        },
        "outputId": "f0c71313-b09f-4813-9c26-7023d035392a"
      },
      "source": [
        "# Let's call items from the dictionary\n",
        "my_dict['key3']"
      ],
      "execution_count": null,
      "outputs": [
        {
          "output_type": "execute_result",
          "data": {
            "text/plain": [
              "['item0', 'item1', 'item2']"
            ]
          },
          "metadata": {},
          "execution_count": 95
        }
      ]
    },
    {
      "cell_type": "code",
      "metadata": {
        "id": "ZasU5MpB7pJV",
        "colab": {
          "base_uri": "https://localhost:8080/",
          "height": 35
        },
        "outputId": "d317d0a4-c242-42b7-d096-c94bd63b4e3d"
      },
      "source": [
        "# Can call an index on that value\n",
        "my_dict['key3'][0]"
      ],
      "execution_count": null,
      "outputs": [
        {
          "output_type": "execute_result",
          "data": {
            "text/plain": [
              "'item0'"
            ],
            "application/vnd.google.colaboratory.intrinsic+json": {
              "type": "string"
            }
          },
          "metadata": {},
          "execution_count": 96
        }
      ]
    },
    {
      "cell_type": "code",
      "metadata": {
        "id": "y7TsHWV47pJX",
        "colab": {
          "base_uri": "https://localhost:8080/",
          "height": 35
        },
        "outputId": "5b8669df-50d6-4824-fcc9-5f14bbf95c86"
      },
      "source": [
        "# Can then even call methods on that value\n",
        "my_dict['key3'][0].upper()"
      ],
      "execution_count": null,
      "outputs": [
        {
          "output_type": "execute_result",
          "data": {
            "text/plain": [
              "'ITEM0'"
            ],
            "application/vnd.google.colaboratory.intrinsic+json": {
              "type": "string"
            }
          },
          "metadata": {},
          "execution_count": 97
        }
      ]
    },
    {
      "cell_type": "markdown",
      "metadata": {
        "id": "Ba1M-6Yi7pJb"
      },
      "source": [
        "We can affect the values of a key as well. For instance:"
      ]
    },
    {
      "cell_type": "code",
      "metadata": {
        "id": "TS6aI32M7pJb",
        "colab": {
          "base_uri": "https://localhost:8080/"
        },
        "outputId": "87332ff9-eb3e-4bfd-d15a-fa01f0ecff5d"
      },
      "source": [
        "my_dict['key1']"
      ],
      "execution_count": null,
      "outputs": [
        {
          "output_type": "execute_result",
          "data": {
            "text/plain": [
              "123"
            ]
          },
          "metadata": {},
          "execution_count": 98
        }
      ]
    },
    {
      "cell_type": "code",
      "metadata": {
        "id": "aWpHZcwG7pJe"
      },
      "source": [
        "# Subtract 123 from the value\n",
        "my_dict['key1'] = my_dict['key1'] - 123"
      ],
      "execution_count": null,
      "outputs": []
    },
    {
      "cell_type": "code",
      "metadata": {
        "id": "xG5yEsMC7pJh",
        "colab": {
          "base_uri": "https://localhost:8080/"
        },
        "outputId": "276f3736-d0b7-4d87-b455-b97670011aca"
      },
      "source": [
        "#Check\n",
        "my_dict['key1']"
      ],
      "execution_count": null,
      "outputs": [
        {
          "output_type": "execute_result",
          "data": {
            "text/plain": [
              "0"
            ]
          },
          "metadata": {},
          "execution_count": 100
        }
      ]
    },
    {
      "cell_type": "markdown",
      "metadata": {
        "id": "iqLy9B_37pJj"
      },
      "source": [
        "A quick note, Python has a built-in method of doing a self subtraction or addition (or multiplication or division). We could have also used += or -= for the above statement. For example:"
      ]
    },
    {
      "cell_type": "code",
      "metadata": {
        "id": "XjW_-45p7pJk",
        "colab": {
          "base_uri": "https://localhost:8080/"
        },
        "outputId": "536833d0-de08-47c1-b388-751aacea9da9"
      },
      "source": [
        "# Set the object equal to itself minus 123\n",
        "my_dict['key1'] -= 123\n",
        "my_dict['key1']"
      ],
      "execution_count": null,
      "outputs": [
        {
          "output_type": "execute_result",
          "data": {
            "text/plain": [
              "-123"
            ]
          },
          "metadata": {},
          "execution_count": 101
        }
      ]
    },
    {
      "cell_type": "markdown",
      "metadata": {
        "id": "YWSZyICP7pJm"
      },
      "source": [
        "We can also create keys by assignment. For instance if we started off with an empty dictionary, we could continually add to it:"
      ]
    },
    {
      "cell_type": "code",
      "metadata": {
        "id": "iCv5EgmJ7pJo"
      },
      "source": [
        "# Create a new dictionary\n",
        "d = {}"
      ],
      "execution_count": null,
      "outputs": []
    },
    {
      "cell_type": "code",
      "metadata": {
        "id": "iA2kF8p97pJr"
      },
      "source": [
        "# Create a new key through assignment\n",
        "d['animal'] = 'Dog'"
      ],
      "execution_count": null,
      "outputs": []
    },
    {
      "cell_type": "code",
      "metadata": {
        "id": "mFzx97IG7pJu"
      },
      "source": [
        "# Can do this with any object\n",
        "d['answer'] = 42"
      ],
      "execution_count": null,
      "outputs": []
    },
    {
      "cell_type": "code",
      "metadata": {
        "id": "dAbBtBhO7pJx",
        "colab": {
          "base_uri": "https://localhost:8080/"
        },
        "outputId": "a8f823b7-7207-40df-a317-da00068f2b17"
      },
      "source": [
        "#Show\n",
        "d"
      ],
      "execution_count": null,
      "outputs": [
        {
          "output_type": "execute_result",
          "data": {
            "text/plain": [
              "{'animal': 'Dog', 'answer': 42}"
            ]
          },
          "metadata": {},
          "execution_count": 105
        }
      ]
    },
    {
      "cell_type": "markdown",
      "metadata": {
        "id": "QC0bduJU7pJ1"
      },
      "source": [
        "### Nesting with Dictionaries\n",
        "\n",
        "Hopefully you're starting to see how powerful Python is with its flexibility of nesting objects and calling methods on them. Let's see a dictionary nested inside a dictionary:"
      ]
    },
    {
      "cell_type": "code",
      "metadata": {
        "id": "nlnyFtRQ7pJ1"
      },
      "source": [
        "# Dictionary nested inside a dictionary nested inside a dictionary\n",
        "d = {'key1':{'nestkey':{'subnestkey':'value'}}}"
      ],
      "execution_count": null,
      "outputs": []
    },
    {
      "cell_type": "markdown",
      "metadata": {
        "id": "O1fUFfwM7pJ4"
      },
      "source": [
        "Wow! That's a quite the inception of dictionaries! Let's see how we can grab that value:"
      ]
    },
    {
      "cell_type": "code",
      "metadata": {
        "id": "Q9Xz_-Rh7pJ5",
        "colab": {
          "base_uri": "https://localhost:8080/",
          "height": 35
        },
        "outputId": "94c30a65-15df-4b37-d8c7-7f127c87fd24"
      },
      "source": [
        "# Keep calling the keys\n",
        "d['key1']['nestkey']['subnestkey']"
      ],
      "execution_count": null,
      "outputs": [
        {
          "output_type": "execute_result",
          "data": {
            "text/plain": [
              "'value'"
            ],
            "application/vnd.google.colaboratory.intrinsic+json": {
              "type": "string"
            }
          },
          "metadata": {},
          "execution_count": 107
        }
      ]
    },
    {
      "cell_type": "markdown",
      "metadata": {
        "id": "Dj8lMPUT7pKB"
      },
      "source": [
        "### A few Dictionary Methods\n",
        "\n",
        "There are a few methods we can call on a dictionary. Let's get a quick introduction to a few of them:"
      ]
    },
    {
      "cell_type": "code",
      "metadata": {
        "id": "isBr7JzN7pKB"
      },
      "source": [
        "# Create a typical dictionary\n",
        "d = {'key1':1,'key2':2,'key3':3}"
      ],
      "execution_count": null,
      "outputs": []
    },
    {
      "cell_type": "code",
      "metadata": {
        "id": "Ct4hD3vm7pKD",
        "colab": {
          "base_uri": "https://localhost:8080/"
        },
        "outputId": "f54b314e-19a2-4b13-cc19-8a07da76398f"
      },
      "source": [
        "# Method to return a list of all keys\n",
        "d.keys()"
      ],
      "execution_count": null,
      "outputs": [
        {
          "output_type": "execute_result",
          "data": {
            "text/plain": [
              "dict_keys(['key1', 'key2', 'key3'])"
            ]
          },
          "metadata": {},
          "execution_count": 109
        }
      ]
    },
    {
      "cell_type": "code",
      "metadata": {
        "id": "ptCaoQYH7pKG",
        "colab": {
          "base_uri": "https://localhost:8080/"
        },
        "outputId": "01845631-34aa-48e4-f388-ee8d6ef82661"
      },
      "source": [
        "# Method to grab all values\n",
        "d.values()"
      ],
      "execution_count": null,
      "outputs": [
        {
          "output_type": "execute_result",
          "data": {
            "text/plain": [
              "dict_values([1, 2, 3])"
            ]
          },
          "metadata": {},
          "execution_count": 110
        }
      ]
    },
    {
      "cell_type": "code",
      "metadata": {
        "id": "ZpvOP-zq7pKI",
        "colab": {
          "base_uri": "https://localhost:8080/"
        },
        "outputId": "f0b3ff62-7ddc-41f2-dc85-c1b340747763"
      },
      "source": [
        "# Method to return tuples of all items  (we'll learn about tuples soon)\n",
        "d.items()"
      ],
      "execution_count": null,
      "outputs": [
        {
          "output_type": "execute_result",
          "data": {
            "text/plain": [
              "dict_items([('key1', 1), ('key2', 2), ('key3', 3)])"
            ]
          },
          "metadata": {},
          "execution_count": 111
        }
      ]
    },
    {
      "cell_type": "code",
      "metadata": {
        "id": "xx8NZT_U2KT6"
      },
      "source": [],
      "execution_count": null,
      "outputs": []
    }
  ]
}