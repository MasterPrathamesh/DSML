{
  "nbformat": 4,
  "nbformat_minor": 0,
  "metadata": {
    "colab": {
      "provenance": []
    },
    "kernelspec": {
      "name": "python3",
      "display_name": "Python 3"
    },
    "language_info": {
      "name": "python"
    }
  },
  "cells": [
    {
      "cell_type": "code",
      "execution_count": null,
      "metadata": {
        "colab": {
          "base_uri": "https://localhost:8080/"
        },
        "id": "rlFKKQ_Bgi_t",
        "outputId": "1ff99507-7f38-4320-9d73-e27ca9f20825"
      },
      "outputs": [
        {
          "output_type": "stream",
          "name": "stdout",
          "text": [
            "8\n",
            "True\n",
            "[34, 31, 40, 50, 60, 55]\n",
            "[2, 4, 6, 8, 10]\n",
            "[20, 40, 60, 80, 100, 120, 140, 160, 180, 200]\n",
            "[8, 64, 125, 216, 343, 512]\n",
            "87\n"
          ]
        },
        {
          "output_type": "execute_result",
          "data": {
            "text/plain": [
              "19"
            ]
          },
          "metadata": {},
          "execution_count": 31
        }
      ],
      "source": [
        "\"\"\"\n",
        "The lambda funciton :\n",
        "                    - A lambda function is a anonymous function defined without a name and without using a \"def\" keyword .\n",
        "                    - A lamda funciton can take any number of arguments but can only have one expression .\n",
        "\n",
        "for ex : we have a add() function\n",
        "  def add(a,b):\n",
        "    return a+b\n",
        "\n",
        "  add(3,5)\n",
        "\n",
        "\n",
        "-we can write the above funciton with the help of lambda function.\n",
        "\n",
        "for ex :\n",
        "      add = lambda a,b: a+b --> this will print the ans in one line .\n",
        "\n",
        "\n",
        "\n",
        "- Their is an another way to explicitly call the lambda function .\n",
        "- for ex :\n",
        "\n",
        "(lambda c,d: c+d) (5,3) --> this wil explicitly call the lambda function .\n",
        "\n",
        "\n",
        "- we can also do this with the help of keyword arguments .\n",
        "- for ex :\n",
        "          mul = lambda x,y,z : x*y*z\n",
        "          mul(z=4,y=10,x=15) --> will return the ans 600 .\n",
        "\n",
        "\n",
        "-we can also do this for default arguments .\n",
        "for ex:\n",
        "\n",
        "  multiply = lambda p,q = 10,r = 20: p*q*r\n",
        "  multiply(10) --> will return the ans 2000 .\n",
        "\n",
        "\n",
        "*The lambda function can work on n no. of arguments but the expression will remain same.\n",
        "- for this while declaring the variables after we write lambda we can write \" *args\" .\n",
        "for ex :\n",
        "  addition = lambda *args: sum(agrs)\n",
        "  addition(20,10,34,50)\n",
        "\n",
        "\n",
        "-we can also do this with the help of higher order function.\n",
        "for ex :\n",
        "  higher_ord_fun = lambda x : x + fun(x)\n",
        "  higher_ord_fun(20, lambda x : x*x)\n",
        "\n",
        "- we can also check the even and odd from the lambda function .\n",
        "for ex :\n",
        "  (lambda x : (x % 2 and 'odd' or 'even' )) (15)\n",
        "\n",
        "- we can also check whether the string is present in the lines or not .\n",
        "for ex :\n",
        "      sub_string = lambda string : string in \"Hey! My Instagram's id is prathameshdeshmukhofficial \" # here we will check for the string \"Instagram\"\n",
        "      print(sub_string('Instagram'))--> will return True if the string is present else it will return False .\n",
        "\n",
        "\"\"\"\n",
        "\n",
        "\n",
        "add = lambda a,b:a+b\n",
        "print(add(5,3)) # we can simply write add(5,3) then also it will print the value .\n",
        "\n",
        "(lambda c,d: c+d) (5,3) # this will also return the output 8.\n",
        "\n",
        "mul = lambda x,y,z : x*y*z  # this is done with the help of keyword arguments , will return the ans 600 .\n",
        "mul(z=4,y=10,x=15)\n",
        "\n",
        "multiply = lambda p,q = 10,r = 20: p*q*r # this is done with the help of default arguments.\n",
        "multiply(10)\n",
        "\n",
        "#add = lambda *args: sum(args) # this is done with the help of * sign which can take \"n\" no. of arguments.\n",
        "#add(20,10,34,50) # -- will return the ans 114.\n",
        "\n",
        "higher_ord_fun = lambda x,fun : x + fun(x) # this is also called as higher order function .\n",
        "higher_ord_fun(20, lambda x : x*x) # ---> will return ans 420 .\n",
        "\n",
        "(lambda x : (x % 2 and 'odd' or 'even' )) (15) # will return if the no. is even or odd .\n",
        "\n",
        "sub_string = lambda string : string in \"Hey! My Instagram's id is prathameshdeshmukhofficial \"\n",
        "print(sub_string('Instagram')) # this will return the ans in boolean , if the string is present then it will return 'True' else 'False' .\n",
        "\n",
        "\n",
        "\n",
        "# =======================\n",
        "\n",
        "# now well see the use of filter() function .\n",
        "\"\"\"\n",
        "The filter() function in Python is used to filter a list based on a given condition.\n",
        "In a lambda function, the filter() function can be used to filter a list of elements based on a lambda expression.\n",
        "\n",
        "\"\"\"\n",
        "# for ex :\n",
        "num = [10,20,27,25,34,31,40,50,60,55]\n",
        "\n",
        "greater = list(filter(lambda num: num > 30 , num))\n",
        "print(greater) # --> this will return the values which will be greater than 30 in the form of list .\n",
        "\n",
        "\n",
        "# ex 2 :\n",
        "\n",
        "numbers = [1, 2, 3, 4, 5, 6, 7, 8, 9, 10]\n",
        "\n",
        "even_numbers = list(filter(lambda x: x % 2 == 0, numbers))\n",
        "print(even_numbers) # this will return the no's which is divisible by 2 .\n",
        "\n",
        "# ===================\n",
        "\n",
        "# now we'll learn about the map() function .\n",
        "\"\"\"\n",
        "-The map() function in Python is used to apply a function to each element of an iterable and return a new list with the results.\n",
        "-The function that is applied to each element is called the \"mapping function\".\n",
        "\n",
        "\"\"\"\n",
        "# for ex : we'll try to double the no's present in the list .\n",
        "list1 = [1, 2, 3, 4, 5, 6, 7, 8, 9, 10]\n",
        "\n",
        "double = list(map(lambda x : x * 20 , list1))\n",
        "print(double) # this wil return the double of the no's present in the list .\n",
        "\n",
        "\n",
        "# for ex 2 :\n",
        "# we can find the x^3 for each elemet of the list using map() function .\n",
        "list2 = [2,4,5,6,7,8]\n",
        "\n",
        "cube = list(map(lambda x: pow(x,3),list2)) # pow() is the default function which we are using .\n",
        "print(cube)\n",
        "\n",
        "\n",
        "# ===================\n",
        "\n",
        "# now we'll learn about the reduce function .\n",
        "#The reduce() function in Python is used to apply a function to a sequence of values, reducing them to a single value.\n",
        "# The function takes two arguments: a function to apply and an iterable object.\n",
        "# The function is applied to the first two elements of the iterable, and the result is stored in a variable.\n",
        "#This result is then applied to the next two elements, and so on, until the end of the iterable is reached.\n",
        "# The final result is returned by the function.\n",
        "# The reduce() function is a built-in function in Python. It is available in the functools package.\n",
        "\n",
        "# for ex :\n",
        "\n",
        "from functools import reduce\n",
        "\n",
        "ls = [1,2,4,56,7,5,4,3,5]\n",
        "sum = reduce(lambda x,y: x + y , ls) # if we want to do the product of the no's present in the list , then we can just change the arithmetic operator on the place of +.\n",
        "print(sum) # it will add the no's present in the list and return a single value .\n",
        "\n",
        "\n",
        "# if we want to sove the quadratic equation with the help of lambda function then we can also do that .\n",
        "# for ex :\n",
        "\n",
        "def quadratic(a,b,c):\n",
        "  return lambda x : a*x**2 + b*x + c\n",
        "f = quadratic(2,3,5) # this are the values provided to a,b,c\n",
        "f(2) # this is the value of 'x'\n",
        "\n",
        "\n",
        "\n",
        "\n",
        "\n"
      ]
    },
    {
      "cell_type": "code",
      "source": [
        "# Exception handling in Python :\n",
        "\"\"\"\n",
        "-Exception is a runtime error that terminates the execution of the program .\n",
        "-Exception handling generates a message in correspondance to the occurance of an error and takes the right steps to handle it .\n",
        "\n",
        "- Basically there are three types of errors :\n",
        "    - Compile time errors.\n",
        "    - Logical errors.\n",
        "    - Runtime errors.\n",
        "\n",
        "\n",
        "- How exception handling works ?\n",
        "\n",
        "- try : Runs the code .\n",
        "- except : Error message or piece of code when their is an exception .\n",
        "- else : No exceptions ? Run this code .\n",
        "- finally : Always runs this code .\n",
        "\n",
        "\n",
        "- Points to Remember :\n",
        "- You can write try block without any except blocks .\n",
        "- You can write several except blocks for a single try block .\n",
        "- You can write multiple except blocks to handle multiple exceptions .\n",
        "- You can write exception as an object .\n",
        "- You can wrie multiple exception within tuple .\n",
        "\n",
        "\n",
        "\"\"\"\n",
        "\n",
        "#  For Example , firstly we can work on the simple code and try to work with zerodivisionerror :\n",
        "\n",
        "\"\"\"\n",
        "    a = 10\n",
        "    b = 0\n",
        "    c = a/b\n",
        "    print(c)\n",
        "\n",
        "    # By running the above code : we'll get the exception which is written below :\n",
        "\n",
        "ZeroDivisionError                         Traceback (most recent call last)\n",
        "<ipython-input-1-74c83f30c3dd> in <cell line: 34>()\n",
        "     32 a = 10\n",
        "     33 b = 0\n",
        "---> 34 c = a/b\n",
        "     35 print(c)\n",
        "     36\n",
        "\n",
        "ZeroDivisionError: division by zero\n",
        "\n",
        "\"\"\"\n",
        "\n",
        "# we'll try to handle the zerodivision error :\n",
        "\n",
        "# try:\n",
        "#   a = 10\n",
        "#   b = 0\n",
        "#   c = a/b\n",
        "#   print(c)\n",
        "# except:\n",
        "#   print(\"cannot divide the no. with zero\")\n",
        "# through the above code , we have handled the zerodivisionerror with a meaningfull message .\n",
        "\n",
        "\n",
        "# now we'll try to differently handle the same exception :\n",
        "\n",
        "a = 70\n",
        "b = 0\n",
        "try:\n",
        "  print(a/b)\n",
        "  print()\n",
        "except ZeroDivisionError:\n",
        "  print(\"Cannot divide the no. with zero..please use another no.\")\n",
        "\n",
        "\n",
        "# let's see another example :\n",
        "c = 30\n",
        "d = 5\n",
        "try:\n",
        "  print(c/d)\n",
        "  print('new line..')\n",
        "# here except block will not get executed as there was no exception .\n",
        "except ZeroDivisionError:\n",
        "  print(\"can't divide the no. with zero..use another no.\")\n",
        "\n",
        "print(\"completed\")\n",
        "\n",
        "\n",
        "# example no . 3 :\n",
        "\n",
        "e = 40\n",
        "f = 2\n",
        "try:\n",
        "  print(e/f)\n",
        "  print(\"new line..\")\n",
        "except Exception:\n",
        "  print(\"can't divide the no. with zero..\")\n",
        "  print(Exception) # we are printing Exception object .\n",
        "else:\n",
        "  print(\"we are in the else part ..\")\n",
        "\n",
        "\n",
        "# example no. 4:\n",
        "g = 45\n",
        "h = 0\n",
        "try:\n",
        "  print(g/h)\n",
        "  print(\"new line..\")\n",
        "except Exception as i:\n",
        "  print(\"can't divide the no. with zero.. Exception occurs as\",i )\n",
        "  print(Exception) # we are printing Exception object .\n",
        "else:\n",
        "  print(\"we are in the else part ..\")\n",
        "\n",
        "\n",
        "# example no. 5:\n",
        "j = 20\n",
        "k = 0\n",
        "try:\n",
        "  print(j/z)\n",
        "  print(\"new line..\")\n",
        "except Exception as a :\n",
        "  print(\"1. Don't divide a no. with zero ..\",a)\n",
        "except NameError as b : # as we can write multiple except blocks.\n",
        "  print(\"2. Name is not defined\",b)\n",
        "else :\n",
        "  print(\"We are in the else part ..\")\n",
        "\n",
        "\n",
        "\n",
        "# example:\n",
        "\n",
        "try:\n",
        "  j = 20\n",
        "  k = 0\n",
        "  print(j/k)\n",
        "  print(\"new line..\")\n",
        "except TypeError :\n",
        "  print(\"Unsupported operation ..\")\n",
        "except ZeroDivisionError: # as we can write multiple except blocks.\n",
        "  print(\"Division by zero is not allowed..\")\n",
        "else :\n",
        "  print(\"We are in the else part ..\")\n",
        "\n",
        "print(\"out of except blocks ..\")\n",
        "\n",
        "# We can also raise an exception :\n",
        "# for ex :\n",
        "\n",
        "# x = -20\n",
        "# if x < 0 :\n",
        "#   raise Exception(\"Sorry ! No numbers less than zero..\")\n",
        "\"\"\"\n",
        "The above code will run the code as follows ..\n",
        "Exception                                 Traceback (most recent call last)\n",
        "<ipython-input-19-fcbee94a2849> in <cell line: 150>()\n",
        "    149 x = -20\n",
        "    150 if x < 0 :\n",
        "--> 151   raise Exception(\"Sorry ! No numbers less than zero..\")\n",
        "    152\n",
        "    153\n",
        "\"\"\"\n",
        "\n",
        "# Exception: Sorry ! No numbers less than zero..\n",
        "\n",
        "\n",
        "\n",
        "\"\"\"\n",
        "An assertion error is an error that occurs when a condition is not met.\n",
        "In Python, assertions are used to check for errors at runtime.\n",
        "They can be useful for debugging code or for ensuring that certain conditions are always met.\n",
        "To create an assertion, you use the assert statement.\n",
        "The assert statement takes two arguments: the condition to be checked, and an optional message to be displayed if the condition is not met.\n",
        "\n",
        "\"\"\"\n",
        "# import sys\n",
        "# assert(\"windows\" in sys.platform),\"compatible with windows only..\"\n",
        "# the above code will throw the assertion error as follows :\n",
        "\n",
        "# AssertionError                            Traceback (most recent call last)\n",
        "# <ipython-input-21-9dc40e80ff4b> in <cell line: 166>()\n",
        "#     164\n",
        "#     165 import sys\n",
        "# --> 166 assert(\"windows\" in sys.platform),\"compatible with windows only..\"\n",
        "#     167\n",
        "#     168\n",
        "\n",
        "# AssertionError: compatible with windows only..\n",
        "\n",
        "\n",
        "#  another example :\n",
        "# z = -2\n",
        "# assert z > 0, \"z must be greater than 0\"\n",
        "\n",
        "# the above code will give output as :\n",
        "\n",
        "\"\"\"\n",
        "AssertionError                            Traceback (most recent call last)\n",
        "<ipython-input-23-7726d838536c> in <cell line: 189>()\n",
        "    187\n",
        "    188 z = -2\n",
        "--> 189 assert z > 0, \"z must be greater than 0\"\n",
        "    190\n",
        "    191\n",
        "\n",
        "AssertionError: z must be greater than 0\n",
        "\n",
        "\"\"\"\n",
        "\n",
        "# things to do tomorrow :\n",
        "# numpy in python .\n",
        "\n",
        "\n",
        "\n",
        "\n"
      ],
      "metadata": {
        "id": "glr8L-mj4x1k",
        "colab": {
          "base_uri": "https://localhost:8080/",
          "height": 295
        },
        "outputId": "9ca9ea16-619a-4c41-d7bf-c996f04d873f"
      },
      "execution_count": null,
      "outputs": [
        {
          "output_type": "stream",
          "name": "stdout",
          "text": [
            "Cannot divide the no. with zero..please use another no.\n",
            "6.0\n",
            "new line..\n",
            "completed\n",
            "20.0\n",
            "new line..\n",
            "we are in the else part ..\n",
            "can't divide the no. with zero.. Exception occurs as division by zero\n",
            "<class 'Exception'>\n",
            "-10.0\n",
            "new line..\n",
            "We are in the else part ..\n",
            "Division by zero is not allowed..\n",
            "out of except blocks ..\n"
          ]
        },
        {
          "output_type": "execute_result",
          "data": {
            "text/plain": [
              "'\\nAssertionError                            Traceback (most recent call last)\\n<ipython-input-23-7726d838536c> in <cell line: 189>()\\n    187 \\n    188 z = -2\\n--> 189 assert z > 0, \"z must be greater than 0\"\\n    190 \\n    191 \\n\\nAssertionError: z must be greater than 0\\n\\n'"
            ],
            "application/vnd.google.colaboratory.intrinsic+json": {
              "type": "string"
            }
          },
          "metadata": {},
          "execution_count": 24
        }
      ]
    },
    {
      "cell_type": "code",
      "source": [
        "# Numpy :\n",
        "\n",
        "\"\"\"\n",
        "- Numpy is a core library for scientific and numerical computing in python .\n",
        "- It provides high-performancee multidimensional array object and tools for working with arrays .\n",
        "- Numpy's main object is the multidimensional array .\n",
        "- It is a table of elements (usually numbers) , all of the same type , indexed by a tuple of positive integers .\n",
        "- In Numpy dimensions are called as 'axes' .\n",
        "\n",
        "* Numpy array  v/s  Python list :\n",
        "  - why should we use Numpy array when we have python list ?\n",
        "-->   - Fast\n",
        "      - Convenient\n",
        "      - Less Memory .\n",
        "\n",
        "\"\"\"\n",
        "\n",
        "\n",
        "import numpy as np\n",
        "a = np.array([1,2,3,4,5,6])\n",
        "i = 0\n",
        "while i<5:\n",
        "  print(a[i])\n",
        "  i = i + 1\n",
        "\n",
        "print(\"here are the array elements\")\n",
        "\n",
        "print(a.shape)\n",
        "print(a.size)\n",
        "print(a.itemsize)\n"
      ],
      "metadata": {
        "colab": {
          "base_uri": "https://localhost:8080/"
        },
        "id": "4VZODnnIzQvl",
        "outputId": "8bc4f934-ad18-4832-dd19-9db003e59123"
      },
      "execution_count": null,
      "outputs": [
        {
          "output_type": "stream",
          "name": "stdout",
          "text": [
            "1\n",
            "2\n",
            "3\n",
            "4\n",
            "5\n",
            "here are the array elements\n",
            "(6,)\n",
            "6\n",
            "8\n"
          ]
        }
      ]
    },
    {
      "cell_type": "code",
      "source": [
        "b =np.array([[1,2],[3,4],[5,6],[7,8]])\n",
        "print(b)\n",
        "print(b.ndim)\n",
        "print()\n",
        "\n",
        "print(np.zeros((3,4)))\n",
        "print()\n",
        "print(np.ones((3,4)))\n",
        "print()\n",
        "\n",
        "np.arange(6)\n",
        "\n",
        "# concatination example :\n",
        "print(np.char.add([\"hello, hi\"],[\"abc\",\"xyz\"]))\n",
        "print()\n",
        "print(np.char.center('hello', 20, fillchar = '-'))\n",
        "print()\n",
        "print(np.char.capitalize('hello world'))\n",
        "print()\n",
        "print(np.char.title(\"How are you doing ?\"))\n",
        "print()\n",
        "print(np.char.lower(\"HELLO\"))\n",
        "print()\n",
        "print(np.char.upper(\"hello world!!\"))\n",
        "print()\n",
        "print(np.char.split(\"are you coming to party ? \"))\n",
        "print()\n",
        "print(np.char.splitlines(\"hello\\nhow are you doing ? \"))\n",
        "print()\n",
        "print(np.char.strip([\"Hello world!\"]))\n",
        "print()\n",
        "print(np.char.join([':','-'],['dmy','ymd']))\n",
        "print()\n",
        "print(np.char.replace(\"Prathamesh is a smart student\",\"is\",\"was\"))"
      ],
      "metadata": {
        "colab": {
          "base_uri": "https://localhost:8080/"
        },
        "id": "i8wAihUR_9M7",
        "outputId": "83069c18-7131-48a1-c8b1-7aeecb951324"
      },
      "execution_count": null,
      "outputs": [
        {
          "output_type": "stream",
          "name": "stdout",
          "text": [
            "[[1 2]\n",
            " [3 4]\n",
            " [5 6]\n",
            " [7 8]]\n",
            "2\n",
            "\n",
            "[[0. 0. 0. 0.]\n",
            " [0. 0. 0. 0.]\n",
            " [0. 0. 0. 0.]]\n",
            "\n",
            "[[1. 1. 1. 1.]\n",
            " [1. 1. 1. 1.]\n",
            " [1. 1. 1. 1.]]\n",
            "\n",
            "['hello, hiabc' 'hello, hixyz']\n",
            "\n",
            "-------hello--------\n",
            "\n",
            "Hello world\n",
            "\n",
            "How Are You Doing ?\n",
            "\n",
            "hello\n",
            "\n",
            "HELLO WORLD!!\n",
            "\n",
            "['are', 'you', 'coming', 'to', 'party', '?']\n",
            "\n",
            "['hello', 'how are you doing ? ']\n",
            "\n",
            "['Hello world!']\n",
            "\n",
            "['d:m:y' 'y-m-d']\n",
            "\n",
            "Prathamesh was a smart student\n"
          ]
        }
      ]
    },
    {
      "cell_type": "code",
      "source": [
        "# Array Manipulation : changing shape .\n",
        "\n",
        "import numpy as np\n",
        "\n",
        "a = np.arange(9)\n",
        "print(\"The original array is: \")\n",
        "print(a)\n",
        "\n",
        "b = a.reshape(3,3)\n",
        "print(\"The modified array is : \")\n",
        "print(b)\n",
        "print()\n",
        "print(b.flatten())\n",
        "# The numpy.ndarray.flatten() function is used to get a copy of a given array collapsed into one dimension.\n",
        "# This function is useful when we want to convert a multi-dimensional array into a one-dimensional array.\n",
        "#order: The order in which the elements of the array should be flattened.\n",
        "# The default value is 'C', which means that the elements will be flattened in row-major order.\n",
        "print(b.flatten(order=\"F\"))\n",
        "print()\n",
        "c = np.arange(8).reshape(4,2) # created an array with arange() fuction and reshaped it with 4 rows and 3 columns .\n",
        "print(c)\n",
        "print()\n",
        "print(np.transpose(c))\n",
        "print()\n",
        "d = c.reshape(2,2,2)\n",
        "print(d)\n",
        "print()\n",
        "print(np.rollaxis(d,1))\n",
        "print()\n",
        "print(np.swapaxes(d,1,2))"
      ],
      "metadata": {
        "colab": {
          "base_uri": "https://localhost:8080/"
        },
        "id": "s_NwRcvFgdhJ",
        "outputId": "b825a271-0a1b-46c5-d8bd-31c10e5034e5"
      },
      "execution_count": null,
      "outputs": [
        {
          "output_type": "stream",
          "name": "stdout",
          "text": [
            "The original array is: \n",
            "[0 1 2 3 4 5 6 7 8]\n",
            "The modified array is : \n",
            "[[0 1 2]\n",
            " [3 4 5]\n",
            " [6 7 8]]\n",
            "\n",
            "[0 1 2 3 4 5 6 7 8]\n",
            "[0 3 6 1 4 7 2 5 8]\n",
            "\n",
            "[[0 1]\n",
            " [2 3]\n",
            " [4 5]\n",
            " [6 7]]\n",
            "\n",
            "[[0 2 4 6]\n",
            " [1 3 5 7]]\n",
            "\n",
            "[[[0 1]\n",
            "  [2 3]]\n",
            "\n",
            " [[4 5]\n",
            "  [6 7]]]\n",
            "\n",
            "[[[0 1]\n",
            "  [4 5]]\n",
            "\n",
            " [[2 3]\n",
            "  [6 7]]]\n",
            "\n",
            "[[[0 2]\n",
            "  [1 3]]\n",
            "\n",
            " [[4 6]\n",
            "  [5 7]]]\n"
          ]
        }
      ]
    },
    {
      "cell_type": "code",
      "source": [
        "# Numpy Arithmetic operations:\n",
        "import numpy as np\n",
        "\n",
        "a = np.arange(9).reshape(3,3)\n",
        "print(a)\n",
        "print()\n",
        "b = np.array([10,10,10])\n",
        "print(b)\n",
        "print()\n",
        "print(\"Adding two arrays..\")\n",
        "print(np.add(a,b))\n",
        "print()\n",
        "print(\"Subracting two arrays ..\")\n",
        "print(np.subtract(a,b))\n",
        "print()\n",
        "print(\"Multiplying two arrays..\")\n",
        "print(np.multiply(a,b))\n",
        "print()\n",
        "print(\"Dividing two arrays..\")\n",
        "print(np.divide(a,b))"
      ],
      "metadata": {
        "colab": {
          "base_uri": "https://localhost:8080/"
        },
        "id": "Wyn_AdVT6ju7",
        "outputId": "3e05e119-421d-40f3-a9ff-2e3f45697739"
      },
      "execution_count": null,
      "outputs": [
        {
          "output_type": "stream",
          "name": "stdout",
          "text": [
            "[[0 1 2]\n",
            " [3 4 5]\n",
            " [6 7 8]]\n",
            "\n",
            "[10 10 10]\n",
            "\n",
            "Adding two arrays..\n",
            "[[10 11 12]\n",
            " [13 14 15]\n",
            " [16 17 18]]\n",
            "\n",
            "Subracting two arrays ..\n",
            "[[-10  -9  -8]\n",
            " [ -7  -6  -5]\n",
            " [ -4  -3  -2]]\n",
            "\n",
            "Multiplying two arrays..\n",
            "[[ 0 10 20]\n",
            " [30 40 50]\n",
            " [60 70 80]]\n",
            "\n",
            "Dividing two arrays..\n",
            "[[0.  0.1 0.2]\n",
            " [0.3 0.4 0.5]\n",
            " [0.6 0.7 0.8]]\n"
          ]
        }
      ]
    },
    {
      "cell_type": "code",
      "source": [
        "# Slicing .\n",
        "\n",
        "import numpy as np\n",
        "\n",
        "a = np.arange(21)\n",
        "print(a)\n",
        "print()\n",
        "print(a[4:])\n",
        "print()\n",
        "print(a[:4])\n",
        "print()\n",
        "s = slice(2,12,2) #(start,stop,step)\n",
        "a[s]\n"
      ],
      "metadata": {
        "colab": {
          "base_uri": "https://localhost:8080/"
        },
        "id": "0V-JjH7a-SXz",
        "outputId": "a7bfe275-4cc2-47d7-cc9e-fdf55e0b038a"
      },
      "execution_count": null,
      "outputs": [
        {
          "output_type": "stream",
          "name": "stdout",
          "text": [
            "[ 0  1  2  3  4  5  6  7  8  9 10 11 12 13 14 15 16 17 18 19 20]\n",
            "\n",
            "[ 4  5  6  7  8  9 10 11 12 13 14 15 16 17 18 19 20]\n",
            "\n",
            "[0 1 2 3]\n",
            "\n"
          ]
        },
        {
          "output_type": "execute_result",
          "data": {
            "text/plain": [
              "array([ 2,  4,  6,  8, 10])"
            ]
          },
          "metadata": {},
          "execution_count": 87
        }
      ]
    },
    {
      "cell_type": "code",
      "source": [
        "# Iterating over array ...\n",
        "\n",
        "import numpy as np\n",
        "\n",
        "a = np.arange(0,45,5)\n",
        "print(a)\n",
        "print()\n",
        "print(a.reshape(3,3))\n",
        "print()\n",
        "\n",
        "# we can iterate over the array in many ways :\n",
        "# We have \"nditer\" to iterate over array objects .\n",
        "\"\"\"\n",
        "The NumPy nditer object is an iterator that can be used to iterate over one or more arrays in a systematic fashion.\n",
        "It was introduced in NumPy 1.6 and provides many flexible ways to visit all the elements of an array.\n",
        "\"\"\"\n",
        "# 1st one is :\n",
        "b = np.nditer(a)\n",
        "for i in b:\n",
        "  print(i)\n",
        "\n",
        "print()\n",
        "\n",
        "# 2nd one is :\n",
        "for x in np.nditer(a):\n",
        "  print(x)"
      ],
      "metadata": {
        "colab": {
          "base_uri": "https://localhost:8080/"
        },
        "id": "7I3xY9tbJqke",
        "outputId": "5de1ff85-c836-428f-d58e-0732bea231d5"
      },
      "execution_count": null,
      "outputs": [
        {
          "output_type": "stream",
          "name": "stdout",
          "text": [
            "[ 0  5 10 15 20 25 30 35 40]\n",
            "\n",
            "[[ 0  5 10]\n",
            " [15 20 25]\n",
            " [30 35 40]]\n",
            "0\n",
            "5\n",
            "10\n",
            "15\n",
            "20\n",
            "25\n",
            "30\n",
            "35\n",
            "40\n",
            "\n",
            "0\n",
            "5\n",
            "10\n",
            "15\n",
            "20\n",
            "25\n",
            "30\n",
            "35\n",
            "40\n"
          ]
        }
      ]
    },
    {
      "cell_type": "code",
      "source": [
        "# Iteration Order: \"C\" style and \"F\" style .\n",
        "\n",
        "import numpy as np\n",
        "\n",
        "n = np.arange(0,45,5) # (start,end,step)\n",
        "print(n)\n",
        "print()\n",
        "\n",
        "print(n.reshape(3,3))\n",
        "print()\n",
        "for x in np.nditer(a,order = 'C'):\n",
        "  print(x)\n",
        "\n",
        "print()\n",
        "for x in np.nditer(a, order = 'F'):\n",
        "  print(x)\n"
      ],
      "metadata": {
        "colab": {
          "base_uri": "https://localhost:8080/"
        },
        "id": "ttZEp94NYb1U",
        "outputId": "fdc2882e-7d83-4007-d74f-c5d77aac8076"
      },
      "execution_count": null,
      "outputs": [
        {
          "output_type": "stream",
          "name": "stdout",
          "text": [
            "[ 0  5 10 15 20 25 30 35 40]\n",
            "\n",
            "[[ 0  5 10]\n",
            " [15 20 25]\n",
            " [30 35 40]]\n",
            "\n",
            "0\n",
            "5\n",
            "10\n",
            "15\n",
            "20\n",
            "25\n",
            "30\n",
            "35\n",
            "40\n",
            "\n",
            "0\n",
            "5\n",
            "10\n",
            "15\n",
            "20\n",
            "25\n",
            "30\n",
            "35\n",
            "40\n"
          ]
        }
      ]
    },
    {
      "cell_type": "code",
      "source": [
        "# Joining Arrays :\n",
        "\n",
        "import numpy as np\n",
        "\n",
        "a = np.array([[1,2],[3,4]])\n",
        "print(\"First array..\")\n",
        "print(a)\n",
        "print()\n",
        "b = np.array([[5,6],[7,8]])\n",
        "print(\"Second array!\")\n",
        "print(b)\n",
        "print()\n",
        "print(\"Joining two arrays along axis 0 :\")\n",
        "print(np.concatenate((a,b)))\n",
        "print()\n",
        "np.concatenate((a,b),axis = 1)\n"
      ],
      "metadata": {
        "colab": {
          "base_uri": "https://localhost:8080/"
        },
        "id": "6zuqFt42dE1p",
        "outputId": "509234b8-bfdf-4144-9f71-21586ac5a1fa"
      },
      "execution_count": null,
      "outputs": [
        {
          "output_type": "stream",
          "name": "stdout",
          "text": [
            "First array..\n",
            "[[1 2]\n",
            " [3 4]]\n",
            "\n",
            "Second array!\n",
            "[[5 6]\n",
            " [7 8]]\n",
            "\n",
            "Joining two arrays along axis 0 :\n",
            "[[1 2]\n",
            " [3 4]\n",
            " [5 6]\n",
            " [7 8]]\n",
            "\n"
          ]
        },
        {
          "output_type": "execute_result",
          "data": {
            "text/plain": [
              "array([[1, 2, 5, 6],\n",
              "       [3, 4, 7, 8]])"
            ]
          },
          "metadata": {},
          "execution_count": 122
        }
      ]
    },
    {
      "cell_type": "code",
      "source": [
        "# Splitting Arrays :\n",
        "\n",
        "import numpy as np\n",
        "\n",
        "a = np.arange(9)\n",
        "print(a)\n",
        "np.split(a,3)\n",
        "print()\n",
        "np.split(a,[4,5])\n",
        "print()\n",
        "np.split(a,[4,7])\n"
      ],
      "metadata": {
        "colab": {
          "base_uri": "https://localhost:8080/"
        },
        "id": "xA62pDQBqSZx",
        "outputId": "973302ef-4a42-48ce-9256-95c2aacbc10b"
      },
      "execution_count": null,
      "outputs": [
        {
          "output_type": "stream",
          "name": "stdout",
          "text": [
            "[0 1 2 3 4 5 6 7 8]\n",
            "\n",
            "\n"
          ]
        },
        {
          "output_type": "execute_result",
          "data": {
            "text/plain": [
              "[array([0, 1, 2, 3]), array([4, 5, 6]), array([7, 8])]"
            ]
          },
          "metadata": {},
          "execution_count": 128
        }
      ]
    },
    {
      "cell_type": "code",
      "source": [
        "# Resizing an Array :\n",
        "\n",
        "import numpy as np\n",
        "\n",
        "a = np.array([[1,2,3],[5,6,7]])\n",
        "print(a)\n",
        "print()\n",
        "print(a.shape)\n",
        "print()\n",
        "b = np.resize(a,(3,2))\n",
        "print(b)\n",
        "print()\n",
        "print(b.shape)\n",
        "print()\n",
        "b = np.resize(a,(3,3))\n",
        "# if we want to resize the array we can do it with any other no. too , it will not give us error , if the no's are less to\n",
        "#  fill then it will repeat the no's present in the array .\n",
        "print(b)\n",
        "print()\n",
        "print(b.shape)\n"
      ],
      "metadata": {
        "colab": {
          "base_uri": "https://localhost:8080/"
        },
        "id": "UEYJsCnWsNk-",
        "outputId": "8e0c24ca-b6ca-43f0-a941-6a023d534e38"
      },
      "execution_count": null,
      "outputs": [
        {
          "output_type": "stream",
          "name": "stdout",
          "text": [
            "[[1 2 3]\n",
            " [5 6 7]]\n",
            "\n",
            "(2, 3)\n",
            "\n",
            "[[1 2]\n",
            " [3 5]\n",
            " [6 7]]\n",
            "\n",
            "(3, 2)\n",
            "\n",
            "[[1 2 3]\n",
            " [5 6 7]\n",
            " [1 2 3]]\n",
            "\n",
            "(3, 3)\n"
          ]
        }
      ]
    },
    {
      "cell_type": "code",
      "source": [
        "# Histogram :\n",
        "\n",
        "\"\"\"\n",
        "-Histograms are a fundamental tool in data visualization, providing a graphical representation of the distribution of data.\n",
        "-They are particularly useful for exploring continuous data, such as numerical measurements or sensor readings .\n",
        "\n",
        "* What is Matplotlib Histograms?\n",
        "- A Histogram represents data provided in the form of some groups.\n",
        "- It is an accurate method for the graphical representation of numerical data distribution.\n",
        "- It is a type of bar plot where the X-axis represents the bin ranges while the Y-axis gives information about frequency.\n",
        "\n",
        "\n",
        "\"\"\"\n",
        "\n",
        "from matplotlib import pyplot as plt\n",
        "import numpy as np\n",
        "\n",
        "a = np.array([20,87,4,40,53,74,56,51,11,20,40,15,79,25,27])\n",
        "plt.hist(a , bins = [0,20,40,60,80,100])\n",
        "plt.title(\"Histogram\")\n",
        "plt.show()\n",
        "\n"
      ],
      "metadata": {
        "colab": {
          "base_uri": "https://localhost:8080/",
          "height": 452
        },
        "id": "oSOLvotrT9QE",
        "outputId": "9de29005-183f-4a80-8fb0-5f4daa82d414"
      },
      "execution_count": null,
      "outputs": [
        {
          "output_type": "display_data",
          "data": {
            "text/plain": [
              "<Figure size 640x480 with 1 Axes>"
            ],
            "image/png": "[encoded data removed]"
          },
          "metadata": {}
        }
      ]
    },
    {
      "cell_type": "code",
      "source": [
        "import numpy as np\n",
        "from matplotlib import pyplot as plt\n",
        "a = np.array([20,87,4,40,53,74,56,51,11,20,40,15,79,25,27])\n",
        "plt.hist(a , bins = [0,10,20,30,40,50,60,70,80,90,100])\n",
        "plt.title(\"Histogram\")\n",
        "plt.show()"
      ],
      "metadata": {
        "colab": {
          "base_uri": "https://localhost:8080/",
          "height": 452
        },
        "id": "pc1hrBoeSwZl",
        "outputId": "c9c4c4e1-a520-4830-91ec-753fe31c3104"
      },
      "execution_count": null,
      "outputs": [
        {
          "output_type": "display_data",
          "data": {
            "text/plain": [
              "<Figure size 640x480 with 1 Axes>"
            ],
            "image/png": "[encoded data removed]"
          },
          "metadata": {}
        }
      ]
    },
    {
      "cell_type": "code",
      "source": [
        "# other useful functions in Numpy .\n",
        "\n",
        "# Linespace function :\n",
        "\"\"\"\n",
        "-The linspace() function in Python creates an array of evenly spaced numbers between two given values.\n",
        "-It is useful for creating arrays for plotting, interpolation, and other mathematical operations.\n",
        "\"\"\"\n",
        "import numpy as np\n",
        "n = np.linspace(1,3,10)\n",
        "print(n)\n",
        "# getting square root and standard deviation .\n",
        "a = np.array([(1,2,3),(4,5,6)])\n",
        "print(np.sqrt(a))\n",
        "print(np.std(a))"
      ],
      "metadata": {
        "colab": {
          "base_uri": "https://localhost:8080/"
        },
        "id": "qnprB-tDUfTQ",
        "outputId": "026e8696-62b8-47ec-bf33-c0c502dc2ffc"
      },
      "execution_count": null,
      "outputs": [
        {
          "output_type": "stream",
          "name": "stdout",
          "text": [
            "[1.         1.22222222 1.44444444 1.66666667 1.88888889 2.11111111\n",
            " 2.33333333 2.55555556 2.77777778 3.        ]\n",
            "[[1.         1.41421356 1.73205081]\n",
            " [2.         2.23606798 2.44948974]]\n",
            "1.707825127659933\n"
          ]
        }
      ]
    },
    {
      "cell_type": "code",
      "source": [
        "# ravel function :\n",
        "\"\"\"\n",
        "-The ravel() function in NumPy flattens a multidimensional array into a one-dimensional array.\n",
        "-For example, if you have a two-dimensional array arr with shape (2, 3), the following code will flatten it into a one-dimensional array flat_arr with shape (6,).\n",
        "\"\"\"\n",
        "import numpy as np\n",
        "x = np.array([(1,2,3),(3,5,6)])\n",
        "print(x.ravel())\n",
        "\n",
        "# we can also find the log of one or more numbers .\n",
        "print()\n",
        "a = np.array([1,2,3])\n",
        "print(np.log10(a))\n"
      ],
      "metadata": {
        "colab": {
          "base_uri": "https://localhost:8080/"
        },
        "id": "xSrK2EDMX-Ly",
        "outputId": "b5f7abfe-6706-489e-a822-12cb641eee3b"
      },
      "execution_count": null,
      "outputs": [
        {
          "output_type": "stream",
          "name": "stdout",
          "text": [
            "[1 2 3 3 5 6]\n",
            "\n",
            "[0.         0.30103    0.47712125]\n"
          ]
        }
      ]
    },
    {
      "cell_type": "code",
      "source": [
        "# Numpy practice Examples :\n",
        "import numpy as np\n",
        "from matplotlib import pyplot as plt\n",
        "x = np.arange(0,3*np.pi,0.1)\n",
        "y = np.sin(x)\n",
        "plt.plot(x,y)\n",
        "plt.show()"
      ],
      "metadata": {
        "colab": {
          "base_uri": "https://localhost:8080/",
          "height": 430
        },
        "id": "DbdzcUhgYclz",
        "outputId": "e19c4c55-14bd-48eb-d0ec-6dc4e1abf4b5"
      },
      "execution_count": null,
      "outputs": [
        {
          "output_type": "display_data",
          "data": {
            "text/plain": [
              "<Figure size 640x480 with 1 Axes>"
            ],
            "image/png": "[encoded data removed]"
          },
          "metadata": {}
        }
      ]
    },
    {
      "cell_type": "code",
      "source": [
        "# Create a 6*6 two-dimensional array , and let 1 and 0 be placed alternatively across the diagonals .\n",
        "\n",
        "import numpy as np\n",
        "z = np.zeros((6,6),dtype = int)\n",
        "z[1::2,::2] = 1\n",
        "z[::2,1::2] = 1\n",
        "z"
      ],
      "metadata": {
        "colab": {
          "base_uri": "https://localhost:8080/"
        },
        "id": "VPg5mlwl3PB4",
        "outputId": "0131f5a0-842d-479b-bdb1-c6adda79a011"
      },
      "execution_count": null,
      "outputs": [
        {
          "output_type": "execute_result",
          "data": {
            "text/plain": [
              "array([[0, 1, 0, 1, 0, 1],\n",
              "       [1, 0, 1, 0, 1, 0],\n",
              "       [0, 1, 0, 1, 0, 1],\n",
              "       [1, 0, 1, 0, 1, 0],\n",
              "       [0, 1, 0, 1, 0, 1],\n",
              "       [1, 0, 1, 0, 1, 0]])"
            ]
          },
          "metadata": {},
          "execution_count": 3
        }
      ]
    },
    {
      "cell_type": "code",
      "source": [],
      "metadata": {
        "id": "pQ3nnW-s5Rav"
      },
      "execution_count": null,
      "outputs": []
    }
  ]
}