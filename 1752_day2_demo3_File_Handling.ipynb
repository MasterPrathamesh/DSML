{
  "cells": [
    {
      "cell_type": "markdown",
      "metadata": {
        "id": "2OUPPM5_Q9Ce"
      },
      "source": [
        "#Control Flow and Functions in Python\n",
        "\n",
        "###Demo 3: File Handling"
      ]
    },
    {
      "cell_type": "markdown",
      "metadata": {
        "id": "PMThl4pTQ9Cj"
      },
      "source": [
        "In this demo, you will be shown how to perform file handling operation in python."
      ]
    },
    {
      "cell_type": "markdown",
      "metadata": {
        "id": "TSJpljR7Q9Ck"
      },
      "source": [
        "### Step 1: Open and read from the file"
      ]
    },
    {
      "cell_type": "code",
      "execution_count": null,
      "metadata": {
        "id": "qh8AEZ47Q9Cl",
        "outputId": "8e1a7baa-64d7-4d0f-ae3e-647d5b4d265a",
        "colab": {
          "base_uri": "https://localhost:8080/"
        }
      },
      "outputs": [
        {
          "output_type": "stream",
          "name": "stdout",
          "text": [
            "It’s been said that Data Scientist is the“sexiest job title of the 21st century.” Why is it such\n",
            "\n",
            "a demanded position these days? The short answer is that over the last decade there’s been a\n",
            "\n",
            "massive explosion in both the data generated and retained by companies, as well as you and\n",
            "\n",
            "me. Sometimes we call this “big data,” and like a pile of lumber, we’d like to build something \n",
            "\n",
            "with it. Data scientists are the people who make sense of all this data and figure out just \n",
            "\n",
            "what can be done with it.\n",
            "\n"
          ]
        }
      ],
      "source": [
        "file=open('DataScience.txt','r',encoding=\"utf8\")\n",
        "for each in file:\n",
        "   print(each)"
      ]
    },
    {
      "cell_type": "markdown",
      "metadata": {
        "id": "80DXednYQ9Co"
      },
      "source": [
        "### Step 2: Write the content of DataScience file to new file i.e. Data file and perform replace operation on it"
      ]
    },
    {
      "cell_type": "code",
      "execution_count": null,
      "metadata": {
        "id": "f-UGjd_mQ9Cp",
        "colab": {
          "base_uri": "https://localhost:8080/"
        },
        "outputId": "2c447265-e3cb-4e3d-961a-684a2b5e2d7d"
      },
      "outputs": [
        {
          "output_type": "stream",
          "name": "stdout",
          "text": [
            "It’s been said that Data Scientist is the“sexiest job title of the 21st century.” Why is it such\n",
            "\n",
            "a demanded position these days? The short answer is that over the last decade there’s been a\n",
            "\n",
            "massive explosion in both the tata generated and retained by companies, as well as you and\n",
            "\n",
            "me. Sometimes we call this “big tata,” and like a pile of lumber, we’d like to build something \n",
            "\n",
            "with it. Data scientists are the people who make sense of all this tata and figure out just \n",
            "\n",
            "what can be done with it.\n",
            "\n"
          ]
        }
      ],
      "source": [
        "ds = open(\"DataScience.txt\", \"r\")\n",
        "new=open('Data.txt','w')\n",
        "for i in ds:\n",
        "    i=i.replace('data','tata')\n",
        "    new.write(i)\n",
        "ds.close()\n",
        "new.close()\n",
        "sci=open('Data.txt','r')\n",
        "for i in sci:\n",
        "    print(i)\n",
        "sci.close()"
      ]
    },
    {
      "cell_type": "markdown",
      "metadata": {
        "id": "8nfxSR4eQ9Cq"
      },
      "source": [
        "### Step 3: Close the DataScience file"
      ]
    },
    {
      "cell_type": "code",
      "execution_count": null,
      "metadata": {
        "id": "RogCyfB5Q9Cr"
      },
      "outputs": [],
      "source": [
        "ds.close()"
      ]
    },
    {
      "cell_type": "markdown",
      "metadata": {
        "id": "rs1PDxGQQ9Cs"
      },
      "source": [
        "### Step 4: Rename the Data file as New_Science"
      ]
    },
    {
      "cell_type": "code",
      "execution_count": null,
      "metadata": {
        "id": "jEzEdkMQQ9Ct"
      },
      "outputs": [],
      "source": [
        "import os\n",
        "os.rename(\"Data.txt\",\"New_Science.txt\")"
      ]
    },
    {
      "cell_type": "markdown",
      "metadata": {
        "id": "jktr0OSbQ9Cu"
      },
      "source": [
        "### Step 5: Append the New_Science file"
      ]
    },
    {
      "cell_type": "code",
      "execution_count": null,
      "metadata": {
        "id": "ewGc0tzWQ9Cv"
      },
      "outputs": [],
      "source": [
        "file = open(\"New_Science.txt\", \"a\")\n",
        "file.write(\"A data scientist is the adult version of the kid who can’t stop asking “Why?”.\")\n",
        "file.close()"
      ]
    },
    {
      "cell_type": "markdown",
      "metadata": {
        "id": "NGrfwQyJQ9Cw"
      },
      "source": [
        "#### Conclusion: This code demonstrates the file handling in python\n"
      ]
    }
  ],
  "metadata": {
    "kernelspec": {
      "display_name": "Python 3",
      "language": "python",
      "name": "python3"
    },
    "language_info": {
      "codemirror_mode": {
        "name": "ipython",
        "version": 3
      },
      "file_extension": ".py",
      "mimetype": "text/x-python",
      "name": "python",
      "nbconvert_exporter": "python",
      "pygments_lexer": "ipython3",
      "version": "3.7.3"
    },
    "colab": {
      "provenance": []
    }
  },
  "nbformat": 4,
  "nbformat_minor": 0
}