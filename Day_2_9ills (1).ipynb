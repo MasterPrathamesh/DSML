{
  "cells": [
    {
      "cell_type": "code",
      "execution_count": null,
      "id": "d87104b9",
      "metadata": {
        "id": "d87104b9"
      },
      "outputs": [],
      "source": [
        "# Basic Concepts of OOPs\n",
        "# What is a class and Instance"
      ]
    },
    {
      "cell_type": "code",
      "execution_count": null,
      "id": "27968c54",
      "metadata": {
        "id": "27968c54"
      },
      "outputs": [],
      "source": [
        "# Define class Dog\n",
        "class Dog:\n",
        "    body_color = 'Brown' # attribute 1 of Dog\n",
        "    eye_color = 'Black' # attribute 2 of Dog\n",
        "    breed = 'Labrador' # attribute 3 of Dog\n",
        "\n",
        "# Create Instance of Dog\n",
        "bobby = Dog()"
      ]
    },
    {
      "cell_type": "code",
      "execution_count": null,
      "id": "a5d8e306",
      "metadata": {
        "id": "a5d8e306",
        "outputId": "0f85d98c-37fe-403b-a615-ad5782c33737"
      },
      "outputs": [
        {
          "data": {
            "text/plain": [
              "'Brown'"
            ]
          },
          "execution_count": 2,
          "metadata": {},
          "output_type": "execute_result"
        }
      ],
      "source": [
        "bobby.body_color"
      ]
    },
    {
      "cell_type": "code",
      "execution_count": null,
      "id": "64cba8be",
      "metadata": {
        "id": "64cba8be",
        "outputId": "843dc7b0-3ef6-46b2-df27-9ecd83618f3f"
      },
      "outputs": [
        {
          "data": {
            "text/plain": [
              "'Black'"
            ]
          },
          "execution_count": 3,
          "metadata": {},
          "output_type": "execute_result"
        }
      ],
      "source": [
        "bobby.eye_color"
      ]
    },
    {
      "cell_type": "code",
      "execution_count": null,
      "id": "f74ca13e",
      "metadata": {
        "id": "f74ca13e",
        "outputId": "e258cfe2-c802-4bd0-d027-6ff86cdd9b89"
      },
      "outputs": [
        {
          "data": {
            "text/plain": [
              "'Labrador'"
            ]
          },
          "execution_count": 4,
          "metadata": {},
          "output_type": "execute_result"
        }
      ],
      "source": [
        "bobby.breed"
      ]
    },
    {
      "cell_type": "code",
      "execution_count": null,
      "id": "689664dd",
      "metadata": {
        "id": "689664dd"
      },
      "outputs": [],
      "source": [
        "# Another instance of Dog is created\n",
        "tommy = Dog()"
      ]
    },
    {
      "cell_type": "code",
      "execution_count": null,
      "id": "37f1c1a8",
      "metadata": {
        "id": "37f1c1a8",
        "outputId": "2f9936c7-5633-4d06-81cb-9be098dd4214"
      },
      "outputs": [
        {
          "data": {
            "text/plain": [
              "('Brown', 'Labrador', 'Black')"
            ]
          },
          "execution_count": 6,
          "metadata": {},
          "output_type": "execute_result"
        }
      ],
      "source": [
        "tommy.body_color, tommy.breed, tommy.eye_color"
      ]
    },
    {
      "cell_type": "markdown",
      "id": "66ca448f",
      "metadata": {
        "id": "66ca448f"
      },
      "source": [
        "### Numpy"
      ]
    },
    {
      "cell_type": "code",
      "execution_count": null,
      "id": "609ce3e4",
      "metadata": {
        "id": "609ce3e4"
      },
      "outputs": [],
      "source": [
        "'''\n",
        "Why NumPy? Why Use NumPy?\n",
        "In Python we have lists that serve the purpose of arrays, but they are slow to process.\n",
        "NumPy aims to provide an array object that is up to 50x faster than traditional Python\n",
        "lists. The array object in NumPy is called ndarray.\n",
        "\n",
        "Used in:\n",
        "Financial functions\n",
        "Linear Algebra\n",
        "Statistics\n",
        "Polynomials\n",
        "Sorting, searching etc.\n",
        "\n",
        "Mainly used by institutions like - NASA and in Oceanography\n",
        "http://ui.adsabs.harvard.edu/abs/2020Natur.585..357H/abstract\n",
        "\n",
        "For example, in astronomy, NumPy was an important part of the software stack used\n",
        "in the discovery of gravitational waves1 and in the first imaging of a black hole.\n",
        "'''"
      ]
    },
    {
      "cell_type": "code",
      "execution_count": null,
      "id": "4f6c84de",
      "metadata": {
        "id": "4f6c84de",
        "outputId": "febe23ad-435f-4839-8260-19c56d8bb113"
      },
      "outputs": [
        {
          "name": "stdout",
          "output_type": "stream",
          "text": [
            "Requirement already satisfied: numpy in /Users/kuldeepsabhnani/anaconda3/lib/python3.11/site-packages (1.24.3)\r\n"
          ]
        }
      ],
      "source": [
        "! pip install numpy"
      ]
    },
    {
      "cell_type": "code",
      "execution_count": null,
      "id": "ed85918e",
      "metadata": {
        "id": "ed85918e",
        "outputId": "2ca8064f-88fa-498a-fcb1-06e78866628d"
      },
      "outputs": [
        {
          "name": "stdout",
          "output_type": "stream",
          "text": [
            "<class 'list'>\n",
            "290 µs ± 1.08 µs per loop (mean ± std. dev. of 7 runs, 1,000 loops each)\n"
          ]
        }
      ],
      "source": [
        "L = list(range(100000))\n",
        "print(type(L))\n",
        "%timeit sum_val = sum(L)"
      ]
    },
    {
      "cell_type": "code",
      "execution_count": null,
      "id": "34a826e2",
      "metadata": {
        "id": "34a826e2",
        "outputId": "97168108-da90-4f42-c98c-c58b92f9114c"
      },
      "outputs": [
        {
          "name": "stdout",
          "output_type": "stream",
          "text": [
            "3.75 ms ± 5.82 µs per loop (mean ± std. dev. of 7 runs, 100 loops each)\n"
          ]
        }
      ],
      "source": [
        "import numpy as np\n",
        "numpy_L = np.arange(100000)\n",
        "%timeit sum_val = sum(numpy_L)"
      ]
    },
    {
      "cell_type": "code",
      "execution_count": null,
      "id": "b4dd8b7f",
      "metadata": {
        "id": "b4dd8b7f"
      },
      "outputs": [],
      "source": [
        "# Numpy arrays can be 1D or 2D"
      ]
    },
    {
      "cell_type": "code",
      "execution_count": null,
      "id": "c93c3ab1",
      "metadata": {
        "id": "c93c3ab1"
      },
      "outputs": [],
      "source": [
        "import numpy as np"
      ]
    },
    {
      "cell_type": "code",
      "execution_count": null,
      "id": "fcd3d31a",
      "metadata": {
        "id": "fcd3d31a"
      },
      "outputs": [],
      "source": [
        "# One - Dimensional Numpy Array"
      ]
    },
    {
      "cell_type": "code",
      "execution_count": null,
      "id": "780938f2",
      "metadata": {
        "id": "780938f2",
        "outputId": "06c07a92-b0d4-4a21-e5aa-85fcf850b762"
      },
      "outputs": [
        {
          "data": {
            "text/plain": [
              "array([100, 200, 300])"
            ]
          },
          "execution_count": 15,
          "metadata": {},
          "output_type": "execute_result"
        }
      ],
      "source": [
        "x = np.array([100, 200, 300])\n",
        "x"
      ]
    },
    {
      "cell_type": "code",
      "execution_count": null,
      "id": "0ddbc171",
      "metadata": {
        "id": "0ddbc171",
        "outputId": "c82d8667-cc3d-4c70-8519-ce6579dee63b"
      },
      "outputs": [
        {
          "data": {
            "text/plain": [
              "1"
            ]
          },
          "execution_count": 17,
          "metadata": {},
          "output_type": "execute_result"
        }
      ],
      "source": [
        "x.ndim"
      ]
    },
    {
      "cell_type": "code",
      "execution_count": null,
      "id": "29356098",
      "metadata": {
        "id": "29356098",
        "outputId": "8edd9b7c-0fe8-45b1-c93d-c9fb7c8715cf"
      },
      "outputs": [
        {
          "data": {
            "text/plain": [
              "(3,)"
            ]
          },
          "execution_count": 18,
          "metadata": {},
          "output_type": "execute_result"
        }
      ],
      "source": [
        "x.shape"
      ]
    },
    {
      "cell_type": "code",
      "execution_count": null,
      "id": "a1d8356e",
      "metadata": {
        "id": "a1d8356e",
        "outputId": "ea19f386-3035-4fd5-957a-b71e80ab36bd"
      },
      "outputs": [
        {
          "data": {
            "text/plain": [
              "3"
            ]
          },
          "execution_count": 19,
          "metadata": {},
          "output_type": "execute_result"
        }
      ],
      "source": [
        "x.size"
      ]
    },
    {
      "cell_type": "code",
      "execution_count": null,
      "id": "8b58dc56",
      "metadata": {
        "id": "8b58dc56"
      },
      "outputs": [],
      "source": [
        "# 2 - Dimensional Numpy Array"
      ]
    },
    {
      "cell_type": "code",
      "execution_count": null,
      "id": "31f92556",
      "metadata": {
        "id": "31f92556",
        "outputId": "011ddc90-98f3-45f8-c30d-21be5916edf2"
      },
      "outputs": [
        {
          "data": {
            "text/plain": [
              "array([[100, 200, 300],\n",
              "       [400, 500, 600]])"
            ]
          },
          "execution_count": 21,
          "metadata": {},
          "output_type": "execute_result"
        }
      ],
      "source": [
        "x = np.array\n",
        "([\n",
        "    [100, 200, 300],\n",
        "    [400, 500, 600]\n",
        "])\n",
        "x"
      ]
    },
    {
      "cell_type": "code",
      "execution_count": null,
      "id": "debd9996",
      "metadata": {
        "id": "debd9996",
        "outputId": "0e2fead6-f378-48fd-b259-914d74366243"
      },
      "outputs": [
        {
          "data": {
            "text/plain": [
              "2"
            ]
          },
          "execution_count": 22,
          "metadata": {},
          "output_type": "execute_result"
        }
      ],
      "source": [
        "x.ndim"
      ]
    },
    {
      "cell_type": "code",
      "execution_count": null,
      "id": "42c222ec",
      "metadata": {
        "id": "42c222ec",
        "outputId": "242eacf8-aed7-4e2d-b3ee-e6ddc5eb7c4d"
      },
      "outputs": [
        {
          "data": {
            "text/plain": [
              "(2, 3)"
            ]
          },
          "execution_count": 23,
          "metadata": {},
          "output_type": "execute_result"
        }
      ],
      "source": [
        "x.shape"
      ]
    },
    {
      "cell_type": "code",
      "execution_count": null,
      "id": "a1fd6b19",
      "metadata": {
        "id": "a1fd6b19",
        "outputId": "8bb88f82-0c55-4518-e06c-461f6b4ed716"
      },
      "outputs": [
        {
          "data": {
            "text/plain": [
              "6"
            ]
          },
          "execution_count": 25,
          "metadata": {},
          "output_type": "execute_result"
        }
      ],
      "source": [
        "x.size"
      ]
    },
    {
      "cell_type": "code",
      "execution_count": null,
      "id": "daa2c12f",
      "metadata": {
        "id": "daa2c12f",
        "outputId": "9c5ed1e7-61b6-4d0c-fe57-04cf1fbab801"
      },
      "outputs": [
        {
          "data": {
            "text/plain": [
              "array([[0, 0, 0],\n",
              "       [0, 0, 0]])"
            ]
          },
          "execution_count": 27,
          "metadata": {},
          "output_type": "execute_result"
        }
      ],
      "source": [
        "arr = np.zeros([2,3], dtype=int)\n",
        "arr"
      ]
    },
    {
      "cell_type": "code",
      "execution_count": null,
      "id": "5708efd2",
      "metadata": {
        "id": "5708efd2",
        "outputId": "39978c72-69e2-41ef-c4cc-7885e1930105"
      },
      "outputs": [
        {
          "data": {
            "text/plain": [
              "array([[1., 1., 1.],\n",
              "       [1., 1., 1.]])"
            ]
          },
          "execution_count": 28,
          "metadata": {},
          "output_type": "execute_result"
        }
      ],
      "source": [
        "arr = np.ones([2,3])\n",
        "arr"
      ]
    },
    {
      "cell_type": "code",
      "execution_count": null,
      "id": "20b96203",
      "metadata": {
        "id": "20b96203",
        "outputId": "24958e1f-e3e9-4e9c-9340-9a1dfce5d4fc"
      },
      "outputs": [
        {
          "data": {
            "text/plain": [
              "array([[1, 2, 3],\n",
              "       [4, 5, 6]])"
            ]
          },
          "execution_count": 30,
          "metadata": {},
          "output_type": "execute_result"
        }
      ],
      "source": [
        "# Copy functions\n",
        "arr = np.array([[1,2,3], [4,5,6]])\n",
        "arr"
      ]
    },
    {
      "cell_type": "code",
      "execution_count": null,
      "id": "76d8f7db",
      "metadata": {
        "id": "76d8f7db",
        "outputId": "2d07632b-7a0a-433f-a93e-339864bb113b"
      },
      "outputs": [
        {
          "data": {
            "text/plain": [
              "array([[1, 2, 3],\n",
              "       [4, 5, 6]])"
            ]
          },
          "execution_count": 31,
          "metadata": {},
          "output_type": "execute_result"
        }
      ],
      "source": [
        "arr_copy = arr.copy()\n",
        "arr_copy"
      ]
    },
    {
      "cell_type": "code",
      "execution_count": null,
      "id": "263d68f5",
      "metadata": {
        "id": "263d68f5",
        "outputId": "db025d33-229f-472f-8e73-6157624c7b66"
      },
      "outputs": [
        {
          "data": {
            "text/plain": [
              "array([[  1, 200,   3],\n",
              "       [  4,   5,   6]])"
            ]
          },
          "execution_count": 32,
          "metadata": {},
          "output_type": "execute_result"
        }
      ],
      "source": [
        "arr[0][1] = 200\n",
        "arr"
      ]
    },
    {
      "cell_type": "code",
      "execution_count": null,
      "id": "c5b36284",
      "metadata": {
        "id": "c5b36284",
        "outputId": "8c3dd0e4-c37b-4334-a31a-11e9265f7245"
      },
      "outputs": [
        {
          "data": {
            "text/plain": [
              "array([[  1, 200,   3],\n",
              "       [  4,   5, 600]])"
            ]
          },
          "execution_count": 33,
          "metadata": {},
          "output_type": "execute_result"
        }
      ],
      "source": [
        "arr[1,2] = 600\n",
        "arr"
      ]
    },
    {
      "cell_type": "code",
      "execution_count": null,
      "id": "21a81e6e",
      "metadata": {
        "id": "21a81e6e",
        "outputId": "3d9aa5fb-ca03-4b87-c7fb-8b4c0d0327d3"
      },
      "outputs": [
        {
          "data": {
            "text/plain": [
              "array([ 0,  2,  4,  6,  8, 10, 12, 14, 16, 18])"
            ]
          },
          "execution_count": 35,
          "metadata": {},
          "output_type": "execute_result"
        }
      ],
      "source": [
        "# Range functions : start, end + 1, 1\n",
        "arr = np.arange(0, 20, 2)\n",
        "arr"
      ]
    },
    {
      "cell_type": "code",
      "execution_count": null,
      "id": "6ed1b2e4",
      "metadata": {
        "id": "6ed1b2e4",
        "outputId": "f48bfb26-46e4-4456-aa1e-7996269527a8"
      },
      "outputs": [
        {
          "data": {
            "text/plain": [
              "array([ 0.,  5., 10.])"
            ]
          },
          "execution_count": 37,
          "metadata": {},
          "output_type": "execute_result"
        }
      ],
      "source": [
        "# Linspace\n",
        "arr = np.linspace(0, 10, 3)\n",
        "arr"
      ]
    },
    {
      "cell_type": "code",
      "execution_count": null,
      "id": "2fac7a3e",
      "metadata": {
        "id": "2fac7a3e",
        "outputId": "1c954f73-3a38-48d6-9850-4c4d89392555"
      },
      "outputs": [
        {
          "data": {
            "text/plain": [
              "array([ 0.        ,  3.33333333,  6.66666667, 10.        ])"
            ]
          },
          "execution_count": 38,
          "metadata": {},
          "output_type": "execute_result"
        }
      ],
      "source": [
        "arr = np.linspace(0, 10, 4)\n",
        "arr"
      ]
    },
    {
      "cell_type": "code",
      "execution_count": null,
      "id": "4fd4df35",
      "metadata": {
        "id": "4fd4df35"
      },
      "outputs": [],
      "source": [
        "# Elementwise operations"
      ]
    },
    {
      "cell_type": "code",
      "execution_count": null,
      "id": "46373dd8",
      "metadata": {
        "id": "46373dd8",
        "outputId": "08a6ca19-1c6f-4ca6-9757-62ddf52ab180"
      },
      "outputs": [
        {
          "data": {
            "text/plain": [
              "array([0, 1, 2, 3, 4, 5, 6, 7, 8, 9])"
            ]
          },
          "execution_count": 39,
          "metadata": {},
          "output_type": "execute_result"
        }
      ],
      "source": [
        "arr = np.arange(0,10)\n",
        "arr"
      ]
    },
    {
      "cell_type": "code",
      "execution_count": null,
      "id": "4b5846fa",
      "metadata": {
        "id": "4b5846fa",
        "outputId": "0e9f1c72-5ca4-4ba8-e065-cfa51cdae007"
      },
      "outputs": [
        {
          "data": {
            "text/plain": [
              "array([ 2,  3,  4,  5,  6,  7,  8,  9, 10, 11])"
            ]
          },
          "execution_count": 41,
          "metadata": {},
          "output_type": "execute_result"
        }
      ],
      "source": [
        "arr + 2"
      ]
    },
    {
      "cell_type": "code",
      "execution_count": null,
      "id": "096e163d",
      "metadata": {
        "id": "096e163d",
        "outputId": "31f5a2c9-e5ae-4e1c-9eea-6a0d216ff143"
      },
      "outputs": [
        {
          "data": {
            "text/plain": [
              "array([-2, -1,  0,  1,  2,  3,  4,  5,  6,  7])"
            ]
          },
          "execution_count": 42,
          "metadata": {},
          "output_type": "execute_result"
        }
      ],
      "source": [
        "arr - 2"
      ]
    },
    {
      "cell_type": "code",
      "execution_count": null,
      "id": "3f789198",
      "metadata": {
        "id": "3f789198",
        "outputId": "feeb73e2-930b-4dc7-be7d-a9a9a15af7ee"
      },
      "outputs": [
        {
          "data": {
            "text/plain": [
              "array([ 0,  2,  4,  6,  8, 10, 12, 14, 16, 18])"
            ]
          },
          "execution_count": 43,
          "metadata": {},
          "output_type": "execute_result"
        }
      ],
      "source": [
        "arr * 2"
      ]
    },
    {
      "cell_type": "code",
      "execution_count": null,
      "id": "78ac0b91",
      "metadata": {
        "id": "78ac0b91",
        "outputId": "d43f330e-7df2-44b8-8f21-21e025a5a8d2"
      },
      "outputs": [
        {
          "data": {
            "text/plain": [
              "array([0. , 0.5, 1. , 1.5, 2. , 2.5, 3. , 3.5, 4. , 4.5])"
            ]
          },
          "execution_count": 44,
          "metadata": {},
          "output_type": "execute_result"
        }
      ],
      "source": [
        "arr / 2"
      ]
    },
    {
      "cell_type": "code",
      "execution_count": null,
      "id": "5720010f",
      "metadata": {
        "id": "5720010f",
        "outputId": "acd99639-2763-4178-db79-fcd21ce0e6bf"
      },
      "outputs": [
        {
          "data": {
            "text/plain": [
              "array([ 0,  1,  4,  9, 16, 25, 36, 49, 64, 81])"
            ]
          },
          "execution_count": 45,
          "metadata": {},
          "output_type": "execute_result"
        }
      ],
      "source": [
        "arr ** 2"
      ]
    },
    {
      "cell_type": "code",
      "execution_count": null,
      "id": "38ccab9f",
      "metadata": {
        "id": "38ccab9f"
      },
      "outputs": [],
      "source": [
        "arr1 = np.arange(0, 5)\n",
        "arr2 = np.arange(5,10)"
      ]
    },
    {
      "cell_type": "code",
      "execution_count": null,
      "id": "ac84d5eb",
      "metadata": {
        "id": "ac84d5eb",
        "outputId": "964b295b-4554-4b10-c5a8-f2f9c43bee4c"
      },
      "outputs": [
        {
          "data": {
            "text/plain": [
              "array([0, 1, 2, 3, 4])"
            ]
          },
          "execution_count": 47,
          "metadata": {},
          "output_type": "execute_result"
        }
      ],
      "source": [
        "arr1"
      ]
    },
    {
      "cell_type": "code",
      "execution_count": null,
      "id": "7200fec9",
      "metadata": {
        "id": "7200fec9",
        "outputId": "f4839bb1-86dc-497b-a9bf-4d2030e18682"
      },
      "outputs": [
        {
          "data": {
            "text/plain": [
              "array([5, 6, 7, 8, 9])"
            ]
          },
          "execution_count": 48,
          "metadata": {},
          "output_type": "execute_result"
        }
      ],
      "source": [
        "arr2"
      ]
    },
    {
      "cell_type": "code",
      "execution_count": null,
      "id": "c44704a2",
      "metadata": {
        "id": "c44704a2",
        "outputId": "274eeb2f-9580-49da-a325-680e2dd2df5b"
      },
      "outputs": [
        {
          "data": {
            "text/plain": [
              "array([ 5,  7,  9, 11, 13])"
            ]
          },
          "execution_count": 49,
          "metadata": {},
          "output_type": "execute_result"
        }
      ],
      "source": [
        "result = arr1 + arr2\n",
        "result"
      ]
    },
    {
      "cell_type": "code",
      "execution_count": null,
      "id": "4baf135b",
      "metadata": {
        "id": "4baf135b",
        "outputId": "0652df5d-733b-475c-81f5-c6b6cd915e3b"
      },
      "outputs": [
        {
          "data": {
            "text/plain": [
              "array([ 0,  6, 14, 24, 36])"
            ]
          },
          "execution_count": 51,
          "metadata": {},
          "output_type": "execute_result"
        }
      ],
      "source": [
        "arr1 * arr2"
      ]
    },
    {
      "cell_type": "code",
      "execution_count": null,
      "id": "b9d84f50",
      "metadata": {
        "id": "b9d84f50",
        "outputId": "b3b4ec61-c649-43ed-bdfe-d317c2bb0360"
      },
      "outputs": [
        {
          "data": {
            "text/plain": [
              "array([0.        , 0.16666667, 0.28571429, 0.375     , 0.44444444])"
            ]
          },
          "execution_count": 52,
          "metadata": {},
          "output_type": "execute_result"
        }
      ],
      "source": [
        "arr1 / arr2"
      ]
    },
    {
      "cell_type": "code",
      "execution_count": null,
      "id": "10aca243",
      "metadata": {
        "id": "10aca243"
      },
      "outputs": [],
      "source": []
    }
  ],
  "metadata": {
    "kernelspec": {
      "display_name": "Python 3 (ipykernel)",
      "language": "python",
      "name": "python3"
    },
    "language_info": {
      "codemirror_mode": {
        "name": "ipython",
        "version": 3
      },
      "file_extension": ".py",
      "mimetype": "text/x-python",
      "name": "python",
      "nbconvert_exporter": "python",
      "pygments_lexer": "ipython3",
      "version": "3.11.5"
    },
    "colab": {
      "provenance": []
    }
  },
  "nbformat": 4,
  "nbformat_minor": 5
}